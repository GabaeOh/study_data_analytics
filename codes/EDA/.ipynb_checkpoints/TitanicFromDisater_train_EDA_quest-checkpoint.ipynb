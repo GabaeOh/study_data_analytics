{
 "cells": [
  {
   "cell_type": "markdown",
   "id": "ac3df8b0-fded-4474-b7f3-db3c9b9f0001",
   "metadata": {},
   "source": [
    "## quest\n",
    "- 분석 스토리 작성(목표변수:생존여부)\n",
    "    - dataset : TitanicFromDisaster_train.csv\n",
    "    - DDA, EDA 진행\n",
    "    - 설명변수는 연속형, 범주형 섞어 7개 이상"
   ]
  },
  {
   "cell_type": "code",
   "execution_count": 63,
   "id": "73585b36-4e5d-40a7-8f29-d5973c01f004",
   "metadata": {
    "tags": []
   },
   "outputs": [],
   "source": [
    "import matplotlib.pyplot as plt\n",
    "import matplotlib as mpl\n",
    "mpl.rc('font',family='Malgun Gothic')\n",
    "import seaborn as sns\n",
    "import pandas as pd"
   ]
  },
  {
   "cell_type": "code",
   "execution_count": 64,
   "id": "bf07c2d2-7ba2-42c6-a2bc-a4dd1595752e",
   "metadata": {
    "tags": []
   },
   "outputs": [
    {
     "data": {
      "text/html": [
       "<div>\n",
       "<style scoped>\n",
       "    .dataframe tbody tr th:only-of-type {\n",
       "        vertical-align: middle;\n",
       "    }\n",
       "\n",
       "    .dataframe tbody tr th {\n",
       "        vertical-align: top;\n",
       "    }\n",
       "\n",
       "    .dataframe thead th {\n",
       "        text-align: right;\n",
       "    }\n",
       "</style>\n",
       "<table border=\"1\" class=\"dataframe\">\n",
       "  <thead>\n",
       "    <tr style=\"text-align: right;\">\n",
       "      <th></th>\n",
       "      <th>PassengerId</th>\n",
       "      <th>Survived</th>\n",
       "      <th>Pclass</th>\n",
       "      <th>Name</th>\n",
       "      <th>Sex</th>\n",
       "      <th>Age</th>\n",
       "      <th>SibSp</th>\n",
       "      <th>Parch</th>\n",
       "      <th>Ticket</th>\n",
       "      <th>Fare</th>\n",
       "      <th>Cabin</th>\n",
       "      <th>Embarked</th>\n",
       "    </tr>\n",
       "  </thead>\n",
       "  <tbody>\n",
       "    <tr>\n",
       "      <th>0</th>\n",
       "      <td>1</td>\n",
       "      <td>0</td>\n",
       "      <td>3</td>\n",
       "      <td>Braund, Mr. Owen Harris</td>\n",
       "      <td>male</td>\n",
       "      <td>22.0</td>\n",
       "      <td>1</td>\n",
       "      <td>0</td>\n",
       "      <td>A/5 21171</td>\n",
       "      <td>7.2500</td>\n",
       "      <td>NaN</td>\n",
       "      <td>S</td>\n",
       "    </tr>\n",
       "    <tr>\n",
       "      <th>1</th>\n",
       "      <td>2</td>\n",
       "      <td>1</td>\n",
       "      <td>1</td>\n",
       "      <td>Cumings, Mrs. John Bradley (Florence Briggs Th...</td>\n",
       "      <td>female</td>\n",
       "      <td>38.0</td>\n",
       "      <td>1</td>\n",
       "      <td>0</td>\n",
       "      <td>PC 17599</td>\n",
       "      <td>71.2833</td>\n",
       "      <td>C85</td>\n",
       "      <td>C</td>\n",
       "    </tr>\n",
       "  </tbody>\n",
       "</table>\n",
       "</div>"
      ],
      "text/plain": [
       "   PassengerId  Survived  Pclass  \\\n",
       "0            1         0       3   \n",
       "1            2         1       1   \n",
       "\n",
       "                                                Name     Sex   Age  SibSp  \\\n",
       "0                            Braund, Mr. Owen Harris    male  22.0      1   \n",
       "1  Cumings, Mrs. John Bradley (Florence Briggs Th...  female  38.0      1   \n",
       "\n",
       "   Parch     Ticket     Fare Cabin Embarked  \n",
       "0      0  A/5 21171   7.2500   NaN        S  \n",
       "1      0   PC 17599  71.2833   C85        C  "
      ]
     },
     "execution_count": 64,
     "metadata": {},
     "output_type": "execute_result"
    }
   ],
   "source": [
    "df_titanic = pd.read_csv('../../datasets/TitanicFromDisaster_train.csv')\n",
    "df_titanic[:2]"
   ]
  },
  {
   "cell_type": "code",
   "execution_count": 65,
   "id": "365aff89-e30e-4734-bb7c-7ab2888785dc",
   "metadata": {
    "tags": []
   },
   "outputs": [
    {
     "name": "stdout",
     "output_type": "stream",
     "text": [
      "<class 'pandas.core.frame.DataFrame'>\n",
      "RangeIndex: 891 entries, 0 to 890\n",
      "Data columns (total 12 columns):\n",
      " #   Column       Non-Null Count  Dtype  \n",
      "---  ------       --------------  -----  \n",
      " 0   PassengerId  891 non-null    int64  \n",
      " 1   Survived     891 non-null    int64  \n",
      " 2   Pclass       891 non-null    int64  \n",
      " 3   Name         891 non-null    object \n",
      " 4   Sex          891 non-null    object \n",
      " 5   Age          714 non-null    float64\n",
      " 6   SibSp        891 non-null    int64  \n",
      " 7   Parch        891 non-null    int64  \n",
      " 8   Ticket       891 non-null    object \n",
      " 9   Fare         891 non-null    float64\n",
      " 10  Cabin        204 non-null    object \n",
      " 11  Embarked     889 non-null    object \n",
      "dtypes: float64(2), int64(5), object(5)\n",
      "memory usage: 83.7+ KB\n"
     ]
    }
   ],
   "source": [
    "df_titanic.info()"
   ]
  },
  {
   "cell_type": "code",
   "execution_count": 66,
   "id": "2b7a94af-0623-4a52-91b7-f9e543d834f8",
   "metadata": {
    "tags": []
   },
   "outputs": [
    {
     "data": {
      "text/html": [
       "<div>\n",
       "<style scoped>\n",
       "    .dataframe tbody tr th:only-of-type {\n",
       "        vertical-align: middle;\n",
       "    }\n",
       "\n",
       "    .dataframe tbody tr th {\n",
       "        vertical-align: top;\n",
       "    }\n",
       "\n",
       "    .dataframe thead th {\n",
       "        text-align: right;\n",
       "    }\n",
       "</style>\n",
       "<table border=\"1\" class=\"dataframe\">\n",
       "  <thead>\n",
       "    <tr style=\"text-align: right;\">\n",
       "      <th></th>\n",
       "      <th>Age</th>\n",
       "      <th>Sex</th>\n",
       "      <th>Ticket</th>\n",
       "      <th>Fare</th>\n",
       "      <th>Embarked</th>\n",
       "      <th>Survived</th>\n",
       "      <th>Pclass</th>\n",
       "    </tr>\n",
       "  </thead>\n",
       "  <tbody>\n",
       "    <tr>\n",
       "      <th>0</th>\n",
       "      <td>22.0</td>\n",
       "      <td>male</td>\n",
       "      <td>A/5 21171</td>\n",
       "      <td>7.2500</td>\n",
       "      <td>S</td>\n",
       "      <td>0</td>\n",
       "      <td>3</td>\n",
       "    </tr>\n",
       "    <tr>\n",
       "      <th>1</th>\n",
       "      <td>38.0</td>\n",
       "      <td>female</td>\n",
       "      <td>PC 17599</td>\n",
       "      <td>71.2833</td>\n",
       "      <td>C</td>\n",
       "      <td>1</td>\n",
       "      <td>1</td>\n",
       "    </tr>\n",
       "    <tr>\n",
       "      <th>2</th>\n",
       "      <td>26.0</td>\n",
       "      <td>female</td>\n",
       "      <td>STON/O2. 3101282</td>\n",
       "      <td>7.9250</td>\n",
       "      <td>S</td>\n",
       "      <td>1</td>\n",
       "      <td>3</td>\n",
       "    </tr>\n",
       "    <tr>\n",
       "      <th>3</th>\n",
       "      <td>35.0</td>\n",
       "      <td>female</td>\n",
       "      <td>113803</td>\n",
       "      <td>53.1000</td>\n",
       "      <td>S</td>\n",
       "      <td>1</td>\n",
       "      <td>1</td>\n",
       "    </tr>\n",
       "    <tr>\n",
       "      <th>4</th>\n",
       "      <td>35.0</td>\n",
       "      <td>male</td>\n",
       "      <td>373450</td>\n",
       "      <td>8.0500</td>\n",
       "      <td>S</td>\n",
       "      <td>0</td>\n",
       "      <td>3</td>\n",
       "    </tr>\n",
       "    <tr>\n",
       "      <th>...</th>\n",
       "      <td>...</td>\n",
       "      <td>...</td>\n",
       "      <td>...</td>\n",
       "      <td>...</td>\n",
       "      <td>...</td>\n",
       "      <td>...</td>\n",
       "      <td>...</td>\n",
       "    </tr>\n",
       "    <tr>\n",
       "      <th>886</th>\n",
       "      <td>27.0</td>\n",
       "      <td>male</td>\n",
       "      <td>211536</td>\n",
       "      <td>13.0000</td>\n",
       "      <td>S</td>\n",
       "      <td>0</td>\n",
       "      <td>2</td>\n",
       "    </tr>\n",
       "    <tr>\n",
       "      <th>887</th>\n",
       "      <td>19.0</td>\n",
       "      <td>female</td>\n",
       "      <td>112053</td>\n",
       "      <td>30.0000</td>\n",
       "      <td>S</td>\n",
       "      <td>1</td>\n",
       "      <td>1</td>\n",
       "    </tr>\n",
       "    <tr>\n",
       "      <th>888</th>\n",
       "      <td>NaN</td>\n",
       "      <td>female</td>\n",
       "      <td>W./C. 6607</td>\n",
       "      <td>23.4500</td>\n",
       "      <td>S</td>\n",
       "      <td>0</td>\n",
       "      <td>3</td>\n",
       "    </tr>\n",
       "    <tr>\n",
       "      <th>889</th>\n",
       "      <td>26.0</td>\n",
       "      <td>male</td>\n",
       "      <td>111369</td>\n",
       "      <td>30.0000</td>\n",
       "      <td>C</td>\n",
       "      <td>1</td>\n",
       "      <td>1</td>\n",
       "    </tr>\n",
       "    <tr>\n",
       "      <th>890</th>\n",
       "      <td>32.0</td>\n",
       "      <td>male</td>\n",
       "      <td>370376</td>\n",
       "      <td>7.7500</td>\n",
       "      <td>Q</td>\n",
       "      <td>0</td>\n",
       "      <td>3</td>\n",
       "    </tr>\n",
       "  </tbody>\n",
       "</table>\n",
       "<p>891 rows × 7 columns</p>\n",
       "</div>"
      ],
      "text/plain": [
       "      Age     Sex            Ticket     Fare Embarked  Survived  Pclass\n",
       "0    22.0    male         A/5 21171   7.2500        S         0       3\n",
       "1    38.0  female          PC 17599  71.2833        C         1       1\n",
       "2    26.0  female  STON/O2. 3101282   7.9250        S         1       3\n",
       "3    35.0  female            113803  53.1000        S         1       1\n",
       "4    35.0    male            373450   8.0500        S         0       3\n",
       "..    ...     ...               ...      ...      ...       ...     ...\n",
       "886  27.0    male            211536  13.0000        S         0       2\n",
       "887  19.0  female            112053  30.0000        S         1       1\n",
       "888   NaN  female        W./C. 6607  23.4500        S         0       3\n",
       "889  26.0    male            111369  30.0000        C         1       1\n",
       "890  32.0    male            370376   7.7500        Q         0       3\n",
       "\n",
       "[891 rows x 7 columns]"
      ]
     },
     "execution_count": 66,
     "metadata": {},
     "output_type": "execute_result"
    }
   ],
   "source": [
    "df_titanic_sur = df_titanic[['Age', 'Sex', 'Ticket','Fare','Embarked','Survived','Pclass' ]]\n",
    "df_titanic_sur"
   ]
  },
  {
   "cell_type": "markdown",
   "id": "40139758-f8f4-4d4a-ac9d-2875af3ec80f",
   "metadata": {},
   "source": [
    "#### 데이터 전처리 \n",
    "- null 값 삭제 "
   ]
  },
  {
   "cell_type": "code",
   "execution_count": 67,
   "id": "616e233d-9cac-4730-ae68-1225933869fd",
   "metadata": {
    "tags": []
   },
   "outputs": [
    {
     "data": {
      "text/plain": [
       "Age         177\n",
       "Sex           0\n",
       "Ticket        0\n",
       "Fare          0\n",
       "Embarked      2\n",
       "Survived      0\n",
       "Pclass        0\n",
       "dtype: int64"
      ]
     },
     "execution_count": 67,
     "metadata": {},
     "output_type": "execute_result"
    }
   ],
   "source": [
    "df_titanic_sur.isnull().sum()"
   ]
  },
  {
   "cell_type": "code",
   "execution_count": 68,
   "id": "a74889ff-7a19-4b9d-bd05-d03a93e5f3ba",
   "metadata": {
    "tags": []
   },
   "outputs": [
    {
     "data": {
      "text/plain": [
       "Age         0\n",
       "Sex         0\n",
       "Ticket      0\n",
       "Fare        0\n",
       "Embarked    0\n",
       "Survived    0\n",
       "Pclass      0\n",
       "dtype: int64"
      ]
     },
     "execution_count": 68,
     "metadata": {},
     "output_type": "execute_result"
    }
   ],
   "source": [
    "df_titanic_sur = df_titanic_sur.dropna()\n",
    "df_titanic_sur.isnull().sum()"
   ]
  },
  {
   "cell_type": "markdown",
   "id": "0805c46d-1bb7-47dc-b523-83b517fbe400",
   "metadata": {},
   "source": [
    "## 상관관계 확인 \n",
    "- 목표 변수 : 'Survived' -> 분포 : 언발란스\n",
    "    - 연속형일 경우 : 정규화 확인\n",
    "    - 범주형일 경우 : 밸런스 여부 확인 \n",
    "- 설명 변수 : \n",
    "    - 'Age' : 연령대별 생존에 영향이 있음, 대게 고연령층이 죽고, 저연령층이 살아남은 경향이 있음.\n",
    "    - 'Sex': 여성의 생존 비율이 높음.\n",
    "    - 'Ticket': id값으로써 분석에는 의미가 없어보임\n",
    "    - 'Pclass' : 상대적으로 1st class인 승객들의 생존률이 높음 \n",
    "    - 'Fare' : 적은 영향이기는 하나, 높은금액대를 지출한 승객이 살아남은 확률이 더 큰 경향을 보임.\n",
    "    - 'Embarked' : 상대적으로  'C'항구에서 탑승한 승객들의 생존률이 높음.\n",
    "- 분석 story : 생존에 영향을 미치는 분류를 확인함으로써 배에 탑승시 어떤 방식이 생존률을 높이는지 분석하였음\n",
    "            배 탑승시 생존율을 높이는 여러 방법 중 하나는 1등급 티켓을 높은 가격대로 구매하고,'C'항구에서 탑승하도록 하는 방법이 가장 생존률이 높아지는 방법임을 분석하였다.  "
   ]
  },
  {
   "cell_type": "markdown",
   "id": "284cf300-097a-4236-acdc-61fc47db7a56",
   "metadata": {
    "tags": []
   },
   "source": [
    "#### 데이터 타입과 분포  \n",
    "- 목표 변수 확인 rf) 대부분이 범주형(예측이 높아야하기떄문)"
   ]
  },
  {
   "cell_type": "code",
   "execution_count": 69,
   "id": "6bef28a7-849d-43fb-bb4a-693348eb89c7",
   "metadata": {
    "tags": []
   },
   "outputs": [
    {
     "data": {
      "image/png": "[encoded data removed]",
      "text/plain": [
       "<Figure size 640x480 with 1 Axes>"
      ]
     },
     "metadata": {},
     "output_type": "display_data"
    }
   ],
   "source": [
    "sns.countplot(data=df_titanic_sur, x='Survived')\n",
    "plt.show()"
   ]
  },
  {
   "cell_type": "code",
   "execution_count": 70,
   "id": "158593a0-56ca-4989-a458-00e996371214",
   "metadata": {
    "tags": []
   },
   "outputs": [
    {
     "name": "stdout",
     "output_type": "stream",
     "text": [
      "<class 'pandas.core.frame.DataFrame'>\n",
      "Int64Index: 712 entries, 0 to 890\n",
      "Data columns (total 7 columns):\n",
      " #   Column    Non-Null Count  Dtype  \n",
      "---  ------    --------------  -----  \n",
      " 0   Age       712 non-null    float64\n",
      " 1   Sex       712 non-null    object \n",
      " 2   Ticket    712 non-null    object \n",
      " 3   Fare      712 non-null    float64\n",
      " 4   Embarked  712 non-null    object \n",
      " 5   Survived  712 non-null    int64  \n",
      " 6   Pclass    712 non-null    int64  \n",
      "dtypes: float64(2), int64(2), object(3)\n",
      "memory usage: 44.5+ KB\n"
     ]
    }
   ],
   "source": [
    "df_titanic_sur.info()"
   ]
  },
  {
   "cell_type": "markdown",
   "id": "fbddce9f-1af6-4f9c-85de-3e45a9bfa642",
   "metadata": {},
   "source": [
    "#### object로 변환 대상 : Survived, Pclass"
   ]
  },
  {
   "cell_type": "code",
   "execution_count": 71,
   "id": "83ac01e2-6d95-44e6-9d26-f5a5a62b1cc9",
   "metadata": {
    "tags": []
   },
   "outputs": [
    {
     "name": "stderr",
     "output_type": "stream",
     "text": [
      "C:\\Users\\02-19\\AppData\\Local\\Temp\\ipykernel_1180\\237717951.py:1: SettingWithCopyWarning: \n",
      "A value is trying to be set on a copy of a slice from a DataFrame.\n",
      "Try using .loc[row_indexer,col_indexer] = value instead\n",
      "\n",
      "See the caveats in the documentation: https://pandas.pydata.org/pandas-docs/stable/user_guide/indexing.html#returning-a-view-versus-a-copy\n",
      "  df_titanic_sur[['Survived','Pclass']] = df_titanic_sur[['Survived','Pclass']].astype(object)\n"
     ]
    }
   ],
   "source": [
    "df_titanic_sur[['Survived','Pclass']] = df_titanic_sur[['Survived','Pclass']].astype(object)"
   ]
  },
  {
   "cell_type": "code",
   "execution_count": 72,
   "id": "24897912-75c4-40f8-9fd7-ed8e4120758e",
   "metadata": {
    "tags": []
   },
   "outputs": [
    {
     "name": "stdout",
     "output_type": "stream",
     "text": [
      "<class 'pandas.core.frame.DataFrame'>\n",
      "Int64Index: 712 entries, 0 to 890\n",
      "Data columns (total 7 columns):\n",
      " #   Column    Non-Null Count  Dtype  \n",
      "---  ------    --------------  -----  \n",
      " 0   Age       712 non-null    float64\n",
      " 1   Sex       712 non-null    object \n",
      " 2   Ticket    712 non-null    object \n",
      " 3   Fare      712 non-null    float64\n",
      " 4   Embarked  712 non-null    object \n",
      " 5   Survived  712 non-null    object \n",
      " 6   Pclass    712 non-null    object \n",
      "dtypes: float64(2), object(5)\n",
      "memory usage: 44.5+ KB\n"
     ]
    }
   ],
   "source": [
    "df_titanic_sur.info()"
   ]
  },
  {
   "cell_type": "code",
   "execution_count": 73,
   "id": "85ad6092-3071-407f-b3ca-6962bdce33ba",
   "metadata": {
    "tags": []
   },
   "outputs": [
    {
     "data": {
      "text/plain": [
       "['Age', 'Fare']"
      ]
     },
     "execution_count": 73,
     "metadata": {},
     "output_type": "execute_result"
    }
   ],
   "source": [
    "titanic_list = df_titanic_sur.describe().columns.to_list()  # 연속형 확인 \n",
    "titanic_list"
   ]
  },
  {
   "cell_type": "code",
   "execution_count": 123,
   "id": "4c2a56ca-049f-4ca1-84d6-4a26223cb0b6",
   "metadata": {
    "tags": []
   },
   "outputs": [
    {
     "data": {
      "image/png": "[encoded data removed]",
      "text/plain": [
       "<Figure size 640x480 with 1 Axes>"
      ]
     },
     "metadata": {},
     "output_type": "display_data"
    },
    {
     "data": {
      "image/png": "[encoded data removed]",
      "text/plain": [
       "<Figure size 640x480 with 1 Axes>"
      ]
     },
     "metadata": {},
     "output_type": "display_data"
    }
   ],
   "source": [
    "for item in titanic_list :\n",
    "    sns.boxplot(data=df_titanic_sur, x=item, y='Survived', orient='h') # orient='h'목표변수 y에 위치하게끔\n",
    "    plt.show()"
   ]
  },
  {
   "cell_type": "markdown",
   "id": "e2d6af65-5940-45e9-addb-30cdaf8a1700",
   "metadata": {},
   "source": [
    "#### 이상치 제거 "
   ]
  },
  {
   "cell_type": "code",
   "execution_count": 132,
   "id": "e309b5e1-dfac-43a5-b1a6-cc41bc7f886a",
   "metadata": {
    "tags": []
   },
   "outputs": [],
   "source": [
    "# 각 변수마다 이상치를 제거하는 과정을 수행하는 함수\n",
    "def remove_outliers(df, variable, factor=1.5):\n",
    "    Q1 = df[variable].describe()['25%']\n",
    "    Q3 = df[variable].describe()['75%']\n",
    "    IQR = Q3 - Q1\n",
    "    bound_up = Q3 + factor * IQR\n",
    "    bound_low = Q1 - factor * IQR\n",
    "    condition = (df[variable] <= bound_up) & (df[variable] >= bound_low)\n",
    "    return df[condition]"
   ]
  },
  {
   "cell_type": "code",
   "execution_count": 130,
   "id": "82c4d23f-7985-41ef-b2b6-bafcebf51dbf",
   "metadata": {
    "tags": []
   },
   "outputs": [],
   "source": [
    "# 각 변수에 대해 이상치 제거 수행\n",
    "for item in titanic_list:\n",
    "    df_titanic_sur_condition = remove_outliers(df_titanic_sur_condition, item)"
   ]
  },
  {
   "cell_type": "code",
   "execution_count": 131,
   "id": "a3b63134-ae44-4110-b23f-0efe4e43f8b8",
   "metadata": {
    "tags": []
   },
   "outputs": [
    {
     "data": {
      "image/png": "[encoded data removed]",
      "text/plain": [
       "<Figure size 640x480 with 1 Axes>"
      ]
     },
     "metadata": {},
     "output_type": "display_data"
    },
    {
     "data": {
      "image/png": "[encoded data removed]",
      "text/plain": [
       "<Figure size 640x480 with 1 Axes>"
      ]
     },
     "metadata": {},
     "output_type": "display_data"
    }
   ],
   "source": [
    "# 다변수에 대한 박스플롯 그리기\n",
    "for item in titanic_list:\n",
    "    sns.boxplot(data=df_titanic_sur_condition, x=item, y='Survived', orient='h')\n",
    "    plt.show()"
   ]
  },
  {
   "cell_type": "markdown",
   "id": "d3e86516-aee7-4ad6-9d1c-cadbfba8dc09",
   "metadata": {},
   "source": [
    "#### 연속형"
   ]
  },
  {
   "cell_type": "code",
   "execution_count": 91,
   "id": "e950a670-d066-4903-89a2-408d8d3d5f28",
   "metadata": {},
   "outputs": [
    {
     "data": {
      "text/plain": [
       "['Sex', 'Ticket', 'Embarked', 'Pclass']"
      ]
     },
     "execution_count": 91,
     "metadata": {},
     "output_type": "execute_result"
    }
   ],
   "source": [
    "titanic_object_list= df_titanic_sur.describe(include=object).drop(columns=['Survived']).columns.to_list()\n",
    "titanic_object_list"
   ]
  },
  {
   "cell_type": "code",
   "execution_count": 101,
   "id": "9b4ad5d3-606e-4ede-9660-8844bd17544b",
   "metadata": {
    "tags": []
   },
   "outputs": [
    {
     "data": {
      "image/png": "[encoded data removed]",
      "text/plain": [
       "<Figure size 640x480 with 1 Axes>"
      ]
     },
     "metadata": {},
     "output_type": "display_data"
    }
   ],
   "source": [
    "sns.barplot(data=df_titanic_sur, x='Sex', y='Survived')\n",
    "plt.show()"
   ]
  },
  {
   "cell_type": "code",
   "execution_count": 121,
   "id": "7ae715f5-fb92-41b5-ab2a-7a99c1e77e03",
   "metadata": {
    "tags": []
   },
   "outputs": [
    {
     "data": {
      "text/plain": [
       "Age    Sex     Ticket        Fare     Embarked  Survived  Pclass\n",
       "0.75   female  2666          19.2583  C         1         3         2\n",
       "21.00  male    S.O.C. 14879  73.5000  S         0         2         2\n",
       "32.00  male    1601          56.4958  S         1         3         2\n",
       "24.00  female  PC 17477      69.3000  C         1         1         2\n",
       "0.42   male    2625          8.5167   C         1         3         1\n",
       "                                                                   ..\n",
       "23.00  male    347468        7.8542   S         0         3         1\n",
       "               349204        7.8958   S         0         3         1\n",
       "               7267          9.2250   S         0         3         1\n",
       "               PC 17759      63.3583  C         1         1         1\n",
       "80.00  male    27042         30.0000  S         1         1         1\n",
       "Length: 708, dtype: int64"
      ]
     },
     "execution_count": 121,
     "metadata": {},
     "output_type": "execute_result"
    }
   ],
   "source": [
    "df_titanic_sur['Ticket'].value_counts()"
   ]
  },
  {
   "cell_type": "code",
   "execution_count": 102,
   "id": "0d0217ca-f72f-40fc-bd6b-cb2a7b6575cb",
   "metadata": {
    "tags": []
   },
   "outputs": [
    {
     "data": {
      "image/png": "[encoded data removed]",
      "text/plain": [
       "<Figure size 640x480 with 1 Axes>"
      ]
     },
     "metadata": {},
     "output_type": "display_data"
    },
    {
     "data": {
      "image/png": "[encoded data removed]",
      "text/plain": [
       "<Figure size 640x480 with 1 Axes>"
      ]
     },
     "metadata": {},
     "output_type": "display_data"
    },
    {
     "data": {
      "image/png": "[encoded data removed]",
      "text/plain": [
       "<Figure size 640x480 with 1 Axes>"
      ]
     },
     "metadata": {},
     "output_type": "display_data"
    },
    {
     "data": {
      "image/png": "[encoded data removed]",
      "text/plain": [
       "<Figure size 640x480 with 1 Axes>"
      ]
     },
     "metadata": {},
     "output_type": "display_data"
    }
   ],
   "source": [
    "for item in titanic_object_list :\n",
    "    sns.barplot(data=df_titanic_sur, x=item, y='Survived')\n",
    "    plt.show()"
   ]
  },
  {
   "cell_type": "markdown",
   "id": "3ea1d76d-fb15-4531-bb95-694b20aa8cbb",
   "metadata": {},
   "source": [
    "#### Ticket 시각화"
   ]
  },
  {
   "cell_type": "code",
   "execution_count": 139,
   "id": "c70429bd-0b7e-49e6-a854-7b54a001bedf",
   "metadata": {
    "tags": []
   },
   "outputs": [
    {
     "data": {
      "text/plain": [
       "['2666', '113760', '110152', 'PC 17755', 'PC 17572', '29106', 'PC 17757']"
      ]
     },
     "execution_count": 139,
     "metadata": {},
     "output_type": "execute_result"
    }
   ],
   "source": [
    "# 상위 7개 순위\n",
    "df_titanic_sur_sum = pd.pivot_table(data=df_titanic_sur, index='Ticket', values='Survived', aggfunc='sum' ) #총합으로 요약\n",
    "df_titanic_top_list = df_titanic_sur_sum.sort_values(by='Survived', ascending=False).iloc[:7].index.to_list()\n",
    "df_titanic_top_list"
   ]
  },
  {
   "cell_type": "code",
   "execution_count": 140,
   "id": "59c29a23-3fe8-46a6-ad80-52ee8d9832fd",
   "metadata": {
    "tags": []
   },
   "outputs": [
    {
     "data": {
      "image/png": "[encoded data removed]",
      "text/plain": [
       "<Figure size 640x480 with 1 Axes>"
      ]
     },
     "metadata": {},
     "output_type": "display_data"
    }
   ],
   "source": [
    "sns.barplot(data=df_titanic_sur, x='Ticket', y='Survived', estimator=sum, order=df_titanic_top_list) \n",
    "plt.show()"
   ]
  },
  {
   "cell_type": "code",
   "execution_count": null,
   "id": "16b073e9-4b3b-4121-a0fb-2b85431c92cf",
   "metadata": {},
   "outputs": [],
   "source": []
  }
 ],
 "metadata": {
  "kernelspec": {
   "display_name": "Python 3 (ipykernel)",
   "language": "python",
   "name": "python3"
  },
  "language_info": {
   "codemirror_mode": {
    "name": "ipython",
    "version": 3
   },
   "file_extension": ".py",
   "mimetype": "text/x-python",
   "name": "python",
   "nbconvert_exporter": "python",
   "pygments_lexer": "ipython3",
   "version": "3.11.3"
  }
 },
 "nbformat": 4,
 "nbformat_minor": 5
}
