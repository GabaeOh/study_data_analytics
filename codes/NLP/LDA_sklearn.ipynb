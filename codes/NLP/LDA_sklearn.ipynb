{
 "cells": [
  {
   "cell_type": "code",
   "execution_count": 17,
   "id": "e4f34d79-69da-4813-aed1-cf16b2a26765",
   "metadata": {
    "tags": []
   },
   "outputs": [],
   "source": [
    "sentences = [\n",
    "    \"오늘 날씨가 좋아서 나들이 가고 싶다.\",\n",
    "    \"이 영화는 정말 재미있었어요.\",\n",
    "    \"맛있는 음식을 먹으러 갈까요?\",\n",
    "    \"운동을 하면 건강에 좋아지는 것 같아요.\",\n",
    "    \"공부하기 싫어서 미루고 있어요.\",\n",
    "    \"여행 계획을 세우고 있는데 어디로 갈까요?\",\n",
    "    \"좋은 책을 읽으면 마음이 편안해져요.\",\n",
    "    \"오늘은 친구들과 만나서 재미있게 놀았어요.\",\n",
    "    \"새로운 언어를 배우는 것은 어려워도 흥미로워요.\",\n",
    "    \"주말에 가족들과 함께 시간을 보내기로 했습니다.\"\n",
    "]"
   ]
  },
  {
   "cell_type": "markdown",
   "id": "02273f6c-9f3d-4851-9d94-b0526d75510f",
   "metadata": {},
   "source": [
    "### 자연어 전처리 "
   ]
  },
  {
   "cell_type": "code",
   "execution_count": 8,
   "id": "0c7ac3a4-1be2-48fe-8953-57e2252f4f84",
   "metadata": {
    "tags": []
   },
   "outputs": [],
   "source": [
    "from mecab import MeCab\n",
    "mecab = MeCab()"
   ]
  },
  {
   "cell_type": "code",
   "execution_count": 11,
   "id": "5aa09917-cab0-4d9b-ab18-fcaf87d5116a",
   "metadata": {
    "collapsed": true,
    "jupyter": {
     "outputs_hidden": true
    },
    "tags": []
   },
   "outputs": [
    {
     "data": {
      "text/plain": [
       "['날씨',\n",
       " '나',\n",
       " '영화',\n",
       " '음식',\n",
       " '운동',\n",
       " '건강',\n",
       " '것',\n",
       " '공부',\n",
       " '여행',\n",
       " '계획',\n",
       " '어디',\n",
       " '책',\n",
       " '마음',\n",
       " '편안',\n",
       " '오늘',\n",
       " '친구',\n",
       " '언어',\n",
       " '것',\n",
       " '흥미',\n",
       " '주말',\n",
       " '가족',\n",
       " '시간']"
      ]
     },
     "execution_count": 11,
     "metadata": {},
     "output_type": "execute_result"
    }
   ],
   "source": [
    "# 형태분석기 사용해 명사만 추출\n",
    "morphs_list = list()\n",
    "for sentence in sentences :\n",
    "    morphs = mecab.nouns(sentence)\n",
    "    morphs_list = morphs_list + morphs # 1차원\n",
    "morphs_list "
   ]
  },
  {
   "cell_type": "code",
   "execution_count": 16,
   "id": "60c4bcb4-f947-4220-9418-f3732f19d1a2",
   "metadata": {
    "tags": []
   },
   "outputs": [],
   "source": [
    "from sklearn.feature_extraction.text import TfidfVectorizer\n",
    "vectorizer = TfidfVectorizer(use_idf=True)\n",
    "features = vectorizer.fit_transform(morphs_list)\n",
    "\n",
    "# 디션너리가 만들어짐 "
   ]
  },
  {
   "cell_type": "markdown",
   "id": "ad29c194-008c-49df-8813-84b29906a45c",
   "metadata": {},
   "source": [
    "### LDA 적용"
   ]
  },
  {
   "cell_type": "code",
   "execution_count": 15,
   "id": "d8175643-5fa9-4b1f-a0b3-c2a8e39c9e33",
   "metadata": {
    "tags": []
   },
   "outputs": [],
   "source": [
    "from sklearn.decomposition import LatentDirichletAllocation\n",
    "lda_model = LatentDirichletAllocation(n_components=3, random_state=111) #인스턴스화 #n_components 토픽의 갯수"
   ]
  },
  {
   "cell_type": "code",
   "execution_count": 19,
   "id": "9535132b-f4c7-4237-8ff6-3a1d80a50e6e",
   "metadata": {
    "tags": []
   },
   "outputs": [
    {
     "data": {
      "text/html": [
       "<style>#sk-container-id-2 {color: black;background-color: white;}#sk-container-id-2 pre{padding: 0;}#sk-container-id-2 div.sk-toggleable {background-color: white;}#sk-container-id-2 label.sk-toggleable__label {cursor: pointer;display: block;width: 100%;margin-bottom: 0;padding: 0.3em;box-sizing: border-box;text-align: center;}#sk-container-id-2 label.sk-toggleable__label-arrow:before {content: \"▸\";float: left;margin-right: 0.25em;color: #696969;}#sk-container-id-2 label.sk-toggleable__label-arrow:hover:before {color: black;}#sk-container-id-2 div.sk-estimator:hover label.sk-toggleable__label-arrow:before {color: black;}#sk-container-id-2 div.sk-toggleable__content {max-height: 0;max-width: 0;overflow: hidden;text-align: left;background-color: #f0f8ff;}#sk-container-id-2 div.sk-toggleable__content pre {margin: 0.2em;color: black;border-radius: 0.25em;background-color: #f0f8ff;}#sk-container-id-2 input.sk-toggleable__control:checked~div.sk-toggleable__content {max-height: 200px;max-width: 100%;overflow: auto;}#sk-container-id-2 input.sk-toggleable__control:checked~label.sk-toggleable__label-arrow:before {content: \"▾\";}#sk-container-id-2 div.sk-estimator input.sk-toggleable__control:checked~label.sk-toggleable__label {background-color: #d4ebff;}#sk-container-id-2 div.sk-label input.sk-toggleable__control:checked~label.sk-toggleable__label {background-color: #d4ebff;}#sk-container-id-2 input.sk-hidden--visually {border: 0;clip: rect(1px 1px 1px 1px);clip: rect(1px, 1px, 1px, 1px);height: 1px;margin: -1px;overflow: hidden;padding: 0;position: absolute;width: 1px;}#sk-container-id-2 div.sk-estimator {font-family: monospace;background-color: #f0f8ff;border: 1px dotted black;border-radius: 0.25em;box-sizing: border-box;margin-bottom: 0.5em;}#sk-container-id-2 div.sk-estimator:hover {background-color: #d4ebff;}#sk-container-id-2 div.sk-parallel-item::after {content: \"\";width: 100%;border-bottom: 1px solid gray;flex-grow: 1;}#sk-container-id-2 div.sk-label:hover label.sk-toggleable__label {background-color: #d4ebff;}#sk-container-id-2 div.sk-serial::before {content: \"\";position: absolute;border-left: 1px solid gray;box-sizing: border-box;top: 0;bottom: 0;left: 50%;z-index: 0;}#sk-container-id-2 div.sk-serial {display: flex;flex-direction: column;align-items: center;background-color: white;padding-right: 0.2em;padding-left: 0.2em;position: relative;}#sk-container-id-2 div.sk-item {position: relative;z-index: 1;}#sk-container-id-2 div.sk-parallel {display: flex;align-items: stretch;justify-content: center;background-color: white;position: relative;}#sk-container-id-2 div.sk-item::before, #sk-container-id-2 div.sk-parallel-item::before {content: \"\";position: absolute;border-left: 1px solid gray;box-sizing: border-box;top: 0;bottom: 0;left: 50%;z-index: -1;}#sk-container-id-2 div.sk-parallel-item {display: flex;flex-direction: column;z-index: 1;position: relative;background-color: white;}#sk-container-id-2 div.sk-parallel-item:first-child::after {align-self: flex-end;width: 50%;}#sk-container-id-2 div.sk-parallel-item:last-child::after {align-self: flex-start;width: 50%;}#sk-container-id-2 div.sk-parallel-item:only-child::after {width: 0;}#sk-container-id-2 div.sk-dashed-wrapped {border: 1px dashed gray;margin: 0 0.4em 0.5em 0.4em;box-sizing: border-box;padding-bottom: 0.4em;background-color: white;}#sk-container-id-2 div.sk-label label {font-family: monospace;font-weight: bold;display: inline-block;line-height: 1.2em;}#sk-container-id-2 div.sk-label-container {text-align: center;}#sk-container-id-2 div.sk-container {/* jupyter's `normalize.less` sets `[hidden] { display: none; }` but bootstrap.min.css set `[hidden] { display: none !important; }` so we also need the `!important` here to be able to override the default hidden behavior on the sphinx rendered scikit-learn.org. See: https://github.com/scikit-learn/scikit-learn/issues/21755 */display: inline-block !important;position: relative;}#sk-container-id-2 div.sk-text-repr-fallback {display: none;}</style><div id=\"sk-container-id-2\" class=\"sk-top-container\"><div class=\"sk-text-repr-fallback\"><pre>LatentDirichletAllocation(n_components=3, random_state=111)</pre><b>In a Jupyter environment, please rerun this cell to show the HTML representation or trust the notebook. <br />On GitHub, the HTML representation is unable to render, please try loading this page with nbviewer.org.</b></div><div class=\"sk-container\" hidden><div class=\"sk-item\"><div class=\"sk-estimator sk-toggleable\"><input class=\"sk-toggleable__control sk-hidden--visually\" id=\"sk-estimator-id-2\" type=\"checkbox\" checked><label for=\"sk-estimator-id-2\" class=\"sk-toggleable__label sk-toggleable__label-arrow\">LatentDirichletAllocation</label><div class=\"sk-toggleable__content\"><pre>LatentDirichletAllocation(n_components=3, random_state=111)</pre></div></div></div></div></div>"
      ],
      "text/plain": [
       "LatentDirichletAllocation(n_components=3, random_state=111)"
      ]
     },
     "execution_count": 19,
     "metadata": {},
     "output_type": "execute_result"
    }
   ],
   "source": [
    "lda_model.fit(features) #교육"
   ]
  },
  {
   "cell_type": "code",
   "execution_count": 57,
   "id": "5312d7f4-548c-45a9-bc65-85e6b8935df3",
   "metadata": {
    "tags": []
   },
   "outputs": [],
   "source": [
    "#lda_model.components_\n",
    "#len(lda_model.components_[0])\n",
    "topics_list = lda_model.components_[0] # 첫번째 토픽"
   ]
  },
  {
   "cell_type": "markdown",
   "id": "e96055eb-8fc2-4045-96e4-4910b2ca9ba4",
   "metadata": {},
   "source": [
    "### 토픽별 단어 표시 "
   ]
  },
  {
   "cell_type": "code",
   "execution_count": 32,
   "id": "81c679f9-e813-4a98-8c87-2e0370dd9ac4",
   "metadata": {
    "tags": []
   },
   "outputs": [],
   "source": [
    "dictionary_list= vectorizer.get_feature_names_out()\n",
    "#len(vectorizer.get_feature_names_out())"
   ]
  },
  {
   "cell_type": "code",
   "execution_count": 39,
   "id": "196caf96-4315-4f50-bac0-c0c262b3dd2c",
   "metadata": {
    "tags": []
   },
   "outputs": [
    {
     "data": {
      "text/plain": [
       "[(0.3365423658950745, '가족'),\n",
       " (0.3371420637843426, '건강'),\n",
       " (0.3365424476563081, '계획'),\n",
       " (1.3293472516257012, '공부'),\n",
       " (0.33714184044974543, '날씨'),\n",
       " (0.3365423306103688, '마음'),\n",
       " (1.3293464395404313, '시간'),\n",
       " (0.3371419934849906, '어디'),\n",
       " (0.33654233262423994, '언어'),\n",
       " (0.33714198815546415, '여행'),\n",
       " (0.33714193575010865, '영화'),\n",
       " (1.3293472555225263, '오늘'),\n",
       " (0.3371418804248787, '운동'),\n",
       " (1.329347256144603, '음식'),\n",
       " (0.33654234980658726, '주말'),\n",
       " (0.3371419790345891, '친구'),\n",
       " (0.3371419151645765, '편안'),\n",
       " (0.3365423665143194, '흥미')]"
      ]
     },
     "execution_count": 39,
     "metadata": {},
     "output_type": "execute_result"
    }
   ],
   "source": [
    "# zip = 실제값과 토픽을 연결시켜줌 \n",
    "\n",
    "list(zip(topics_list, dictionary_list))"
   ]
  },
  {
   "cell_type": "code",
   "execution_count": 62,
   "id": "436384b3-486e-4e03-8f6d-21cd97812a93",
   "metadata": {
    "tags": []
   },
   "outputs": [
    {
     "data": {
      "text/html": [
       "<div>\n",
       "<style scoped>\n",
       "    .dataframe tbody tr th:only-of-type {\n",
       "        vertical-align: middle;\n",
       "    }\n",
       "\n",
       "    .dataframe tbody tr th {\n",
       "        vertical-align: top;\n",
       "    }\n",
       "\n",
       "    .dataframe thead th {\n",
       "        text-align: right;\n",
       "    }\n",
       "</style>\n",
       "<table border=\"1\" class=\"dataframe\">\n",
       "  <thead>\n",
       "    <tr style=\"text-align: right;\">\n",
       "      <th></th>\n",
       "      <th>0</th>\n",
       "      <th>1</th>\n",
       "    </tr>\n",
       "  </thead>\n",
       "  <tbody>\n",
       "    <tr>\n",
       "      <th>0</th>\n",
       "      <td>0.336542</td>\n",
       "      <td>가족</td>\n",
       "    </tr>\n",
       "    <tr>\n",
       "      <th>1</th>\n",
       "      <td>0.337142</td>\n",
       "      <td>건강</td>\n",
       "    </tr>\n",
       "  </tbody>\n",
       "</table>\n",
       "</div>"
      ],
      "text/plain": [
       "          0   1\n",
       "0  0.336542  가족\n",
       "1  0.337142  건강"
      ]
     },
     "execution_count": 62,
     "metadata": {},
     "output_type": "execute_result"
    }
   ],
   "source": [
    "df_datas = [topics_list, dictionary_list]\n",
    "df_topics = pd.DataFrame(data=df_datas)\n",
    "df_topics = df_topics.T # 행열의 배열이 바뀜 가로 <-> 세로\n",
    "df_topics[:2]"
   ]
  },
  {
   "cell_type": "code",
   "execution_count": 51,
   "id": "891b6f8f-9d12-47a8-af3c-92482a7c3180",
   "metadata": {
    "tags": []
   },
   "outputs": [
    {
     "data": {
      "text/plain": [
       "RangeIndex(start=0, stop=2, step=1)"
      ]
     },
     "execution_count": 51,
     "metadata": {},
     "output_type": "execute_result"
    }
   ],
   "source": [
    "df_topics.columns"
   ]
  },
  {
   "cell_type": "code",
   "execution_count": 56,
   "id": "419115ed-4b07-4396-a902-625f4b337df3",
   "metadata": {
    "tags": []
   },
   "outputs": [
    {
     "data": {
      "text/html": [
       "<div>\n",
       "<style scoped>\n",
       "    .dataframe tbody tr th:only-of-type {\n",
       "        vertical-align: middle;\n",
       "    }\n",
       "\n",
       "    .dataframe tbody tr th {\n",
       "        vertical-align: top;\n",
       "    }\n",
       "\n",
       "    .dataframe thead th {\n",
       "        text-align: right;\n",
       "    }\n",
       "</style>\n",
       "<table border=\"1\" class=\"dataframe\">\n",
       "  <thead>\n",
       "    <tr style=\"text-align: right;\">\n",
       "      <th></th>\n",
       "      <th>0</th>\n",
       "      <th>1</th>\n",
       "    </tr>\n",
       "  </thead>\n",
       "  <tbody>\n",
       "    <tr>\n",
       "      <th>13</th>\n",
       "      <td>1.329347</td>\n",
       "      <td>음식</td>\n",
       "    </tr>\n",
       "    <tr>\n",
       "      <th>11</th>\n",
       "      <td>1.329347</td>\n",
       "      <td>오늘</td>\n",
       "    </tr>\n",
       "    <tr>\n",
       "      <th>3</th>\n",
       "      <td>1.329347</td>\n",
       "      <td>공부</td>\n",
       "    </tr>\n",
       "    <tr>\n",
       "      <th>6</th>\n",
       "      <td>1.329346</td>\n",
       "      <td>시간</td>\n",
       "    </tr>\n",
       "    <tr>\n",
       "      <th>1</th>\n",
       "      <td>0.337142</td>\n",
       "      <td>건강</td>\n",
       "    </tr>\n",
       "    <tr>\n",
       "      <th>7</th>\n",
       "      <td>0.337142</td>\n",
       "      <td>어디</td>\n",
       "    </tr>\n",
       "    <tr>\n",
       "      <th>9</th>\n",
       "      <td>0.337142</td>\n",
       "      <td>여행</td>\n",
       "    </tr>\n",
       "    <tr>\n",
       "      <th>15</th>\n",
       "      <td>0.337142</td>\n",
       "      <td>친구</td>\n",
       "    </tr>\n",
       "    <tr>\n",
       "      <th>10</th>\n",
       "      <td>0.337142</td>\n",
       "      <td>영화</td>\n",
       "    </tr>\n",
       "    <tr>\n",
       "      <th>16</th>\n",
       "      <td>0.337142</td>\n",
       "      <td>편안</td>\n",
       "    </tr>\n",
       "    <tr>\n",
       "      <th>12</th>\n",
       "      <td>0.337142</td>\n",
       "      <td>운동</td>\n",
       "    </tr>\n",
       "    <tr>\n",
       "      <th>4</th>\n",
       "      <td>0.337142</td>\n",
       "      <td>날씨</td>\n",
       "    </tr>\n",
       "    <tr>\n",
       "      <th>2</th>\n",
       "      <td>0.336542</td>\n",
       "      <td>계획</td>\n",
       "    </tr>\n",
       "    <tr>\n",
       "      <th>17</th>\n",
       "      <td>0.336542</td>\n",
       "      <td>흥미</td>\n",
       "    </tr>\n",
       "    <tr>\n",
       "      <th>0</th>\n",
       "      <td>0.336542</td>\n",
       "      <td>가족</td>\n",
       "    </tr>\n",
       "    <tr>\n",
       "      <th>14</th>\n",
       "      <td>0.336542</td>\n",
       "      <td>주말</td>\n",
       "    </tr>\n",
       "    <tr>\n",
       "      <th>8</th>\n",
       "      <td>0.336542</td>\n",
       "      <td>언어</td>\n",
       "    </tr>\n",
       "    <tr>\n",
       "      <th>5</th>\n",
       "      <td>0.336542</td>\n",
       "      <td>마음</td>\n",
       "    </tr>\n",
       "  </tbody>\n",
       "</table>\n",
       "</div>"
      ],
      "text/plain": [
       "           0   1\n",
       "13  1.329347  음식\n",
       "11  1.329347  오늘\n",
       "3   1.329347  공부\n",
       "6   1.329346  시간\n",
       "1   0.337142  건강\n",
       "7   0.337142  어디\n",
       "9   0.337142  여행\n",
       "15  0.337142  친구\n",
       "10  0.337142  영화\n",
       "16  0.337142  편안\n",
       "12  0.337142  운동\n",
       "4   0.337142  날씨\n",
       "2   0.336542  계획\n",
       "17  0.336542  흥미\n",
       "0   0.336542  가족\n",
       "14  0.336542  주말\n",
       "8   0.336542  언어\n",
       "5   0.336542  마음"
      ]
     },
     "execution_count": 56,
     "metadata": {},
     "output_type": "execute_result"
    }
   ],
   "source": [
    "df_topics.sort_values(0, ascending=False) #by=[0]"
   ]
  },
  {
   "cell_type": "markdown",
   "id": "d464bd68-22a8-4b73-8ac2-b013863a4b80",
   "metadata": {},
   "source": [
    "### 댓글과 주요 토픽 연결"
   ]
  },
  {
   "cell_type": "code",
   "execution_count": 24,
   "id": "aa19ac83-d73c-456c-b31d-f2c95e210b5e",
   "metadata": {
    "tags": []
   },
   "outputs": [
    {
     "data": {
      "text/plain": [
       "array([[0.16857425, 0.66320011, 0.16822564],\n",
       "       [0.33333333, 0.33333333, 0.33333333],\n",
       "       [0.16857425, 0.66320011, 0.16822564],\n",
       "       [0.66467306, 0.1675818 , 0.16774513],\n",
       "       [0.16857425, 0.66320011, 0.16822564],\n",
       "       [0.16857425, 0.6632001 , 0.16822565],\n",
       "       [0.33333333, 0.33333333, 0.33333333],\n",
       "       [0.66467306, 0.1675818 , 0.16774513],\n",
       "       [0.16857425, 0.66320011, 0.16822565],\n",
       "       [0.16827277, 0.16778152, 0.66394571],\n",
       "       [0.16857425, 0.66320011, 0.16822565],\n",
       "       [0.33333333, 0.33333333, 0.33333333],\n",
       "       [0.16827277, 0.16778152, 0.66394571],\n",
       "       [0.16857425, 0.66320011, 0.16822564],\n",
       "       [0.66467306, 0.1675818 , 0.16774513],\n",
       "       [0.16857425, 0.66320011, 0.16822564],\n",
       "       [0.16827277, 0.16778152, 0.66394571],\n",
       "       [0.33333333, 0.33333333, 0.33333333],\n",
       "       [0.16827277, 0.16778152, 0.66394571],\n",
       "       [0.16827277, 0.16778152, 0.66394571],\n",
       "       [0.16827277, 0.16778152, 0.66394571],\n",
       "       [0.66467305, 0.16758181, 0.16774514]])"
      ]
     },
     "execution_count": 24,
     "metadata": {},
     "output_type": "execute_result"
    }
   ],
   "source": [
    "topics_output = lda_model.transform(features)\n",
    "topics_output"
   ]
  },
  {
   "cell_type": "code",
   "execution_count": null,
   "id": "19856bd2-a8fb-41b6-a573-2dc294ad6151",
   "metadata": {},
   "outputs": [],
   "source": []
  }
 ],
 "metadata": {
  "kernelspec": {
   "display_name": "Python 3 (ipykernel)",
   "language": "python",
   "name": "python3"
  },
  "language_info": {
   "codemirror_mode": {
    "name": "ipython",
    "version": 3
   },
   "file_extension": ".py",
   "mimetype": "text/x-python",
   "name": "python",
   "nbconvert_exporter": "python",
   "pygments_lexer": "ipython3",
   "version": "3.11.3"
  }
 },
 "nbformat": 4,
 "nbformat_minor": 5
}
