{
 "cells": [
  {
   "cell_type": "code",
   "execution_count": 1,
   "id": "3b61e33f-2e0f-4762-a9a0-35c9002209a8",
   "metadata": {
    "tags": []
   },
   "outputs": [],
   "source": [
    "import pandas as pd"
   ]
  },
  {
   "cell_type": "code",
   "execution_count": 2,
   "id": "3265b9cc-27fd-4314-b7d8-193364e2b944",
   "metadata": {
    "tags": []
   },
   "outputs": [],
   "source": [
    "df_hiDoc = pd.read_csv('../../datasets/gabaeoh_data_from_hiDoc.csv')"
   ]
  },
  {
   "cell_type": "code",
   "execution_count": 4,
   "id": "d7b22f79-aad0-43e8-933d-e1653db166b0",
   "metadata": {
    "tags": []
   },
   "outputs": [
    {
     "data": {
      "text/html": [
       "<div>\n",
       "<style scoped>\n",
       "    .dataframe tbody tr th:only-of-type {\n",
       "        vertical-align: middle;\n",
       "    }\n",
       "\n",
       "    .dataframe tbody tr th {\n",
       "        vertical-align: top;\n",
       "    }\n",
       "\n",
       "    .dataframe thead th {\n",
       "        text-align: right;\n",
       "    }\n",
       "</style>\n",
       "<table border=\"1\" class=\"dataframe\">\n",
       "  <thead>\n",
       "    <tr style=\"text-align: right;\">\n",
       "      <th></th>\n",
       "      <th>_id</th>\n",
       "      <th>question_title</th>\n",
       "      <th>question_content</th>\n",
       "      <th>question_date</th>\n",
       "      <th>question_tag</th>\n",
       "      <th>answer_title</th>\n",
       "      <th>answer_name</th>\n",
       "      <th>answer_belong</th>\n",
       "      <th>answer_content</th>\n",
       "    </tr>\n",
       "  </thead>\n",
       "  <tbody>\n",
       "    <tr>\n",
       "      <th>0</th>\n",
       "      <td>64fece172822f039eb37dab3</td>\n",
       "      <td>강직성 척추염</td>\n",
       "      <td>선생님.\\n\\n강직성 척추염 환자의 90~95%에서 관련 유전자가 검출된다고 하셨는...</td>\n",
       "      <td>2016.03.18</td>\n",
       "      <td>SMART TAG : 근골격계, 뼈, 정신/신경계, 내과, 류마티스내과, 강직성척추염</td>\n",
       "      <td>Re : 강직성 척추염</td>\n",
       "      <td>이정찬 [전문의]</td>\n",
       "      <td>서울조인트내과의원</td>\n",
       "      <td>안녕하세요, 하이닥 류마티스내과 상담의 이정찬 입니다.\\n\\n강직성 척추염의 증상이...</td>\n",
       "    </tr>\n",
       "    <tr>\n",
       "      <th>1</th>\n",
       "      <td>64fece172822f039eb37dab4</td>\n",
       "      <td>척추골절 수술 문의드립니다.</td>\n",
       "      <td>60대 여성입니다.\\n얼마전 허리상해로 mri 를 찍었는데\\n병원 주치의 설명으로 ...</td>\n",
       "      <td>2023.05.23</td>\n",
       "      <td>SMART TAG : 근골격계, 뼈, 척추, 정형외과, 재활의학과, 골절</td>\n",
       "      <td>Re : 척추골절 수술 문의드립니다.</td>\n",
       "      <td>이이호 [전문의]</td>\n",
       "      <td>진주고려병원</td>\n",
       "      <td>질문자의 감사 인사 | 2023.05.23\\n많은 도움이 되었습니다. 고맙습니다.</td>\n",
       "    </tr>\n",
       "    <tr>\n",
       "      <th>2</th>\n",
       "      <td>64fece172822f039eb37dab5</td>\n",
       "      <td>척추골절 수술 문의드립니다.</td>\n",
       "      <td>60대 여성입니다.\\n얼마전 허리상해로 mri 를 찍었는데\\n병원 주치의 설명으로 ...</td>\n",
       "      <td>2023.05.23</td>\n",
       "      <td>SMART TAG : 근골격계, 뼈, 척추, 정형외과, 재활의학과, 골절</td>\n",
       "      <td>Re : 척추골절 수술 문의드립니다.</td>\n",
       "      <td>이이호 [전문의]</td>\n",
       "      <td>진주고려병원</td>\n",
       "      <td>질문자의 감사 인사 | 2023.05.23\\n많은 도움이 되었습니다. 고맙습니다.</td>\n",
       "    </tr>\n",
       "  </tbody>\n",
       "</table>\n",
       "</div>"
      ],
      "text/plain": [
       "                        _id   question_title  \\\n",
       "0  64fece172822f039eb37dab3          강직성 척추염   \n",
       "1  64fece172822f039eb37dab4  척추골절 수술 문의드립니다.   \n",
       "2  64fece172822f039eb37dab5  척추골절 수술 문의드립니다.   \n",
       "\n",
       "                                    question_content question_date  \\\n",
       "0  선생님.\\n\\n강직성 척추염 환자의 90~95%에서 관련 유전자가 검출된다고 하셨는...    2016.03.18   \n",
       "1  60대 여성입니다.\\n얼마전 허리상해로 mri 를 찍었는데\\n병원 주치의 설명으로 ...    2023.05.23   \n",
       "2  60대 여성입니다.\\n얼마전 허리상해로 mri 를 찍었는데\\n병원 주치의 설명으로 ...    2023.05.23   \n",
       "\n",
       "                                      question_tag          answer_title  \\\n",
       "0  SMART TAG : 근골격계, 뼈, 정신/신경계, 내과, 류마티스내과, 강직성척추염          Re : 강직성 척추염   \n",
       "1         SMART TAG : 근골격계, 뼈, 척추, 정형외과, 재활의학과, 골절  Re : 척추골절 수술 문의드립니다.   \n",
       "2         SMART TAG : 근골격계, 뼈, 척추, 정형외과, 재활의학과, 골절  Re : 척추골절 수술 문의드립니다.   \n",
       "\n",
       "  answer_name answer_belong                                     answer_content  \n",
       "0   이정찬 [전문의]     서울조인트내과의원  안녕하세요, 하이닥 류마티스내과 상담의 이정찬 입니다.\\n\\n강직성 척추염의 증상이...  \n",
       "1   이이호 [전문의]        진주고려병원      질문자의 감사 인사 | 2023.05.23\\n많은 도움이 되었습니다. 고맙습니다.  \n",
       "2   이이호 [전문의]        진주고려병원      질문자의 감사 인사 | 2023.05.23\\n많은 도움이 되었습니다. 고맙습니다.  "
      ]
     },
     "execution_count": 4,
     "metadata": {},
     "output_type": "execute_result"
    }
   ],
   "source": [
    "df_hiDoc[:3]"
   ]
  },
  {
   "cell_type": "code",
   "execution_count": 11,
   "id": "c9c1dc75-0dfa-4cbe-943f-6af601d46be6",
   "metadata": {
    "tags": []
   },
   "outputs": [],
   "source": [
    "df_hiDoc_removed = df_hiDoc.drop_duplicates(subset=['question_title', 'answer_name','answer_content']) "
   ]
  },
  {
   "cell_type": "code",
   "execution_count": 6,
   "id": "9faa58a5-448a-4061-b598-15b675251a43",
   "metadata": {
    "tags": []
   },
   "outputs": [
    {
     "name": "stdout",
     "output_type": "stream",
     "text": [
      "<class 'pandas.core.frame.DataFrame'>\n",
      "RangeIndex: 10570 entries, 0 to 10569\n",
      "Data columns (total 9 columns):\n",
      " #   Column            Non-Null Count  Dtype \n",
      "---  ------            --------------  ----- \n",
      " 0   _id               10570 non-null  object\n",
      " 1   question_title    10570 non-null  object\n",
      " 2   question_content  10283 non-null  object\n",
      " 3   question_date     10570 non-null  object\n",
      " 4   question_tag      10561 non-null  object\n",
      " 5   answer_title      12 non-null     object\n",
      " 6   answer_name       10148 non-null  object\n",
      " 7   answer_belong     9867 non-null   object\n",
      " 8   answer_content    10570 non-null  object\n",
      "dtypes: object(9)\n",
      "memory usage: 743.3+ KB\n"
     ]
    }
   ],
   "source": [
    "df_hiDoc.info()"
   ]
  },
  {
   "cell_type": "code",
   "execution_count": 12,
   "id": "8b0f342f-f7bd-49b2-ac05-d6516ed88c40",
   "metadata": {
    "tags": []
   },
   "outputs": [
    {
     "name": "stdout",
     "output_type": "stream",
     "text": [
      "<class 'pandas.core.frame.DataFrame'>\n",
      "Int64Index: 1490 entries, 0 to 10569\n",
      "Data columns (total 9 columns):\n",
      " #   Column            Non-Null Count  Dtype \n",
      "---  ------            --------------  ----- \n",
      " 0   _id               1490 non-null   object\n",
      " 1   question_title    1490 non-null   object\n",
      " 2   question_content  1444 non-null   object\n",
      " 3   question_date     1490 non-null   object\n",
      " 4   question_tag      1488 non-null   object\n",
      " 5   answer_title      9 non-null      object\n",
      " 6   answer_name       1417 non-null   object\n",
      " 7   answer_belong     1384 non-null   object\n",
      " 8   answer_content    1490 non-null   object\n",
      "dtypes: object(9)\n",
      "memory usage: 116.4+ KB\n"
     ]
    }
   ],
   "source": [
    "df_hiDoc_removed.info()"
   ]
  },
  {
   "cell_type": "code",
   "execution_count": 13,
   "id": "f31c3fcf-105d-47c3-9c49-a42feb351bb3",
   "metadata": {
    "tags": []
   },
   "outputs": [],
   "source": [
    "df_hiDoc_removed.to_csv('../../datasets/hiDoc_removed.csv')#저장"
   ]
  },
  {
   "cell_type": "code",
   "execution_count": null,
   "id": "3aef3c5b-06ae-41c5-91c7-146fe1dedd1e",
   "metadata": {},
   "outputs": [],
   "source": []
  }
 ],
 "metadata": {
  "kernelspec": {
   "display_name": "Python 3 (ipykernel)",
   "language": "python",
   "name": "python3"
  },
  "language_info": {
   "codemirror_mode": {
    "name": "ipython",
    "version": 3
   },
   "file_extension": ".py",
   "mimetype": "text/x-python",
   "name": "python",
   "nbconvert_exporter": "python",
   "pygments_lexer": "ipython3",
   "version": "3.11.3"
  }
 },
 "nbformat": 4,
 "nbformat_minor": 5
}
