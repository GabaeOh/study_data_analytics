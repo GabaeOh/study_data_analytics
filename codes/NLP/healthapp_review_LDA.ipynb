{
  "nbformat": 4,
  "nbformat_minor": 0,
  "metadata": {
    "colab": {
      "provenance": [],
      "collapsed_sections": [
        "xv6OmihcpjTY"
      ],
      "authorship_tag": "ABX9TyOZeM628WAk8b8VlO5NIKEm",
      "include_colab_link": true
    },
    "kernelspec": {
      "name": "python3",
      "display_name": "Python 3"
    },
    "language_info": {
      "name": "python"
    }
  },
  "cells": [
    {
      "cell_type": "markdown",
      "metadata": {
        "id": "view-in-github",
        "colab_type": "text"
      },
      "source": [
        "<a href=\"https://colab.research.google.com/github/GabaeOh/study_data_analytics/blob/main/codes/NLP/healthapp_review_LDA.ipynb\" target=\"_parent\"><img src=\"https://colab.research.google.com/assets/colab-badge.svg\" alt=\"Open In Colab\"/></a>"
      ]
    },
    {
      "cell_type": "markdown",
      "source": [
        "refer : !pip install python-mecab-ko pyLDAvis"
      ],
      "metadata": {
        "id": "8EI-hAuCjTdk"
      }
    },
    {
      "cell_type": "code",
      "execution_count": null,
      "metadata": {
        "id": "heb-WoJmiRrw"
      },
      "outputs": [],
      "source": [
        "#!pip install python-mecab-ko pyLDAvis"
      ]
    },
    {
      "cell_type": "code",
      "source": [
        "import numpy as np"
      ],
      "metadata": {
        "id": "-jM0UAkJjON0"
      },
      "execution_count": null,
      "outputs": []
    },
    {
      "cell_type": "markdown",
      "source": [],
      "metadata": {
        "id": "Zm7Jxf3Srjeb"
      }
    },
    {
      "cell_type": "code",
      "source": [
        "import pandas as pd\n",
        "df_review_negative = pd.read_csv('./review_negative.csv')\n",
        "df_review_positive = pd.read_csv('./review_positive.csv')"
      ],
      "metadata": {
        "id": "ZrsVFBUipEjC"
      },
      "execution_count": 5,
      "outputs": []
    },
    {
      "cell_type": "code",
      "source": [
        "df_review_negative.info()"
      ],
      "metadata": {
        "id": "mJfr8qWUkG3E",
        "outputId": "4b4b46a4-e635-43e1-94ea-d110ab231c6d",
        "colab": {
          "base_uri": "https://localhost:8080/"
        }
      },
      "execution_count": 9,
      "outputs": [
        {
          "output_type": "stream",
          "name": "stdout",
          "text": [
            "<class 'pandas.core.frame.DataFrame'>\n",
            "Int64Index: 346 entries, 3 to 412\n",
            "Data columns (total 6 columns):\n",
            " #   Column            Non-Null Count  Dtype \n",
            "---  ------            --------------  ----- \n",
            " 0   Unnamed: 0        346 non-null    int64 \n",
            " 1   app               346 non-null    object\n",
            " 2   review            346 non-null    object\n",
            " 3   rating            346 non-null    int64 \n",
            " 4   tokenized_review  346 non-null    object\n",
            " 5   replaced_review   346 non-null    object\n",
            "dtypes: int64(2), object(4)\n",
            "memory usage: 18.9+ KB\n"
          ]
        }
      ]
    },
    {
      "cell_type": "code",
      "source": [
        "df_review_negative = df_review_negative.dropna()"
      ],
      "metadata": {
        "id": "Ly_TMF1tr6WT"
      },
      "execution_count": 7,
      "outputs": []
    },
    {
      "cell_type": "markdown",
      "source": [
        "## LDA 분석"
      ],
      "metadata": {
        "id": "fpGVisa2pBap"
      }
    },
    {
      "cell_type": "markdown",
      "source": [
        "#### 문장 벡터화"
      ],
      "metadata": {
        "id": "U2_FN7Lqw981"
      }
    },
    {
      "cell_type": "code",
      "source": [
        "from gensim.corpora import Dictionary"
      ],
      "metadata": {
        "id": "1I66Kn_oj9Sl"
      },
      "execution_count": 10,
      "outputs": []
    },
    {
      "cell_type": "code",
      "source": [
        "dictionary = Dictionary(df_review_negative[['replaced_review']].values)\n",
        "dictionary"
      ],
      "metadata": {
        "id": "lDpepcnUsx36",
        "outputId": "bee08e0b-628e-4543-d9f8-a509fd7f55cc",
        "colab": {
          "base_uri": "https://localhost:8080/"
        }
      },
      "execution_count": 12,
      "outputs": [
        {
          "output_type": "execute_result",
          "data": {
            "text/plain": [
              "<gensim.corpora.dictionary.Dictionary at 0x7d89af2cbe80>"
            ]
          },
          "metadata": {},
          "execution_count": 12
        }
      ]
    },
    {
      "cell_type": "code",
      "source": [
        "dictionary.doc2bow(df_review_negative[['replaced_review']].values[3])"
      ],
      "metadata": {
        "id": "5bQGkyEyusXb",
        "outputId": "3b83b87d-c090-4e8e-962d-c6fc46ed8867",
        "colab": {
          "base_uri": "https://localhost:8080/"
        }
      },
      "execution_count": 13,
      "outputs": [
        {
          "output_type": "execute_result",
          "data": {
            "text/plain": [
              "[(3, 1)]"
            ]
          },
          "metadata": {},
          "execution_count": 13
        }
      ]
    },
    {
      "cell_type": "code",
      "source": [
        "# dictionary에 의한 한글 문장을 벡터화 변환\n",
        "corpus_list = list()\n",
        "for sentence in df_review_negative[['replaced_review']].values :\n",
        "  vectors = dictionary.doc2bow(sentence)\n",
        "  corpus_list.append(vectors)"
      ],
      "metadata": {
        "id": "J7rW7t8ivdp5"
      },
      "execution_count": 15,
      "outputs": []
    },
    {
      "cell_type": "code",
      "source": [
        "df_review_negative['문장벡터화'] = corpus_list"
      ],
      "metadata": {
        "id": "x5cn8gQJwnIH"
      },
      "execution_count": 16,
      "outputs": []
    },
    {
      "cell_type": "code",
      "source": [
        "df_review_negative.columns"
      ],
      "metadata": {
        "id": "scu9RXyawxOd",
        "outputId": "19309308-c334-4b3f-e85d-6f0234fbb2f0",
        "colab": {
          "base_uri": "https://localhost:8080/"
        }
      },
      "execution_count": 17,
      "outputs": [
        {
          "output_type": "execute_result",
          "data": {
            "text/plain": [
              "Index(['Unnamed: 0', 'app', 'review', 'rating', 'tokenized_review',\n",
              "       'replaced_review', '문장벡터화'],\n",
              "      dtype='object')"
            ]
          },
          "metadata": {},
          "execution_count": 17
        }
      ]
    },
    {
      "cell_type": "markdown",
      "source": [
        "#### 토픽 잡기"
      ],
      "metadata": {
        "id": "2kpIv7umw4v-"
      }
    },
    {
      "cell_type": "code",
      "source": [
        "from gensim.models import LdaModel"
      ],
      "metadata": {
        "id": "Caqq6u6kw2S0"
      },
      "execution_count": 35,
      "outputs": []
    },
    {
      "cell_type": "code",
      "source": [
        "lda_model = LdaModel(corpus=corpus_list, id2word=dictionary, num_topics=3)"
      ],
      "metadata": {
        "id": "Hresj5LoxVUf",
        "outputId": "fc4aaf35-b4b9-4807-dd78-7460d9c72291",
        "colab": {
          "base_uri": "https://localhost:8080/"
        }
      },
      "execution_count": 36,
      "outputs": [
        {
          "output_type": "stream",
          "name": "stderr",
          "text": [
            "WARNING:gensim.models.ldamodel:too few updates, training might not converge; consider increasing the number of passes or iterations to improve accuracy\n"
          ]
        }
      ]
    },
    {
      "cell_type": "code",
      "source": [
        "lda_model.print_topics(num_words=4)"
      ],
      "metadata": {
        "id": "wZlsKGrIxzFk",
        "outputId": "31c8eab8-4b78-4c8a-eef1-f14760b200c4",
        "colab": {
          "base_uri": "https://localhost:8080/"
        }
      },
      "execution_count": 37,
      "outputs": [
        {
          "output_type": "execute_result",
          "data": {
            "text/plain": [
              "[(0, '0.017*\"도움\" + 0.015*\"광고\" + 0.011*\"nan\" + 0.010*\"운동 운동\"'),\n",
              " (1, '0.624*\"nan\" + 0.112*\"운동\" + 0.010*\"감사\" + 0.008*\"추천\"'),\n",
              " (2, '0.083*\"최고\" + 0.025*\"뱃살\" + 0.021*\"nan\" + 0.015*\"조아\"')]"
            ]
          },
          "metadata": {},
          "execution_count": 37
        }
      ]
    },
    {
      "cell_type": "code",
      "source": [],
      "metadata": {
        "id": "4KPWzXjtyb9D"
      },
      "execution_count": 37,
      "outputs": []
    },
    {
      "cell_type": "markdown",
      "source": [
        "#### 토픽 분석\n",
        "-  review_positive.csv 토픽 분석\n",
        "- 토픽 수는 3으로 가정"
      ],
      "metadata": {
        "id": "nnODF2aI0wmB"
      }
    },
    {
      "cell_type": "code",
      "source": [
        "# 'replaced_review' 열의 모든 값을 문자열로 변환\n",
        "df_review_positive['replaced_review'] = df_review_positive['replaced_review'].astype(str)"
      ],
      "metadata": {
        "id": "qQbqiZaI0vec"
      },
      "execution_count": 30,
      "outputs": []
    },
    {
      "cell_type": "code",
      "source": [
        "dictionary = Dictionary(df_review_positive[['replaced_review']].values)\n",
        "dictionary"
      ],
      "metadata": {
        "id": "6xI8YKi805MM",
        "outputId": "adaf9d08-b9f7-4537-a1c7-9cfae3e3bbd0",
        "colab": {
          "base_uri": "https://localhost:8080/"
        }
      },
      "execution_count": 31,
      "outputs": [
        {
          "output_type": "execute_result",
          "data": {
            "text/plain": [
              "<gensim.corpora.dictionary.Dictionary at 0x7d89adcc8b50>"
            ]
          },
          "metadata": {},
          "execution_count": 31
        }
      ]
    },
    {
      "cell_type": "code",
      "source": [
        "# dictionary에 의한 한글 문장을 벡터화 변환\n",
        "corpus_list = list()\n",
        "for sentence in df_review_positive[['replaced_review']].values :\n",
        "  vectors = dictionary.doc2bow(sentence)\n",
        "  corpus_list.append(vectors)"
      ],
      "metadata": {
        "id": "I6hNIEin07di"
      },
      "execution_count": 32,
      "outputs": []
    },
    {
      "cell_type": "code",
      "source": [
        "df_review_positive['문장벡터화'] = corpus_list"
      ],
      "metadata": {
        "id": "Zz8qQgkO1Aay"
      },
      "execution_count": 33,
      "outputs": []
    },
    {
      "cell_type": "code",
      "source": [
        "df_review_positive[:3]"
      ],
      "metadata": {
        "id": "Jav3CvUa1DsT",
        "outputId": "a77eeffb-19c5-4d88-f561-eba5d7639456",
        "colab": {
          "base_uri": "https://localhost:8080/",
          "height": 143
        }
      },
      "execution_count": 34,
      "outputs": [
        {
          "output_type": "execute_result",
          "data": {
            "text/plain": [
              "   Unnamed: 0                                   app  \\\n",
              "0        1000  매일 운동 - 운동 & 피트니스 트레이너 - 빠르고 효율적인 운동   \n",
              "1        1001  매일 운동 - 운동 & 피트니스 트레이너 - 빠르고 효율적인 운동   \n",
              "2        1002  매일 운동 - 운동 & 피트니스 트레이너 - 빠르고 효율적인 운동   \n",
              "\n",
              "                                              review  rating tokenized_review  \\\n",
              "0                                                  👍       5              NaN   \n",
              "1  힘들지만  살이  빠지는것  같아요.    땀이 많이나요   진짜 말을 할수가 없어...       5               최고   \n",
              "2                                              너무좋아요       5              NaN   \n",
              "\n",
              "  replaced_review     문장벡터화  \n",
              "0             nan  [(0, 1)]  \n",
              "1              최고  [(1, 1)]  \n",
              "2             nan  [(0, 1)]  "
            ],
            "text/html": [
              "\n",
              "  <div id=\"df-071379b1-5ea7-4948-9859-ecc806f1b55f\" class=\"colab-df-container\">\n",
              "    <div>\n",
              "<style scoped>\n",
              "    .dataframe tbody tr th:only-of-type {\n",
              "        vertical-align: middle;\n",
              "    }\n",
              "\n",
              "    .dataframe tbody tr th {\n",
              "        vertical-align: top;\n",
              "    }\n",
              "\n",
              "    .dataframe thead th {\n",
              "        text-align: right;\n",
              "    }\n",
              "</style>\n",
              "<table border=\"1\" class=\"dataframe\">\n",
              "  <thead>\n",
              "    <tr style=\"text-align: right;\">\n",
              "      <th></th>\n",
              "      <th>Unnamed: 0</th>\n",
              "      <th>app</th>\n",
              "      <th>review</th>\n",
              "      <th>rating</th>\n",
              "      <th>tokenized_review</th>\n",
              "      <th>replaced_review</th>\n",
              "      <th>문장벡터화</th>\n",
              "    </tr>\n",
              "  </thead>\n",
              "  <tbody>\n",
              "    <tr>\n",
              "      <th>0</th>\n",
              "      <td>1000</td>\n",
              "      <td>매일 운동 - 운동 &amp; 피트니스 트레이너 - 빠르고 효율적인 운동</td>\n",
              "      <td>👍</td>\n",
              "      <td>5</td>\n",
              "      <td>NaN</td>\n",
              "      <td>nan</td>\n",
              "      <td>[(0, 1)]</td>\n",
              "    </tr>\n",
              "    <tr>\n",
              "      <th>1</th>\n",
              "      <td>1001</td>\n",
              "      <td>매일 운동 - 운동 &amp; 피트니스 트레이너 - 빠르고 효율적인 운동</td>\n",
              "      <td>힘들지만  살이  빠지는것  같아요.    땀이 많이나요   진짜 말을 할수가 없어...</td>\n",
              "      <td>5</td>\n",
              "      <td>최고</td>\n",
              "      <td>최고</td>\n",
              "      <td>[(1, 1)]</td>\n",
              "    </tr>\n",
              "    <tr>\n",
              "      <th>2</th>\n",
              "      <td>1002</td>\n",
              "      <td>매일 운동 - 운동 &amp; 피트니스 트레이너 - 빠르고 효율적인 운동</td>\n",
              "      <td>너무좋아요</td>\n",
              "      <td>5</td>\n",
              "      <td>NaN</td>\n",
              "      <td>nan</td>\n",
              "      <td>[(0, 1)]</td>\n",
              "    </tr>\n",
              "  </tbody>\n",
              "</table>\n",
              "</div>\n",
              "    <div class=\"colab-df-buttons\">\n",
              "\n",
              "  <div class=\"colab-df-container\">\n",
              "    <button class=\"colab-df-convert\" onclick=\"convertToInteractive('df-071379b1-5ea7-4948-9859-ecc806f1b55f')\"\n",
              "            title=\"Convert this dataframe to an interactive table.\"\n",
              "            style=\"display:none;\">\n",
              "\n",
              "  <svg xmlns=\"http://www.w3.org/2000/svg\" height=\"24px\" viewBox=\"0 -960 960 960\">\n",
              "    <path d=\"M120-120v-720h720v720H120Zm60-500h600v-160H180v160Zm220 220h160v-160H400v160Zm0 220h160v-160H400v160ZM180-400h160v-160H180v160Zm440 0h160v-160H620v160ZM180-180h160v-160H180v160Zm440 0h160v-160H620v160Z\"/>\n",
              "  </svg>\n",
              "    </button>\n",
              "\n",
              "  <style>\n",
              "    .colab-df-container {\n",
              "      display:flex;\n",
              "      gap: 12px;\n",
              "    }\n",
              "\n",
              "    .colab-df-convert {\n",
              "      background-color: #E8F0FE;\n",
              "      border: none;\n",
              "      border-radius: 50%;\n",
              "      cursor: pointer;\n",
              "      display: none;\n",
              "      fill: #1967D2;\n",
              "      height: 32px;\n",
              "      padding: 0 0 0 0;\n",
              "      width: 32px;\n",
              "    }\n",
              "\n",
              "    .colab-df-convert:hover {\n",
              "      background-color: #E2EBFA;\n",
              "      box-shadow: 0px 1px 2px rgba(60, 64, 67, 0.3), 0px 1px 3px 1px rgba(60, 64, 67, 0.15);\n",
              "      fill: #174EA6;\n",
              "    }\n",
              "\n",
              "    .colab-df-buttons div {\n",
              "      margin-bottom: 4px;\n",
              "    }\n",
              "\n",
              "    [theme=dark] .colab-df-convert {\n",
              "      background-color: #3B4455;\n",
              "      fill: #D2E3FC;\n",
              "    }\n",
              "\n",
              "    [theme=dark] .colab-df-convert:hover {\n",
              "      background-color: #434B5C;\n",
              "      box-shadow: 0px 1px 3px 1px rgba(0, 0, 0, 0.15);\n",
              "      filter: drop-shadow(0px 1px 2px rgba(0, 0, 0, 0.3));\n",
              "      fill: #FFFFFF;\n",
              "    }\n",
              "  </style>\n",
              "\n",
              "    <script>\n",
              "      const buttonEl =\n",
              "        document.querySelector('#df-071379b1-5ea7-4948-9859-ecc806f1b55f button.colab-df-convert');\n",
              "      buttonEl.style.display =\n",
              "        google.colab.kernel.accessAllowed ? 'block' : 'none';\n",
              "\n",
              "      async function convertToInteractive(key) {\n",
              "        const element = document.querySelector('#df-071379b1-5ea7-4948-9859-ecc806f1b55f');\n",
              "        const dataTable =\n",
              "          await google.colab.kernel.invokeFunction('convertToInteractive',\n",
              "                                                    [key], {});\n",
              "        if (!dataTable) return;\n",
              "\n",
              "        const docLinkHtml = 'Like what you see? Visit the ' +\n",
              "          '<a target=\"_blank\" href=https://colab.research.google.com/notebooks/data_table.ipynb>data table notebook</a>'\n",
              "          + ' to learn more about interactive tables.';\n",
              "        element.innerHTML = '';\n",
              "        dataTable['output_type'] = 'display_data';\n",
              "        await google.colab.output.renderOutput(dataTable, element);\n",
              "        const docLink = document.createElement('div');\n",
              "        docLink.innerHTML = docLinkHtml;\n",
              "        element.appendChild(docLink);\n",
              "      }\n",
              "    </script>\n",
              "  </div>\n",
              "\n",
              "\n",
              "<div id=\"df-1bff8b1b-6c5c-4db0-83b8-3521edda9c88\">\n",
              "  <button class=\"colab-df-quickchart\" onclick=\"quickchart('df-1bff8b1b-6c5c-4db0-83b8-3521edda9c88')\"\n",
              "            title=\"Suggest charts.\"\n",
              "            style=\"display:none;\">\n",
              "\n",
              "<svg xmlns=\"http://www.w3.org/2000/svg\" height=\"24px\"viewBox=\"0 0 24 24\"\n",
              "     width=\"24px\">\n",
              "    <g>\n",
              "        <path d=\"M19 3H5c-1.1 0-2 .9-2 2v14c0 1.1.9 2 2 2h14c1.1 0 2-.9 2-2V5c0-1.1-.9-2-2-2zM9 17H7v-7h2v7zm4 0h-2V7h2v10zm4 0h-2v-4h2v4z\"/>\n",
              "    </g>\n",
              "</svg>\n",
              "  </button>\n",
              "\n",
              "<style>\n",
              "  .colab-df-quickchart {\n",
              "      --bg-color: #E8F0FE;\n",
              "      --fill-color: #1967D2;\n",
              "      --hover-bg-color: #E2EBFA;\n",
              "      --hover-fill-color: #174EA6;\n",
              "      --disabled-fill-color: #AAA;\n",
              "      --disabled-bg-color: #DDD;\n",
              "  }\n",
              "\n",
              "  [theme=dark] .colab-df-quickchart {\n",
              "      --bg-color: #3B4455;\n",
              "      --fill-color: #D2E3FC;\n",
              "      --hover-bg-color: #434B5C;\n",
              "      --hover-fill-color: #FFFFFF;\n",
              "      --disabled-bg-color: #3B4455;\n",
              "      --disabled-fill-color: #666;\n",
              "  }\n",
              "\n",
              "  .colab-df-quickchart {\n",
              "    background-color: var(--bg-color);\n",
              "    border: none;\n",
              "    border-radius: 50%;\n",
              "    cursor: pointer;\n",
              "    display: none;\n",
              "    fill: var(--fill-color);\n",
              "    height: 32px;\n",
              "    padding: 0;\n",
              "    width: 32px;\n",
              "  }\n",
              "\n",
              "  .colab-df-quickchart:hover {\n",
              "    background-color: var(--hover-bg-color);\n",
              "    box-shadow: 0 1px 2px rgba(60, 64, 67, 0.3), 0 1px 3px 1px rgba(60, 64, 67, 0.15);\n",
              "    fill: var(--button-hover-fill-color);\n",
              "  }\n",
              "\n",
              "  .colab-df-quickchart-complete:disabled,\n",
              "  .colab-df-quickchart-complete:disabled:hover {\n",
              "    background-color: var(--disabled-bg-color);\n",
              "    fill: var(--disabled-fill-color);\n",
              "    box-shadow: none;\n",
              "  }\n",
              "\n",
              "  .colab-df-spinner {\n",
              "    border: 2px solid var(--fill-color);\n",
              "    border-color: transparent;\n",
              "    border-bottom-color: var(--fill-color);\n",
              "    animation:\n",
              "      spin 1s steps(1) infinite;\n",
              "  }\n",
              "\n",
              "  @keyframes spin {\n",
              "    0% {\n",
              "      border-color: transparent;\n",
              "      border-bottom-color: var(--fill-color);\n",
              "      border-left-color: var(--fill-color);\n",
              "    }\n",
              "    20% {\n",
              "      border-color: transparent;\n",
              "      border-left-color: var(--fill-color);\n",
              "      border-top-color: var(--fill-color);\n",
              "    }\n",
              "    30% {\n",
              "      border-color: transparent;\n",
              "      border-left-color: var(--fill-color);\n",
              "      border-top-color: var(--fill-color);\n",
              "      border-right-color: var(--fill-color);\n",
              "    }\n",
              "    40% {\n",
              "      border-color: transparent;\n",
              "      border-right-color: var(--fill-color);\n",
              "      border-top-color: var(--fill-color);\n",
              "    }\n",
              "    60% {\n",
              "      border-color: transparent;\n",
              "      border-right-color: var(--fill-color);\n",
              "    }\n",
              "    80% {\n",
              "      border-color: transparent;\n",
              "      border-right-color: var(--fill-color);\n",
              "      border-bottom-color: var(--fill-color);\n",
              "    }\n",
              "    90% {\n",
              "      border-color: transparent;\n",
              "      border-bottom-color: var(--fill-color);\n",
              "    }\n",
              "  }\n",
              "</style>\n",
              "\n",
              "  <script>\n",
              "    async function quickchart(key) {\n",
              "      const quickchartButtonEl =\n",
              "        document.querySelector('#' + key + ' button');\n",
              "      quickchartButtonEl.disabled = true;  // To prevent multiple clicks.\n",
              "      quickchartButtonEl.classList.add('colab-df-spinner');\n",
              "      try {\n",
              "        const charts = await google.colab.kernel.invokeFunction(\n",
              "            'suggestCharts', [key], {});\n",
              "      } catch (error) {\n",
              "        console.error('Error during call to suggestCharts:', error);\n",
              "      }\n",
              "      quickchartButtonEl.classList.remove('colab-df-spinner');\n",
              "      quickchartButtonEl.classList.add('colab-df-quickchart-complete');\n",
              "    }\n",
              "    (() => {\n",
              "      let quickchartButtonEl =\n",
              "        document.querySelector('#df-1bff8b1b-6c5c-4db0-83b8-3521edda9c88 button');\n",
              "      quickchartButtonEl.style.display =\n",
              "        google.colab.kernel.accessAllowed ? 'block' : 'none';\n",
              "    })();\n",
              "  </script>\n",
              "</div>\n",
              "    </div>\n",
              "  </div>\n"
            ]
          },
          "metadata": {},
          "execution_count": 34
        }
      ]
    },
    {
      "cell_type": "code",
      "source": [
        "lda_model = LdaModel(corpus=corpus_list, id2word=dictionary, num_topics=3)"
      ],
      "metadata": {
        "id": "_s3-YQN51Npq",
        "outputId": "e087ef64-5c06-4b3d-ec79-5c1051a88fb1",
        "colab": {
          "base_uri": "https://localhost:8080/"
        }
      },
      "execution_count": 38,
      "outputs": [
        {
          "output_type": "stream",
          "name": "stderr",
          "text": [
            "WARNING:gensim.models.ldamodel:too few updates, training might not converge; consider increasing the number of passes or iterations to improve accuracy\n"
          ]
        }
      ]
    },
    {
      "cell_type": "code",
      "source": [
        "lda_model.print_topics(num_words=4)"
      ],
      "metadata": {
        "id": "Z_wes8bF1VPh",
        "outputId": "10d28cad-2df9-48f5-8ea6-981a27592209",
        "colab": {
          "base_uri": "https://localhost:8080/"
        }
      },
      "execution_count": 39,
      "outputs": [
        {
          "output_type": "execute_result",
          "data": {
            "text/plain": [
              "[(0, '0.216*\"운동\" + 0.021*\"뱃살\" + 0.018*\"도움\" + 0.015*\"추천\"'),\n",
              " (1, '0.697*\"nan\" + 0.011*\"감사\" + 0.009*\"광고\" + 0.006*\"강추\"'),\n",
              " (2, '0.062*\"최고\" + 0.012*\"운동 최고\" + 0.010*\"nan\" + 0.008*\"유용\"')]"
            ]
          },
          "metadata": {},
          "execution_count": 39
        }
      ]
    },
    {
      "cell_type": "code",
      "source": [],
      "metadata": {
        "id": "Q6dUTIFu1WP6"
      },
      "execution_count": null,
      "outputs": []
    }
  ]
}