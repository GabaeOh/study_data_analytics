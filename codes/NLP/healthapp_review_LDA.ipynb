{
  "nbformat": 4,
  "nbformat_minor": 0,
  "metadata": {
    "colab": {
      "provenance": [],
      "collapsed_sections": [
        "xv6OmihcpjTY"
      ],
      "authorship_tag": "ABX9TyMlQnJ+RebN3pq2T7LCsh+X",
      "include_colab_link": true
    },
    "kernelspec": {
      "name": "python3",
      "display_name": "Python 3"
    },
    "language_info": {
      "name": "python"
    }
  },
  "cells": [
    {
      "cell_type": "markdown",
      "metadata": {
        "id": "view-in-github",
        "colab_type": "text"
      },
      "source": [
        "<a href=\"https://colab.research.google.com/github/GabaeOh/study_data_analytics/blob/main/codes/NLP/healthapp_review_LDA.ipynb\" target=\"_parent\"><img src=\"https://colab.research.google.com/assets/colab-badge.svg\" alt=\"Open In Colab\"/></a>"
      ]
    },
    {
      "cell_type": "markdown",
      "source": [
        "refer : !pip install python-mecab-ko pyLDAvis"
      ],
      "metadata": {
        "id": "8EI-hAuCjTdk"
      }
    },
    {
      "cell_type": "code",
      "execution_count": 1,
      "metadata": {
        "id": "heb-WoJmiRrw"
      },
      "outputs": [],
      "source": [
        "#!pip install python-mecab-ko pyLDAvis"
      ]
    },
    {
      "cell_type": "code",
      "source": [
        "import numpy as np"
      ],
      "metadata": {
        "id": "-jM0UAkJjON0"
      },
      "execution_count": 2,
      "outputs": []
    },
    {
      "cell_type": "markdown",
      "source": [],
      "metadata": {
        "id": "Zm7Jxf3Srjeb"
      }
    },
    {
      "cell_type": "code",
      "source": [
        "import pandas as pd\n",
        "df_review_negative = pd.read_csv('./review_negative.csv')\n",
        "df_review_positive = pd.read_csv('./review_positive.csv')"
      ],
      "metadata": {
        "id": "ZrsVFBUipEjC"
      },
      "execution_count": 3,
      "outputs": []
    },
    {
      "cell_type": "code",
      "source": [
        "df_review_negative.info()"
      ],
      "metadata": {
        "colab": {
          "base_uri": "https://localhost:8080/"
        },
        "id": "mJfr8qWUkG3E",
        "outputId": "8a565595-eee2-4c0d-e117-f3d802049d7b"
      },
      "execution_count": 4,
      "outputs": [
        {
          "output_type": "stream",
          "name": "stdout",
          "text": [
            "<class 'pandas.core.frame.DataFrame'>\n",
            "RangeIndex: 413 entries, 0 to 412\n",
            "Data columns (total 6 columns):\n",
            " #   Column            Non-Null Count  Dtype \n",
            "---  ------            --------------  ----- \n",
            " 0   Unnamed: 0        413 non-null    int64 \n",
            " 1   app               413 non-null    object\n",
            " 2   review            413 non-null    object\n",
            " 3   rating            413 non-null    int64 \n",
            " 4   tokenized_review  346 non-null    object\n",
            " 5   replaced_review   346 non-null    object\n",
            "dtypes: int64(2), object(4)\n",
            "memory usage: 19.5+ KB\n"
          ]
        }
      ]
    },
    {
      "cell_type": "code",
      "source": [
        "df_review_negative = df_review_negative.dropna()"
      ],
      "metadata": {
        "id": "Ly_TMF1tr6WT"
      },
      "execution_count": 5,
      "outputs": []
    },
    {
      "cell_type": "markdown",
      "source": [
        "## LDA 분석"
      ],
      "metadata": {
        "id": "fpGVisa2pBap"
      }
    },
    {
      "cell_type": "markdown",
      "source": [
        "#### 문장 벡터화"
      ],
      "metadata": {
        "id": "U2_FN7Lqw981"
      }
    },
    {
      "cell_type": "code",
      "source": [
        "from gensim.corpora import Dictionary"
      ],
      "metadata": {
        "id": "1I66Kn_oj9Sl"
      },
      "execution_count": 28,
      "outputs": []
    },
    {
      "cell_type": "code",
      "source": [
        "dictionary = Dictionary(df_review_negative[['replaced_review']].values)\n",
        "dictionary"
      ],
      "metadata": {
        "colab": {
          "base_uri": "https://localhost:8080/"
        },
        "id": "lDpepcnUsx36",
        "outputId": "179d1cb7-5861-4e6a-9f1a-b9f56454d1e7"
      },
      "execution_count": 29,
      "outputs": [
        {
          "output_type": "execute_result",
          "data": {
            "text/plain": [
              "<gensim.corpora.dictionary.Dictionary at 0x7a238de12ad0>"
            ]
          },
          "metadata": {},
          "execution_count": 29
        }
      ]
    },
    {
      "cell_type": "code",
      "source": [
        "dictionary.doc2bow(df_review_negative[['replaced_review']].values[3])"
      ],
      "metadata": {
        "colab": {
          "base_uri": "https://localhost:8080/"
        },
        "id": "5bQGkyEyusXb",
        "outputId": "11285b5f-8637-4640-d691-c7ee7c2e34b9"
      },
      "execution_count": 30,
      "outputs": [
        {
          "output_type": "execute_result",
          "data": {
            "text/plain": [
              "[(3, 1)]"
            ]
          },
          "metadata": {},
          "execution_count": 30
        }
      ]
    },
    {
      "cell_type": "code",
      "source": [
        "# dictionary에 의한 한글 문장을 벡터화 변환\n",
        "corpus_list = list()\n",
        "for sentence in df_review_negative[['replaced_review']].values :\n",
        "  vectors = dictionary.doc2bow(sentence)\n",
        "  corpus_list.append(vectors)"
      ],
      "metadata": {
        "id": "J7rW7t8ivdp5"
      },
      "execution_count": 31,
      "outputs": []
    },
    {
      "cell_type": "code",
      "source": [
        "df_review_negative['문장벡터화'] = corpus_list"
      ],
      "metadata": {
        "id": "x5cn8gQJwnIH"
      },
      "execution_count": 32,
      "outputs": []
    },
    {
      "cell_type": "code",
      "source": [
        "df_review_negative.columns"
      ],
      "metadata": {
        "colab": {
          "base_uri": "https://localhost:8080/"
        },
        "id": "scu9RXyawxOd",
        "outputId": "77aee055-172e-48df-a472-0ca02c8286b0"
      },
      "execution_count": 33,
      "outputs": [
        {
          "output_type": "execute_result",
          "data": {
            "text/plain": [
              "Index(['Unnamed: 0', 'app', 'review', 'rating', 'tokenized_review',\n",
              "       'replaced_review', '문장벡터화'],\n",
              "      dtype='object')"
            ]
          },
          "metadata": {},
          "execution_count": 33
        }
      ]
    },
    {
      "cell_type": "markdown",
      "source": [
        "#### 토픽 잡기"
      ],
      "metadata": {
        "id": "2kpIv7umw4v-"
      }
    },
    {
      "cell_type": "code",
      "source": [
        "from gensim.models import LdaModel"
      ],
      "metadata": {
        "id": "Caqq6u6kw2S0"
      },
      "execution_count": 34,
      "outputs": []
    },
    {
      "cell_type": "code",
      "source": [
        "lda_model = LdaModel(corpus=corpus_list, id2word=dictionary, num_topics=3)"
      ],
      "metadata": {
        "colab": {
          "base_uri": "https://localhost:8080/"
        },
        "id": "Hresj5LoxVUf",
        "outputId": "fd6aaead-2157-4dab-d712-ba9164ae0eef"
      },
      "execution_count": 35,
      "outputs": [
        {
          "output_type": "stream",
          "name": "stderr",
          "text": [
            "WARNING:gensim.models.ldamodel:too few updates, training might not converge; consider increasing the number of passes or iterations to improve accuracy\n"
          ]
        }
      ]
    },
    {
      "cell_type": "code",
      "source": [
        "lda_model.print_topics(num_words=4)"
      ],
      "metadata": {
        "colab": {
          "base_uri": "https://localhost:8080/"
        },
        "id": "wZlsKGrIxzFk",
        "outputId": "0e125ff6-f934-4092-a026-0f057b72db49"
      },
      "execution_count": 36,
      "outputs": [
        {
          "output_type": "execute_result",
          "data": {
            "text/plain": [
              "[(0, '0.010*\"광고\" + 0.009*\"리뷰\" + 0.009*\"동영상\" + 0.006*\"수정 부탁\"'),\n",
              " (1, '0.028*\"환불\" + 0.026*\"로그인\" + 0.024*\"운동\" + 0.013*\"불편\"'),\n",
              " (2, '0.010*\"광고 짜증\" + 0.009*\"위젯\" + 0.009*\"최악\" + 0.009*\"의견\"')]"
            ]
          },
          "metadata": {},
          "execution_count": 36
        }
      ]
    },
    {
      "cell_type": "code",
      "source": [],
      "metadata": {
        "id": "4KPWzXjtyb9D"
      },
      "execution_count": 14,
      "outputs": []
    },
    {
      "cell_type": "markdown",
      "source": [
        "#### 토픽 분석\n",
        "-  review_positive.csv 토픽 분석\n",
        "- 토픽 수는 3으로 가정"
      ],
      "metadata": {
        "id": "nnODF2aI0wmB"
      }
    },
    {
      "cell_type": "code",
      "source": [
        "# 'replaced_review' 열의 모든 값을 문자열로 변환\n",
        "df_review_positive['replaced_review'] = df_review_positive['replaced_review'].astype(str)"
      ],
      "metadata": {
        "id": "qQbqiZaI0vec"
      },
      "execution_count": 15,
      "outputs": []
    },
    {
      "cell_type": "code",
      "source": [
        "dictionary = Dictionary(df_review_positive[['replaced_review']].values)\n",
        "dictionary"
      ],
      "metadata": {
        "colab": {
          "base_uri": "https://localhost:8080/"
        },
        "id": "6xI8YKi805MM",
        "outputId": "3f530bde-8e4a-4a6e-cf52-cefea2c3d624"
      },
      "execution_count": 16,
      "outputs": [
        {
          "output_type": "execute_result",
          "data": {
            "text/plain": [
              "<gensim.corpora.dictionary.Dictionary at 0x7a238ff60e50>"
            ]
          },
          "metadata": {},
          "execution_count": 16
        }
      ]
    },
    {
      "cell_type": "code",
      "source": [
        "# dictionary에 의한 한글 문장을 벡터화 변환\n",
        "corpus_list = list()\n",
        "for sentence in df_review_positive[['replaced_review']].values :\n",
        "  vectors = dictionary.doc2bow(sentence)\n",
        "  corpus_list.append(vectors)"
      ],
      "metadata": {
        "id": "I6hNIEin07di"
      },
      "execution_count": 17,
      "outputs": []
    },
    {
      "cell_type": "code",
      "source": [
        "df_review_positive['문장벡터화'] = corpus_list"
      ],
      "metadata": {
        "id": "Zz8qQgkO1Aay"
      },
      "execution_count": 18,
      "outputs": []
    },
    {
      "cell_type": "code",
      "source": [
        "df_review_positive[:3]"
      ],
      "metadata": {
        "colab": {
          "base_uri": "https://localhost:8080/",
          "height": 890
        },
        "id": "Jav3CvUa1DsT",
        "outputId": "ae4ac830-bc83-4499-ad11-7dba19636dc7"
      },
      "execution_count": 19,
      "outputs": [
        {
          "output_type": "execute_result",
          "data": {
            "text/plain": [
              "   Unnamed: 0                                   app  \\\n",
              "0        1000  매일 운동 - 운동 & 피트니스 트레이너 - 빠르고 효율적인 운동   \n",
              "1        1001  매일 운동 - 운동 & 피트니스 트레이너 - 빠르고 효율적인 운동   \n",
              "2        1002  매일 운동 - 운동 & 피트니스 트레이너 - 빠르고 효율적인 운동   \n",
              "\n",
              "                                              review  rating tokenized_review  \\\n",
              "0                                                  👍       5              NaN   \n",
              "1  힘들지만  살이  빠지는것  같아요.    땀이 많이나요   진짜 말을 할수가 없어...       5               최고   \n",
              "2                                              너무좋아요       5              NaN   \n",
              "\n",
              "  replaced_review     문장벡터화  \n",
              "0             nan  [(0, 1)]  \n",
              "1              최고  [(1, 1)]  \n",
              "2             nan  [(0, 1)]  "
            ],
            "text/html": [
              "\n",
              "  <div id=\"df-4ab1ad1b-4e1f-4366-af0d-2430f8d2553d\" class=\"colab-df-container\">\n",
              "    <div>\n",
              "<style scoped>\n",
              "    .dataframe tbody tr th:only-of-type {\n",
              "        vertical-align: middle;\n",
              "    }\n",
              "\n",
              "    .dataframe tbody tr th {\n",
              "        vertical-align: top;\n",
              "    }\n",
              "\n",
              "    .dataframe thead th {\n",
              "        text-align: right;\n",
              "    }\n",
              "</style>\n",
              "<table border=\"1\" class=\"dataframe\">\n",
              "  <thead>\n",
              "    <tr style=\"text-align: right;\">\n",
              "      <th></th>\n",
              "      <th>Unnamed: 0</th>\n",
              "      <th>app</th>\n",
              "      <th>review</th>\n",
              "      <th>rating</th>\n",
              "      <th>tokenized_review</th>\n",
              "      <th>replaced_review</th>\n",
              "      <th>문장벡터화</th>\n",
              "    </tr>\n",
              "  </thead>\n",
              "  <tbody>\n",
              "    <tr>\n",
              "      <th>0</th>\n",
              "      <td>1000</td>\n",
              "      <td>매일 운동 - 운동 &amp; 피트니스 트레이너 - 빠르고 효율적인 운동</td>\n",
              "      <td>👍</td>\n",
              "      <td>5</td>\n",
              "      <td>NaN</td>\n",
              "      <td>nan</td>\n",
              "      <td>[(0, 1)]</td>\n",
              "    </tr>\n",
              "    <tr>\n",
              "      <th>1</th>\n",
              "      <td>1001</td>\n",
              "      <td>매일 운동 - 운동 &amp; 피트니스 트레이너 - 빠르고 효율적인 운동</td>\n",
              "      <td>힘들지만  살이  빠지는것  같아요.    땀이 많이나요   진짜 말을 할수가 없어...</td>\n",
              "      <td>5</td>\n",
              "      <td>최고</td>\n",
              "      <td>최고</td>\n",
              "      <td>[(1, 1)]</td>\n",
              "    </tr>\n",
              "    <tr>\n",
              "      <th>2</th>\n",
              "      <td>1002</td>\n",
              "      <td>매일 운동 - 운동 &amp; 피트니스 트레이너 - 빠르고 효율적인 운동</td>\n",
              "      <td>너무좋아요</td>\n",
              "      <td>5</td>\n",
              "      <td>NaN</td>\n",
              "      <td>nan</td>\n",
              "      <td>[(0, 1)]</td>\n",
              "    </tr>\n",
              "  </tbody>\n",
              "</table>\n",
              "</div>\n",
              "    <div class=\"colab-df-buttons\">\n",
              "\n",
              "  <div class=\"colab-df-container\">\n",
              "    <button class=\"colab-df-convert\" onclick=\"convertToInteractive('df-4ab1ad1b-4e1f-4366-af0d-2430f8d2553d')\"\n",
              "            title=\"Convert this dataframe to an interactive table.\"\n",
              "            style=\"display:none;\">\n",
              "\n",
              "  <svg xmlns=\"http://www.w3.org/2000/svg\" height=\"24px\" viewBox=\"0 -960 960 960\">\n",
              "    <path d=\"M120-120v-720h720v720H120Zm60-500h600v-160H180v160Zm220 220h160v-160H400v160Zm0 220h160v-160H400v160ZM180-400h160v-160H180v160Zm440 0h160v-160H620v160ZM180-180h160v-160H180v160Zm440 0h160v-160H620v160Z\"/>\n",
              "  </svg>\n",
              "    </button>\n",
              "\n",
              "  <style>\n",
              "    .colab-df-container {\n",
              "      display:flex;\n",
              "      gap: 12px;\n",
              "    }\n",
              "\n",
              "    .colab-df-convert {\n",
              "      background-color: #E8F0FE;\n",
              "      border: none;\n",
              "      border-radius: 50%;\n",
              "      cursor: pointer;\n",
              "      display: none;\n",
              "      fill: #1967D2;\n",
              "      height: 32px;\n",
              "      padding: 0 0 0 0;\n",
              "      width: 32px;\n",
              "    }\n",
              "\n",
              "    .colab-df-convert:hover {\n",
              "      background-color: #E2EBFA;\n",
              "      box-shadow: 0px 1px 2px rgba(60, 64, 67, 0.3), 0px 1px 3px 1px rgba(60, 64, 67, 0.15);\n",
              "      fill: #174EA6;\n",
              "    }\n",
              "\n",
              "    .colab-df-buttons div {\n",
              "      margin-bottom: 4px;\n",
              "    }\n",
              "\n",
              "    [theme=dark] .colab-df-convert {\n",
              "      background-color: #3B4455;\n",
              "      fill: #D2E3FC;\n",
              "    }\n",
              "\n",
              "    [theme=dark] .colab-df-convert:hover {\n",
              "      background-color: #434B5C;\n",
              "      box-shadow: 0px 1px 3px 1px rgba(0, 0, 0, 0.15);\n",
              "      filter: drop-shadow(0px 1px 2px rgba(0, 0, 0, 0.3));\n",
              "      fill: #FFFFFF;\n",
              "    }\n",
              "  </style>\n",
              "\n",
              "    <script>\n",
              "      const buttonEl =\n",
              "        document.querySelector('#df-4ab1ad1b-4e1f-4366-af0d-2430f8d2553d button.colab-df-convert');\n",
              "      buttonEl.style.display =\n",
              "        google.colab.kernel.accessAllowed ? 'block' : 'none';\n",
              "\n",
              "      async function convertToInteractive(key) {\n",
              "        const element = document.querySelector('#df-4ab1ad1b-4e1f-4366-af0d-2430f8d2553d');\n",
              "        const dataTable =\n",
              "          await google.colab.kernel.invokeFunction('convertToInteractive',\n",
              "                                                    [key], {});\n",
              "        if (!dataTable) return;\n",
              "\n",
              "        const docLinkHtml = 'Like what you see? Visit the ' +\n",
              "          '<a target=\"_blank\" href=https://colab.research.google.com/notebooks/data_table.ipynb>data table notebook</a>'\n",
              "          + ' to learn more about interactive tables.';\n",
              "        element.innerHTML = '';\n",
              "        dataTable['output_type'] = 'display_data';\n",
              "        await google.colab.output.renderOutput(dataTable, element);\n",
              "        const docLink = document.createElement('div');\n",
              "        docLink.innerHTML = docLinkHtml;\n",
              "        element.appendChild(docLink);\n",
              "      }\n",
              "    </script>\n",
              "  </div>\n",
              "\n",
              "\n",
              "<div id=\"df-2f3722e2-b9d6-44e3-afb4-f3087dff802b\">\n",
              "  <button class=\"colab-df-quickchart\" onclick=\"quickchart('df-2f3722e2-b9d6-44e3-afb4-f3087dff802b')\"\n",
              "            title=\"Suggest charts.\"\n",
              "            style=\"display:none;\">\n",
              "\n",
              "<svg xmlns=\"http://www.w3.org/2000/svg\" height=\"24px\"viewBox=\"0 0 24 24\"\n",
              "     width=\"24px\">\n",
              "    <g>\n",
              "        <path d=\"M19 3H5c-1.1 0-2 .9-2 2v14c0 1.1.9 2 2 2h14c1.1 0 2-.9 2-2V5c0-1.1-.9-2-2-2zM9 17H7v-7h2v7zm4 0h-2V7h2v10zm4 0h-2v-4h2v4z\"/>\n",
              "    </g>\n",
              "</svg>\n",
              "  </button>\n",
              "\n",
              "<style>\n",
              "  .colab-df-quickchart {\n",
              "      --bg-color: #E8F0FE;\n",
              "      --fill-color: #1967D2;\n",
              "      --hover-bg-color: #E2EBFA;\n",
              "      --hover-fill-color: #174EA6;\n",
              "      --disabled-fill-color: #AAA;\n",
              "      --disabled-bg-color: #DDD;\n",
              "  }\n",
              "\n",
              "  [theme=dark] .colab-df-quickchart {\n",
              "      --bg-color: #3B4455;\n",
              "      --fill-color: #D2E3FC;\n",
              "      --hover-bg-color: #434B5C;\n",
              "      --hover-fill-color: #FFFFFF;\n",
              "      --disabled-bg-color: #3B4455;\n",
              "      --disabled-fill-color: #666;\n",
              "  }\n",
              "\n",
              "  .colab-df-quickchart {\n",
              "    background-color: var(--bg-color);\n",
              "    border: none;\n",
              "    border-radius: 50%;\n",
              "    cursor: pointer;\n",
              "    display: none;\n",
              "    fill: var(--fill-color);\n",
              "    height: 32px;\n",
              "    padding: 0;\n",
              "    width: 32px;\n",
              "  }\n",
              "\n",
              "  .colab-df-quickchart:hover {\n",
              "    background-color: var(--hover-bg-color);\n",
              "    box-shadow: 0 1px 2px rgba(60, 64, 67, 0.3), 0 1px 3px 1px rgba(60, 64, 67, 0.15);\n",
              "    fill: var(--button-hover-fill-color);\n",
              "  }\n",
              "\n",
              "  .colab-df-quickchart-complete:disabled,\n",
              "  .colab-df-quickchart-complete:disabled:hover {\n",
              "    background-color: var(--disabled-bg-color);\n",
              "    fill: var(--disabled-fill-color);\n",
              "    box-shadow: none;\n",
              "  }\n",
              "\n",
              "  .colab-df-spinner {\n",
              "    border: 2px solid var(--fill-color);\n",
              "    border-color: transparent;\n",
              "    border-bottom-color: var(--fill-color);\n",
              "    animation:\n",
              "      spin 1s steps(1) infinite;\n",
              "  }\n",
              "\n",
              "  @keyframes spin {\n",
              "    0% {\n",
              "      border-color: transparent;\n",
              "      border-bottom-color: var(--fill-color);\n",
              "      border-left-color: var(--fill-color);\n",
              "    }\n",
              "    20% {\n",
              "      border-color: transparent;\n",
              "      border-left-color: var(--fill-color);\n",
              "      border-top-color: var(--fill-color);\n",
              "    }\n",
              "    30% {\n",
              "      border-color: transparent;\n",
              "      border-left-color: var(--fill-color);\n",
              "      border-top-color: var(--fill-color);\n",
              "      border-right-color: var(--fill-color);\n",
              "    }\n",
              "    40% {\n",
              "      border-color: transparent;\n",
              "      border-right-color: var(--fill-color);\n",
              "      border-top-color: var(--fill-color);\n",
              "    }\n",
              "    60% {\n",
              "      border-color: transparent;\n",
              "      border-right-color: var(--fill-color);\n",
              "    }\n",
              "    80% {\n",
              "      border-color: transparent;\n",
              "      border-right-color: var(--fill-color);\n",
              "      border-bottom-color: var(--fill-color);\n",
              "    }\n",
              "    90% {\n",
              "      border-color: transparent;\n",
              "      border-bottom-color: var(--fill-color);\n",
              "    }\n",
              "  }\n",
              "</style>\n",
              "\n",
              "  <script>\n",
              "    async function quickchart(key) {\n",
              "      const quickchartButtonEl =\n",
              "        document.querySelector('#' + key + ' button');\n",
              "      quickchartButtonEl.disabled = true;  // To prevent multiple clicks.\n",
              "      quickchartButtonEl.classList.add('colab-df-spinner');\n",
              "      try {\n",
              "        const charts = await google.colab.kernel.invokeFunction(\n",
              "            'suggestCharts', [key], {});\n",
              "      } catch (error) {\n",
              "        console.error('Error during call to suggestCharts:', error);\n",
              "      }\n",
              "      quickchartButtonEl.classList.remove('colab-df-spinner');\n",
              "      quickchartButtonEl.classList.add('colab-df-quickchart-complete');\n",
              "    }\n",
              "    (() => {\n",
              "      let quickchartButtonEl =\n",
              "        document.querySelector('#df-2f3722e2-b9d6-44e3-afb4-f3087dff802b button');\n",
              "      quickchartButtonEl.style.display =\n",
              "        google.colab.kernel.accessAllowed ? 'block' : 'none';\n",
              "    })();\n",
              "  </script>\n",
              "</div>\n",
              "    </div>\n",
              "  </div>\n"
            ]
          },
          "metadata": {},
          "execution_count": 19
        }
      ]
    },
    {
      "cell_type": "code",
      "source": [
        "lda_model = LdaModel(corpus=corpus_list, id2word=dictionary, num_topics=3)"
      ],
      "metadata": {
        "colab": {
          "base_uri": "https://localhost:8080/"
        },
        "id": "_s3-YQN51Npq",
        "outputId": "e6d24468-c5fd-4bc7-9c25-8e0e1f66a0d5"
      },
      "execution_count": 20,
      "outputs": [
        {
          "output_type": "stream",
          "name": "stderr",
          "text": [
            "WARNING:gensim.models.ldamodel:too few updates, training might not converge; consider increasing the number of passes or iterations to improve accuracy\n"
          ]
        }
      ]
    },
    {
      "cell_type": "code",
      "source": [
        "lda_model.print_topics(num_words=4)"
      ],
      "metadata": {
        "colab": {
          "base_uri": "https://localhost:8080/"
        },
        "id": "Z_wes8bF1VPh",
        "outputId": "61958f30-22ba-41e3-d3f8-888ddfadfd2b"
      },
      "execution_count": 21,
      "outputs": [
        {
          "output_type": "execute_result",
          "data": {
            "text/plain": [
              "[(0, '0.024*\"뱃살\" + 0.021*\"감사\" + 0.021*\"도움\" + 0.019*\"광고\"'),\n",
              " (1, '0.014*\"추천\" + 0.013*\"운동 최고\" + 0.010*\"nan\" + 0.010*\"강추\"'),\n",
              " (2, '0.623*\"nan\" + 0.111*\"운동\" + 0.036*\"최고\" + 0.006*\"운동 운동\"')]"
            ]
          },
          "metadata": {},
          "execution_count": 21
        }
      ]
    },
    {
      "cell_type": "markdown",
      "source": [
        "#### LDA 시각화"
      ],
      "metadata": {
        "id": "TTyT9GOF56D3"
      }
    },
    {
      "cell_type": "code",
      "source": [
        "%pip install pyLDAvis"
      ],
      "metadata": {
        "id": "Q6dUTIFu1WP6"
      },
      "execution_count": null,
      "outputs": []
    },
    {
      "cell_type": "code",
      "source": [
        "import pyLDAvis.gensim_models"
      ],
      "metadata": {
        "id": "5hBXsAN-6C93"
      },
      "execution_count": 37,
      "outputs": []
    },
    {
      "cell_type": "code",
      "source": [
        "pyLDAvis.enable_notebook() # 일반적인 python에선 불필요\n",
        "result_visualized = pyLDAvis.gensim_models.prepare(lda_model, corpus_list, dictionary)"
      ],
      "metadata": {
        "id": "LKk_P7s_6j7W"
      },
      "execution_count": 38,
      "outputs": []
    },
    {
      "cell_type": "code",
      "source": [
        "pyLDAvis.display(result_visualized)"
      ],
      "metadata": {
        "id": "k3L4BNyN60FX",
        "outputId": "2304c109-dc64-4dea-bd77-11fabeb82527",
        "colab": {
          "base_uri": "https://localhost:8080/",
          "height": 880
        }
      },
      "execution_count": 40,
      "outputs": [
        {
          "output_type": "execute_result",
          "data": {
            "text/plain": [
              "<IPython.core.display.HTML object>"
            ],
            "text/html": [
              "\n",
              "<link rel=\"stylesheet\" type=\"text/css\" href=\"https://cdn.jsdelivr.net/gh/bmabey/pyLDAvis@3.4.0/pyLDAvis/js/ldavis.v1.0.0.css\">\n",
              "\n",
              "\n",
              "<div id=\"ldavis_el238421342931210177609212213004\" style=\"background-color:white;\"></div>\n",
              "<script type=\"text/javascript\">\n",
              "\n",
              "var ldavis_el238421342931210177609212213004_data = {\"mdsDat\": {\"x\": [-0.06215901934845555, 0.035296851605638425, 0.026862167742817092], \"y\": [-0.004031132010110641, -0.04254530017935306, 0.04657643218946375], \"topics\": [1, 2, 3], \"cluster\": [1, 1, 1], \"Freq\": [35.27258489765275, 33.556694617350324, 31.170720484996927]}, \"tinfo\": {\"Term\": [\"\\ud658\\ubd88\", \"\\ub85c\\uadf8\\uc778\", \"\\uc6b4\\ub3d9\", \"\\ubd88\\ud3b8\", \"\\uad11\\uace0\", \"\\uacb0\\uc81c \\ucde8\\uc18c\", \"\\uad11\\uace0 \\uc9dc\\uc99d\", \"\\ub9ac\\ubdf0\", \"\\uc704\\uc82f\", \"\\ucd5c\\uc545\", \"\\uc758\\uacac\", \"\\uacb0\\uc81c \\ud658\\ubd88\", \"\\ucde8\\uc18c\", \"\\ub3d9\\uc601\\uc0c1\", \"\\uc790\\ub3d9 \\uacb0\\uc81c \\ucde8\\uc18c\", \"\\uacb0\\uc81c\", \"\\ubb34\\ub8cc \\uacb0\\uc81c \\ucde8\\uc18c\", \"\\uc790\\ub3d9 \\uacb0\\uc81c \\ud658\\ubd88\", \"\\uc790\\uc804\\uac70 \\uc778\\uc2dd \\uac78\\uc74c\", \"\\ud3ec\\ucf13\\ubaac \\uc5f0\\ub3d9\", \"\\ub85c\\uadf8\\uc778 \\uac78\\uc694\", \"\\uc720\\ub8cc\", \"\\uccb4\\ud5d8 \\uacb0\\uc815 \\uacb0\\uc81c \\ud658\\ubd88\", \"\\uc8fc\\ub9d0 \\uc6b4\\ub3d9\\ub7c9 \\uba39\\ud1b5 \\ub85c\\uadf8\\uc778 \\ubb38\\uc81c \\ubc29\\ubc95 \\uad6c\\uae00 \\uc2dc\\uc2a4\\ud15c \\uacf5\\ubd80 \\uacf5\\ubd80 \\uad6c\\uae00\", \"\\ubb34\\ub8cc \\uccb4\\ud5d8 \\uacb0\\uc81c \\ucde8\\uc18c\", \"\\ubb34\\ub8cc \\uad6c\\ub9e4 \\uc758\\uc0ac \\uc0ad\\uc81c \\uad6c\\ub3c5 \\ucde8\\uc18c \\uacb0\\uc81c \\ucde8\\uc18c \\ubd80\\ud0c1\", \"\\ud658\\ubd88 \\uc694\\uccad\", \"\\uc6b4\\ub3d9 \\uc2dc\\uc791\", \"\\uac78\\uc74c \\uc778\\uc2dd \\uac78\\uc74c \\uc778\\uc2dd\", \"\\ubb34\\ub8cc \\uc0ad\\uc81c \\uacb0\\uc81c \\ud655\\uc778 \\ucde8\\uc18c\", \"\\ud658\\ubd88\", \"\\uc6b4\\ub3d9\", \"\\ub85c\\uadf8\\uc778\", \"\\ubd88\\ud3b8\", \"\\uacb0\\uc81c \\ucde8\\uc18c\", \"\\uacb0\\uc81c\", \"\\uc790\\uc804\\uac70 \\uc778\\uc2dd \\uac78\\uc74c\", \"\\uacb0\\uc81c \\ud658\\ubd88\", \"\\uc720\\ub8cc\", \"\\uc720\\ub8cc \\uc720\\ub8cc\", \"\\ud658\\ubd88 \\uc694\\uccad\", \"\\uac78\\uc74c\", \"\\uc2e4\\ud589 \\uacb0\\uc81c \\ud658\\ubd88\", \"\\uc124\\uce58 \\ub313\\uae00 \\uc790\\ub3d9 \\uacb0\\uc81c \\uc790\\ub3d9 \\uacb0\\uc81c \\ucde8\\uc18c\", \"\\uc6b4\\ub3d9 \\uc2dc\\uc791 \\ub3d9\\uc791\", \"\\uacb0\\uc81c \\ud504\\ub85c\\uadf8\\ub7a8 \\ud658\\ubd88 \\uc694\\uccad \\ud658\\ubd88 \\uad6c\\uae00 \\uc815\\ucc45 \\ud658\\ubd88 \\uc694\\uccad \\ud658\\ubd88 \\ucde8\\uc18c \\ubc84\\ub9ac \\ud658\\ubd88\", \"\\ub300\\uc911\\uad50\\ud1b5 \\uc5d0\\uc2a4 \\ub808\\uc774\\ud2b8 \\uc790\\uc804\\uac70 \\uae30\\ub85d \\uac00\\ub2a5 \\uc6b4\\ub3d9 \\uc120\\ud0dd \\uae30\\ub85d \\uc624\\ub958\", \"\\uc724\\uc601\", \"\\ubbf8\\ub514\\uc5b4 \\ud30c\\uc77c \\uc811\\uadfc \\ud544\\uc694 \\ud544\\uc694\", \"\\ucde8\\uc18c \\ud658\\ubd88 \\ucde8\\uc18c\", \"\\ubc84\\ud37c\\ub9c1\", \"\\uc6b4\\ub3d9 \\uc6b4\\ub3d9 \\ub3d9\\uc601\\uc0c1 \\uc6b4\\ub3d9\", \"\\uad6c\\uae00 \\uc5f0\\ub77d \\ud658\\ubd88 \\uc694\\uccad \\uc720\\ud29c\\ube0c \\uc774\\ub4dd\", \"\\uc81c\\ud55c\", \"\\ubd88\\ud3b8 \\ub2e8\\uc21c\", \"\\uc2ec\\ubc15\\uc218 \\uc218\\uba74 \\ub370\\uc774\\ud130 \\ud5ec\\uc2a4 \\uc5f0\\uacb0 \\ud65c\\ub3d9 \\uac78\\uc74c \\uad6c\\uae00 \\uce6d\\ucc2c \\uc120\\ud638 \\uad6c\\uae00 \\uae30\\ubcf8 \\ubca0\\uc774\\uc2a4 \\uad6c\\uae00 \\ud53c\\ud2b8\", \"\\ud65c\\ub3d9 \\ucd94\\uc801 \\uc6e8\\uc5b4 \\uc2f1\\ud06c \\uac15\\uc81c \\ucd94\\uc801\", \"\\ubb34\\ub8cc \\uccb4\\ud5d8 \\uc2dc\\uc791 \\uacb0\\uc81c \\ucde8\\uc18c\", \"\\uc124\\uce58\", \"\\uc870\\ub77c\", \"\\uc6b4\\ub3d9 \\uac81\\ub2c8\\ub2e4\", \"\\uad11\\uace0 \\uc9dc\\uc99d\", \"\\uc704\\uc82f\", \"\\ucd5c\\uc545\", \"\\uc758\\uacac\", \"\\ucde8\\uc18c\", \"\\uc790\\ub3d9 \\uacb0\\uc81c \\ucde8\\uc18c\", \"\\ubb34\\ub8cc \\uacb0\\uc81c \\ucde8\\uc18c\", \"\\uc790\\ub3d9 \\uacb0\\uc81c \\ud658\\ubd88\", \"\\uc6b4\\ub3d9 \\ub9ac\\ubdf0 \\ucd9c\\ucc3d\", \"\\ud3ec\\ucf13\\ubaac \\uc5f0\\ub3d9\", \"\\uad6c\\ub9e4 \\uacb0\\uc81c \\uae30\\uc874 \\uad6c\\ub9e4\\uc790 \\ud310\\ub9e4 \\ud558\\ub85c\", \"\\uacc4\\uc815 \\uc815\\ubcf4 \\ub2e4\\uc6b4\\ub85c\\ub4dc\", \"\\uacc4\\uc815 \\uc815\\ubcf4 \\ub2e4\\uc6b4\\ub85c\\ub4dc \\ud655\\uc778\", \"\\uc601\\uc0c1 \\ud654\\uba74 \\uc808\\ubc18\", \"\\uc6b4\\ub3d9 \\uc6b4\\ub3d9 \\uc6b4\\ub3d9 \\uc774\\uc6b4\\ub3d9 \\uc6b4\\ub3d9 \\ub3c4\\uc6c0\", \"\\uccb4\\uc5b4 \\ucffc\\ud2b8 \\ub7f0\\uc9c0 \\ud654\\uc0b4\\ud45c \\uc6b4\\ub3d9 \\uc124\\uba85\", \"\\uc6cc\\uce58 \\uc5f0\\ub3d9 \\uc6b4\\ub3d9 \\uac78\\uc74c \\ud53c\\ud2b8 \\uc911\\uc9c0 \\uc6cc\\uce58\", \"\\uc18c\\ub9ac \\uad11\\uace0\", \"\\ub85c\\uadf8\\uc778 \\uacc4\\uc815 \\uc778\\uc99d\", \"\\ubc18\\uc751 \\ub85c\\ub529 \\ud0c8\\ud1f4\", \"\\uacc4\\uc815 \\uc815\\ubcf4 \\ub2e4\\uc6b4\\ub85c\\ub4dc \\uc624\\ub958\", \"\\uc5c9\\ud130\\ub9ac \\uae30\\ub85d \\ubcc0\\uacbd \\uae30\\ub85d \\uc5c9\\ud130\\ub9ac \\uae30\\ub85d \\uc6cc\\uce58 \\ud544\\uc218 \\uac00\\ub2a5 \\ucd5c\\uc545\", \"\\uae30\\uae30 \\uc5f0\\uacb0 \\uacc4\\ud68d \\uac1c\\uc778 \\ud3c9\\uac00 \\uc5f0\\ub3d9 \\ud65c\\uc6a9\", \"\\uc6b4\\ub3d9 \\uacc4\\ud68d\", \"\\uc124\\uba85 \\uc720\\ub85c \\ub2e4\\uc6b4\\ub85c\\ub4dc \\uc0ac\\uc774\\ud2b8 \\ud6c4\\uae30 \\uc0ad\\uc81c \\uc790\\ub3d9 \\uc720\\ub85c \\uc2e0\\uccad \\ucde8\\uc18c \\ubd80\\ud0c1 \\ucde8\\uc18c \\ud655\\uc778\", \"\\uc138\\ub300 \\uc6cc\\uce58 \\uc5f0\\ub3d9 \\uc2ec\\ubc15\\uc218 \\uadf8\\ub798\\ud504 \\uadf8\\ub798\\ud504 \\uc815\\uc0c1 \\ubb38\\uc81c \\ud310\\ub3c5 \\ucf00\\uc5b4 \\ub2e5\\ud130 \\uc5f0\\ub3d9\", \"\\ubabd\\uc7a5 \\ucd94\\ucc9c\", \"\\uc2dc\\uc815\\uc9c0\", \"\\uac1c\\ubcc4\", \"\\uc810\\uac80 \\uc810\\uac80\", \"\\uc218\\uc815 \\ubd80\\ud0c1\", \"\\ub85c\\uadf8\\uc778\", \"\\uad11\\uace0\", \"\\ub9ac\\ubdf0\", \"\\uccb4\\ud5d8 \\uacb0\\uc815 \\uacb0\\uc81c \\ud658\\ubd88\", \"\\ub85c\\uadf8\\uc778 \\uac78\\uc694\", \"\\uc8fc\\ub9d0 \\uc6b4\\ub3d9\\ub7c9 \\uba39\\ud1b5 \\ub85c\\uadf8\\uc778 \\ubb38\\uc81c \\ubc29\\ubc95 \\uad6c\\uae00 \\uc2dc\\uc2a4\\ud15c \\uacf5\\ubd80 \\uacf5\\ubd80 \\uad6c\\uae00\", \"\\ubb34\\ub8cc \\uccb4\\ud5d8 \\uacb0\\uc81c \\ucde8\\uc18c\", \"\\ub3d9\\uc601\\uc0c1\", \"\\ubb34\\ub8cc \\uad6c\\ub9e4 \\uc758\\uc0ac \\uc0ad\\uc81c \\uad6c\\ub3c5 \\ucde8\\uc18c \\uacb0\\uc81c \\ucde8\\uc18c \\ubd80\\ud0c1\", \"\\uac78\\uc74c \\uc778\\uc2dd \\uac78\\uc74c \\uc778\\uc2dd\", \"\\uc6b4\\ub3d9 \\uc2dc\\uc791\", \"\\ubb34\\ub8cc \\uc0ad\\uc81c \\uacb0\\uc81c \\ud655\\uc778 \\ucde8\\uc18c\", \"\\uacb0\\uc81c \\ud658\\ubd88 \\uc694\\uccad \\ud658\\ubd88 \\ud658\\ubd88\", \"\\uacb0\\uc81c \\ud504\\ub9ac\\ubbf8\\uc5c4 \\uacb0\\uc81c \\ucde8\\uc18c\", \"\\uc2dc\\ub9ac\\uc6b0\\uc2a4 \\ub3d9\\uc601\\uc0c1 \\uc7ac\\uc0dd\", \"\\uc0ad\\uc81c \\uc790\\ub3d9 \\uacb0\\uc81c \\uad6c\\ub3c5 \\ucde8\\uc18c \\ucd9c\\uae08 \\ud658\\ubd88\", \"\\uad11\\uace0 \\uc6b4\\ub3d9\", \"\\uc784\\uac15\\ud601\", \"\\ud0c8\\ud1f4\", \"\\uad11\\uace0 \\ub3d9\\uc601\\uc0c1 \\ubc84\\uadf8 \\ud130\\uce58 \\ubd88\\uac00 \\ubc84\\uadf8 \\uc870\\uae30 \\uad11\\uace0\", \"\\ubb34\\ub8cc \\uccb4\\ud5d8 \\uad6c\\ub3c5 \\uad6c\\ub3c5 \\ucde8\\uc18c \\uad6c\\ub3c5 \\uccad\\uad6c \\ud658\\ubd88 \\uc694\\uccad\", \"\\ubc88\\uc5ed\", \"\\uc9c1\\uad00 \\ucd5c\\uc545\", \"\\u6b65\\u6578 \\u91cd\\u65b0\", \"\\uc124\\uba85 \\uad6c\\uae00 \\ubc88\\uc5ed\\uae30 \\uc124\\uba85\", \"\\uacb0\\uc81c \\ucde8\\uc18c \\ubd80\\ud0c1\", \"\\ub85c\\ub529 \\ud654\\uba74\", \"\\ucde8\\uc18c \\ucde8\\uc18c \\ubd80\\ud0c1\", \"\\uae30\\ub85d \\ub204\\ub77d \\uae30\\ub85d \\ud1b5\\uc9f8 \\ub3d9\\uae30 \\ub0b4\\uc6a9 \\uae30\\ub85d \\ub2f9\\uc2dc \\ud2b9\\uc774 \\uae30\\ub85d \\ub204\\ub77d \\uc6d0\\uc778 \\ud589\\ub3d9 \\uae30\\uc5b5 \\ud68c\\uc2e0 \\ubd80\\ud0c1\", \"\\ubc14\\ubcf4 \\uc778\\uc2dd\", \"\\ub85c\\uadf8\\uc778 \\uc0ac\\uc6a9\\uc790 \\uc9c8\\uc758\", \"\\uc218\\uc815 \\ubd80\\ud0c1\"], \"Freq\": [4.0, 4.0, 3.0, 2.0, 1.0, 2.0, 1.0, 1.0, 1.0, 1.0, 1.0, 2.0, 1.0, 1.0, 1.0, 1.0, 1.0, 1.0, 1.0, 1.0, 1.0, 1.0, 1.0, 1.0, 1.0, 1.0, 1.0, 1.0, 1.0, 1.0, 3.46593324595646, 2.891542405235611, 3.2233938514646283, 1.5725470056072506, 1.5043778179781577, 1.1003447046089094, 1.0773921215393882, 1.4197180465330348, 1.0326577828731303, 0.6833208734115912, 1.0196020506469987, 1.0049315289920886, 0.6638574153149658, 0.6608723224193501, 0.6603337940661754, 0.6589141046623492, 0.6575551673490194, 0.6533388358747282, 0.651762123060199, 0.651454441284757, 0.6500586208032961, 0.6487219611508406, 0.6457356179783391, 0.645499542969993, 0.6445719511822643, 0.643788823205613, 0.6424562553684201, 0.6416266966546916, 0.6413764139544614, 0.6408130505558733, 0.6448138229288991, 1.1188054570818526, 1.084149922804714, 1.0781349559734044, 1.0746357950295797, 1.0640320181558387, 1.0535130169984126, 1.0412922298417928, 1.0272770954446964, 0.6663782205077831, 0.9917358495701886, 0.6589486670427555, 0.6580231086960723, 0.65525238093204, 0.6547522690851553, 0.6534039675459542, 0.6519642401545279, 0.650218498378954, 0.6466193150657525, 0.6464759857137427, 0.646020965032296, 0.6455457236123915, 0.6441518983785874, 0.6432977614102541, 0.6430638712643488, 0.6430464078993171, 0.6423394389793318, 0.6409845413703663, 0.6384756018833735, 0.635769212832616, 0.6355428378809505, 0.6495272086411953, 0.6433925393635069, 1.1025981477950735, 1.0030107463431115, 0.6552368965725337, 0.6549407380719768, 0.6496677909041005, 0.6489562471299969, 0.9705416901260494, 0.6453449415000931, 0.6447595048982633, 0.6444906168853785, 0.6436511077289755, 0.6429448874754855, 0.6422457987307422, 0.642003277211463, 0.6326841028239218, 0.6326583389930271, 0.6322373288675112, 0.6320618033529366, 0.6320620544623995, 0.6302708906634575, 0.6290679256704377, 0.6271009350255657, 0.6270188724530865, 0.625788687194287, 0.6242198054919137, 0.6227819024853946, 0.6226678485673406, 0.619714901727296, 0.6185595470884441, 0.6183673479055322, 0.6602813843510538], \"Total\": [4.0, 4.0, 3.0, 2.0, 1.0, 2.0, 1.0, 1.0, 1.0, 1.0, 1.0, 2.0, 1.0, 1.0, 1.0, 1.0, 1.0, 1.0, 1.0, 1.0, 1.0, 1.0, 1.0, 1.0, 1.0, 1.0, 1.0, 1.0, 1.0, 1.0, 4.286098931341986, 3.746455167359616, 4.283666418563906, 2.139759984937544, 2.139580460344612, 1.6042663399668575, 1.6042037007215155, 2.138499196833247, 1.6035937023691584, 1.0686974341113957, 1.602824340896405, 1.603056356988081, 1.068588041495875, 1.0685534006475532, 1.0684535089745744, 1.0681633813776417, 1.0684289681748282, 1.0683662689054998, 1.068193300651974, 1.068340003789033, 1.0682076311000173, 1.0683598872416489, 1.0681156767248199, 1.0681634004716218, 1.0682609832686514, 1.0680999629043166, 1.0682583243403179, 1.0683040898145604, 1.068143902678039, 1.0681734361441966, 1.6004582583496505, 1.600738772291512, 1.5999833096681448, 1.6000862076682136, 1.5997347260499195, 1.6001887270728368, 1.6003162075559811, 1.6002404856704096, 1.5991020740312607, 1.0665552297514558, 1.5990749456846625, 1.066541750061181, 1.0663359007257431, 1.0662716094876137, 1.0666282564397411, 1.0662186473913526, 1.0663070428045371, 1.066276353199472, 1.0664395341251514, 1.0664116618102166, 1.0666116621950426, 1.0663341731388802, 1.0661495901779166, 1.0663168292029057, 1.0659912584979194, 1.0660330225037615, 1.0665162986672976, 1.0662476729354982, 1.0663930111894837, 1.066310808505742, 1.066192625418439, 1.5924758798722938, 4.283666418563906, 1.5836655522014356, 1.5857037237142602, 1.0575497809741359, 1.0575132988714264, 1.0576409360687828, 1.057651290303748, 1.586405657640905, 1.0577571442759721, 1.057780254858025, 1.0577566560447118, 1.0577744253114734, 1.0577939892302317, 1.057811691696807, 1.0578556240912607, 1.057997691816342, 1.0580130013360136, 1.058009580852103, 1.0580081657204348, 1.05804037263455, 1.0580152741793198, 1.0581294345430683, 1.058174718864953, 1.0581843979749943, 1.0581689993044716, 1.0582139964729749, 1.0581779392613941, 1.0582465124901705, 1.0583269677649734, 1.0582730033164722, 1.05835578664824, 1.5924758798722938], \"Category\": [\"Default\", \"Default\", \"Default\", \"Default\", \"Default\", \"Default\", \"Default\", \"Default\", \"Default\", \"Default\", \"Default\", \"Default\", \"Default\", \"Default\", \"Default\", \"Default\", \"Default\", \"Default\", \"Default\", \"Default\", \"Default\", \"Default\", \"Default\", \"Default\", \"Default\", \"Default\", \"Default\", \"Default\", \"Default\", \"Default\", \"Topic1\", \"Topic1\", \"Topic1\", \"Topic1\", \"Topic1\", \"Topic1\", \"Topic1\", \"Topic1\", \"Topic1\", \"Topic1\", \"Topic1\", \"Topic1\", \"Topic1\", \"Topic1\", \"Topic1\", \"Topic1\", \"Topic1\", \"Topic1\", \"Topic1\", \"Topic1\", \"Topic1\", \"Topic1\", \"Topic1\", \"Topic1\", \"Topic1\", \"Topic1\", \"Topic1\", \"Topic1\", \"Topic1\", \"Topic1\", \"Topic1\", \"Topic2\", \"Topic2\", \"Topic2\", \"Topic2\", \"Topic2\", \"Topic2\", \"Topic2\", \"Topic2\", \"Topic2\", \"Topic2\", \"Topic2\", \"Topic2\", \"Topic2\", \"Topic2\", \"Topic2\", \"Topic2\", \"Topic2\", \"Topic2\", \"Topic2\", \"Topic2\", \"Topic2\", \"Topic2\", \"Topic2\", \"Topic2\", \"Topic2\", \"Topic2\", \"Topic2\", \"Topic2\", \"Topic2\", \"Topic2\", \"Topic2\", \"Topic2\", \"Topic3\", \"Topic3\", \"Topic3\", \"Topic3\", \"Topic3\", \"Topic3\", \"Topic3\", \"Topic3\", \"Topic3\", \"Topic3\", \"Topic3\", \"Topic3\", \"Topic3\", \"Topic3\", \"Topic3\", \"Topic3\", \"Topic3\", \"Topic3\", \"Topic3\", \"Topic3\", \"Topic3\", \"Topic3\", \"Topic3\", \"Topic3\", \"Topic3\", \"Topic3\", \"Topic3\", \"Topic3\", \"Topic3\", \"Topic3\", \"Topic3\"], \"logprob\": [30.0, 29.0, 28.0, 27.0, 26.0, 25.0, 24.0, 23.0, 22.0, 21.0, 20.0, 19.0, 18.0, 17.0, 16.0, 15.0, 14.0, 13.0, 12.0, 11.0, 10.0, 9.0, 8.0, 7.0, 6.0, 5.0, 4.0, 3.0, 2.0, 1.0, -3.5614, -3.7426, -3.6339, -4.3517, -4.396, -4.7088, -4.7298, -4.4539, -4.7722, -5.1852, -4.785, -4.7995, -5.2141, -5.2186, -5.2194, -5.2215, -5.2236, -5.23, -5.2325, -5.2329, -5.2351, -5.2371, -5.2417, -5.2421, -5.2435, -5.2448, -5.2468, -5.2481, -5.2485, -5.2494, -5.2432, -4.6422, -4.6737, -4.6793, -4.6825, -4.6924, -4.7024, -4.714, -4.7276, -5.1604, -4.7628, -5.1716, -5.173, -5.1772, -5.178, -5.1801, -5.1823, -5.185, -5.1905, -5.1907, -5.1914, -5.1922, -5.1943, -5.1957, -5.196, -5.196, -5.1971, -5.1993, -5.2032, -5.2074, -5.2078, -5.186, -5.1955, -4.5831, -4.6777, -5.1035, -5.104, -5.112, -5.1131, -4.7106, -5.1187, -5.1196, -5.12, -5.1213, -5.1224, -5.1235, -5.1239, -5.1385, -5.1386, -5.1392, -5.1395, -5.1395, -5.1424, -5.1443, -5.1474, -5.1475, -5.1495, -5.152, -5.1543, -5.1545, -5.1592, -5.1611, -5.1614, -5.0958], \"loglift\": [30.0, 29.0, 28.0, 27.0, 26.0, 25.0, 24.0, 23.0, 22.0, 21.0, 20.0, 19.0, 18.0, 17.0, 16.0, 15.0, 14.0, 13.0, 12.0, 11.0, 10.0, 9.0, 8.0, 7.0, 6.0, 5.0, 4.0, 3.0, 2.0, 1.0, 0.8297, 0.783, 0.7577, 0.7341, 0.6898, 0.665, 0.644, 0.6324, 0.602, 0.5948, 0.5897, 0.5751, 0.566, 0.5616, 0.5608, 0.559, 0.5566, 0.5503, 0.548, 0.5474, 0.5454, 0.5432, 0.5388, 0.5384, 0.5369, 0.5358, 0.5336, 0.5322, 0.532, 0.5311, 0.133, 0.7337, 0.7027, 0.6971, 0.6941, 0.6839, 0.6739, 0.6622, 0.6494, 0.6216, 0.6142, 0.6104, 0.6092, 0.605, 0.6039, 0.6023, 0.6, 0.5973, 0.5916, 0.5914, 0.5905, 0.59, 0.5881, 0.5866, 0.5865, 0.5865, 0.5849, 0.583, 0.579, 0.5748, 0.5746, 0.1951, -0.8039, 0.8036, 0.7077, 0.687, 0.6866, 0.6784, 0.6773, 0.6743, 0.6716, 0.6706, 0.6702, 0.6689, 0.6678, 0.6667, 0.6663, 0.6515, 0.6515, 0.6508, 0.6505, 0.6505, 0.6477, 0.6457, 0.6425, 0.6424, 0.6404, 0.6379, 0.6356, 0.6353, 0.6305, 0.6287, 0.6283, 0.2853]}, \"token.table\": {\"Topic\": [3, 2, 1, 3, 1, 1, 3, 1, 3, 1, 3, 2, 2, 2, 3, 3, 3, 2, 1, 2, 2, 3, 1, 3, 1, 2, 3, 2, 3, 3, 3, 2, 2, 3, 3, 3, 3, 1, 1, 3, 2, 1, 3, 1, 1, 3, 3, 2, 1, 1, 2, 2, 2, 3, 3, 2, 1, 1, 2, 2, 1, 1, 2, 2, 2, 3, 1, 1, 2, 2, 2, 1, 1, 1, 2, 3, 2, 2, 1, 2, 1, 1, 3, 3, 2, 3, 2, 2, 3, 1, 3, 2, 1, 1, 1], \"Freq\": [0.9450148782326223, 0.9378128703406227, 0.6238083867986154, 0.9453759374003627, 0.6233378928966739, 0.9347626962707772, 0.9449884459409893, 0.9361863713304519, 0.9453478420113954, 0.4676176645195049, 0.9453636626614895, 0.9377908024285826, 0.937792321760056, 0.9378473468692842, 0.6314464557304484, 0.9451435180209354, 0.9451679693323642, 0.6247115502603001, 0.9362281836985259, 0.9376098028442263, 0.9378075752096316, 0.9448875729887606, 0.9359536569925432, 0.6303557953058925, 0.7003346448731519, 0.23344488162438398, 0.9456145857146152, 0.9377241789559166, 0.9448618438294273, 0.9450206462421602, 0.6306348311131276, 0.9378684009193559, 0.6249060744023465, 0.9453965926030152, 0.9453811475027286, 0.9454912116760231, 0.945165938909227, 0.936063064378592, 0.9361601494688724, 0.9449357555811656, 0.9375483462669455, 0.9361475904925164, 0.9450639660466772, 0.934684270235279, 0.9361008364643373, 0.945181646174697, 0.9450286302634969, 0.9380572448415607, 0.9362034436491288, 0.935844665689137, 0.9376321780075791, 0.9376996707275536, 0.6279529961108067, 0.6279529961108067, 0.9453085820279484, 0.9377405792303279, 0.9358143280362174, 0.9362419574295807, 0.9379546821690588, 0.9375337602041998, 0.8007569464962544, 0.6248210440871935, 0.6248210440871935, 0.9380939965765692, 0.9375979528345987, 0.9453970289719733, 0.9359321595187879, 0.9360141764418503, 0.9378939323999206, 0.937843174519811, 0.6250065197288912, 0.623599355948202, 0.9357185374282138, 0.9360085853557147, 0.6251036398198404, 0.9451710250058576, 0.6248765058295634, 0.6253509492855871, 0.6233622323338579, 0.93791682305769, 0.9361863545956303, 0.9361775589643163, 0.9455004679725878, 0.9450235222711104, 0.9378161822600924, 0.9455819650200057, 0.6249663269439013, 0.6249262871819259, 0.9449594099269838, 0.9360315971070496, 0.9451722892129713, 0.6253615583801411, 0.6999371801855946, 0.6238986858913897, 0.936103166448556], \"Term\": [\"\\u6b65\\u6578 \\u91cd\\u65b0\", \"\\uac1c\\ubcc4\", \"\\uac78\\uc74c\", \"\\uac78\\uc74c \\uc778\\uc2dd \\uac78\\uc74c \\uc778\\uc2dd\", \"\\uacb0\\uc81c\", \"\\uacb0\\uc81c \\ucde8\\uc18c\", \"\\uacb0\\uc81c \\ucde8\\uc18c \\ubd80\\ud0c1\", \"\\uacb0\\uc81c \\ud504\\ub85c\\uadf8\\ub7a8 \\ud658\\ubd88 \\uc694\\uccad \\ud658\\ubd88 \\uad6c\\uae00 \\uc815\\ucc45 \\ud658\\ubd88 \\uc694\\uccad \\ud658\\ubd88 \\ucde8\\uc18c \\ubc84\\ub9ac \\ud658\\ubd88\", \"\\uacb0\\uc81c \\ud504\\ub9ac\\ubbf8\\uc5c4 \\uacb0\\uc81c \\ucde8\\uc18c\", \"\\uacb0\\uc81c \\ud658\\ubd88\", \"\\uacb0\\uc81c \\ud658\\ubd88 \\uc694\\uccad \\ud658\\ubd88 \\ud658\\ubd88\", \"\\uacc4\\uc815 \\uc815\\ubcf4 \\ub2e4\\uc6b4\\ub85c\\ub4dc\", \"\\uacc4\\uc815 \\uc815\\ubcf4 \\ub2e4\\uc6b4\\ub85c\\ub4dc \\uc624\\ub958\", \"\\uacc4\\uc815 \\uc815\\ubcf4 \\ub2e4\\uc6b4\\ub85c\\ub4dc \\ud655\\uc778\", \"\\uad11\\uace0\", \"\\uad11\\uace0 \\ub3d9\\uc601\\uc0c1 \\ubc84\\uadf8 \\ud130\\uce58 \\ubd88\\uac00 \\ubc84\\uadf8 \\uc870\\uae30 \\uad11\\uace0\", \"\\uad11\\uace0 \\uc6b4\\ub3d9\", \"\\uad11\\uace0 \\uc9dc\\uc99d\", \"\\uad6c\\uae00 \\uc5f0\\ub77d \\ud658\\ubd88 \\uc694\\uccad \\uc720\\ud29c\\ube0c \\uc774\\ub4dd\", \"\\uad6c\\ub9e4 \\uacb0\\uc81c \\uae30\\uc874 \\uad6c\\ub9e4\\uc790 \\ud310\\ub9e4 \\ud558\\ub85c\", \"\\uae30\\uae30 \\uc5f0\\uacb0 \\uacc4\\ud68d \\uac1c\\uc778 \\ud3c9\\uac00 \\uc5f0\\ub3d9 \\ud65c\\uc6a9\", \"\\uae30\\ub85d \\ub204\\ub77d \\uae30\\ub85d \\ud1b5\\uc9f8 \\ub3d9\\uae30 \\ub0b4\\uc6a9 \\uae30\\ub85d \\ub2f9\\uc2dc \\ud2b9\\uc774 \\uae30\\ub85d \\ub204\\ub77d \\uc6d0\\uc778 \\ud589\\ub3d9 \\uae30\\uc5b5 \\ud68c\\uc2e0 \\ubd80\\ud0c1\", \"\\ub300\\uc911\\uad50\\ud1b5 \\uc5d0\\uc2a4 \\ub808\\uc774\\ud2b8 \\uc790\\uc804\\uac70 \\uae30\\ub85d \\uac00\\ub2a5 \\uc6b4\\ub3d9 \\uc120\\ud0dd \\uae30\\ub85d \\uc624\\ub958\", \"\\ub3d9\\uc601\\uc0c1\", \"\\ub85c\\uadf8\\uc778\", \"\\ub85c\\uadf8\\uc778\", \"\\ub85c\\uadf8\\uc778 \\uac78\\uc694\", \"\\ub85c\\uadf8\\uc778 \\uacc4\\uc815 \\uc778\\uc99d\", \"\\ub85c\\uadf8\\uc778 \\uc0ac\\uc6a9\\uc790 \\uc9c8\\uc758\", \"\\ub85c\\ub529 \\ud654\\uba74\", \"\\ub9ac\\ubdf0\", \"\\ubabd\\uc7a5 \\ucd94\\ucc9c\", \"\\ubb34\\ub8cc \\uacb0\\uc81c \\ucde8\\uc18c\", \"\\ubb34\\ub8cc \\uad6c\\ub9e4 \\uc758\\uc0ac \\uc0ad\\uc81c \\uad6c\\ub3c5 \\ucde8\\uc18c \\uacb0\\uc81c \\ucde8\\uc18c \\ubd80\\ud0c1\", \"\\ubb34\\ub8cc \\uc0ad\\uc81c \\uacb0\\uc81c \\ud655\\uc778 \\ucde8\\uc18c\", \"\\ubb34\\ub8cc \\uccb4\\ud5d8 \\uacb0\\uc81c \\ucde8\\uc18c\", \"\\ubb34\\ub8cc \\uccb4\\ud5d8 \\uad6c\\ub3c5 \\uad6c\\ub3c5 \\ucde8\\uc18c \\uad6c\\ub3c5 \\uccad\\uad6c \\ud658\\ubd88 \\uc694\\uccad\", \"\\ubb34\\ub8cc \\uccb4\\ud5d8 \\uc2dc\\uc791 \\uacb0\\uc81c \\ucde8\\uc18c\", \"\\ubbf8\\ub514\\uc5b4 \\ud30c\\uc77c \\uc811\\uadfc \\ud544\\uc694 \\ud544\\uc694\", \"\\ubc14\\ubcf4 \\uc778\\uc2dd\", \"\\ubc18\\uc751 \\ub85c\\ub529 \\ud0c8\\ud1f4\", \"\\ubc84\\ud37c\\ub9c1\", \"\\ubc88\\uc5ed\", \"\\ubd88\\ud3b8\", \"\\ubd88\\ud3b8 \\ub2e8\\uc21c\", \"\\uc0ad\\uc81c \\uc790\\ub3d9 \\uacb0\\uc81c \\uad6c\\ub3c5 \\ucde8\\uc18c \\ucd9c\\uae08 \\ud658\\ubd88\", \"\\uc124\\uba85 \\uad6c\\uae00 \\ubc88\\uc5ed\\uae30 \\uc124\\uba85\", \"\\uc124\\uba85 \\uc720\\ub85c \\ub2e4\\uc6b4\\ub85c\\ub4dc \\uc0ac\\uc774\\ud2b8 \\ud6c4\\uae30 \\uc0ad\\uc81c \\uc790\\ub3d9 \\uc720\\ub85c \\uc2e0\\uccad \\ucde8\\uc18c \\ubd80\\ud0c1 \\ucde8\\uc18c \\ud655\\uc778\", \"\\uc124\\uce58\", \"\\uc124\\uce58 \\ub313\\uae00 \\uc790\\ub3d9 \\uacb0\\uc81c \\uc790\\ub3d9 \\uacb0\\uc81c \\ucde8\\uc18c\", \"\\uc138\\ub300 \\uc6cc\\uce58 \\uc5f0\\ub3d9 \\uc2ec\\ubc15\\uc218 \\uadf8\\ub798\\ud504 \\uadf8\\ub798\\ud504 \\uc815\\uc0c1 \\ubb38\\uc81c \\ud310\\ub3c5 \\ucf00\\uc5b4 \\ub2e5\\ud130 \\uc5f0\\ub3d9\", \"\\uc18c\\ub9ac \\uad11\\uace0\", \"\\uc218\\uc815 \\ubd80\\ud0c1\", \"\\uc218\\uc815 \\ubd80\\ud0c1\", \"\\uc2dc\\ub9ac\\uc6b0\\uc2a4 \\ub3d9\\uc601\\uc0c1 \\uc7ac\\uc0dd\", \"\\uc2dc\\uc815\\uc9c0\", \"\\uc2e4\\ud589 \\uacb0\\uc81c \\ud658\\ubd88\", \"\\uc2ec\\ubc15\\uc218 \\uc218\\uba74 \\ub370\\uc774\\ud130 \\ud5ec\\uc2a4 \\uc5f0\\uacb0 \\ud65c\\ub3d9 \\uac78\\uc74c \\uad6c\\uae00 \\uce6d\\ucc2c \\uc120\\ud638 \\uad6c\\uae00 \\uae30\\ubcf8 \\ubca0\\uc774\\uc2a4 \\uad6c\\uae00 \\ud53c\\ud2b8\", \"\\uc5c9\\ud130\\ub9ac \\uae30\\ub85d \\ubcc0\\uacbd \\uae30\\ub85d \\uc5c9\\ud130\\ub9ac \\uae30\\ub85d \\uc6cc\\uce58 \\ud544\\uc218 \\uac00\\ub2a5 \\ucd5c\\uc545\", \"\\uc601\\uc0c1 \\ud654\\uba74 \\uc808\\ubc18\", \"\\uc6b4\\ub3d9\", \"\\uc6b4\\ub3d9 \\uac81\\ub2c8\\ub2e4\", \"\\uc6b4\\ub3d9 \\uac81\\ub2c8\\ub2e4\", \"\\uc6b4\\ub3d9 \\uacc4\\ud68d\", \"\\uc6b4\\ub3d9 \\ub9ac\\ubdf0 \\ucd9c\\ucc3d\", \"\\uc6b4\\ub3d9 \\uc2dc\\uc791\", \"\\uc6b4\\ub3d9 \\uc2dc\\uc791 \\ub3d9\\uc791\", \"\\uc6b4\\ub3d9 \\uc6b4\\ub3d9 \\ub3d9\\uc601\\uc0c1 \\uc6b4\\ub3d9\", \"\\uc6b4\\ub3d9 \\uc6b4\\ub3d9 \\uc6b4\\ub3d9 \\uc774\\uc6b4\\ub3d9 \\uc6b4\\ub3d9 \\ub3c4\\uc6c0\", \"\\uc6cc\\uce58 \\uc5f0\\ub3d9 \\uc6b4\\ub3d9 \\uac78\\uc74c \\ud53c\\ud2b8 \\uc911\\uc9c0 \\uc6cc\\uce58\", \"\\uc704\\uc82f\", \"\\uc720\\ub8cc\", \"\\uc720\\ub8cc \\uc720\\ub8cc\", \"\\uc724\\uc601\", \"\\uc758\\uacac\", \"\\uc784\\uac15\\ud601\", \"\\uc790\\ub3d9 \\uacb0\\uc81c \\ucde8\\uc18c\", \"\\uc790\\ub3d9 \\uacb0\\uc81c \\ud658\\ubd88\", \"\\uc790\\uc804\\uac70 \\uc778\\uc2dd \\uac78\\uc74c\", \"\\uc810\\uac80 \\uc810\\uac80\", \"\\uc81c\\ud55c\", \"\\uc870\\ub77c\", \"\\uc8fc\\ub9d0 \\uc6b4\\ub3d9\\ub7c9 \\uba39\\ud1b5 \\ub85c\\uadf8\\uc778 \\ubb38\\uc81c \\ubc29\\ubc95 \\uad6c\\uae00 \\uc2dc\\uc2a4\\ud15c \\uacf5\\ubd80 \\uacf5\\ubd80 \\uad6c\\uae00\", \"\\uc9c1\\uad00 \\ucd5c\\uc545\", \"\\uccb4\\uc5b4 \\ucffc\\ud2b8 \\ub7f0\\uc9c0 \\ud654\\uc0b4\\ud45c \\uc6b4\\ub3d9 \\uc124\\uba85\", \"\\uccb4\\ud5d8 \\uacb0\\uc815 \\uacb0\\uc81c \\ud658\\ubd88\", \"\\ucd5c\\uc545\", \"\\ucde8\\uc18c\", \"\\ucde8\\uc18c \\ucde8\\uc18c \\ubd80\\ud0c1\", \"\\ucde8\\uc18c \\ud658\\ubd88 \\ucde8\\uc18c\", \"\\ud0c8\\ud1f4\", \"\\ud3ec\\ucf13\\ubaac \\uc5f0\\ub3d9\", \"\\ud658\\ubd88\", \"\\ud658\\ubd88 \\uc694\\uccad\", \"\\ud65c\\ub3d9 \\ucd94\\uc801 \\uc6e8\\uc5b4 \\uc2f1\\ud06c \\uac15\\uc81c \\ucd94\\uc801\"]}, \"R\": 30, \"lambda.step\": 0.01, \"plot.opts\": {\"xlab\": \"PC1\", \"ylab\": \"PC2\"}, \"topic.order\": [2, 3, 1]};\n",
              "\n",
              "function LDAvis_load_lib(url, callback){\n",
              "  var s = document.createElement('script');\n",
              "  s.src = url;\n",
              "  s.async = true;\n",
              "  s.onreadystatechange = s.onload = callback;\n",
              "  s.onerror = function(){console.warn(\"failed to load library \" + url);};\n",
              "  document.getElementsByTagName(\"head\")[0].appendChild(s);\n",
              "}\n",
              "\n",
              "if(typeof(LDAvis) !== \"undefined\"){\n",
              "   // already loaded: just create the visualization\n",
              "   !function(LDAvis){\n",
              "       new LDAvis(\"#\" + \"ldavis_el238421342931210177609212213004\", ldavis_el238421342931210177609212213004_data);\n",
              "   }(LDAvis);\n",
              "}else if(typeof define === \"function\" && define.amd){\n",
              "   // require.js is available: use it to load d3/LDAvis\n",
              "   require.config({paths: {d3: \"https://d3js.org/d3.v5\"}});\n",
              "   require([\"d3\"], function(d3){\n",
              "      window.d3 = d3;\n",
              "      LDAvis_load_lib(\"https://cdn.jsdelivr.net/gh/bmabey/pyLDAvis@3.4.0/pyLDAvis/js/ldavis.v3.0.0.js\", function(){\n",
              "        new LDAvis(\"#\" + \"ldavis_el238421342931210177609212213004\", ldavis_el238421342931210177609212213004_data);\n",
              "      });\n",
              "    });\n",
              "}else{\n",
              "    // require.js not available: dynamically load d3 & LDAvis\n",
              "    LDAvis_load_lib(\"https://d3js.org/d3.v5.js\", function(){\n",
              "         LDAvis_load_lib(\"https://cdn.jsdelivr.net/gh/bmabey/pyLDAvis@3.4.0/pyLDAvis/js/ldavis.v3.0.0.js\", function(){\n",
              "                 new LDAvis(\"#\" + \"ldavis_el238421342931210177609212213004\", ldavis_el238421342931210177609212213004_data);\n",
              "            })\n",
              "         });\n",
              "}\n",
              "</script>"
            ]
          },
          "metadata": {},
          "execution_count": 40
        }
      ]
    },
    {
      "cell_type": "code",
      "source": [
        "pyLDAvis.save_html(result_visualized, './result_visualized.html')"
      ],
      "metadata": {
        "id": "jShsyRAJ8FM1"
      },
      "execution_count": 41,
      "outputs": []
    },
    {
      "cell_type": "code",
      "source": [],
      "metadata": {
        "id": "yf3jx3A--ToE"
      },
      "execution_count": null,
      "outputs": []
    }
  ]
}