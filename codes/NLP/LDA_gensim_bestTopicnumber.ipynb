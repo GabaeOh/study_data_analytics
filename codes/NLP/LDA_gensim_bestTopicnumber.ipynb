{
 "cells": [
  {
   "cell_type": "code",
   "execution_count": 5,
   "id": "5a6147bd-5dc4-4fa0-a2f4-8687daabea2a",
   "metadata": {
    "tags": []
   },
   "outputs": [],
   "source": [
    "sentences = [\n",
    "    \"오늘 날씨가 좋아서 나들이 가고 싶다.\",\n",
    "    \"이 영화는 정말 재미있었어요.\",\n",
    "    \"맛있는 음식을 먹으러 갈까요?\",\n",
    "    \"운동을 하면 건강에 좋아지는 것 같아요.\",\n",
    "    \"공부하기 싫어서 미루고 있어요.\",\n",
    "    \"여행 계획을 세우고 있는데 어디로 갈까요?\",\n",
    "    \"좋은 책을 읽으면 마음이 편안해져요.\",\n",
    "    \"오늘은 친구들과 만나서 재미있게 놀았어요.\",\n",
    "    \"새로운 언어를 배우는 것은 어려워도 흥미로워요.\",\n",
    "    \"주말에 가족들과 함께 시간을 보내기로 했습니다.\"\n",
    "]"
   ]
  },
  {
   "cell_type": "code",
   "execution_count": 6,
   "id": "80914405-35b3-492d-b29b-04525c77458a",
   "metadata": {
    "tags": []
   },
   "outputs": [],
   "source": [
    "from gensim.corpora import Dictionary \n",
    "from gensim.models import LdaModel # 주제어 확인 "
   ]
  },
  {
   "cell_type": "markdown",
   "id": "ed5a112a-644d-4a8a-a4ca-25c75a22fc0f",
   "metadata": {},
   "source": [
    "### 전처리 (형태소 분석, 불용어 처리 등)"
   ]
  },
  {
   "cell_type": "code",
   "execution_count": 7,
   "id": "cf738f30-d956-4dbd-8f3c-9310e7f96126",
   "metadata": {
    "tags": []
   },
   "outputs": [],
   "source": [
    "from mecab import MeCab\n",
    "mecab = MeCab()"
   ]
  },
  {
   "cell_type": "code",
   "execution_count": 8,
   "id": "5d417849-c563-45d6-b81a-4d2e67f4788c",
   "metadata": {
    "tags": []
   },
   "outputs": [
    {
     "data": {
      "text/plain": [
       "[['날씨', '나'],\n",
       " ['영화'],\n",
       " ['음식'],\n",
       " ['운동', '건강', '것'],\n",
       " ['공부'],\n",
       " ['여행', '계획', '어디'],\n",
       " ['책', '마음', '편안'],\n",
       " ['오늘', '친구'],\n",
       " ['언어', '것', '흥미'],\n",
       " ['주말', '가족', '시간']]"
      ]
     },
     "execution_count": 8,
     "metadata": {},
     "output_type": "execute_result"
    }
   ],
   "source": [
    "#형태분석기 사용\n",
    "morphs_list = list()\n",
    "for sentence in sentences:\n",
    "    morphs = mecab.nouns(sentence)\n",
    "    morphs_list.append(morphs) #2차원 배열\n",
    "morphs_list #1차원으로 추출 "
   ]
  },
  {
   "cell_type": "code",
   "execution_count": 9,
   "id": "e509da24-26f8-4627-b203-c7aa807561a2",
   "metadata": {
    "tags": []
   },
   "outputs": [],
   "source": [
    "preprocessed_sentences = morphs_list"
   ]
  },
  {
   "cell_type": "code",
   "execution_count": 10,
   "id": "8278b006-7a52-489a-9403-7fd1c6f9394a",
   "metadata": {
    "tags": []
   },
   "outputs": [
    {
     "data": {
      "text/plain": [
       "<gensim.corpora.dictionary.Dictionary at 0x26371d4c0d0>"
      ]
     },
     "execution_count": 10,
     "metadata": {},
     "output_type": "execute_result"
    }
   ],
   "source": [
    "dictionary = Dictionary(preprocessed_sentences) #fit in like sklearn\n",
    "dictionary"
   ]
  },
  {
   "cell_type": "markdown",
   "id": "d17d1044-5b3f-4903-aeb3-a0878a575fd3",
   "metadata": {},
   "source": [
    "### transform with dictionary"
   ]
  },
  {
   "cell_type": "code",
   "execution_count": 11,
   "id": "716e7d1f-171f-46cf-a87e-d2e2e26aaf38",
   "metadata": {
    "tags": []
   },
   "outputs": [
    {
     "data": {
      "text/plain": [
       "[(0, 1), (1, 1)]"
      ]
     },
     "execution_count": 11,
     "metadata": {},
     "output_type": "execute_result"
    }
   ],
   "source": [
    "# dictionary.token2id  #단어(토큰)를 해당 단어의 고유한 숫자 ID로 매핑한 딕셔너리\n",
    "dictionary.doc2bow(preprocessed_sentences[0]) #transform 좌표값이 들어감"
   ]
  },
  {
   "cell_type": "code",
   "execution_count": 12,
   "id": "90037857-d377-4dc4-8e54-b87b8ebbbf86",
   "metadata": {
    "tags": []
   },
   "outputs": [
    {
     "data": {
      "text/plain": [
       "[[(0, 1), (1, 1)],\n",
       " [(2, 1)],\n",
       " [(3, 1)],\n",
       " [(4, 1), (5, 1), (6, 1)],\n",
       " [(7, 1)],\n",
       " [(8, 1), (9, 1), (10, 1)],\n",
       " [(11, 1), (12, 1), (13, 1)],\n",
       " [(14, 1), (15, 1)],\n",
       " [(5, 1), (16, 1), (17, 1)],\n",
       " [(18, 1), (19, 1), (20, 1)]]"
      ]
     },
     "execution_count": 12,
     "metadata": {},
     "output_type": "execute_result"
    }
   ],
   "source": [
    "corpus_list = list()\n",
    "for sentence in  preprocessed_sentences :\n",
    "    morphs_vector = dictionary.doc2bow(sentence)\n",
    "    corpus_list.append(morphs_vector)\n",
    "corpus_list"
   ]
  },
  {
   "cell_type": "code",
   "execution_count": 13,
   "id": "069368b5-22e1-481c-8f76-ddf91149fdaa",
   "metadata": {
    "tags": []
   },
   "outputs": [],
   "source": [
    "lda_model = LdaModel(corpus=corpus_list, id2word=dictionary, num_topics=3)  #fit\n",
    "#벡터화된 숫자와, dictionary를 함께 넣어줘서 숫자와 실제 단어를 연결하여 알수 있게끔\n",
    "# num_topics=3 토픽 3가지만 잡아줘 "
   ]
  },
  {
   "cell_type": "code",
   "execution_count": 14,
   "id": "43f61167-f3d5-45c6-9f08-af443aca7030",
   "metadata": {
    "tags": []
   },
   "outputs": [
    {
     "data": {
      "text/plain": [
       "[(0, '0.081*\"것\" + 0.080*\"시간\" + 0.080*\"가족\" + 0.080*\"주말\" + 0.079*\"마음\"'),\n",
       " (1, '0.099*\"나\" + 0.098*\"날씨\" + 0.098*\"오늘\" + 0.095*\"친구\" + 0.092*\"음식\"'),\n",
       " (2, '0.092*\"것\" + 0.090*\"어디\" + 0.090*\"여행\" + 0.090*\"계획\" + 0.089*\"언어\"')]"
      ]
     },
     "execution_count": 14,
     "metadata": {},
     "output_type": "execute_result"
    }
   ],
   "source": [
    "lda_model.print_topics(num_words=5) # num_words 주요 토픽 5가지를 잡아줘 "
   ]
  },
  {
   "cell_type": "markdown",
   "id": "75c5ddb8-c8f2-4b2d-8c51-09dde611588b",
   "metadata": {},
   "source": [
    "### 최적의 토픽 단어 수"
   ]
  },
  {
   "cell_type": "code",
   "execution_count": 15,
   "id": "d7df5978-684f-42ba-bbe6-1e8aefe4e2e7",
   "metadata": {
    "tags": []
   },
   "outputs": [],
   "source": [
    "## 일관성 점수\n",
    "from gensim.models.coherencemodel import CoherenceModel\n",
    "coherenceModel = CoherenceModel(model=lda_model, texts=morphs_list, dictionary=dictionary)\n",
    "coherenceModel.get_coherence() \n",
    "# num_topics=3에 관해서 일관성이 높으냐 적으냐에 대한 점수 \n",
    "# 0.7228238031135038"
   ]
  },
  {
   "cell_type": "code",
   "execution_count": 19,
   "id": "b25e8c0f-c793-48d4-bdd7-9356e8439c8d",
   "metadata": {
    "tags": []
   },
   "outputs": [
    {
     "data": {
      "text/plain": [
       "-4.1042908865036285"
      ]
     },
     "execution_count": 19,
     "metadata": {},
     "output_type": "execute_result"
    }
   ],
   "source": [
    "## 혼잡도 점수 \n",
    "lda_model.log_perplexity(corpus_list)\n",
    "\n",
    "#-4.1042908865036285"
   ]
  },
  {
   "cell_type": "code",
   "execution_count": 20,
   "id": "8001cd6c-554f-44fa-9c69-83ade9637e10",
   "metadata": {
    "tags": []
   },
   "outputs": [],
   "source": [
    "start_topic = 2\n",
    "end_topic = 10\n",
    "coherence_scores = list()\n",
    "perplexity_scores = list()\n",
    "for topic_number in range(start_topic, end_topic+1 ) : \n",
    "    lda_model = LdaModel(corpus=corpus_list, id2word=dictionary, num_topics=topic_number)  #fit\n",
    "    coherenceModel = CoherenceModel(model=lda_model, texts=morphs_list, dictionary=dictionary)\n",
    "    coherence_scores.append(coherenceModel.get_coherence())  #일관성 점수\n",
    "    perplexity_scores.append(lda_model.log_perplexity(corpus_list)) #혼잡도 점수"
   ]
  },
  {
   "cell_type": "code",
   "execution_count": 36,
   "id": "6e9218fa-b82e-4b2e-88be-6057897d764c",
   "metadata": {
    "tags": []
   },
   "outputs": [
    {
     "data": {
      "text/html": [
       "<div>\n",
       "<style scoped>\n",
       "    .dataframe tbody tr th:only-of-type {\n",
       "        vertical-align: middle;\n",
       "    }\n",
       "\n",
       "    .dataframe tbody tr th {\n",
       "        vertical-align: top;\n",
       "    }\n",
       "\n",
       "    .dataframe thead th {\n",
       "        text-align: right;\n",
       "    }\n",
       "</style>\n",
       "<table border=\"1\" class=\"dataframe\">\n",
       "  <thead>\n",
       "    <tr style=\"text-align: right;\">\n",
       "      <th></th>\n",
       "      <th>0</th>\n",
       "      <th>1</th>\n",
       "    </tr>\n",
       "  </thead>\n",
       "  <tbody>\n",
       "    <tr>\n",
       "      <th>0</th>\n",
       "      <td>0.722258</td>\n",
       "      <td>-3.892453</td>\n",
       "    </tr>\n",
       "    <tr>\n",
       "      <th>1</th>\n",
       "      <td>0.723955</td>\n",
       "      <td>-4.129781</td>\n",
       "    </tr>\n",
       "    <tr>\n",
       "      <th>2</th>\n",
       "      <td>0.722258</td>\n",
       "      <td>-4.237078</td>\n",
       "    </tr>\n",
       "    <tr>\n",
       "      <th>3</th>\n",
       "      <td>0.722598</td>\n",
       "      <td>-4.377838</td>\n",
       "    </tr>\n",
       "    <tr>\n",
       "      <th>4</th>\n",
       "      <td>0.723955</td>\n",
       "      <td>-4.495389</td>\n",
       "    </tr>\n",
       "    <tr>\n",
       "      <th>5</th>\n",
       "      <td>0.723470</td>\n",
       "      <td>-4.534750</td>\n",
       "    </tr>\n",
       "    <tr>\n",
       "      <th>6</th>\n",
       "      <td>0.721834</td>\n",
       "      <td>-4.738275</td>\n",
       "    </tr>\n",
       "    <tr>\n",
       "      <th>7</th>\n",
       "      <td>0.722824</td>\n",
       "      <td>-5.009686</td>\n",
       "    </tr>\n",
       "    <tr>\n",
       "      <th>8</th>\n",
       "      <td>0.723276</td>\n",
       "      <td>-4.792280</td>\n",
       "    </tr>\n",
       "  </tbody>\n",
       "</table>\n",
       "</div>"
      ],
      "text/plain": [
       "          0         1\n",
       "0  0.722258 -3.892453\n",
       "1  0.723955 -4.129781\n",
       "2  0.722258 -4.237078\n",
       "3  0.722598 -4.377838\n",
       "4  0.723955 -4.495389\n",
       "5  0.723470 -4.534750\n",
       "6  0.721834 -4.738275\n",
       "7  0.722824 -5.009686\n",
       "8  0.723276 -4.792280"
      ]
     },
     "execution_count": 36,
     "metadata": {},
     "output_type": "execute_result"
    }
   ],
   "source": [
    "import pandas as pd\n",
    "df_scores = pd.DataFrame([coherence_scores, perplexity_scores])\n",
    "df_scores.T\n",
    "\n",
    "# 혼잡도가 적고, 일관성이 높은것을 찾으면 됨 \n",
    "# 최적의 인덱스 0 실제로는 num_topics=2 즉 2개의 토픽 "
   ]
  },
  {
   "cell_type": "code",
   "execution_count": 34,
   "id": "49fdfc84-5e42-44e2-b8d8-205d35988ba1",
   "metadata": {
    "tags": []
   },
   "outputs": [],
   "source": [
    "import seaborn as sns\n",
    "import matplotlib.pyplot as plt"
   ]
  },
  {
   "cell_type": "code",
   "execution_count": 38,
   "id": "1cde8f3f-e8ee-4101-bc62-933a9975331d",
   "metadata": {
    "tags": []
   },
   "outputs": [
    {
     "data": {
      "image/png": "[encoded data removed]",
      "text/plain": [
       "<Figure size 640x480 with 1 Axes>"
      ]
     },
     "metadata": {},
     "output_type": "display_data"
    },
    {
     "data": {
      "image/png": "[encoded data removed]",
      "text/plain": [
       "<Figure size 640x480 with 1 Axes>"
      ]
     },
     "metadata": {},
     "output_type": "display_data"
    }
   ],
   "source": [
    "sns.lineplot(coherence_scores)\n",
    "plt.show()\n",
    "sns.lineplot(perplexity_scores)\n",
    "plt.show()"
   ]
  },
  {
   "cell_type": "code",
   "execution_count": 37,
   "id": "c7bdc9b6-ffe5-4b00-be93-66827251ef1e",
   "metadata": {
    "tags": []
   },
   "outputs": [
    {
     "data": {
      "text/plain": [
       "<Axes: >"
      ]
     },
     "execution_count": 37,
     "metadata": {},
     "output_type": "execute_result"
    },
    {
     "data": {
      "image/png": "[encoded data removed]",
      "text/plain": [
       "<Figure size 640x480 with 1 Axes>"
      ]
     },
     "metadata": {},
     "output_type": "display_data"
    }
   ],
   "source": [
    "sns.lineplot(x=coherence_scores, y=perplexity_scores)\n",
    "#plt.show()"
   ]
  },
  {
   "cell_type": "code",
   "execution_count": null,
   "id": "6a15ee63-0406-4f6a-b522-7d423661ac02",
   "metadata": {},
   "outputs": [],
   "source": []
  }
 ],
 "metadata": {
  "kernelspec": {
   "display_name": "Python 3 (ipykernel)",
   "language": "python",
   "name": "python3"
  },
  "language_info": {
   "codemirror_mode": {
    "name": "ipython",
    "version": 3
   },
   "file_extension": ".py",
   "mimetype": "text/x-python",
   "name": "python",
   "nbconvert_exporter": "python",
   "pygments_lexer": "ipython3",
   "version": "3.11.3"
  }
 },
 "nbformat": 4,
 "nbformat_minor": 5
}
