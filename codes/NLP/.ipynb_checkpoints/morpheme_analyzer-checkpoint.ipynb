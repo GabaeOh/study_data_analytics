{
 "cells": [
  {
   "cell_type": "markdown",
   "id": "a675eb6e-c642-4640-9743-5c76f7a8e141",
   "metadata": {},
   "source": [
    "## 한글 형태소 분석기 \n",
    "- refer : https://konlpy-ko.readthedocs.io/ko/v0.6.0/\n",
    "- refer : https://konlpy-ko.readthedocs.io/ko/v0.6.0/morph/"
   ]
  },
  {
   "cell_type": "code",
   "execution_count": 1,
   "id": "1b2f92f9-dcf7-4444-91bc-a15dd3ba8fe5",
   "metadata": {
    "collapsed": true,
    "jupyter": {
     "outputs_hidden": true
    },
    "tags": []
   },
   "outputs": [
    {
     "name": "stdout",
     "output_type": "stream",
     "text": [
      "Collecting konlpy\n",
      "  Downloading konlpy-0.6.0-py2.py3-none-any.whl (19.4 MB)\n",
      "                                              0.0/19.4 MB ? eta -:--:--\n",
      "     -                                        0.5/19.4 MB 10.7 MB/s eta 0:00:02\n",
      "     --                                       1.0/19.4 MB 11.0 MB/s eta 0:00:02\n",
      "     ---                                      1.6/19.4 MB 11.2 MB/s eta 0:00:02\n",
      "     ----                                     2.1/19.4 MB 11.3 MB/s eta 0:00:02\n",
      "     -----                                    2.6/19.4 MB 11.2 MB/s eta 0:00:02\n",
      "     ------                                   3.2/19.4 MB 11.3 MB/s eta 0:00:02\n",
      "     -------                                  3.7/19.4 MB 11.3 MB/s eta 0:00:02\n",
      "     --------                                 4.2/19.4 MB 11.1 MB/s eta 0:00:02\n",
      "     --------                                 4.2/19.4 MB 11.1 MB/s eta 0:00:02\n",
      "     --------                                 4.2/19.4 MB 11.1 MB/s eta 0:00:02\n",
      "     --------                                 4.2/19.4 MB 11.1 MB/s eta 0:00:02\n",
      "     --------                                 4.2/19.4 MB 11.1 MB/s eta 0:00:02\n",
      "     ---------                                4.7/19.4 MB 7.8 MB/s eta 0:00:02\n",
      "     ----------                               5.3/19.4 MB 8.0 MB/s eta 0:00:02\n",
      "     -----------                              5.8/19.4 MB 8.2 MB/s eta 0:00:02\n",
      "     ------------                             6.3/19.4 MB 8.3 MB/s eta 0:00:02\n",
      "     -------------                            6.8/19.4 MB 8.5 MB/s eta 0:00:02\n",
      "     --------------                           7.2/19.4 MB 8.6 MB/s eta 0:00:02\n",
      "     ---------------                          7.8/19.4 MB 8.7 MB/s eta 0:00:02\n",
      "     -----------------                        8.3/19.4 MB 8.9 MB/s eta 0:00:02\n",
      "     ------------------                       8.7/19.4 MB 8.9 MB/s eta 0:00:02\n",
      "     ------------------                       9.1/19.4 MB 8.9 MB/s eta 0:00:02\n",
      "     -------------------                      9.5/19.4 MB 8.8 MB/s eta 0:00:02\n",
      "     --------------------                     9.9/19.4 MB 8.8 MB/s eta 0:00:02\n",
      "     ---------------------                    10.3/19.4 MB 8.8 MB/s eta 0:00:02\n",
      "     ----------------------                   10.8/19.4 MB 8.7 MB/s eta 0:00:01\n",
      "     -----------------------                  11.3/19.4 MB 8.8 MB/s eta 0:00:01\n",
      "     ------------------------                 11.8/19.4 MB 8.7 MB/s eta 0:00:01\n",
      "     -------------------------                12.4/19.4 MB 8.7 MB/s eta 0:00:01\n",
      "     --------------------------               12.9/19.4 MB 8.7 MB/s eta 0:00:01\n",
      "     ---------------------------              13.5/19.4 MB 8.8 MB/s eta 0:00:01\n",
      "     ----------------------------             14.0/19.4 MB 8.7 MB/s eta 0:00:01\n",
      "     -----------------------------            14.4/19.4 MB 8.7 MB/s eta 0:00:01\n",
      "     -----------------------------           14.9/19.4 MB 10.4 MB/s eta 0:00:01\n",
      "     ------------------------------          15.3/19.4 MB 10.2 MB/s eta 0:00:01\n",
      "     -------------------------------         15.8/19.4 MB 10.2 MB/s eta 0:00:01\n",
      "     --------------------------------        16.4/19.4 MB 10.2 MB/s eta 0:00:01\n",
      "     ---------------------------------       16.8/19.4 MB 10.2 MB/s eta 0:00:01\n",
      "     ----------------------------------      17.4/19.4 MB 10.4 MB/s eta 0:00:01\n",
      "     -----------------------------------     17.9/19.4 MB 10.4 MB/s eta 0:00:01\n",
      "     ------------------------------------    18.4/19.4 MB 10.4 MB/s eta 0:00:01\n",
      "     --------------------------------------  19.0/19.4 MB 10.4 MB/s eta 0:00:01\n",
      "     --------------------------------------  19.4/19.4 MB 10.6 MB/s eta 0:00:01\n",
      "     --------------------------------------  19.4/19.4 MB 10.6 MB/s eta 0:00:01\n",
      "     --------------------------------------  19.4/19.4 MB 10.6 MB/s eta 0:00:01\n",
      "     --------------------------------------  19.4/19.4 MB 10.6 MB/s eta 0:00:01\n",
      "     --------------------------------------  19.4/19.4 MB 10.6 MB/s eta 0:00:01\n",
      "     ---------------------------------------- 19.4/19.4 MB 8.5 MB/s eta 0:00:00\n",
      "Collecting JPype1>=0.7.0 (from konlpy)\n",
      "  Downloading JPype1-1.4.1-cp311-cp311-win_amd64.whl (345 kB)\n",
      "                                              0.0/345.1 kB ? eta -:--:--\n",
      "     ------------------------------------- 345.1/345.1 kB 10.8 MB/s eta 0:00:00\n",
      "Requirement already satisfied: lxml>=4.1.0 in c:\\users\\02-19\\anaconda3\\lib\\site-packages (from konlpy) (4.9.2)\n",
      "Requirement already satisfied: numpy>=1.6 in c:\\users\\02-19\\anaconda3\\lib\\site-packages (from konlpy) (1.24.3)\n",
      "Requirement already satisfied: packaging in c:\\users\\02-19\\anaconda3\\lib\\site-packages (from JPype1>=0.7.0->konlpy) (23.0)\n",
      "Installing collected packages: JPype1, konlpy\n",
      "Successfully installed JPype1-1.4.1 konlpy-0.6.0\n"
     ]
    }
   ],
   "source": [
    "!pip install konlpy"
   ]
  },
  {
   "cell_type": "markdown",
   "id": "0fcb7891-3710-44e7-9db1-bf13ed8ba25b",
   "metadata": {},
   "source": [
    "### Okt : 한글 형태분석기 중 하나 "
   ]
  },
  {
   "cell_type": "code",
   "execution_count": 2,
   "id": "8be202c7-852f-4d55-85b6-421fdb3196c3",
   "metadata": {
    "tags": []
   },
   "outputs": [],
   "source": [
    "from konlpy.tag import Okt"
   ]
  },
  {
   "cell_type": "code",
   "execution_count": 3,
   "id": "cc0878da-3a24-48fa-87a2-81252d0c58e9",
   "metadata": {
    "tags": []
   },
   "outputs": [],
   "source": [
    "okt = Okt()"
   ]
  },
  {
   "cell_type": "code",
   "execution_count": 6,
   "id": "3f144611-3d27-41e9-b45d-83b7dec43aae",
   "metadata": {
    "tags": []
   },
   "outputs": [],
   "source": [
    "sentence_list = ['아버지가방에들어가신다'\n",
    "                ,'나는 밥을 먹는다.' \n",
    "                , '하늘을 나는 자동차'\n",
    "                , '아이폰 기다리다 지쳐 애플공홈에서 언락폰질러버렸다 6+ 128기가실버ㅋ' ]"
   ]
  },
  {
   "cell_type": "code",
   "execution_count": 11,
   "id": "ba9c73c5-c4bd-44bf-8059-76e1bbf87906",
   "metadata": {
    "tags": []
   },
   "outputs": [
    {
     "data": {
      "text/plain": [
       "['나', '는', '밥', '을', '먹는다', '.']"
      ]
     },
     "execution_count": 11,
     "metadata": {},
     "output_type": "execute_result"
    }
   ],
   "source": [
    "# \n",
    "morphs_list = okt.morphs(sentence_list[1])\n",
    "morphs_list"
   ]
  },
  {
   "cell_type": "code",
   "execution_count": 14,
   "id": "f967f81f-ee8b-4eed-88f2-5440b3c86643",
   "metadata": {
    "tags": []
   },
   "outputs": [
    {
     "data": {
      "text/plain": [
       "[('나', 'Noun'),\n",
       " ('는', 'Josa'),\n",
       " ('밥', 'Noun'),\n",
       " ('을', 'Josa'),\n",
       " ('먹는다', 'Verb'),\n",
       " ('.', 'Punctuation')]"
      ]
     },
     "execution_count": 14,
     "metadata": {},
     "output_type": "execute_result"
    }
   ],
   "source": [
    "# 품사 달기 \n",
    "okt.pos(sentence_list[1])"
   ]
  },
  {
   "cell_type": "code",
   "execution_count": 10,
   "id": "5b1a0d34-5367-46fd-abf4-a2abdbe57ca5",
   "metadata": {
    "tags": []
   },
   "outputs": [
    {
     "data": {
      "text/plain": [
       "['나', '밥']"
      ]
     },
     "execution_count": 10,
     "metadata": {},
     "output_type": "execute_result"
    }
   ],
   "source": [
    "# return 명사\n",
    "okt.nouns(sentence_list[1])"
   ]
  },
  {
   "cell_type": "code",
   "execution_count": 16,
   "id": "f9121845-3f04-45b7-aa0c-56528693ebb6",
   "metadata": {
    "tags": []
   },
   "outputs": [
    {
     "data": {
      "text/plain": [
       "['아이폰', '애플공홈', '언락폰', '128기', '실버', '애플', '공홈', '128']"
      ]
     },
     "execution_count": 16,
     "metadata": {},
     "output_type": "execute_result"
    }
   ],
   "source": [
    "# 단어적으로 의미가 있는 것들로 묶어줌 \n",
    "okt.phrases(sentence_list[3])"
   ]
  },
  {
   "cell_type": "code",
   "execution_count": 17,
   "id": "bb743760-e00e-48d8-a571-82c1aae243c2",
   "metadata": {
    "tags": []
   },
   "outputs": [
    {
     "data": {
      "text/plain": [
       "['애플공홈', '애플', '공홈']"
      ]
     },
     "execution_count": 17,
     "metadata": {},
     "output_type": "execute_result"
    }
   ],
   "source": [
    "# 결합 명사 단어별 추출 \n",
    "okt.phrases('애플공홈')"
   ]
  },
  {
   "cell_type": "code",
   "execution_count": null,
   "id": "be932036-dde8-4c5e-a8ac-813efb299d89",
   "metadata": {},
   "outputs": [],
   "source": []
  }
 ],
 "metadata": {
  "kernelspec": {
   "display_name": "Python 3 (ipykernel)",
   "language": "python",
   "name": "python3"
  },
  "language_info": {
   "codemirror_mode": {
    "name": "ipython",
    "version": 3
   },
   "file_extension": ".py",
   "mimetype": "text/x-python",
   "name": "python",
   "nbconvert_exporter": "python",
   "pygments_lexer": "ipython3",
   "version": "3.11.3"
  }
 },
 "nbformat": 4,
 "nbformat_minor": 5
}
