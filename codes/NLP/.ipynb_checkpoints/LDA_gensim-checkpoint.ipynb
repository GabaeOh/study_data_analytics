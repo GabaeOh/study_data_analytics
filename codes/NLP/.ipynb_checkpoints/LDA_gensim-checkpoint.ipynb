{
 "cells": [
  {
   "cell_type": "code",
   "execution_count": 1,
   "id": "5a6147bd-5dc4-4fa0-a2f4-8687daabea2a",
   "metadata": {
    "tags": []
   },
   "outputs": [],
   "source": [
    "sentences = [\n",
    "    \"오늘 날씨가 좋아서 나들이 가고 싶다.\",\n",
    "    \"이 영화는 정말 재미있었어요.\",\n",
    "    \"맛있는 음식을 먹으러 갈까요?\",\n",
    "    \"운동을 하면 건강에 좋아지는 것 같아요.\",\n",
    "    \"공부하기 싫어서 미루고 있어요.\",\n",
    "    \"여행 계획을 세우고 있는데 어디로 갈까요?\",\n",
    "    \"좋은 책을 읽으면 마음이 편안해져요.\",\n",
    "    \"오늘은 친구들과 만나서 재미있게 놀았어요.\",\n",
    "    \"새로운 언어를 배우는 것은 어려워도 흥미로워요.\",\n",
    "    \"주말에 가족들과 함께 시간을 보내기로 했습니다.\"\n",
    "]"
   ]
  },
  {
   "cell_type": "code",
   "execution_count": 3,
   "id": "80914405-35b3-492d-b29b-04525c77458a",
   "metadata": {
    "tags": []
   },
   "outputs": [],
   "source": [
    "from gensim.corpora import Dictionary \n",
    "from gensim.models import LdaModel # 주제어 확인 "
   ]
  },
  {
   "cell_type": "markdown",
   "id": "ed5a112a-644d-4a8a-a4ca-25c75a22fc0f",
   "metadata": {},
   "source": [
    "### 전처리 (형태소 분석, 불용어 처리 등)"
   ]
  },
  {
   "cell_type": "code",
   "execution_count": 6,
   "id": "cf738f30-d956-4dbd-8f3c-9310e7f96126",
   "metadata": {
    "tags": []
   },
   "outputs": [],
   "source": [
    "from mecab import MeCab\n",
    "mecab = MeCab()"
   ]
  },
  {
   "cell_type": "code",
   "execution_count": 14,
   "id": "5d417849-c563-45d6-b81a-4d2e67f4788c",
   "metadata": {
    "tags": []
   },
   "outputs": [
    {
     "data": {
      "text/plain": [
       "[['오늘', '날씨', '가', '좋', '아서', '나', '들', '이', '가', '고', '싶', '다', '.'],\n",
       " ['이', '영화', '는', '정말', '재미있', '었', '어요', '.'],\n",
       " ['맛있', '는', '음식', '을', '먹', '으러', '갈까요', '?'],\n",
       " ['운동', '을', '하', '면', '건강', '에', '좋', '아', '지', '는', '것', '같', '아요', '.'],\n",
       " ['공부', '하', '기', '싫', '어서', '미루', '고', '있', '어요', '.'],\n",
       " ['여행', '계획', '을', '세우', '고', '있', '는데', '어디', '로', '갈까요', '?'],\n",
       " ['좋', '은', '책', '을', '읽', '으면', '마음', '이', '편안', '해져요', '.'],\n",
       " ['오늘', '은', '친구', '들', '과', '만나', '서', '재미있', '게', '놀', '았', '어요', '.'],\n",
       " ['새로운', '언어', '를', '배우', '는', '것', '은', '어려워', '도', '흥미', '로워요', '.'],\n",
       " ['주말', '에', '가족', '들', '과', '함께', '시간', '을', '보내', '기', '로', '했', '습니다', '.']]"
      ]
     },
     "execution_count": 14,
     "metadata": {},
     "output_type": "execute_result"
    }
   ],
   "source": [
    "#형태분석기 사용\n",
    "morphs_list = list()\n",
    "for sentence in sentences:\n",
    "    morphs = mecab.morphs(sentence)\n",
    "    morphs_list.append(morphs) #2차원 배열\n",
    "morphs_list #1차원으로 추출 "
   ]
  },
  {
   "cell_type": "code",
   "execution_count": 15,
   "id": "e509da24-26f8-4627-b203-c7aa807561a2",
   "metadata": {
    "tags": []
   },
   "outputs": [],
   "source": [
    "preprocessed_sentences = morphs_list"
   ]
  },
  {
   "cell_type": "code",
   "execution_count": 17,
   "id": "8278b006-7a52-489a-9403-7fd1c6f9394a",
   "metadata": {
    "tags": []
   },
   "outputs": [
    {
     "data": {
      "text/plain": [
       "<gensim.corpora.dictionary.Dictionary at 0x17ee61f09d0>"
      ]
     },
     "execution_count": 17,
     "metadata": {},
     "output_type": "execute_result"
    }
   ],
   "source": [
    "dictionary = Dictionary(preprocessed_sentences) #fit in like sklearn\n",
    "dictionary"
   ]
  },
  {
   "cell_type": "markdown",
   "id": "d17d1044-5b3f-4903-aeb3-a0878a575fd3",
   "metadata": {},
   "source": [
    "### transform with dictionary"
   ]
  },
  {
   "cell_type": "code",
   "execution_count": 20,
   "id": "716e7d1f-171f-46cf-a87e-d2e2e26aaf38",
   "metadata": {
    "tags": []
   },
   "outputs": [
    {
     "data": {
      "text/plain": [
       "[(0, 1),\n",
       " (1, 2),\n",
       " (2, 1),\n",
       " (3, 1),\n",
       " (4, 1),\n",
       " (5, 1),\n",
       " (6, 1),\n",
       " (7, 1),\n",
       " (8, 1),\n",
       " (9, 1),\n",
       " (10, 1),\n",
       " (11, 1)]"
      ]
     },
     "execution_count": 20,
     "metadata": {},
     "output_type": "execute_result"
    }
   ],
   "source": [
    "# dictionary.token2id  #단어(토큰)를 해당 단어의 고유한 숫자 ID로 매핑한 딕셔너리\n",
    "dictionary.doc2bow(preprocessed_sentences[0]) #transform 좌표값이 들어감"
   ]
  },
  {
   "cell_type": "code",
   "execution_count": 21,
   "id": "90037857-d377-4dc4-8e54-b87b8ebbbf86",
   "metadata": {
    "collapsed": true,
    "jupyter": {
     "outputs_hidden": true
    },
    "tags": []
   },
   "outputs": [
    {
     "data": {
      "text/plain": [
       "[[(0, 1),\n",
       "  (1, 2),\n",
       "  (2, 1),\n",
       "  (3, 1),\n",
       "  (4, 1),\n",
       "  (5, 1),\n",
       "  (6, 1),\n",
       "  (7, 1),\n",
       "  (8, 1),\n",
       "  (9, 1),\n",
       "  (10, 1),\n",
       "  (11, 1)],\n",
       " [(0, 1), (10, 1), (12, 1), (13, 1), (14, 1), (15, 1), (16, 1), (17, 1)],\n",
       " [(12, 1), (18, 1), (19, 1), (20, 1), (21, 1), (22, 1), (23, 1), (24, 1)],\n",
       " [(0, 1),\n",
       "  (11, 1),\n",
       "  (12, 1),\n",
       "  (23, 1),\n",
       "  (25, 1),\n",
       "  (26, 1),\n",
       "  (27, 1),\n",
       "  (28, 1),\n",
       "  (29, 1),\n",
       "  (30, 1),\n",
       "  (31, 1),\n",
       "  (32, 1),\n",
       "  (33, 1),\n",
       "  (34, 1)],\n",
       " [(0, 1),\n",
       "  (2, 1),\n",
       "  (13, 1),\n",
       "  (34, 1),\n",
       "  (35, 1),\n",
       "  (36, 1),\n",
       "  (37, 1),\n",
       "  (38, 1),\n",
       "  (39, 1),\n",
       "  (40, 1)],\n",
       " [(2, 1),\n",
       "  (18, 1),\n",
       "  (19, 1),\n",
       "  (23, 1),\n",
       "  (40, 1),\n",
       "  (41, 1),\n",
       "  (42, 1),\n",
       "  (43, 1),\n",
       "  (44, 1),\n",
       "  (45, 1),\n",
       "  (46, 1)],\n",
       " [(0, 1),\n",
       "  (10, 1),\n",
       "  (11, 1),\n",
       "  (23, 1),\n",
       "  (47, 1),\n",
       "  (48, 1),\n",
       "  (49, 1),\n",
       "  (50, 1),\n",
       "  (51, 1),\n",
       "  (52, 1),\n",
       "  (53, 1)],\n",
       " [(0, 1),\n",
       "  (6, 1),\n",
       "  (9, 1),\n",
       "  (13, 1),\n",
       "  (16, 1),\n",
       "  (49, 1),\n",
       "  (54, 1),\n",
       "  (55, 1),\n",
       "  (56, 1),\n",
       "  (57, 1),\n",
       "  (58, 1),\n",
       "  (59, 1),\n",
       "  (60, 1)],\n",
       " [(0, 1),\n",
       "  (12, 1),\n",
       "  (27, 1),\n",
       "  (49, 1),\n",
       "  (61, 1),\n",
       "  (62, 1),\n",
       "  (63, 1),\n",
       "  (64, 1),\n",
       "  (65, 1),\n",
       "  (66, 1),\n",
       "  (67, 1),\n",
       "  (68, 1)],\n",
       " [(0, 1),\n",
       "  (6, 1),\n",
       "  (23, 1),\n",
       "  (31, 1),\n",
       "  (36, 1),\n",
       "  (43, 1),\n",
       "  (55, 1),\n",
       "  (69, 1),\n",
       "  (70, 1),\n",
       "  (71, 1),\n",
       "  (72, 1),\n",
       "  (73, 1),\n",
       "  (74, 1),\n",
       "  (75, 1)]]"
      ]
     },
     "execution_count": 21,
     "metadata": {},
     "output_type": "execute_result"
    }
   ],
   "source": [
    "corpus_list = list()\n",
    "for sentence in  preprocessed_sentences :\n",
    "    morphs_vector = dictionary.doc2bow(sentence)\n",
    "    corpus_list.append(morphs_vector)\n",
    "corpus_list"
   ]
  },
  {
   "cell_type": "code",
   "execution_count": 32,
   "id": "069368b5-22e1-481c-8f76-ddf91149fdaa",
   "metadata": {
    "tags": []
   },
   "outputs": [],
   "source": [
    "lda_model = LdaModel(corpus=corpus_list, id2word=dictionary, num_topics=3)  #fit\n",
    "#벡터화된 숫자와, dictionary를 함께 넣어줘서 숫자와 실제 단어를 연결하여 알수 있게끔\n",
    "# num_topics=3 토픽 3가지만 잡아줘 "
   ]
  },
  {
   "cell_type": "code",
   "execution_count": 34,
   "id": "43f61167-f3d5-45c6-9f08-af443aca7030",
   "metadata": {
    "tags": []
   },
   "outputs": [
    {
     "data": {
      "text/plain": [
       "[(0, '0.052*\"을\" + 0.035*\".\" + 0.027*\"?\" + 0.027*\"갈까요\" + 0.026*\"로\"'),\n",
       " (1, '0.062*\".\" + 0.030*\"는\" + 0.027*\"것\" + 0.027*\"가\" + 0.027*\"좋\"'),\n",
       " (2, '0.037*\".\" + 0.035*\"을\" + 0.034*\"이\" + 0.032*\"어요\" + 0.026*\"재미있\"')]"
      ]
     },
     "execution_count": 34,
     "metadata": {},
     "output_type": "execute_result"
    }
   ],
   "source": [
    "lda_model.print_topics(num_words=5) # num_words 주요 토픽 5가지를 잡아줘 "
   ]
  },
  {
   "cell_type": "code",
   "execution_count": null,
   "id": "89bc9e61-7b54-4eb7-b71d-ef7ac0b0c372",
   "metadata": {},
   "outputs": [],
   "source": []
  }
 ],
 "metadata": {
  "kernelspec": {
   "display_name": "Python 3 (ipykernel)",
   "language": "python",
   "name": "python3"
  },
  "language_info": {
   "codemirror_mode": {
    "name": "ipython",
    "version": 3
   },
   "file_extension": ".py",
   "mimetype": "text/x-python",
   "name": "python",
   "nbconvert_exporter": "python",
   "pygments_lexer": "ipython3",
   "version": "3.11.3"
  }
 },
 "nbformat": 4,
 "nbformat_minor": 5
}
