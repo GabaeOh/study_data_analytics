{
 "cells": [
  {
   "cell_type": "code",
   "execution_count": 1,
   "id": "8eef3005-afa3-4e83-9cba-ae8427e6b087",
   "metadata": {
    "tags": []
   },
   "outputs": [],
   "source": [
    "sentences = [\n",
    "    \"오늘 날씨가 좋아서 나들이 가고 싶다.\",\n",
    "    \"이 영화는 정말 재미있었어요.\",\n",
    "    \"맛있는 음식을 먹으러 갈까요?\",\n",
    "    \"운동을 하면 건강에 좋아지는 것 같아요.\",\n",
    "    \"공부하기 싫어서 미루고 있어요.\",\n",
    "    \"여행 계획을 세우고 있는데 어디로 갈까요?\",\n",
    "    \"좋은 책을 읽으면 마음이 편안해져요.\",\n",
    "    \"오늘은 친구들과 만나서 재미있게 놀았어요.\",\n",
    "    \"새로운 언어를 배우는 것은 어려워도 흥미로워요.\",\n",
    "    \"주말에 가족들과 함께 시간을 보내기로 했습니다.\"\n",
    "]"
   ]
  },
  {
   "cell_type": "code",
   "execution_count": 4,
   "id": "f4e07497-61bf-4b1a-8696-e16349cc2763",
   "metadata": {
    "tags": []
   },
   "outputs": [],
   "source": [
    "from mecab import MeCab\n",
    "mecab = MeCab()\n",
    "\n",
    "# 불용어 리스트 생성 (예시)\n",
    "stopwords = ['가', '고', '을', '를', '이', '는']\n",
    "from konlpy.tag import Okt\n",
    "\n",
    "# Okt 형태소 분석기 인스턴스 생성\n",
    "okt = Okt()\n",
    "\n",
    "# 불용어 리스트 생성 (예시)\n",
    "stopwords = ['가', '고', '을', '를', '이', '는']\n",
    "\n",
    "# 토크나이징 함수 정의\n",
    "def tokenizer(raw, pos=[\"Noun\",\"Alpha\",\"Verb\",\"Number\"], stopword=stopwords):\n",
    "    return [\n",
    "        word for word, tag in okt.pos(\n",
    "            raw, \n",
    "            norm=True,   # normalize 그랰ㅋㅏ -> 그래ㅋㅋ\n",
    "            stem=True    # stemming 바뀌나->바뀌다\n",
    "            )\n",
    "            if len(word) > 1 and tag in pos and word not in stopword\n",
    "\n",
    "    ]"
   ]
  },
  {
   "cell_type": "code",
   "execution_count": 5,
   "id": "bb75da7b-7a60-4c9d-90e5-bbcc2d71803c",
   "metadata": {
    "tags": []
   },
   "outputs": [
    {
     "data": {
      "text/plain": [
       "['오늘', '날씨', '나들이', '가다', '싶다']"
      ]
     },
     "execution_count": 5,
     "metadata": {},
     "output_type": "execute_result"
    }
   ],
   "source": [
    "tokenizer(sentences[0])"
   ]
  },
  {
   "cell_type": "code",
   "execution_count": 10,
   "id": "59b4a4f1-86ff-4de4-8ced-64a30044a4a4",
   "metadata": {
    "tags": []
   },
   "outputs": [],
   "source": [
    "# 토크나이징 함수 정의\n",
    "def tokenizer_decomposition(raw, pos=[\"Noun\",\"Alpha\",\"Verb\",\"Number\"], stopword=stopwords):\n",
    "    pos=[\"Noun\",\"Alpha\",\"Verb\",\"Number\"]\n",
    "    row = sentences[0]\n",
    "    stopword = ['가', '고', '을', '를', '이', '는']\n",
    "    return [\n",
    "        word for word, tag in okt.pos(\n",
    "            raw, \n",
    "            norm=True,   # normalize 그랰ㅋㅏ -> 그래ㅋㅋ\n",
    "            stem=True    # stemming 바뀌나->바뀌다\n",
    "            )\n",
    "            if len(word) > 1 and tag in pos and word not in stopword\n",
    "\n",
    "    ]"
   ]
  },
  {
   "cell_type": "code",
   "execution_count": 11,
   "id": "be40640b-097c-4d33-9f2c-b2649cca78da",
   "metadata": {
    "tags": []
   },
   "outputs": [],
   "source": [
    "# pos=[\"Noun\",\"Alpha\",\"Verb\",\"Number\"]\n",
    "# row = sentences[0]\n",
    "# stopword = ['가', '고', '을', '를', '이', '는']\n",
    "result_list = list()\n",
    "for word, tag in  okt.pos(row, norm=True, stem=True) :\n",
    "    if len(word) > 1 and tag in pos and word not in stopword :\n",
    "        result_list.append(word)\n",
    "    # len(word) > 1 글자 1보다 크면 선택 \n",
    "    # pos 특정 품사만 선택 "
   ]
  },
  {
   "cell_type": "code",
   "execution_count": 12,
   "id": "be552a12-534b-4956-836c-2c2e6759ce3d",
   "metadata": {
    "tags": []
   },
   "outputs": [
    {
     "data": {
      "text/plain": [
       "['오늘', '날씨', '나들이', '가다', '싶다']"
      ]
     },
     "execution_count": 12,
     "metadata": {},
     "output_type": "execute_result"
    }
   ],
   "source": [
    "tokenizer_decomposition(sentences[0])"
   ]
  },
  {
   "cell_type": "code",
   "execution_count": null,
   "id": "5f93fe46-2d5f-4397-949a-0dcb0e15e02b",
   "metadata": {},
   "outputs": [],
   "source": []
  }
 ],
 "metadata": {
  "kernelspec": {
   "display_name": "Python 3 (ipykernel)",
   "language": "python",
   "name": "python3"
  },
  "language_info": {
   "codemirror_mode": {
    "name": "ipython",
    "version": 3
   },
   "file_extension": ".py",
   "mimetype": "text/x-python",
   "name": "python",
   "nbconvert_exporter": "python",
   "pygments_lexer": "ipython3",
   "version": "3.11.3"
  }
 },
 "nbformat": 4,
 "nbformat_minor": 5
}
