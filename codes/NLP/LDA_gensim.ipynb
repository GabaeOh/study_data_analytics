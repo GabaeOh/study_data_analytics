{
 "cells": [
  {
   "cell_type": "code",
   "execution_count": 1,
   "id": "5a6147bd-5dc4-4fa0-a2f4-8687daabea2a",
   "metadata": {
    "tags": []
   },
   "outputs": [],
   "source": [
    "sentences = [\n",
    "    \"오늘 날씨가 좋아서 나들이 가고 싶다.\",\n",
    "    \"이 영화는 정말 재미있었어요.\",\n",
    "    \"맛있는 음식을 먹으러 갈까요?\",\n",
    "    \"운동을 하면 건강에 좋아지는 것 같아요.\",\n",
    "    \"공부하기 싫어서 미루고 있어요.\",\n",
    "    \"여행 계획을 세우고 있는데 어디로 갈까요?\",\n",
    "    \"좋은 책을 읽으면 마음이 편안해져요.\",\n",
    "    \"오늘은 친구들과 만나서 재미있게 놀았어요.\",\n",
    "    \"새로운 언어를 배우는 것은 어려워도 흥미로워요.\",\n",
    "    \"주말에 가족들과 함께 시간을 보내기로 했습니다.\"\n",
    "]"
   ]
  },
  {
   "cell_type": "code",
   "execution_count": 3,
   "id": "80914405-35b3-492d-b29b-04525c77458a",
   "metadata": {
    "tags": []
   },
   "outputs": [],
   "source": [
    "from gensim.corpora import Dictionary \n",
    "from gensim.models import LdaModel # 주제어 확인 "
   ]
  },
  {
   "cell_type": "markdown",
   "id": "ed5a112a-644d-4a8a-a4ca-25c75a22fc0f",
   "metadata": {},
   "source": [
    "### 전처리 (형태소 분석, 불용어 처리 등)"
   ]
  },
  {
   "cell_type": "code",
   "execution_count": 6,
   "id": "cf738f30-d956-4dbd-8f3c-9310e7f96126",
   "metadata": {
    "tags": []
   },
   "outputs": [],
   "source": [
    "from mecab import MeCab\n",
    "mecab = MeCab()"
   ]
  },
  {
   "cell_type": "code",
   "execution_count": 35,
   "id": "5d417849-c563-45d6-b81a-4d2e67f4788c",
   "metadata": {
    "tags": []
   },
   "outputs": [
    {
     "data": {
      "text/plain": [
       "[['날씨', '나'],\n",
       " ['영화'],\n",
       " ['음식'],\n",
       " ['운동', '건강', '것'],\n",
       " ['공부'],\n",
       " ['여행', '계획', '어디'],\n",
       " ['책', '마음', '편안'],\n",
       " ['오늘', '친구'],\n",
       " ['언어', '것', '흥미'],\n",
       " ['주말', '가족', '시간']]"
      ]
     },
     "execution_count": 35,
     "metadata": {},
     "output_type": "execute_result"
    }
   ],
   "source": [
    "#형태분석기 사용\n",
    "morphs_list = list()\n",
    "for sentence in sentences:\n",
    "    morphs = mecab.nouns(sentence)\n",
    "    morphs_list.append(morphs) #2차원 배열\n",
    "morphs_list #1차원으로 추출 "
   ]
  },
  {
   "cell_type": "code",
   "execution_count": 36,
   "id": "e509da24-26f8-4627-b203-c7aa807561a2",
   "metadata": {
    "tags": []
   },
   "outputs": [],
   "source": [
    "preprocessed_sentences = morphs_list"
   ]
  },
  {
   "cell_type": "code",
   "execution_count": 37,
   "id": "8278b006-7a52-489a-9403-7fd1c6f9394a",
   "metadata": {
    "tags": []
   },
   "outputs": [
    {
     "data": {
      "text/plain": [
       "<gensim.corpora.dictionary.Dictionary at 0x17eecb6e690>"
      ]
     },
     "execution_count": 37,
     "metadata": {},
     "output_type": "execute_result"
    }
   ],
   "source": [
    "dictionary = Dictionary(preprocessed_sentences) #fit in like sklearn\n",
    "dictionary"
   ]
  },
  {
   "cell_type": "markdown",
   "id": "d17d1044-5b3f-4903-aeb3-a0878a575fd3",
   "metadata": {},
   "source": [
    "### transform with dictionary"
   ]
  },
  {
   "cell_type": "code",
   "execution_count": 38,
   "id": "716e7d1f-171f-46cf-a87e-d2e2e26aaf38",
   "metadata": {
    "tags": []
   },
   "outputs": [
    {
     "data": {
      "text/plain": [
       "[(0, 1), (1, 1)]"
      ]
     },
     "execution_count": 38,
     "metadata": {},
     "output_type": "execute_result"
    }
   ],
   "source": [
    "# dictionary.token2id  #단어(토큰)를 해당 단어의 고유한 숫자 ID로 매핑한 딕셔너리\n",
    "dictionary.doc2bow(preprocessed_sentences[0]) #transform 좌표값이 들어감"
   ]
  },
  {
   "cell_type": "code",
   "execution_count": 39,
   "id": "90037857-d377-4dc4-8e54-b87b8ebbbf86",
   "metadata": {
    "tags": []
   },
   "outputs": [
    {
     "data": {
      "text/plain": [
       "[[(0, 1), (1, 1)],\n",
       " [(2, 1)],\n",
       " [(3, 1)],\n",
       " [(4, 1), (5, 1), (6, 1)],\n",
       " [(7, 1)],\n",
       " [(8, 1), (9, 1), (10, 1)],\n",
       " [(11, 1), (12, 1), (13, 1)],\n",
       " [(14, 1), (15, 1)],\n",
       " [(5, 1), (16, 1), (17, 1)],\n",
       " [(18, 1), (19, 1), (20, 1)]]"
      ]
     },
     "execution_count": 39,
     "metadata": {},
     "output_type": "execute_result"
    }
   ],
   "source": [
    "corpus_list = list()\n",
    "for sentence in  preprocessed_sentences :\n",
    "    morphs_vector = dictionary.doc2bow(sentence)\n",
    "    corpus_list.append(morphs_vector)\n",
    "corpus_list"
   ]
  },
  {
   "cell_type": "code",
   "execution_count": 40,
   "id": "069368b5-22e1-481c-8f76-ddf91149fdaa",
   "metadata": {
    "tags": []
   },
   "outputs": [],
   "source": [
    "lda_model = LdaModel(corpus=corpus_list, id2word=dictionary, num_topics=3)  #fit\n",
    "#벡터화된 숫자와, dictionary를 함께 넣어줘서 숫자와 실제 단어를 연결하여 알수 있게끔\n",
    "# num_topics=3 토픽 3가지만 잡아줘 "
   ]
  },
  {
   "cell_type": "code",
   "execution_count": 41,
   "id": "43f61167-f3d5-45c6-9f08-af443aca7030",
   "metadata": {
    "tags": []
   },
   "outputs": [
    {
     "data": {
      "text/plain": [
       "[(0, '0.104*\"시간\" + 0.104*\"가족\" + 0.104*\"주말\" + 0.103*\"오늘\" + 0.098*\"친구\"'),\n",
       " (1, '0.076*\"것\" + 0.074*\"여행\" + 0.074*\"운동\" + 0.074*\"계획\" + 0.073*\"건강\"'),\n",
       " (2, '0.098*\"것\" + 0.097*\"편안\" + 0.096*\"책\" + 0.096*\"마음\" + 0.095*\"흥미\"')]"
      ]
     },
     "execution_count": 41,
     "metadata": {},
     "output_type": "execute_result"
    }
   ],
   "source": [
    "lda_model.print_topics(num_words=5) # num_words 주요 토픽 5가지를 잡아줘 "
   ]
  },
  {
   "cell_type": "code",
   "execution_count": null,
   "id": "89bc9e61-7b54-4eb7-b71d-ef7ac0b0c372",
   "metadata": {},
   "outputs": [],
   "source": []
  }
 ],
 "metadata": {
  "kernelspec": {
   "display_name": "Python 3 (ipykernel)",
   "language": "python",
   "name": "python3"
  },
  "language_info": {
   "codemirror_mode": {
    "name": "ipython",
    "version": 3
   },
   "file_extension": ".py",
   "mimetype": "text/x-python",
   "name": "python",
   "nbconvert_exporter": "python",
   "pygments_lexer": "ipython3",
   "version": "3.11.3"
  }
 },
 "nbformat": 4,
 "nbformat_minor": 5
}
