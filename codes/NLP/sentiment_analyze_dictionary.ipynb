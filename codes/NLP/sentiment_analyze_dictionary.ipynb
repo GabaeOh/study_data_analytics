{
 "cells": [
  {
   "cell_type": "markdown",
   "id": "8207c37d-851e-41de-b939-e284a591b7b4",
   "metadata": {},
   "source": [
    "## 감성 사전 의한 감성분석 "
   ]
  },
  {
   "cell_type": "code",
   "execution_count": 1,
   "id": "4a70d444-b57e-40dc-97eb-9f323ae00671",
   "metadata": {
    "tags": []
   },
   "outputs": [],
   "source": [
    "import pandas as pd"
   ]
  },
  {
   "cell_type": "markdown",
   "id": "22f5cda0-77f8-44ff-83ed-25af64cefdf7",
   "metadata": {},
   "source": [
    "### 감성사전 가져오기 "
   ]
  },
  {
   "cell_type": "code",
   "execution_count": 13,
   "id": "4fda1ad0-8173-484d-9fa3-7ab3dd235d63",
   "metadata": {
    "tags": []
   },
   "outputs": [
    {
     "data": {
      "text/html": [
       "<div>\n",
       "<style scoped>\n",
       "    .dataframe tbody tr th:only-of-type {\n",
       "        vertical-align: middle;\n",
       "    }\n",
       "\n",
       "    .dataframe tbody tr th {\n",
       "        vertical-align: top;\n",
       "    }\n",
       "\n",
       "    .dataframe thead th {\n",
       "        text-align: right;\n",
       "    }\n",
       "</style>\n",
       "<table border=\"1\" class=\"dataframe\">\n",
       "  <thead>\n",
       "    <tr style=\"text-align: right;\">\n",
       "      <th></th>\n",
       "      <th>출처</th>\n",
       "    </tr>\n",
       "  </thead>\n",
       "  <tbody>\n",
       "    <tr>\n",
       "      <th>15</th>\n",
       "      <td>(-;</td>\n",
       "    </tr>\n",
       "    <tr>\n",
       "      <th>16</th>\n",
       "      <td>(^^)</td>\n",
       "    </tr>\n",
       "    <tr>\n",
       "      <th>17</th>\n",
       "      <td>(^-^)</td>\n",
       "    </tr>\n",
       "  </tbody>\n",
       "</table>\n",
       "</div>"
      ],
      "text/plain": [
       "       출처\n",
       "15    (-;\n",
       "16   (^^)\n",
       "17  (^-^)"
      ]
     },
     "execution_count": 13,
     "metadata": {},
     "output_type": "execute_result"
    }
   ],
   "source": [
    "df_positives = pd.read_csv('../../datasets/pos_pol_word.txt', delimiter='\\t')\n",
    "df_positives = df_positives[15:] # 감성사전에 필요없는 라인 삭제\n",
    "df_positives[:3]"
   ]
  },
  {
   "cell_type": "code",
   "execution_count": 7,
   "id": "f454f89d-d55b-4ee3-915e-4f028b3e5999",
   "metadata": {
    "tags": []
   },
   "outputs": [
    {
     "data": {
      "text/html": [
       "<div>\n",
       "<style scoped>\n",
       "    .dataframe tbody tr th:only-of-type {\n",
       "        vertical-align: middle;\n",
       "    }\n",
       "\n",
       "    .dataframe tbody tr th {\n",
       "        vertical-align: top;\n",
       "    }\n",
       "\n",
       "    .dataframe thead th {\n",
       "        text-align: right;\n",
       "    }\n",
       "</style>\n",
       "<table border=\"1\" class=\"dataframe\">\n",
       "  <thead>\n",
       "    <tr style=\"text-align: right;\">\n",
       "      <th></th>\n",
       "      <th>출처</th>\n",
       "    </tr>\n",
       "  </thead>\n",
       "  <tbody>\n",
       "    <tr>\n",
       "      <th>15</th>\n",
       "      <td>가난</td>\n",
       "    </tr>\n",
       "    <tr>\n",
       "      <th>16</th>\n",
       "      <td>가난뱅이</td>\n",
       "    </tr>\n",
       "    <tr>\n",
       "      <th>17</th>\n",
       "      <td>가난살이</td>\n",
       "    </tr>\n",
       "  </tbody>\n",
       "</table>\n",
       "</div>"
      ],
      "text/plain": [
       "      출처\n",
       "15    가난\n",
       "16  가난뱅이\n",
       "17  가난살이"
      ]
     },
     "execution_count": 7,
     "metadata": {},
     "output_type": "execute_result"
    }
   ],
   "source": [
    "df_negatives = pd.read_csv('../../datasets/neg_pol_word.txt', delimiter='\\t')\n",
    "df_negatives = df_negatives[15:] # 감성사전에 필요없는 라인 삭제\n",
    "df_negatives[:3]"
   ]
  },
  {
   "cell_type": "markdown",
   "id": "d0005436-fa18-4114-80b0-85c29aed19c9",
   "metadata": {},
   "source": [
    "### 문장에 점수 적용(긍/부정)"
   ]
  },
  {
   "cell_type": "code",
   "execution_count": 8,
   "id": "58b744b2-ac6d-4fa9-81a8-449c6644e25e",
   "metadata": {
    "tags": []
   },
   "outputs": [],
   "source": [
    "comment = '코로나19의 여파로 전 세계 교사들과 학생들 모두 혼란스러운 시기를 보내고 있습니다.어려움 속에서도 학생들을 위해 안간힘을 쓰고 있는 모든 선생님들에게, 응원과 박수를 함께 보냅니다.'"
   ]
  },
  {
   "cell_type": "code",
   "execution_count": 16,
   "id": "3fea7fab-eca4-4e9d-b4db-0d3298dabc79",
   "metadata": {
    "tags": []
   },
   "outputs": [
    {
     "name": "stdout",
     "output_type": "stream",
     "text": [
      "positive word in comment : 운\n",
      "positive word in comment : 함께\n",
      "negatives word in comment : 어려움\n",
      "negatives word in comment : 해\n",
      "negatives word in comment : 혼란스러운\n"
     ]
    }
   ],
   "source": [
    "# 긍정 단어 포함 확인 \n",
    "for positive_word in df_postives['출처']:\n",
    "    if positive_word in comment:\n",
    "        print('positive word in comment : {0}'.format(positive_word))\n",
    "        \n",
    "# 부정 단어 포함 확인 \n",
    "for negatives_word in df_negatives['출처']:\n",
    "    if negatives_word in comment:\n",
    "        print('negatives word in comment : {0}'.format(negatives_word))"
   ]
  },
  {
   "cell_type": "code",
   "execution_count": null,
   "id": "88b86c51-95a0-4697-aeed-c2b68b6a8565",
   "metadata": {},
   "outputs": [],
   "source": []
  }
 ],
 "metadata": {
  "kernelspec": {
   "display_name": "Python 3 (ipykernel)",
   "language": "python",
   "name": "python3"
  },
  "language_info": {
   "codemirror_mode": {
    "name": "ipython",
    "version": 3
   },
   "file_extension": ".py",
   "mimetype": "text/x-python",
   "name": "python",
   "nbconvert_exporter": "python",
   "pygments_lexer": "ipython3",
   "version": "3.11.3"
  }
 },
 "nbformat": 4,
 "nbformat_minor": 5
}
