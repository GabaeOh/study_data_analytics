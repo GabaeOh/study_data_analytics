{
 "cells": [
  {
   "cell_type": "code",
   "execution_count": 1,
   "id": "3b28a2d9-5117-4bf8-9438-c71c3436dd9a",
   "metadata": {},
   "outputs": [],
   "source": [
    "from selenium import webdriver"
   ]
  },
  {
   "cell_type": "code",
   "execution_count": 3,
   "id": "21a10001-a669-4ed1-9c65-9e1a5e80fce3",
   "metadata": {},
   "outputs": [],
   "source": [
    "# open chrome browser\n",
    "browser = webdriver.Chrome(executable_path='../../../../chromedriver.exe')"
   ]
  },
  {
   "cell_type": "code",
   "execution_count": 4,
   "id": "df8916f5-1ee1-4b6b-938e-30369368f915",
   "metadata": {},
   "outputs": [],
   "source": [
    "# url in address window\n",
    "browser.get('https://wrtn.ai/?type=main')"
   ]
  },
  {
   "cell_type": "markdown",
   "id": "23fdca93-7ac9-4f32-8071-c0d5577b5341",
   "metadata": {},
   "source": [
    "## wrtnai ask and then answer"
   ]
  },
  {
   "cell_type": "code",
   "execution_count": 6,
   "id": "0b900c92-aaf5-4539-9267-465bb63c72c2",
   "metadata": {},
   "outputs": [
    {
     "ename": "SyntaxError",
     "evalue": "unterminated string literal (detected at line 2) (2687347806.py, line 2)",
     "output_type": "error",
     "traceback": [
      "\u001b[1;36m  Cell \u001b[1;32mIn[6], line 2\u001b[1;36m\u001b[0m\n\u001b[1;33m    browser.find_elements_by_xpath('//*[@id=\"__next\"]/div/main/div/div[1]/div/div[1]/div[2]/div[2]/button/svg/\u001b[0m\n\u001b[1;37m                                   ^\u001b[0m\n\u001b[1;31mSyntaxError\u001b[0m\u001b[1;31m:\u001b[0m unterminated string literal (detected at line 2)\n"
     ]
    }
   ],
   "source": [
    "# click + button tag(create chatting window) : //*[@id=\"__next\"]/div/main/div/div[1]/div/div[1]/div[2]/div[2]/button/svg/path[2]\n",
    "browser.find_elements_by_xpath('//*[@id=\"__next\"]/div/main/div/div[1]/div/div[1]/div[2]/div[2]/button/svg/"
   ]
  },
  {
   "cell_type": "code",
   "execution_count": null,
   "id": "488c5881-35e8-42db-a1af-d6f4ed3fb76d",
   "metadata": {},
   "outputs": [],
   "source": [
    "# 1 loading button 생성 멈추기 : //*[@id=\"__next\"]/div/main/div/div[2]/div/div/div/div[2]/div[2]/div/button\n",
    "# 2 loading button 생성 멈추기 : //*[@id=\"__next\"]/div/main/div/div[2]/div/div/div/div[2]/div[2]/div/button/i\n",
    "\n",
    "import time\n",
    "def loading_answer() :\n",
    "    loading_flag = True\n",
    "    while(loading_flag):\n",
    "        time.sleep(2)\n",
    "        try :\n",
    "            # check point text \"아래로\" tag : //*[@id=\"__next\"]/div/main/div/div[2]/div/div/div/div[2]/div[2]/div/button/text()\n",
    "            down_button = browser.find_elements_by_xpath('//*[@id=\"__next\"]/div/main/div/div[2]/div/div/div/div[2]/div[2]/div/button/text()')\n",
    "            loading_flag = False\n",
    "        except :\n",
    "            pass\n",
    "    down_button.click()"
   ]
  },
  {
   "cell_type": "code",
   "execution_count": null,
   "id": "3be83754-3a97-4eb2-8416-a90466dc784e",
   "metadata": {},
   "outputs": [],
   "source": [
    "ask_list = ['여러 댓글 페르소나를 찾을 수 있는 방안'\n",
    "           , '한글 처리하는 python code']\n",
    "# input asking text tag : //*[@id=\"__next\"]/div/main/div/div[2]/div/div/div/div[3]/div[3]/div[2]/textarea\n",
    "browser.find_elements_by_xpath('//*[@id=\"__next\"]/div/main/div/div[2]/div/div/div/div[3]/div[3]/div[2]/textarea').send_keys(ask_list[0])\n",
    "# click send button tag : //*[@id=\"__next\"]/div/main/div/div[2]/div/div/div/div[3]/div[3]/div[4]/button[2]\n",
    "browser.find_elements_by_xpath('//*[@id=\"__next\"]/div/main/div/div[2]/div/div/div/div[3]/div[3]/div[4]/button[2]').click()\n",
    "loading_answer()"
   ]
  },
  {
   "cell_type": "code",
   "execution_count": null,
   "id": "d703952f-f9dc-4b5d-ad89-e203d26cf601",
   "metadata": {},
   "outputs": [],
   "source": [
    "# answer tag : //*[@id=\"ScrollContainer\"]/div[1]/div[3]/div/div/div[2]/swiper-container/swiper-slide/div/div[1]/div\n",
    "answer_text = browser.find_elements_by_xpath('//*[@id=\"ScrollContainer\"]/div[1]/div[3]/div/div/div[2]/swiper"
   ]
  },
  {
   "cell_type": "code",
   "execution_count": null,
   "id": "490abd91-d783-490b-8390-bab4c1b155df",
   "metadata": {},
   "outputs": [],
   "source": [
    "ask_answer = [ask_list[0],answer_text.text]\n",
    "ask_answer"
   ]
  },
  {
   "cell_type": "code",
   "execution_count": null,
   "id": "f940bd1c-9791-432f-8bcc-3abb03aeb846",
   "metadata": {},
   "outputs": [],
   "source": [
    "# Screenshot\n",
    "browser.save_screenshot('./begginers.png')"
   ]
  },
  {
   "cell_type": "code",
   "execution_count": null,
   "id": "c3ac7007-246c-42ac-8847-95033c21d88a",
   "metadata": {},
   "outputs": [],
   "source": [
    "# browser.quit()"
   ]
  },
  {
   "cell_type": "code",
   "execution_count": null,
   "id": "7f665084-dc00-44c4-87ee-df6034429e69",
   "metadata": {},
   "outputs": [],
   "source": []
  }
 ],
 "metadata": {
  "kernelspec": {
   "display_name": "Python 3 (ipykernel)",
   "language": "python",
   "name": "python3"
  },
  "language_info": {
   "codemirror_mode": {
    "name": "ipython",
    "version": 3
   },
   "file_extension": ".py",
   "mimetype": "text/x-python",
   "name": "python",
   "nbconvert_exporter": "python",
   "pygments_lexer": "ipython3",
   "version": "3.11.3"
  }
 },
 "nbformat": 4,
 "nbformat_minor": 5
}
