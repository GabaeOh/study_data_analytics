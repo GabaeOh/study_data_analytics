{
 "cells": [
  {
   "cell_type": "markdown",
   "id": "c8700ab8-5d5a-4cc5-93af-c4ed31d33498",
   "metadata": {},
   "source": [
    "## 각 제품(앱)에 들어가서 리뷰를 스크롤링 하기 "
   ]
  },
  {
   "cell_type": "code",
   "execution_count": 8,
   "id": "023f2d15-79f2-4c3d-9e75-285085acc375",
   "metadata": {
    "tags": []
   },
   "outputs": [],
   "source": [
    "from selenium import webdriver\n",
    "browser = webdriver.Chrome(executable_path='../../../../chromedriver.exe') \n",
    "browser.get('https://play.google.com/store/search?q=%ED%97%AC%EC%8A%A4%EC%BC%80%EC%96%B4%20%EC%95%B1&c=apps&hl=ko-KR')"
   ]
  },
  {
   "cell_type": "code",
   "execution_count": 9,
   "id": "0ac19433-8718-44bb-bbe1-7da5b19cdc22",
   "metadata": {
    "tags": []
   },
   "outputs": [],
   "source": [
    "browser.implicitly_wait(10)"
   ]
  },
  {
   "cell_type": "code",
   "execution_count": 10,
   "id": "7e6dc34a-3e46-4776-b384-d6042145ceaa",
   "metadata": {
    "tags": []
   },
   "outputs": [],
   "source": [
    "import pandas as pd \n",
    "import pymongo as mg\n",
    "import time"
   ]
  },
  {
   "cell_type": "code",
   "execution_count": null,
   "id": "8bb0b0fe-a30f-4067-97b2-5ae6ef407652",
   "metadata": {
    "tags": []
   },
   "outputs": [
    {
     "name": "stdout",
     "output_type": "stream",
     "text": [
      "service_name : Samsung Health(삼성 헬스), review count : 40\n",
      "service_name : NH헬스케어, review count : 40\n",
      "service_name : 케어헬스, review count : 17\n",
      "service_name : 채움건강, review count : 40\n",
      "service_name : 헬스케어 건강관리서비스, review count : 1\n",
      "service_name : 기업용 디지털 헬스케어 삼성화재 애니핏 프로(PRO), review count : 7\n",
      "service_name : SK VIEW 헬스케어, review count : 2\n",
      "service_name : 애니핏 플러스 나에게 핏한 건강관리, review count : 40\n",
      "service_name : 삼성생명 S-헬스케어, review count : 25\n",
      "service_name : 오케어, review count : 40\n",
      "service_name : 어떠케어 - 내 몸이 궁금할 때, review count : 40\n",
      "service_name : 캐시워크 - 적립형 만보기 첫화면, review count : 40\n",
      "service_name : 오늘건강 - 어르신 건강관리 앱, review count : 40\n",
      "service_name : 닥터다이어리 – 식단, 체중, 혈당, 혈압관리 필수 앱, review count : 40\n",
      "service_name : Health4U, review count : 40\n",
      "service_name : 케어네이션 - 간병인, 병원 동행인, 요양보호사 찾기, review count : 40\n",
      "service_name : 더헬스 (THE Health), review count : 40\n"
     ]
    }
   ],
   "source": [
    "browsernt = mg.MongoClient(host='mongodb://localhost:27017')\n",
    "database = client['study_data_analytics']\n",
    "collection = database['googlestore_heathcare']\n",
    "\n",
    "# 서비스 앱에 대한 리스트 가져오기 \n",
    "click_path = 'section > div > div > div > div' \n",
    "company_list = browser.find_elements_by_css_selector(click_path)\n",
    "\n",
    "len(company_list)\n",
    "\n",
    "for company in company_list:\n",
    "    company.click()\n",
    "    time.sleep(2) #term을 주기 \n",
    "    \n",
    "    # 서비스 앱에 대한 정보 가져오기 \n",
    "    try : \n",
    "        service_name = browser.find_element_by_css_selector('div > h1 > span').text\n",
    "    except: \n",
    "        service_name = str()\n",
    "    try : \n",
    "        company_name = browser.find_element_by_css_selector('div.Il7kR > div > div > div > a > span').text\n",
    "    except: \n",
    "        company_name = str()\n",
    "    try : \n",
    "        app_information = browser.find_element_by_css_selector('div:nth-child(1) > c-wiz:nth-child(2) > div > section > div').text\n",
    "    except : \n",
    "        app_information = str()\n",
    "        \n",
    "    # [service_name, company_name, app_information]\n",
    "    \n",
    "    # 댓글 팝업 띄우기(해당 리뷰 없을 시 대비한 방어 코드 작성 필요)\n",
    "    review_flag = True\n",
    "    try : \n",
    "        browser.find_element_by_xpath('//*/div/div/button/*[contains(text(), \"리뷰\")]').click() \n",
    "    except : \n",
    "        review_flag = False\n",
    "        \n",
    "    # 회사 서비스에 대한 전체 리뷰 가져오기 \n",
    "    serviceapp_colums_name = ['service_name', 'content', 'date', 'stars']\n",
    "    reviews_list = list()\n",
    "    if review_flag : # 리뷰가 있으면 \n",
    "        reviews_bundle = browser.find_elements_by_css_selector('div.fysCi > div > div:nth-child(2) > div')\n",
    "        len(reviews_bundle)\n",
    "\n",
    "        for review_bundle in reviews_bundle : \n",
    "            content = review_bundle.find_element_by_css_selector('div.h3YV2d').text\n",
    "            date = review_bundle.find_element_by_css_selector('header > div.Jx4nYe > span').text\n",
    "            stars = review_bundle.find_element_by_css_selector('header > div.Jx4nYe > div').get_attribute('aria-label')\n",
    "            review_list = [service_name, content, date, stars]\n",
    "            reviews_list.append(review_list) # 리뷰에 대한 모든 것(특정 회사 서비스에 대한)\n",
    "        \n",
    "        browser.back() #팝업 닫기\n",
    "        \n",
    "        # 저장을 위한 작업 \n",
    "        df_reviews = pd.DataFrame(data=reviews_list, columns=serviceapp_colums_name)\n",
    "        data_dict = df_reviews.to_dict(orient='records')\n",
    "        collection.insert_many(data_dict)\n",
    "        \n",
    "    print('service_name : {}, review count : {}'.format(service_name, len(reviews_list)))\n",
    "    browser.back() # 리스트로 돌아가기 \n",
    "    time.sleep(3)\n",
    "print('Done')"
   ]
  },
  {
   "cell_type": "code",
   "execution_count": null,
   "id": "a19b24da-b482-482d-a88b-367f55a9aa09",
   "metadata": {},
   "outputs": [],
   "source": [
    "browser.quit()"
   ]
  }
 ],
 "metadata": {
  "kernelspec": {
   "display_name": "Python 3 (ipykernel)",
   "language": "python",
   "name": "python3"
  },
  "language_info": {
   "codemirror_mode": {
    "name": "ipython",
    "version": 3
   },
   "file_extension": ".py",
   "mimetype": "text/x-python",
   "name": "python",
   "nbconvert_exporter": "python",
   "pygments_lexer": "ipython3",
   "version": "3.11.3"
  }
 },
 "nbformat": 4,
 "nbformat_minor": 5
}
