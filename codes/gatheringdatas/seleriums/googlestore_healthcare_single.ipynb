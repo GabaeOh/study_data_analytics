{
 "cells": [
  {
   "cell_type": "code",
   "execution_count": 117,
   "id": "023f2d15-79f2-4c3d-9e75-285085acc375",
   "metadata": {
    "tags": []
   },
   "outputs": [],
   "source": [
    "from selenium import webdriver\n",
    "browser = webdriver.Chrome(executable_path='../../../../chromedriver.exe') \n",
    "browser.get('https://play.google.com/store/search?q=%ED%97%AC%EC%8A%A4%EC%BC%80%EC%96%B4%20%EC%95%B1&c=apps&hl=ko-KR')"
   ]
  },
  {
   "cell_type": "code",
   "execution_count": 118,
   "id": "0ac19433-8718-44bb-bbe1-7da5b19cdc22",
   "metadata": {
    "tags": []
   },
   "outputs": [],
   "source": [
    "browser.implicitly_wait(10)"
   ]
  },
  {
   "cell_type": "markdown",
   "id": "df1c8465-62b6-4525-af51-7202df26c9c5",
   "metadata": {},
   "source": [
    "## 제품 클릭\n",
    "- section > div > div > div > div:nth-child(2) > div > div > div"
   ]
  },
  {
   "cell_type": "code",
   "execution_count": 119,
   "id": "9adecdcd-b2c4-49e6-8499-0ce0b143b95d",
   "metadata": {
    "tags": []
   },
   "outputs": [],
   "source": [
    "click_path = 'section > div > div > div > div:nth-child(2) > div > div > div' \n",
    "browser.find_element_by_css_selector(click_path).click()"
   ]
  },
  {
   "cell_type": "markdown",
   "id": "1f7f6ec4-d321-4381-b20c-f08c521330bd",
   "metadata": {},
   "source": [
    "## 제품 정보 \n",
    "- 서비스명 tag :  div > h1 > span\n",
    "- 만드 회사명 tag : div.Il7kR > div > div > div > a > span\n",
    "- 앱정보 tag : div:nth-child(1) > c-wiz:nth-child(2) > div > section > div"
   ]
  },
  {
   "cell_type": "code",
   "execution_count": 120,
   "id": "263f1eab-6ffa-4924-9e2e-dfeb49d6b904",
   "metadata": {
    "tags": []
   },
   "outputs": [
    {
     "data": {
      "text/plain": [
       "['NH헬스케어',\n",
       " 'NH농협생명',\n",
       " '한국인의 건강관리 NH 헬스케어!\\n\\n지인들과 재밌고 건강하게 즐기는 NH헬스케어만의 새로운 걷기 방법 – 걷기 배틀\\n걷기 목표 달성시 지급되는 포인트로 완성하는 온라인 텃밭 – 랜선 텃밭 가꾸기\\n\\n즐겁고 과학적인 당신만을 위한 건강 솔루션 NH 헬스케어!\\n업데이트 날짜\\n2023. 7. 21.\\n건강/운동']"
      ]
     },
     "execution_count": 120,
     "metadata": {},
     "output_type": "execute_result"
    }
   ],
   "source": [
    "service_name = browser.find_element_by_css_selector('div > h1 > span').text\n",
    "company_name = browser.find_element_by_css_selector('div.Il7kR > div > div > div > a > span').text\n",
    "app_information = browser.find_element_by_css_selector('div:nth-child(1) > c-wiz:nth-child(2) > div > section > div').text\n",
    "\n",
    "[service_name, company_name, app_information]"
   ]
  },
  {
   "cell_type": "markdown",
   "id": "424d1d1e-06bd-4d5d-adde-4705f10b7f10",
   "metadata": {},
   "source": [
    "#### 리뷰 총 갯수 가져오기 \n",
    "- 리뷰 총 갯수 tag : div:nth-child(1) > div.g1rdde"
   ]
  },
  {
   "cell_type": "code",
   "execution_count": 135,
   "id": "6a979fa9-d47b-4c7b-ae35-21f9a6c7149c",
   "metadata": {
    "tags": []
   },
   "outputs": [
    {
     "data": {
      "text/plain": [
       "'리뷰 473개'"
      ]
     },
     "execution_count": 135,
     "metadata": {},
     "output_type": "execute_result"
    }
   ],
   "source": [
    "review_total_count_text = browser.find_element_by_css_selector('div:nth-child(1) > div.g1rdde').text\n",
    "review_total_count_text"
   ]
  },
  {
   "cell_type": "code",
   "execution_count": 139,
   "id": "ccbba324-c9ca-4530-8505-9f3c6566d0d6",
   "metadata": {
    "tags": []
   },
   "outputs": [
    {
     "data": {
      "text/plain": [
       "(473, int)"
      ]
     },
     "execution_count": 139,
     "metadata": {},
     "output_type": "execute_result"
    }
   ],
   "source": [
    "import re #regexpress Function \n",
    "result_list = re.findall(r'\\d+', review_total_count_text)\n",
    "\n",
    "review_total_count = int(result_list[0]) # 리뷰 총 갯수\n",
    "review_total_count, type(review_total_count)"
   ]
  },
  {
   "cell_type": "markdown",
   "id": "c4869263-7f6b-46af-970c-45e50719a85d",
   "metadata": {},
   "source": [
    "## 리뷰 모두 보기 \n",
    "- click tag : div:nth-child(5) > div > div > button > span"
   ]
  },
  {
   "cell_type": "code",
   "execution_count": 121,
   "id": "6571cb80-0295-4875-9783-c74a4d6a3bfb",
   "metadata": {
    "tags": []
   },
   "outputs": [],
   "source": [
    "import time\n",
    "time.sleep(2)"
   ]
  },
  {
   "cell_type": "code",
   "execution_count": 122,
   "id": "58da6bfa-a6b6-4d51-bdc5-fb97dad3b838",
   "metadata": {
    "tags": []
   },
   "outputs": [],
   "source": [
    "browser.find_element_by_xpath('//*/div/div/button/*[contains(text(), \"리뷰\")]').click() \n",
    "#browser.find_element_by_css_selector(div:nth-child(5) > div > div > button > span).click()"
   ]
  },
  {
   "cell_type": "markdown",
   "id": "b9ec86a8-f489-4bdd-baf0-f06bbd0fe0d2",
   "metadata": {},
   "source": [
    "## 리뷰 내용 가져오기 \n",
    "- 리뷰 묶음 tag : div.fysCi > div > div:nth-child(2) > div\n",
    "- 내용 tag : div.h3YV2d\n",
    "- 날짜 tag : header > div.Jx4nYe > span\n",
    "- 별점 tag : header > div.Jx4nYe > div"
   ]
  },
  {
   "cell_type": "code",
   "execution_count": 123,
   "id": "7b251d5b-f31a-4e42-9464-2c953a41b873",
   "metadata": {
    "tags": []
   },
   "outputs": [
    {
     "data": {
      "text/plain": [
       "40"
      ]
     },
     "execution_count": 123,
     "metadata": {},
     "output_type": "execute_result"
    }
   ],
   "source": [
    "reviews_bundle = browser.find_elements_by_css_selector('div.fysCi > div > div:nth-child(2) > div')\n",
    "len(reviews_bundle)"
   ]
  },
  {
   "cell_type": "code",
   "execution_count": 124,
   "id": "8bb0b0fe-a30f-4067-97b2-5ae6ef407652",
   "metadata": {
    "tags": []
   },
   "outputs": [],
   "source": [
    "content = reviews_bundle[0].find_element_by_css_selector('div.h3YV2d').text\n",
    "date = reviews_bundle[0].find_element_by_css_selector('header > div.Jx4nYe > span').text\n",
    "stars = reviews_bundle[0].find_element_by_css_selector('header > div.Jx4nYe > div').get_attribute('aria-label')"
   ]
  },
  {
   "cell_type": "code",
   "execution_count": 125,
   "id": "0a738407-bc69-464b-b87c-839247cf241a",
   "metadata": {
    "tags": []
   },
   "outputs": [
    {
     "data": {
      "text/plain": [
       "['안녕하세요. 그동안 헬스케어 앱을 잘 사용중에 있었는데요, 그전에는 앱을 클릭하면 자동 로그인이되어 걸음수도 확인하고 포인트도 받고 그랬는데요. 오늘 갑자기 회원가입 및 로그인 화면이 뜨더니 로그인이 아예 안되면서 자꾸 에러가 나네요. 기존 회원인데, 새로 회원가입할수도 없구요ㅜㅜ 어떻게 해야하는지 알려주시면 감사하겠습니다.',\n",
       " '2023년 7월 21일',\n",
       " '별표 5개 만점에 4개를 받았습니다.']"
      ]
     },
     "execution_count": 125,
     "metadata": {},
     "output_type": "execute_result"
    }
   ],
   "source": [
    "[content, date, stars]"
   ]
  },
  {
   "cell_type": "markdown",
   "id": "004c702c-a809-4218-8508-b9e546a59026",
   "metadata": {},
   "source": [
    "## 추가 댓글 가져오기 \n",
    "- 마지막 내용을 클릭\n",
    "- 마지막 화면까지 스크롤링"
   ]
  },
  {
   "cell_type": "code",
   "execution_count": 126,
   "id": "ea25630a-a329-442d-90cb-cb8872e38531",
   "metadata": {
    "tags": []
   },
   "outputs": [],
   "source": [
    "reviews_bundle[39].click() # reviews_bundle 40개가 있고 클릭은 39번 해야됨"
   ]
  },
  {
   "cell_type": "code",
   "execution_count": 127,
   "id": "8ab46923-e2e7-417f-ad66-0fb7e247439e",
   "metadata": {
    "tags": []
   },
   "outputs": [
    {
     "data": {
      "text/plain": [
       "40"
      ]
     },
     "execution_count": 127,
     "metadata": {},
     "output_type": "execute_result"
    }
   ],
   "source": [
    "reviews_bundle = browser.find_elements_by_css_selector('div.fysCi > div > div:nth-child(2) > div')\n",
    "len(reviews_bundle)"
   ]
  },
  {
   "cell_type": "code",
   "execution_count": 128,
   "id": "75bca215-2dcb-4be7-b5bc-5444bc419f58",
   "metadata": {
    "tags": []
   },
   "outputs": [
    {
     "data": {
      "text/plain": [
       "[]"
      ]
     },
     "execution_count": 128,
     "metadata": {},
     "output_type": "execute_result"
    }
   ],
   "source": [
    "reviews_bundle[40:] #40부터 스크랩핑"
   ]
  },
  {
   "cell_type": "markdown",
   "id": "332aa611-8ff5-47c6-9e29-0fa48ade4cba",
   "metadata": {},
   "source": [
    "### 클릭 갯수(리뷰의 갯수)"
   ]
  },
  {
   "cell_type": "code",
   "execution_count": 129,
   "id": "0bd14f7c-fea3-4f63-b6e6-f5cf40c8250a",
   "metadata": {
    "tags": []
   },
   "outputs": [
    {
     "data": {
      "text/plain": [
       "(0.5, 0.975, 1.0, 1.125, 2.0, 2.225, 2.9, 3.025, 11.825)"
      ]
     },
     "execution_count": 129,
     "metadata": {},
     "output_type": "execute_result"
    }
   ],
   "source": [
    "# review_total_count / review_standard_count_per\n",
    "20 / 40, 39 / 40, 40 / 40, 45 / 40, 80 / 40, 89 / 40, 116 / 40, 121 / 40, 473/40\n",
    "\n",
    "## 1을 기준으로 1이하이면 클릭을 할 필요가 없음 --> int형으로 앞 숫자만 따 오면 됨"
   ]
  },
  {
   "cell_type": "markdown",
   "id": "a1c1e549-e44f-4074-8283-b8aec4525541",
   "metadata": {},
   "source": [
    "##  추가 댓글 모두 가져오기"
   ]
  },
  {
   "cell_type": "code",
   "execution_count": 130,
   "id": "6278bc4a-e415-4454-a80d-8dd2bc54b8bb",
   "metadata": {
    "tags": []
   },
   "outputs": [
    {
     "data": {
      "text/plain": [
       "([1], [1, 2, 3])"
      ]
     },
     "execution_count": 130,
     "metadata": {},
     "output_type": "execute_result"
    }
   ],
   "source": [
    "list(range(1, 2)), list(range(1, 4))"
   ]
  },
  {
   "cell_type": "markdown",
   "id": "7e2d37ff-7e9a-4228-abd3-892060f456be",
   "metadata": {},
   "source": []
  },
  {
   "cell_type": "code",
   "execution_count": 131,
   "id": "8af73c2c-4226-43f9-9c68-7db36ec1606e",
   "metadata": {
    "tags": []
   },
   "outputs": [
    {
     "name": "stdout",
     "output_type": "stream",
     "text": [
      "current reviews_bundle count : 80\n",
      "current reviews_bundle count : 80\n",
      "current reviews_bundle count : 80\n",
      "current reviews_bundle count : 80\n",
      "current reviews_bundle count : 80\n",
      "current reviews_bundle count : 120\n",
      "current reviews_bundle count : 160\n",
      "current reviews_bundle count : 200\n",
      "current reviews_bundle count : 200\n",
      "current reviews_bundle count : 200\n",
      "current reviews_bundle count : 200\n",
      "Done 200\n"
     ]
    }
   ],
   "source": [
    "\n",
    "review_standard_count_per = 40\n",
    "click_count = 0\n",
    "\n",
    "loop_count_int = int(review_total_count / review_standard_count_per)\n",
    "for count in range(1, loop_count_int+1) :# list(range(1, 2)), list(range(1, 4)) (3번을 돌기위해서는 뒤에가 4)\n",
    "    try :\n",
    "        reviews_bundle = browser.find_elements_by_css_selector('div.fysCi > div > div:nth-child(2) > div')\n",
    "        print('current reviews_bundle count : {}'.format(len(reviews_bundle)))\n",
    "        reviews_bundle[len(reviews_bundle)-1].click() # 행렬은 0부터 시작하기에 -1\n",
    "        time.sleep(3)\n",
    "    except :\n",
    "        print('pass')\n",
    "        pass\n",
    "print('Done', len(reviews_bundle))"
   ]
  },
  {
   "cell_type": "code",
   "execution_count": null,
   "id": "ada9666f-b8fa-43fd-a9d8-a306798a17ae",
   "metadata": {},
   "outputs": [],
   "source": []
  },
  {
   "cell_type": "code",
   "execution_count": 115,
   "id": "5371e189-4704-4b0f-ac3f-b5d8f135d799",
   "metadata": {
    "tags": []
   },
   "outputs": [
    {
     "name": "stdout",
     "output_type": "stream",
     "text": [
      "count : 1, click_count : 40\n",
      "reviews_bundle count : 248\n",
      "count : 2, click_count : 80\n",
      "reviews_bundle count : 248\n",
      "count : 3, click_count : 120\n",
      "reviews_bundle count : 248\n",
      "count : 4, click_count : 160\n",
      "reviews_bundle count : 248\n",
      "count : 5, click_count : 200\n",
      "reviews_bundle count : 248\n",
      "count : 6, click_count : 240\n",
      "reviews_bundle count : 248\n"
     ]
    },
    {
     "ename": "IndexError",
     "evalue": "list index out of range",
     "output_type": "error",
     "traceback": [
      "\u001b[1;31m---------------------------------------------------------------------------\u001b[0m",
      "\u001b[1;31mIndexError\u001b[0m                                Traceback (most recent call last)",
      "Cell \u001b[1;32mIn[115], line 9\u001b[0m\n\u001b[0;32m      7\u001b[0m \u001b[38;5;28;01mfor\u001b[39;00m count \u001b[38;5;129;01min\u001b[39;00m \u001b[38;5;28mrange\u001b[39m(\u001b[38;5;241m1\u001b[39m, loop_count_int\u001b[38;5;241m+\u001b[39m\u001b[38;5;241m1\u001b[39m) : \u001b[38;5;66;03m# list(range(1, 2)), list(range(1, 4)) (3번을 돌기위해서는 뒤에가 4)\u001b[39;00m\n\u001b[0;32m      8\u001b[0m     click_count \u001b[38;5;241m=\u001b[39m count \u001b[38;5;241m*\u001b[39m review_standard_count_per\n\u001b[1;32m----> 9\u001b[0m     reviews_bundle[click_count\u001b[38;5;241m-\u001b[39m\u001b[38;5;241m1\u001b[39m]\u001b[38;5;241m.\u001b[39mclick() \u001b[38;5;66;03m# 행렬은 0부터 시작하기에 -1\u001b[39;00m\n\u001b[0;32m     10\u001b[0m     \u001b[38;5;28mprint\u001b[39m(\u001b[38;5;124m'\u001b[39m\u001b[38;5;124mcount : \u001b[39m\u001b[38;5;132;01m{}\u001b[39;00m\u001b[38;5;124m, click_count : \u001b[39m\u001b[38;5;132;01m{}\u001b[39;00m\u001b[38;5;124m'\u001b[39m\u001b[38;5;241m.\u001b[39mformat(count, click_count))\n\u001b[0;32m     11\u001b[0m     time\u001b[38;5;241m.\u001b[39msleep(\u001b[38;5;241m5\u001b[39m)\n",
      "\u001b[1;31mIndexError\u001b[0m: list index out of range"
     ]
    }
   ],
   "source": [
    "review_total_count = 473\n",
    "review_standard_count_per = 40\n",
    "click_count = 0\n",
    "\n",
    "loop_count_float = review_total_count / review_standard_count_per\n",
    "if (loop_count_float > 1.0) : #클릭을 해야됨\n",
    "    loop_count_int = int(loop_count_float)\n",
    "    for count in range(1, loop_count_int+1) : # list(range(1, 2)), list(range(1, 4)) (3번을 돌기위해서는 뒤에가 4)\n",
    "        click_count = count * review_standard_count_per\n",
    "        reviews_bundle[click_count-1].click() # 행렬은 0부터 시작하기에 -1\n",
    "        print('count : {}, click_count : {}'.format(count, click_count))\n",
    "        time.sleep(5)\n",
    "        reviews_bundle = browser.find_elements_by_css_selector('div.fysCi > div > div:nth-child(2) > div')\n",
    "        print('reviews_bundle count : {}'.format(len(reviews_bundle)))\n",
    "        pass \n",
    "    "
   ]
  },
  {
   "cell_type": "code",
   "execution_count": 45,
   "id": "96b8ae55-2d0e-4e96-ba9a-0a905a6929b6",
   "metadata": {
    "tags": []
   },
   "outputs": [
    {
     "data": {
      "text/plain": [
       "40"
      ]
     },
     "execution_count": 45,
     "metadata": {},
     "output_type": "execute_result"
    }
   ],
   "source": [
    "reviews_bundle_list = browser.find_elements_by_css_selector('div.fysCi > div > div:nth-child(2) > div')\n",
    "reviews_bundle_list_count = len(reviews_bundle_list)\n",
    "len(reviews_bundle_list)"
   ]
  },
  {
   "cell_type": "code",
   "execution_count": null,
   "id": "c322cd86-e64a-4c8b-a7c9-8b328ccf47db",
   "metadata": {},
   "outputs": [],
   "source": [
    "reviews_loop_standard_count = 40\n",
    "while(reviews_bundle_list_count >= reviews_loop_standard_count): # 멈추는 조건(while 들어가는 여부)\n",
    "    print(reviews_bundle_list_count >= reviews_loop_standard_count)\n",
    "    reviews_bundle_list_count >= reviews_loop_standard_count - 1\n",
    "    pass\n",
    "print('Done')\n",
    "    "
   ]
  }
 ],
 "metadata": {
  "kernelspec": {
   "display_name": "Python 3 (ipykernel)",
   "language": "python",
   "name": "python3"
  },
  "language_info": {
   "codemirror_mode": {
    "name": "ipython",
    "version": 3
   },
   "file_extension": ".py",
   "mimetype": "text/x-python",
   "name": "python",
   "nbconvert_exporter": "python",
   "pygments_lexer": "ipython3",
   "version": "3.11.3"
  }
 },
 "nbformat": 4,
 "nbformat_minor": 5
}
