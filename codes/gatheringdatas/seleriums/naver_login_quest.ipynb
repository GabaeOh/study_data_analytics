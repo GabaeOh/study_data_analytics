{
 "cells": [
  {
   "cell_type": "markdown",
   "id": "41464670-1720-42f6-a0a5-4cf2cd5e1946",
   "metadata": {},
   "source": [
    "## Naver signin"
   ]
  },
  {
   "cell_type": "code",
   "execution_count": 18,
   "id": "9258e9ce-6af1-4e5f-92d5-8deeb6d84ec3",
   "metadata": {
    "tags": []
   },
   "outputs": [
    {
     "data": {
      "text/plain": [
       "selenium.webdriver.chrome.webdriver.WebDriver"
      ]
     },
     "execution_count": 18,
     "metadata": {},
     "output_type": "execute_result"
    }
   ],
   "source": [
    "from selenium import webdriver\n",
    "browser = webdriver.Chrome(executable_path='../../../../chromedriver.exe') \n",
    "browser.get('https://www.naver.com/')\n",
    "type(browser)"
   ]
  },
  {
   "cell_type": "markdown",
   "id": "bd08fed6-10f7-4305-8233-43db5b81c71e",
   "metadata": {},
   "source": [
    "### Login 화면 링트 tag\n",
    "- 접힘 메뉴 tag : 필요없음\n",
    "- click tag : #account > div > a "
   ]
  },
  {
   "cell_type": "code",
   "execution_count": 19,
   "id": "02665e9d-b7e5-405e-a4e1-48402c1139c2",
   "metadata": {
    "tags": []
   },
   "outputs": [],
   "source": [
    "# 로그인 화면 버튼 클릭\n",
    "element_path = '#account > div > a'\n",
    "signin_button = browser.find_element_by_css_selector(element_path)\n",
    "signin_button.click()"
   ]
  },
  {
   "cell_type": "markdown",
   "id": "8d4738fe-e558-4b68-8ab3-986b5784bf9c",
   "metadata": {},
   "source": [
    "### Login 화면\n",
    "- user id input tag : #id\n",
    "- password input tag : #pw\n",
    "- click tag : #log\\.login"
   ]
  },
  {
   "cell_type": "code",
   "execution_count": 20,
   "id": "76cd258d-bd04-48ee-be02-fa24d2ad5d52",
   "metadata": {
    "tags": []
   },
   "outputs": [],
   "source": [
    "# id 입력\n",
    "element_path = '#id'\n",
    "login_field = browser.find_element_by_css_selector(element_path)\n",
    "login_field.send_keys('rkqo457')"
   ]
  },
  {
   "cell_type": "code",
   "execution_count": 24,
   "id": "efb894e3-0aad-410e-a606-a7154d5049a2",
   "metadata": {
    "tags": []
   },
   "outputs": [],
   "source": [
    "# password 입력 \n",
    "element_path = '#pw'\n",
    "password_field = browser.find_element_by_css_selector(element_path)\n",
    "password_field.send_keys('rie01271')"
   ]
  },
  {
   "cell_type": "code",
   "execution_count": 25,
   "id": "40e56223-c4ee-4367-be1f-3cc619ece7b1",
   "metadata": {
    "tags": []
   },
   "outputs": [],
   "source": [
    "# 로그인 버튼 클릭 \n",
    "element_path = '#log\\.login'\n",
    "signin_button = browser.find_element_by_css_selector(element_path)\n",
    "signin_button.click()"
   ]
  },
  {
   "cell_type": "markdown",
   "id": "fa15a17e-b04f-4e8d-9de6-2a154bff2659",
   "metadata": {},
   "source": [
    "### 보완"
   ]
  },
  {
   "cell_type": "code",
   "execution_count": 26,
   "id": "72432dec-0eba-4498-b0e5-880020c285cb",
   "metadata": {
    "tags": []
   },
   "outputs": [],
   "source": [
    "# password 입력 \n",
    "element_path = '#pw'\n",
    "password_field = browser.find_element_by_css_selector(element_path)\n",
    "password_field.send_keys('rie01271')"
   ]
  },
  {
   "cell_type": "code",
   "execution_count": 27,
   "id": "f692a1d9-1f36-48c2-9de9-58ed364b70f8",
   "metadata": {
    "tags": []
   },
   "outputs": [],
   "source": [
    "element_path = '#captcha'\n",
    "safe_field = browser.find_element_by_css_selector(element_path)\n",
    "safe_field.send_keys('300')"
   ]
  },
  {
   "cell_type": "code",
   "execution_count": 28,
   "id": "d4a48c5c-1810-4c38-a30c-a886ca9d5387",
   "metadata": {
    "tags": []
   },
   "outputs": [],
   "source": [
    "# 로그인 버튼 클릭 \n",
    "element_path = '#log\\.login > span'\n",
    "signin_button = browser.find_element_by_css_selector(element_path)\n",
    "signin_button.click()"
   ]
  },
  {
   "cell_type": "markdown",
   "id": "ef18e496-eb95-4170-b67a-169d5427b3bc",
   "metadata": {},
   "source": [
    "### 메일 버튼 \n",
    "- click tag : #shortcutArea > ul > li:nth-child(1) > a > span.service_icon.type_mail"
   ]
  },
  {
   "cell_type": "code",
   "execution_count": 29,
   "id": "daf84c11-9c96-46fa-b7f7-2a69ecbc0924",
   "metadata": {},
   "outputs": [],
   "source": [
    "element_path = '#shortcutArea > ul > li:nth-child(1) > a > span.service_icon.type_mail'\n",
    "email_button = browser.find_element_by_css_selector(element_path)\n",
    "email_button.click()"
   ]
  }
 ],
 "metadata": {
  "kernelspec": {
   "display_name": "Python 3 (ipykernel)",
   "language": "python",
   "name": "python3"
  },
  "language_info": {
   "codemirror_mode": {
    "name": "ipython",
    "version": 3
   },
   "file_extension": ".py",
   "mimetype": "text/x-python",
   "name": "python",
   "nbconvert_exporter": "python",
   "pygments_lexer": "ipython3",
   "version": "3.11.3"
  }
 },
 "nbformat": 4,
 "nbformat_minor": 5
}
