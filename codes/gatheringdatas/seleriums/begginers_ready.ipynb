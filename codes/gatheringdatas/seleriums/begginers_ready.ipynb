{
 "cells": [
  {
   "cell_type": "code",
   "execution_count": 1,
   "id": "1cede858-2726-438d-a397-b7972bde7b30",
   "metadata": {
    "tags": []
   },
   "outputs": [],
   "source": [
    "from selenium import webdriver"
   ]
  },
  {
   "cell_type": "code",
   "execution_count": 2,
   "id": "5d946388-c532-48e2-a134-75fb7a92dfd1",
   "metadata": {
    "tags": []
   },
   "outputs": [],
   "source": [
    "# open chrome browser\n",
    "browser = webdriver.Chrome(executable_path='../../../../chromedriver.exe') "
   ]
  },
  {
   "cell_type": "code",
   "execution_count": 3,
   "id": "9f302e13-4dd9-4495-8818-bd751b6420a0",
   "metadata": {
    "tags": []
   },
   "outputs": [],
   "source": [
    "# url in address window \n",
    "browser.get('https://www.w3schools.com/')"
   ]
  },
  {
   "cell_type": "code",
   "execution_count": 4,
   "id": "d200ac70-9bfa-4e62-ab69-c6b46e7edfb5",
   "metadata": {
    "tags": []
   },
   "outputs": [
    {
     "data": {
      "text/plain": [
       "True"
      ]
     },
     "execution_count": 4,
     "metadata": {},
     "output_type": "execute_result"
    }
   ],
   "source": [
    "browser.save_screenshot('./begginers.png') # screenshot"
   ]
  },
  {
   "cell_type": "code",
   "execution_count": 4,
   "id": "0f5269b7-4f07-47a2-9ba9-e12a31bf05b1",
   "metadata": {},
   "outputs": [],
   "source": [
    "# 웹 페이지 로드\n",
    "browser.get('https://play.google.com/store/search?q=%ED%97%AC%EC%8A%A4%EC%BC%80%EC%96%B4%EC%95%B1&c=apps&hl=ko-KR')"
   ]
  },
  {
   "cell_type": "code",
   "execution_count": 5,
   "id": "6e484636-79b7-4630-aa11-11b7fb390c7d",
   "metadata": {},
   "outputs": [],
   "source": [
    "\n",
    "# 화면 높이만큼 1번 스크룰링\n",
    "from selenium.webdriver.common.keys import Keys\n",
    "\n",
    "# 스크롤 다운\n",
    "browser.find_element_by_tag_name('body').send_keys(Keys.PAGE_DOWN)"
   ]
  },
  {
   "cell_type": "code",
   "execution_count": 6,
   "id": "88fa1005-90a3-4a58-b1b3-752439f225aa",
   "metadata": {},
   "outputs": [],
   "source": [
    "# 화면 높이만큼 차례로 아래끝까지 스크룰링\n",
    "\n",
    "from selenium.webdriver.common.keys import Keys\n",
    "import time\n",
    "\n",
    "# Chrome WebDriver 객체 생성\n",
    "\n",
    "# 웹 페이지 로드\n",
    "browser.get('https://play.google.com/store/search?q=%ED%97%AC%EC%8A%A4%EC%BC%80%EC%96%B4%EC%95%B1&c=apps&hl=ko-KR')\n",
    "\n",
    "# 현재 화면의 높이 가져오기\n",
    "screen_height = browser.execute_script(\"return window.innerHeight\")\n",
    "\n",
    "# 현재 문서의 전체 높이 가져오기\n",
    "document_height = browser.execute_script(\"return document.documentElement.scrollHeight\")\n",
    "\n",
    "# 스크롤 다운하여 페이지 맨 아래까지 이동하기\n",
    "while True:\n",
    "    # 스크롤 다운 실행 (페이지 맨 아래로 이동)\n",
    "    browser.find_element_by_tag_name('body').send_keys(Keys.PAGE_DOWN)\n",
    "\n",
    "    # 잠시 대기하여 새로운 내용 로딩을 기다림 (선택적으로 사용)\n",
    "    time.sleep(1)\n",
    "\n",
    "    # 현재 스크롤 위치 확인\n",
    "    current_scroll_position = browser.execute_script(\"return window.pageYOffset + arguments[0];\", screen_height)\n",
    "\n",
    "    # 전체 문서 높이 갱신\n",
    "    document_height = browser.execute_script(\"return document.documentElement.scrollHeight\")\n",
    "\n",
    "    # 전체 문서 높이와 현재 스크롤 위치 비교하여 종료 여부 결정\n",
    "    if current_scroll_position >= document_height:\n",
    "        break"
   ]
  },
  {
   "cell_type": "code",
   "execution_count": 7,
   "id": "a8e2e1a3-07f6-4dee-85b3-99af5c644ecd",
   "metadata": {},
   "outputs": [],
   "source": [
    "browser.quit()"
   ]
  },
  {
   "cell_type": "code",
   "execution_count": null,
   "id": "934d14fd-28e8-4567-beea-59b09eec9c91",
   "metadata": {},
   "outputs": [],
   "source": []
  },
  {
   "cell_type": "code",
   "execution_count": null,
   "id": "33e2a51e-e75f-4a91-a087-99ed768dfd57",
   "metadata": {},
   "outputs": [],
   "source": []
  },
  {
   "cell_type": "code",
   "execution_count": null,
   "id": "c8afa13e-8f19-4427-919c-dd8ea54116e2",
   "metadata": {},
   "outputs": [],
   "source": []
  }
 ],
 "metadata": {
  "kernelspec": {
   "display_name": "Python 3 (ipykernel)",
   "language": "python",
   "name": "python3"
  },
  "language_info": {
   "codemirror_mode": {
    "name": "ipython",
    "version": 3
   },
   "file_extension": ".py",
   "mimetype": "text/x-python",
   "name": "python",
   "nbconvert_exporter": "python",
   "pygments_lexer": "ipython3",
   "version": "3.11.3"
  }
 },
 "nbformat": 4,
 "nbformat_minor": 5
}
