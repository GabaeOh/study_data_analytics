{
 "cells": [
  {
   "cell_type": "code",
   "execution_count": 1,
   "id": "1cede858-2726-438d-a397-b7972bde7b30",
   "metadata": {
    "tags": []
   },
   "outputs": [],
   "source": [
    "from selenium import webdriver"
   ]
  },
  {
   "cell_type": "code",
   "execution_count": 2,
   "id": "5d946388-c532-48e2-a134-75fb7a92dfd1",
   "metadata": {
    "tags": []
   },
   "outputs": [],
   "source": [
    "# open chrome browser\n",
    "browser = webdriver.Chrome(executable_path='../../../../chromedriver.exe') "
   ]
  },
  {
   "cell_type": "code",
   "execution_count": 3,
   "id": "9f302e13-4dd9-4495-8818-bd751b6420a0",
   "metadata": {
    "tags": []
   },
   "outputs": [],
   "source": [
    "# url in address window \n",
    "browser.get('https://www.w3schools.com/')"
   ]
  },
  {
   "cell_type": "code",
   "execution_count": 4,
   "id": "d200ac70-9bfa-4e62-ab69-c6b46e7edfb5",
   "metadata": {
    "tags": []
   },
   "outputs": [
    {
     "data": {
      "text/plain": [
       "True"
      ]
     },
     "execution_count": 4,
     "metadata": {},
     "output_type": "execute_result"
    }
   ],
   "source": [
    "browser.save_screenshot('./begginers.png') # screenshot"
   ]
  },
  {
   "cell_type": "markdown",
   "id": "644281d3-8b31-41ed-a83e-65f5660e586f",
   "metadata": {},
   "source": [
    "### 마우스 스크롤 기능 구현"
   ]
  },
  {
   "cell_type": "code",
   "execution_count": 6,
   "id": "f5e065d5-20e0-45dd-942b-852d6b492d71",
   "metadata": {
    "tags": []
   },
   "outputs": [],
   "source": [
    "from selenium.webdriver.common.keys import Keys\n",
    "# page down\n",
    "browser.find_element_by_css_selector('body').send_keys(Keys.PAGE_DOWN)"
   ]
  },
  {
   "cell_type": "code",
   "execution_count": 7,
   "id": "9f4d8bc8-2cdb-4a3e-ade2-12429e72d15b",
   "metadata": {},
   "outputs": [],
   "source": [
    "# page up\n",
    "browser.find_element_by_css_selector('body').send_keys(Keys.PAGE_UP)"
   ]
  },
  {
   "cell_type": "code",
   "execution_count": 8,
   "id": "61525e83-9233-4242-8abd-ce721b8b81f7",
   "metadata": {},
   "outputs": [
    {
     "data": {
      "text/plain": [
       "(881, 17832)"
      ]
     },
     "execution_count": 8,
     "metadata": {},
     "output_type": "execute_result"
    }
   ],
   "source": [
    "## 화면 끝까지 이동\n",
    "screen_height = browser.execute_script('return window.innerHeight')\n",
    "document_height = browser.execute_script('return document.body.scrollHeight')\n",
    "screen_height, document_height"
   ]
  },
  {
   "cell_type": "code",
   "execution_count": 9,
   "id": "f408dd8e-4ca4-4187-869c-4db6c654343b",
   "metadata": {},
   "outputs": [
    {
     "name": "stdout",
     "output_type": "stream",
     "text": [
      "1651 17832\n",
      "2421 17832\n",
      "3191 17832\n",
      "3961 17832\n",
      "4731 17832\n",
      "5501 17832\n",
      "6271 17832\n",
      "7041 17832\n",
      "7811 17832\n",
      "8581 17832\n",
      "9351 17832\n",
      "10121 17832\n",
      "10891 17832\n",
      "11661 17832\n",
      "12431 17832\n",
      "13201 17832\n",
      "13971 17832\n",
      "14741 17832\n",
      "15511 17832\n",
      "16281 17832\n",
      "17051 17832\n",
      "17821 17832\n",
      "18591 17832\n"
     ]
    }
   ],
   "source": [
    "import time\n",
    "while True:\n",
    "    browser.find_element_by_css_selector('body').send_keys(Keys.PAGE_DOWN)\n",
    "    time.sleep(1)\n",
    "    # window.pageYOffset 이용\n",
    "    current_scroll_position = browser.execute_script('return window.pageYOffset + {0}'.format(screen_height))\n",
    "    \n",
    "    print(current_scroll_position, document_height)\n",
    "    if current_scroll_position >= document_height :\n",
    "        break"
   ]
  },
  {
   "cell_type": "code",
   "execution_count": null,
   "id": "64a861b6-10df-4b47-850c-0f8cea9d4a5c",
   "metadata": {},
   "outputs": [],
   "source": [
    "#browser.quit()"
   ]
  }
 ],
 "metadata": {
  "kernelspec": {
   "display_name": "Python 3 (ipykernel)",
   "language": "python",
   "name": "python3"
  },
  "language_info": {
   "codemirror_mode": {
    "name": "ipython",
    "version": 3
   },
   "file_extension": ".py",
   "mimetype": "text/x-python",
   "name": "python",
   "nbconvert_exporter": "python",
   "pygments_lexer": "ipython3",
   "version": "3.11.3"
  }
 },
 "nbformat": 4,
 "nbformat_minor": 5
}
