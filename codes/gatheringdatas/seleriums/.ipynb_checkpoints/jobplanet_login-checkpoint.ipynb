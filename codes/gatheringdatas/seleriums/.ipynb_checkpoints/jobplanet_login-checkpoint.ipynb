{
 "cells": [
  {
   "cell_type": "code",
   "execution_count": 5,
   "id": "1cede858-2726-438d-a397-b7972bde7b30",
   "metadata": {
    "tags": []
   },
   "outputs": [],
   "source": [
    "from selenium import webdriver\n",
    "import time \n",
    "browser = webdriver.Chrome(executable_path='../../../../chromedriver.exe') "
   ]
  },
  {
   "cell_type": "markdown",
   "id": "462c3846-3ca9-4558-8273-bf37bd8bc069",
   "metadata": {},
   "source": [
    "### login\n",
    "- user email tag : #user_email\n",
    "- password tag : #user_password\n",
    "- 로그인 submit 버튼 tag : fieldset > button"
   ]
  },
  {
   "cell_type": "code",
   "execution_count": 6,
   "id": "43163152-4fdd-4b71-8fb9-184feb21254a",
   "metadata": {
    "tags": []
   },
   "outputs": [],
   "source": [
    "browser.implicitly_wait(10)\n",
    "browser.get('https://www.jobplanet.co.kr/users/sign_in?_nav=gb')\n",
    "browser.find_element_by_css_selector('#user_email').send_keys('rkqo457@daum.net') #id\n",
    "browser.find_element_by_css_selector('#user_password').send_keys('********') #password\n",
    "browser.find_element_by_css_selector('fieldset > button').click() # 로그인 버튼 "
   ]
  },
  {
   "cell_type": "markdown",
   "id": "307f57e2-8229-4a08-940d-91ebfa162028",
   "metadata": {},
   "source": [
    "### 검색어로 검색 (분석가)"
   ]
  },
  {
   "cell_type": "code",
   "execution_count": 8,
   "id": "b8b64a78-1dd2-4234-99ea-2182c2224732",
   "metadata": {
    "tags": []
   },
   "outputs": [],
   "source": [
    "browser.implicitly_wait(10)\n",
    "search_word = 'https://www.jobplanet.co.kr/job/search?_rs_act=index&_rs_con=search&_rs_element=see_more_job_postings_top&q=%EB%B6%84%EC%84%9D%EA%B0%80'\n",
    "browser.get(search_word)"
   ]
  },
  {
   "cell_type": "code",
   "execution_count": 11,
   "id": "eb67325f-cfbc-4cdf-a2d7-58877f197dcf",
   "metadata": {
    "tags": []
   },
   "outputs": [],
   "source": [
    "browser.quit() # 브라우저 닫기 "
   ]
  }
 ],
 "metadata": {
  "kernelspec": {
   "display_name": "Python 3 (ipykernel)",
   "language": "python",
   "name": "python3"
  },
  "language_info": {
   "codemirror_mode": {
    "name": "ipython",
    "version": 3
   },
   "file_extension": ".py",
   "mimetype": "text/x-python",
   "name": "python",
   "nbconvert_exporter": "python",
   "pygments_lexer": "ipython3",
   "version": "3.11.3"
  }
 },
 "nbformat": 4,
 "nbformat_minor": 5
}
