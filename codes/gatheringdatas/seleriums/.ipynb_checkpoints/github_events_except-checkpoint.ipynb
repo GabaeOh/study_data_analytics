{
 "cells": [
  {
   "cell_type": "markdown",
   "id": "a678a947-8ed0-45d6-a2a6-ef6a58887918",
   "metadata": {},
   "source": [
    "## Github signin"
   ]
  },
  {
   "cell_type": "code",
   "execution_count": 46,
   "id": "2beae6c5-a080-4958-ae45-c1f8bdd45d40",
   "metadata": {
    "tags": []
   },
   "outputs": [
    {
     "data": {
      "text/plain": [
       "selenium.webdriver.chrome.webdriver.WebDriver"
      ]
     },
     "execution_count": 46,
     "metadata": {},
     "output_type": "execute_result"
    }
   ],
   "source": [
    "from selenium import webdriver\n",
    "options = webdriver.ChromeOptions()\n",
    "options.add_argument(\"--window-size=1560,840\")\n",
    "browser = webdriver.Chrome(executable_path='../../../../chromedriver.exe', options=options)\n",
    "browser.get('https://github.com/')\n",
    "type(browser)"
   ]
  },
  {
   "cell_type": "markdown",
   "id": "ba8b66ad-fa08-4640-bc71-03699c4a99ea",
   "metadata": {},
   "source": [
    "### Login 화면 링트 tag\n",
    "- 접힘 메뉴 tag : body > div.logged-out.env-production.page-responsive.header-overlay.home-campaign > div.position-relative.js-header-wrapper > header > div > div.d-flex.flex-justify-between.flex-items-center.width-full.width-lg-auto > div.flex-1.flex-order-2.text-right > button > span > span\n",
    "- click tag : div > div > div > a.HeaderMenu-link.HeaderMenu-link--sign-in "
   ]
  },
  {
   "cell_type": "code",
   "execution_count": 47,
   "id": "1a08a36a-d9eb-4033-9174-8250036d4f51",
   "metadata": {
    "tags": []
   },
   "outputs": [],
   "source": [
    "## 창 화면의 좁게 띄어짐 고로, 접힘 메뉴를 눌러줘야함 \n",
    "element_path = 'body > div.logged-out.env-production.page-responsive.header-overlay.home-campaign > div.position-relative.js-header-wrapper > header > div > div.d-flex.flex-justify-between.flex-items-center.width-full.width-lg-auto > div.flex-1.flex-order-2.text-right > button > span > span'\n",
    "try : \n",
    "    collapsed_menu = browser.find_element_by_css_selector(element_path)\n",
    "    collapsed_menu.click()\n",
    "except : \n",
    "    pass "
   ]
  },
  {
   "cell_type": "code",
   "execution_count": 48,
   "id": "e3531fe8-ae12-4a33-b1e5-112c250cca3c",
   "metadata": {
    "tags": []
   },
   "outputs": [
    {
     "data": {
      "text/plain": [
       "selenium.webdriver.remote.webelement.WebElement"
      ]
     },
     "execution_count": 48,
     "metadata": {},
     "output_type": "execute_result"
    }
   ],
   "source": [
    "# 로그인 화면 버튼 클릭\n",
    "element_path = 'div > div > div > a.HeaderMenu-link.HeaderMenu-link--sign-in'\n",
    "signin_button = browser.find_element_by_css_selector(element_path)\n",
    "type(signin_button)"
   ]
  },
  {
   "cell_type": "code",
   "execution_count": 49,
   "id": "5c08c657-c264-44ed-ad3a-7c6b7d7c8fc4",
   "metadata": {
    "tags": []
   },
   "outputs": [],
   "source": [
    "signin_button.click()"
   ]
  },
  {
   "cell_type": "markdown",
   "id": "3c10b175-dc8a-4c8c-bac6-83d3450f3c78",
   "metadata": {},
   "source": [
    "### Login 화면\n",
    "- user id input tag : #login_field\n",
    "- password input tag : #password\n",
    "- click tag : input.btn.btn-primary.btn-block.js-sign-in-button"
   ]
  },
  {
   "cell_type": "code",
   "execution_count": 50,
   "id": "c269369e-2ada-4981-9082-e0acdc649c02",
   "metadata": {
    "tags": []
   },
   "outputs": [],
   "source": [
    "# id 입력\n",
    "element_path = '#login_field'\n",
    "login_field = browser.find_element_by_css_selector(element_path)\n",
    "login_field.send_keys('rkqo4577@gmail.com')"
   ]
  },
  {
   "cell_type": "code",
   "execution_count": 51,
   "id": "6b96d041-0ab1-4f6b-b78e-606d52a81fb7",
   "metadata": {
    "tags": []
   },
   "outputs": [],
   "source": [
    "# password 입력 \n",
    "element_path = '#password'\n",
    "password_field = browser.find_element_by_css_selector(element_path)\n",
    "password_field.send_keys('rie012718!')"
   ]
  },
  {
   "cell_type": "code",
   "execution_count": 52,
   "id": "c1b471ea-b966-4da3-bde5-e8a16f1a588d",
   "metadata": {
    "tags": []
   },
   "outputs": [],
   "source": [
    "# 로그인 버튼 클릭 \n",
    "element_path = 'input.btn.btn-primary.btn-block.js-sign-in-button'\n",
    "signin_button = browser.find_element_by_css_selector(element_path)\n",
    "signin_button.click()"
   ]
  },
  {
   "cell_type": "code",
   "execution_count": 53,
   "id": "ea533e51-b267-4933-9df7-b9b15229965e",
   "metadata": {},
   "outputs": [],
   "source": [
    "browser.quit() "
   ]
  },
  {
   "cell_type": "code",
   "execution_count": null,
   "id": "3ae71046-fbf1-4c31-b6fa-f1b455a7c308",
   "metadata": {},
   "outputs": [],
   "source": []
  }
 ],
 "metadata": {
  "kernelspec": {
   "display_name": "Python 3 (ipykernel)",
   "language": "python",
   "name": "python3"
  },
  "language_info": {
   "codemirror_mode": {
    "name": "ipython",
    "version": 3
   },
   "file_extension": ".py",
   "mimetype": "text/x-python",
   "name": "python",
   "nbconvert_exporter": "python",
   "pygments_lexer": "ipython3",
   "version": "3.11.3"
  }
 },
 "nbformat": 4,
 "nbformat_minor": 5
}
