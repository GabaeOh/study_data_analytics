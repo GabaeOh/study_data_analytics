{
 "cells": [
  {
   "cell_type": "code",
   "execution_count": 32,
   "id": "023f2d15-79f2-4c3d-9e75-285085acc375",
   "metadata": {
    "tags": []
   },
   "outputs": [],
   "source": [
    "from selenium import webdriver\n",
    "browser = webdriver.Chrome(executable_path='../../../../chromedriver.exe') \n",
    "browser.get('https://play.google.com/store/search?q=%ED%97%AC%EC%8A%A4%EC%BC%80%EC%96%B4%20%EC%95%B1&c=apps&hl=ko-KR')"
   ]
  },
  {
   "cell_type": "code",
   "execution_count": 33,
   "id": "0ac19433-8718-44bb-bbe1-7da5b19cdc22",
   "metadata": {
    "tags": []
   },
   "outputs": [],
   "source": [
    "browser.implicitly_wait(10)"
   ]
  },
  {
   "cell_type": "markdown",
   "id": "df1c8465-62b6-4525-af51-7202df26c9c5",
   "metadata": {},
   "source": [
    "## 제품 클릭\n",
    "- section > div > div > div > div:nth-child(2) > div > div > div"
   ]
  },
  {
   "cell_type": "code",
   "execution_count": 34,
   "id": "9adecdcd-b2c4-49e6-8499-0ce0b143b95d",
   "metadata": {
    "tags": []
   },
   "outputs": [],
   "source": [
    "click_path = 'section > div > div > div > div:nth-child(2) > div > div > div' \n",
    "browser.find_element_by_css_selector(click_path).click()"
   ]
  },
  {
   "cell_type": "markdown",
   "id": "1f7f6ec4-d321-4381-b20c-f08c521330bd",
   "metadata": {},
   "source": [
    "## 제품 정보 \n",
    "- 서비스명 tag :  div > h1 > span\n",
    "- 만드 회사명 tag : div.Il7kR > div > div > div > a > span\n",
    "- 앱정보 tag : div:nth-child(1) > c-wiz:nth-child(2) > div > section > div"
   ]
  },
  {
   "cell_type": "code",
   "execution_count": 35,
   "id": "263f1eab-6ffa-4924-9e2e-dfeb49d6b904",
   "metadata": {
    "tags": []
   },
   "outputs": [
    {
     "data": {
      "text/plain": [
       "['NH헬스케어',\n",
       " 'NH농협생명',\n",
       " '한국인의 건강관리 NH 헬스케어!\\n\\n지인들과 재밌고 건강하게 즐기는 NH헬스케어만의 새로운 걷기 방법 – 걷기 배틀\\n걷기 목표 달성시 지급되는 포인트로 완성하는 온라인 텃밭 – 랜선 텃밭 가꾸기\\n\\n즐겁고 과학적인 당신만을 위한 건강 솔루션 NH 헬스케어!\\n업데이트 날짜\\n2023. 7. 21.\\n건강/운동']"
      ]
     },
     "execution_count": 35,
     "metadata": {},
     "output_type": "execute_result"
    }
   ],
   "source": [
    "service_name = browser.find_element_by_css_selector('div > h1 > span').text\n",
    "company_name = browser.find_element_by_css_selector('div.Il7kR > div > div > div > a > span').text\n",
    "app_information = browser.find_element_by_css_selector('div:nth-child(1) > c-wiz:nth-child(2) > div > section > div').text\n",
    "\n",
    "[service_name, company_name, app_information]"
   ]
  },
  {
   "cell_type": "markdown",
   "id": "c4869263-7f6b-46af-970c-45e50719a85d",
   "metadata": {},
   "source": [
    "### 리뷰 모두 보기 \n",
    "- click tag : div:nth-child(5) > div > div > button > span"
   ]
  },
  {
   "cell_type": "code",
   "execution_count": 36,
   "id": "6571cb80-0295-4875-9783-c74a4d6a3bfb",
   "metadata": {
    "tags": []
   },
   "outputs": [],
   "source": [
    "import time\n",
    "time.sleep(2)"
   ]
  },
  {
   "cell_type": "code",
   "execution_count": 37,
   "id": "58da6bfa-a6b6-4d51-bdc5-fb97dad3b838",
   "metadata": {
    "tags": []
   },
   "outputs": [],
   "source": [
    "browser.find_element_by_xpath('//*/div/div/button/*[contains(text(), \"리뷰\")]').click() \n",
    "#browser.find_element_by_css_selector(div:nth-child(5) > div > div > button > span).click()"
   ]
  },
  {
   "cell_type": "markdown",
   "id": "b9ec86a8-f489-4bdd-baf0-f06bbd0fe0d2",
   "metadata": {},
   "source": [
    "### 리뷰 내용 가져오기 \n",
    "- 리뷰 묶음 tag : div.fysCi > div > div:nth-child(2) > div\n",
    "- 내용 tag : div.h3YV2d\n",
    "- 날짜 tag : header > div.Jx4nYe > span\n",
    "- 별점 tag : header > div.Jx4nYe > div"
   ]
  },
  {
   "cell_type": "code",
   "execution_count": 38,
   "id": "7b251d5b-f31a-4e42-9464-2c953a41b873",
   "metadata": {
    "tags": []
   },
   "outputs": [
    {
     "data": {
      "text/plain": [
       "40"
      ]
     },
     "execution_count": 38,
     "metadata": {},
     "output_type": "execute_result"
    }
   ],
   "source": [
    "reviews_bundle = browser.find_elements_by_css_selector('div.fysCi > div > div:nth-child(2) > div')\n",
    "len(reviews_bundle)"
   ]
  },
  {
   "cell_type": "code",
   "execution_count": 39,
   "id": "8bb0b0fe-a30f-4067-97b2-5ae6ef407652",
   "metadata": {
    "tags": []
   },
   "outputs": [],
   "source": [
    "content = reviews_bundle[0].find_element_by_css_selector('div.h3YV2d').text\n",
    "date = reviews_bundle[0].find_element_by_css_selector('header > div.Jx4nYe > span').text\n",
    "stars = reviews_bundle[0].find_element_by_css_selector('header > div.Jx4nYe > div').get_attribute('aria-label')"
   ]
  },
  {
   "cell_type": "code",
   "execution_count": 40,
   "id": "0a738407-bc69-464b-b87c-839247cf241a",
   "metadata": {
    "tags": []
   },
   "outputs": [
    {
     "data": {
      "text/plain": [
       "['안녕하세요. 그동안 헬스케어 앱을 잘 사용중에 있었는데요, 그전에는 앱을 클릭하면 자동 로그인이되어 걸음수도 확인하고 포인트도 받고 그랬는데요. 오늘 갑자기 회원가입 및 로그인 화면이 뜨더니 로그인이 아예 안되면서 자꾸 에러가 나네요. 기존 회원인데, 새로 회원가입할수도 없구요ㅜㅜ 어떻게 해야하는지 알려주시면 감사하겠습니다.',\n",
       " '2023년 7월 21일',\n",
       " '별표 5개 만점에 4개를 받았습니다.']"
      ]
     },
     "execution_count": 40,
     "metadata": {},
     "output_type": "execute_result"
    }
   ],
   "source": [
    "[content, date, stars]"
   ]
  },
  {
   "cell_type": "code",
   "execution_count": null,
   "id": "6fe8478a-71d2-4669-9462-cf6564f487db",
   "metadata": {},
   "outputs": [],
   "source": []
  }
 ],
 "metadata": {
  "kernelspec": {
   "display_name": "Python 3 (ipykernel)",
   "language": "python",
   "name": "python3"
  },
  "language_info": {
   "codemirror_mode": {
    "name": "ipython",
    "version": 3
   },
   "file_extension": ".py",
   "mimetype": "text/x-python",
   "name": "python",
   "nbconvert_exporter": "python",
   "pygments_lexer": "ipython3",
   "version": "3.11.3"
  }
 },
 "nbformat": 4,
 "nbformat_minor": 5
}
