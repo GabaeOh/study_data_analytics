{
 "cells": [
  {
   "cell_type": "code",
   "execution_count": 1,
   "id": "1cede858-2726-438d-a397-b7972bde7b30",
   "metadata": {
    "tags": []
   },
   "outputs": [],
   "source": [
    "from selenium import webdriver"
   ]
  },
  {
   "cell_type": "code",
   "execution_count": 2,
   "id": "5d946388-c532-48e2-a134-75fb7a92dfd1",
   "metadata": {
    "tags": []
   },
   "outputs": [],
   "source": [
    "# open chrome browser\n",
    "browser = webdriver.Chrome(executable_path='../../../../chromedriver.exe') "
   ]
  },
  {
   "cell_type": "code",
   "execution_count": 3,
   "id": "9f302e13-4dd9-4495-8818-bd751b6420a0",
   "metadata": {
    "tags": []
   },
   "outputs": [],
   "source": [
    "# url in address window \n",
    "browser.get('https://www.w3schools.com/')"
   ]
  },
  {
   "cell_type": "code",
   "execution_count": 4,
   "id": "d200ac70-9bfa-4e62-ab69-c6b46e7edfb5",
   "metadata": {
    "tags": []
   },
   "outputs": [
    {
     "data": {
      "text/plain": [
       "True"
      ]
     },
     "execution_count": 4,
     "metadata": {},
     "output_type": "execute_result"
    }
   ],
   "source": [
    "browser.save_screenshot('./begginers.png') # screenshot"
   ]
  },
  {
   "cell_type": "code",
   "execution_count": 11,
   "id": "eb67325f-cfbc-4cdf-a2d7-58877f197dcf",
   "metadata": {
    "tags": []
   },
   "outputs": [],
   "source": [
    "browser.quit() # 브라우저 닫기 "
   ]
  },
  {
   "cell_type": "code",
   "execution_count": null,
   "id": "0f5269b7-4f07-47a2-9ba9-e12a31bf05b1",
   "metadata": {},
   "outputs": [],
   "source": []
  }
 ],
 "metadata": {
  "kernelspec": {
   "display_name": "Python 3 (ipykernel)",
   "language": "python",
   "name": "python3"
  },
  "language_info": {
   "codemirror_mode": {
    "name": "ipython",
    "version": 3
   },
   "file_extension": ".py",
   "mimetype": "text/x-python",
   "name": "python",
   "nbconvert_exporter": "python",
   "pygments_lexer": "ipython3",
   "version": "3.11.3"
  }
 },
 "nbformat": 4,
 "nbformat_minor": 5
}
