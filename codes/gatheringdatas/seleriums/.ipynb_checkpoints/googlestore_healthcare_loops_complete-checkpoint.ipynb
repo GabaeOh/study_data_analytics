{
 "cells": [
  {
   "cell_type": "markdown",
   "id": "c8700ab8-5d5a-4cc5-93af-c4ed31d33498",
   "metadata": {},
   "source": [
    "## 각 제품(앱)에 들어가서 리뷰를 스크롤링 하기 "
   ]
  },
  {
   "cell_type": "code",
   "execution_count": 39,
   "id": "023f2d15-79f2-4c3d-9e75-285085acc375",
   "metadata": {
    "tags": []
   },
   "outputs": [],
   "source": [
    "from selenium import webdriver\n",
    "browser = webdriver.Chrome(executable_path='../../../../chromedriver.exe') \n",
    "browser.get('https://play.google.com/store/search?q=%ED%97%AC%EC%8A%A4%EC%BC%80%EC%96%B4%20%EC%95%B1&c=apps&hl=ko-KR')"
   ]
  },
  {
   "cell_type": "code",
   "execution_count": 12,
   "id": "0ac19433-8718-44bb-bbe1-7da5b19cdc22",
   "metadata": {
    "tags": []
   },
   "outputs": [],
   "source": [
    "browser.implicitly_wait(10)"
   ]
  },
  {
   "cell_type": "markdown",
   "id": "df1c8465-62b6-4525-af51-7202df26c9c5",
   "metadata": {},
   "source": [
    "## 서비스 리스크 가져오기\n",
    "- section > div > div > div > div:nth-child(2) > div > div > div"
   ]
  },
  {
   "cell_type": "code",
   "execution_count": 32,
   "id": "9adecdcd-b2c4-49e6-8499-0ce0b143b95d",
   "metadata": {
    "tags": []
   },
   "outputs": [
    {
     "data": {
      "text/plain": [
       "1"
      ]
     },
     "execution_count": 32,
     "metadata": {},
     "output_type": "execute_result"
    }
   ],
   "source": [
    "click_path = 'section > div > div > div > div:nth-child(2) > div > div > div' \n",
    "company_list = browser.find_elements_by_css_selector(click_path)\n",
    "len(company_list)"
   ]
  },
  {
   "cell_type": "markdown",
   "id": "30e0b7e3-2939-478c-bff1-830ea65bd324",
   "metadata": {},
   "source": [
    "### 특정 서비스 클릭하기 "
   ]
  },
  {
   "cell_type": "code",
   "execution_count": 33,
   "id": "07f73957-420a-450f-9eae-7604c944cfa1",
   "metadata": {
    "tags": []
   },
   "outputs": [],
   "source": [
    "company_list[0].click()"
   ]
  },
  {
   "cell_type": "code",
   "execution_count": 15,
   "id": "5b0f8044-7eb0-49ab-b104-e316983d1a0a",
   "metadata": {
    "tags": []
   },
   "outputs": [],
   "source": [
    "browser.back() # 리스트로 돌아가기 "
   ]
  },
  {
   "cell_type": "code",
   "execution_count": 16,
   "id": "3d6636aa-ca31-4f71-9907-37860c8a697f",
   "metadata": {
    "tags": []
   },
   "outputs": [],
   "source": [
    "browser.implicitly_wait(10)"
   ]
  },
  {
   "cell_type": "code",
   "execution_count": 18,
   "id": "a37946c6-5dc1-47ed-8ba2-9c3f4e1bb61a",
   "metadata": {
    "tags": []
   },
   "outputs": [],
   "source": [
    "import time"
   ]
  },
  {
   "cell_type": "code",
   "execution_count": 20,
   "id": "4bfda595-25aa-446e-9ee0-f1624901999f",
   "metadata": {
    "tags": []
   },
   "outputs": [],
   "source": [
    "for company in company_list:\n",
    "    company.click()\n",
    "    time.sleep(2) #term을 주기 \n",
    "    browser.back() # 리스트로 돌아가기 \n",
    "    time.sleep(2)"
   ]
  },
  {
   "cell_type": "markdown",
   "id": "1f7f6ec4-d321-4381-b20c-f08c521330bd",
   "metadata": {},
   "source": [
    "## 제품 정보 \n",
    "- 서비스명 tag :  div > h1 > span\n",
    "- 만드 회사명 tag : div.Il7kR > div > div > div > a > span\n",
    "- 앱정보 tag : div:nth-child(1) > c-wiz:nth-child(2) > div > section > div"
   ]
  },
  {
   "cell_type": "code",
   "execution_count": 8,
   "id": "0edee579-9784-41c5-aaf2-66770985aa42",
   "metadata": {
    "tags": []
   },
   "outputs": [],
   "source": [
    "import time\n",
    "time.sleep(2)"
   ]
  },
  {
   "cell_type": "code",
   "execution_count": 34,
   "id": "263f1eab-6ffa-4924-9e2e-dfeb49d6b904",
   "metadata": {
    "tags": []
   },
   "outputs": [
    {
     "data": {
      "text/plain": [
       "['NH헬스케어',\n",
       " 'NH농협생명',\n",
       " '한국인의 건강관리 NH 헬스케어!\\n\\n지인들과 재밌고 건강하게 즐기는 NH헬스케어만의 새로운 걷기 방법 – 걷기 배틀\\n걷기 목표 달성시 지급되는 포인트로 완성하는 온라인 텃밭 – 랜선 텃밭 가꾸기\\n\\n즐겁고 과학적인 당신만을 위한 건강 솔루션 NH 헬스케어!\\n업데이트 날짜\\n2023. 7. 21.\\n건강/운동']"
      ]
     },
     "execution_count": 34,
     "metadata": {},
     "output_type": "execute_result"
    }
   ],
   "source": [
    "service_name = browser.find_element_by_css_selector('div > h1 > span').text\n",
    "company_name = browser.find_element_by_css_selector('div.Il7kR > div > div > div > a > span').text\n",
    "app_information = browser.find_element_by_css_selector('div:nth-child(1) > c-wiz:nth-child(2) > div > section > div').text\n",
    "\n",
    "[service_name, company_name, app_information]"
   ]
  },
  {
   "cell_type": "markdown",
   "id": "c4869263-7f6b-46af-970c-45e50719a85d",
   "metadata": {},
   "source": [
    "### 리뷰 모두 보기 \n",
    "- click tag : div:nth-child(5) > div > div > button > span"
   ]
  },
  {
   "cell_type": "code",
   "execution_count": null,
   "id": "6571cb80-0295-4875-9783-c74a4d6a3bfb",
   "metadata": {
    "tags": []
   },
   "outputs": [],
   "source": [
    "browser.implicitly_wait(10)"
   ]
  },
  {
   "cell_type": "code",
   "execution_count": null,
   "id": "58da6bfa-a6b6-4d51-bdc5-fb97dad3b838",
   "metadata": {
    "tags": []
   },
   "outputs": [],
   "source": [
    "browser.find_element_by_xpath('//*/div/div/button/*[contains(text(), \"리뷰\")]').click() \n",
    "#browser.find_element_by_css_selector(div:nth-child(5) > div > div > button > span).click()"
   ]
  },
  {
   "cell_type": "markdown",
   "id": "b9ec86a8-f489-4bdd-baf0-f06bbd0fe0d2",
   "metadata": {},
   "source": [
    "### 리뷰 내용 가져오기 \n",
    "- 리뷰 묶음 tag : div.fysCi > div > div:nth-child(2) > div\n",
    "- 내용 tag : div.h3YV2d\n",
    "- 날짜 tag : header > div.Jx4nYe > span\n",
    "- 별점 tag : header > div.Jx4nYe > div"
   ]
  },
  {
   "cell_type": "code",
   "execution_count": null,
   "id": "7b251d5b-f31a-4e42-9464-2c953a41b873",
   "metadata": {
    "tags": []
   },
   "outputs": [],
   "source": [
    "reviews_bundle = browser.find_elements_by_css_selector('div.fysCi > div > div:nth-child(2) > div')\n",
    "len(reviews_bundle)"
   ]
  },
  {
   "cell_type": "code",
   "execution_count": 40,
   "id": "7e6dc34a-3e46-4776-b384-d6042145ceaa",
   "metadata": {
    "tags": []
   },
   "outputs": [],
   "source": [
    "import pandas as pd \n",
    "import pymongo as mg"
   ]
  },
  {
   "cell_type": "code",
   "execution_count": 41,
   "id": "8bb0b0fe-a30f-4067-97b2-5ae6ef407652",
   "metadata": {
    "tags": []
   },
   "outputs": [
    {
     "name": "stdout",
     "output_type": "stream",
     "text": [
      "service_name : Samsung Health(삼성 헬스), review count : 40\n",
      "service_name : NH헬스케어, review count : 40\n",
      "service_name : 케어헬스, review count : 17\n",
      "service_name : , review count : 0\n",
      "service_name : , review count : 0\n",
      "service_name : , review count : 0\n",
      "service_name : , review count : 0\n",
      "service_name : , review count : 0\n",
      "service_name : , review count : 0\n",
      "service_name : 오케어, review count : 40\n",
      "service_name : , review count : 0\n",
      "service_name : , review count : 0\n",
      "service_name : , review count : 0\n",
      "service_name : , review count : 0\n",
      "service_name : , review count : 0\n",
      "service_name : , review count : 0\n",
      "service_name : , review count : 0\n",
      "service_name : , review count : 0\n",
      "service_name : 올라케어 - 건강한 일상의 시작, review count : 40\n",
      "service_name : , review count : 0\n",
      "service_name : , review count : 0\n",
      "Done\n"
     ]
    }
   ],
   "source": [
    "client = mg.MongoClient(host='mongodb://localhost:27017')\n",
    "database = client['study_data_analytics']\n",
    "collection = database['googlestore_heathcare']\n",
    "\n",
    "# 서비스 앱에 대한 리스트 가져오기 \n",
    "click_path = 'section > div > div > div > div' \n",
    "company_list = browser.find_elements_by_css_selector(click_path)\n",
    "\n",
    "len(company_list)\n",
    "\n",
    "for company in company_list:\n",
    "    company.click()\n",
    "    time.sleep(2) #term을 주기 \n",
    "    \n",
    "    # 서비스 앱에 대한 정보 가져오기 \n",
    "    try : \n",
    "        service_name = browser.find_element_by_css_selector('div > h1 > span').text\n",
    "    except: \n",
    "        service_name = str()\n",
    "    try : \n",
    "        company_name = browser.find_element_by_css_selector('div.Il7kR > div > div > div > a > span').text\n",
    "    except: \n",
    "        company_name = str()\n",
    "    try : \n",
    "        app_information = browser.find_element_by_css_selector('div:nth-child(1) > c-wiz:nth-child(2) > div > section > div').text\n",
    "    except : \n",
    "        app_information = str()\n",
    "        \n",
    "    # [service_name, company_name, app_information]\n",
    "    \n",
    "    # 댓글 팝업 띄우기(해당 리뷰 없을 시 대비한 방어 코드 작성 필요)\n",
    "    review_flag = True\n",
    "    try : \n",
    "        browser.find_element_by_xpath('//*/div/div/button/*[contains(text(), \"리뷰\")]').click() \n",
    "    except : \n",
    "        review_flag = False\n",
    "        \n",
    "    # 회사 서비스에 대한 전체 리뷰 가져오기 \n",
    "    serviceapp_colums_name = ['service_name', 'content', 'date', 'stars']\n",
    "    reviews_list = list()\n",
    "    if review_flag : # 리뷰가 있으면 \n",
    "        reviews_bundle = browser.find_elements_by_css_selector('div.fysCi > div > div:nth-child(2) > div')\n",
    "        len(reviews_bundle)\n",
    "\n",
    "        for review_bundle in reviews_bundle : \n",
    "            content = review_bundle.find_element_by_css_selector('div.h3YV2d').text\n",
    "            date = review_bundle.find_element_by_css_selector('header > div.Jx4nYe > span').text\n",
    "            stars = review_bundle.find_element_by_css_selector('header > div.Jx4nYe > div').get_attribute('aria-label')\n",
    "            review_list = [service_name, content, date, stars]\n",
    "            reviews_list.append(review_list) # 리뷰에 대한 모든 것(특정 회사 서비스에 대한)\n",
    "        \n",
    "        browser.back() #팝업 닫기\n",
    "        \n",
    "        # 저장을 위한 작업 \n",
    "        df_reviews = pd.DataFrame(data=reviews_list, columns=serviceapp_colums_name)\n",
    "        data_dict = df_reviews.to_dict(orient='records')\n",
    "        collection.insert_many(data_dict)\n",
    "        \n",
    "    print('service_name : {}, review count : {}'.format(service_name, len(reviews_list)))\n",
    "    browser.back() # 리스트로 돌아가기 \n",
    "    time.sleep(3)\n",
    "print('Done')"
   ]
  },
  {
   "cell_type": "code",
   "execution_count": null,
   "id": "0a738407-bc69-464b-b87c-839247cf241a",
   "metadata": {
    "tags": []
   },
   "outputs": [],
   "source": [
    "reviews_list"
   ]
  },
  {
   "cell_type": "code",
   "execution_count": null,
   "id": "6fe8478a-71d2-4669-9462-cf6564f487db",
   "metadata": {},
   "outputs": [],
   "source": [
    "# 뒤로 가기 \n",
    "browser.back() # 팝업 닫기 "
   ]
  },
  {
   "cell_type": "code",
   "execution_count": null,
   "id": "136cd413-cbf5-4dee-a6cc-6840e9bda464",
   "metadata": {
    "tags": []
   },
   "outputs": [],
   "source": [
    "browser.back() # 리스트로 돌아가기 "
   ]
  },
  {
   "cell_type": "code",
   "execution_count": null,
   "id": "a19b24da-b482-482d-a88b-367f55a9aa09",
   "metadata": {},
   "outputs": [],
   "source": []
  }
 ],
 "metadata": {
  "kernelspec": {
   "display_name": "Python 3 (ipykernel)",
   "language": "python",
   "name": "python3"
  },
  "language_info": {
   "codemirror_mode": {
    "name": "ipython",
    "version": 3
   },
   "file_extension": ".py",
   "mimetype": "text/x-python",
   "name": "python",
   "nbconvert_exporter": "python",
   "pygments_lexer": "ipython3",
   "version": "3.11.3"
  }
 },
 "nbformat": 4,
 "nbformat_minor": 5
}
