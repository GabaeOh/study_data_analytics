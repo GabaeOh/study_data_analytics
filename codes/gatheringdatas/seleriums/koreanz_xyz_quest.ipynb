{
 "cells": [
  {
   "cell_type": "code",
   "execution_count": 1,
   "id": "38ca6178-4fbd-41f1-873b-e7117d9dc9b9",
   "metadata": {
    "tags": []
   },
   "outputs": [],
   "source": [
    "from selenium import webdriver\n",
    "import pandas as pd \n",
    "import pymongo as mg\n",
    "import time"
   ]
  },
  {
   "cell_type": "markdown",
   "id": "ace144fc-a69e-402d-adae-44926f17a8cc",
   "metadata": {},
   "source": [
    "### 웹사이트 : 코리언즈"
   ]
  },
  {
   "cell_type": "code",
   "execution_count": 8,
   "id": "fc19d505-cdff-47bc-90cf-5611db9c8dc8",
   "metadata": {
    "tags": []
   },
   "outputs": [],
   "source": [
    "browser = webdriver.Chrome(executable_path='../../../../chromedriver.exe') \n",
    "browser.get('https://a73.koreanz.xyz/bbs/board.php?bo_table=tvyeneng')"
   ]
  },
  {
   "cell_type": "code",
   "execution_count": 275,
   "id": "ec19f68e-25bc-4a34-978a-ae1a1657cb12",
   "metadata": {
    "tags": []
   },
   "outputs": [],
   "source": [
    "browser.implicitly_wait(10)"
   ]
  },
  {
   "cell_type": "markdown",
   "id": "b755c725-3321-46cd-8709-37950eacf226",
   "metadata": {
    "jp-MarkdownHeadingCollapsed": true,
    "tags": []
   },
   "source": [
    "## single"
   ]
  },
  {
   "cell_type": "markdown",
   "id": "dfb44606-ab9f-4c70-a504-767ace3fb4c0",
   "metadata": {},
   "source": [
    "### 게시물 정보 \n",
    "- 게시물 번호 tag : #list-body > li:nth-child(1) > div.wr-num.hidden-xs\n",
    "- 제목 tag : #list-body > li:nth-child(1) > div.wr-subject\n",
    "- 게시날자 tag : #list-body > li:nth-child(1) > div.wr-date.hidden-xs > span\n",
    "- 조회수 tag : #list-body > li:nth-child(1) > div.wr-hit.hidden-xs"
   ]
  },
  {
   "cell_type": "code",
   "execution_count": 15,
   "id": "e0686fe8-c96f-4e5d-9efd-6a129c90368d",
   "metadata": {
    "tags": []
   },
   "outputs": [
    {
     "data": {
      "text/plain": [
       "['43553', '엔시티 유니버스 - 라스타트.7회.230907', '14:00', '46']"
      ]
     },
     "execution_count": 15,
     "metadata": {},
     "output_type": "execute_result"
    }
   ],
   "source": [
    "program_number = browser.find_element_by_css_selector('#list-body > li:nth-child(1) > div.wr-num.hidden-xs').text\n",
    "program_title = browser.find_element_by_css_selector('#list-body > li:nth-child(1) > div.wr-subject').text\n",
    "program_date = browser.find_element_by_css_selector('#list-body > li:nth-child(1) > div.wr-date.hidden-xs > span').text\n",
    "program_views = browser.find_element_by_css_selector('#list-body > li:nth-child(1) > div.wr-hit.hidden-xs').text\n",
    "\n",
    "[program_number, program_title, program_date, program_views]"
   ]
  },
  {
   "cell_type": "markdown",
   "id": "cbcec27d-22fb-44cd-b72b-e26313113fbc",
   "metadata": {},
   "source": [
    "#### 상세 채널 리스트 (채널명, 링크)\n",
    "- 제목 tag : #list-body > li:nth-child(1) > div.wr-subject\n",
    "- 채널명 tag: div.view-content > div > a:nth-child(1) > span\n",
    "- 링크 tag : div:nth-child(3) > div.view-content > div > a:nth-child(1) / class : href"
   ]
  },
  {
   "cell_type": "code",
   "execution_count": 8,
   "id": "a96e7d81-d741-4959-b9af-636e6ae81106",
   "metadata": {
    "tags": []
   },
   "outputs": [],
   "source": [
    "browser.find_element_by_css_selector('#list-body > li:nth-child(1) > div.wr-subject').click() "
   ]
  },
  {
   "cell_type": "code",
   "execution_count": 11,
   "id": "d28309b0-d35d-458d-a4de-db360e68afc5",
   "metadata": {
    "tags": []
   },
   "outputs": [
    {
     "data": {
      "text/plain": [
       "['AllViewer 720p', 'https://www.broviewer.net/?id=5230907_133609']"
      ]
     },
     "execution_count": 11,
     "metadata": {},
     "output_type": "execute_result"
    }
   ],
   "source": [
    "program_linkname =  browser.find_element_by_css_selector('div.view-content > div > a:nth-child(1) > span').text\n",
    "program_link = browser.find_element_by_css_selector('div:nth-child(3) > div.view-content > div > a:nth-child(1)').get_attribute('href') \n",
    "\n",
    "[program_linkname, program_link]"
   ]
  },
  {
   "cell_type": "code",
   "execution_count": 12,
   "id": "0edf7e2d-618f-43a7-81c5-4431e46dc9a0",
   "metadata": {
    "tags": []
   },
   "outputs": [],
   "source": [
    "browser.back()"
   ]
  },
  {
   "cell_type": "markdown",
   "id": "2a4d6264-a801-466b-849c-e5edadcf2687",
   "metadata": {
    "tags": []
   },
   "source": [
    "## loops"
   ]
  },
  {
   "cell_type": "markdown",
   "id": "07103a57-b7f1-459e-aed8-e34f77b7dcdd",
   "metadata": {
    "jp-MarkdownHeadingCollapsed": true,
    "tags": []
   },
   "source": [
    "### 묶음 가져오기 \n",
    "- 게시물 정보 묶음 : .list-item"
   ]
  },
  {
   "cell_type": "code",
   "execution_count": 49,
   "id": "dd4b6af9-9f77-42c5-b804-18464365e080",
   "metadata": {
    "tags": []
   },
   "outputs": [
    {
     "data": {
      "text/plain": [
       "(list, selenium.webdriver.remote.webelement.WebElement)"
      ]
     },
     "execution_count": 49,
     "metadata": {},
     "output_type": "execute_result"
    }
   ],
   "source": [
    "elements_program_number = browser.find_elements_by_css_selector('.wr-subject')\n",
    "type(elements_program_number), type(elements_program_number[0])"
   ]
  },
  {
   "cell_type": "code",
   "execution_count": 64,
   "id": "f4457bc6-94de-40f9-abab-0f035c669dc2",
   "metadata": {
    "tags": []
   },
   "outputs": [
    {
     "data": {
      "text/plain": [
       "25"
      ]
     },
     "execution_count": 64,
     "metadata": {},
     "output_type": "execute_result"
    }
   ],
   "source": [
    "# 묶음의 총 갯수 파악\n",
    "programs_bundle = browser.find_elements_by_css_selector('.list-item')\n",
    "len(programs_bundle)"
   ]
  },
  {
   "cell_type": "code",
   "execution_count": 62,
   "id": "9acdb26a-d3a0-4df9-9145-7686ac82432e",
   "metadata": {
    "tags": []
   },
   "outputs": [],
   "source": [
    "## for문을 활용하여 가져오기 \n",
    "program_list = list()\n",
    "for program_bundle in programs_bundle:\n",
    "    program_number = program_bundle.find_element_by_css_selector('.wr-num.hidden-xs').text\n",
    "    program_title = program_bundle.find_element_by_css_selector('.wr-subject').text\n",
    "    program_date = program_bundle.find_element_by_css_selector('.wr-date.hidden-xs').text\n",
    "    program_views = program_bundle.find_element_by_css_selector('.wr-hit.hidden-xs').text\n",
    "    \n",
    "    programs_list = [program_number, program_title, program_date, program_views]\n",
    "    program_list.append(programs_list) "
   ]
  },
  {
   "cell_type": "code",
   "execution_count": 63,
   "id": "fbb1d495-7f81-4af0-830b-79533adc9706",
   "metadata": {
    "tags": []
   },
   "outputs": [
    {
     "data": {
      "text/plain": [
       "[['43553', '엔시티 유니버스 - 라스타트.7회.230907', '14:00', '53'],\n",
       " ['43552', '최고의 요리비결.5058회.230907', '12:00', '71'],\n",
       " ['43551', '손대면 핫플 - 동네멋집.6회.230906', '11:00', '132'],\n",
       " ['43550', '70억의 선택.67회.230907', '10:00', '107'],\n",
       " ['43549', '코미디빅리그.514회.230906', '01:00', '926'],\n",
       " ['43548', '개밥주는 남자 펫대로 하우스.8회.230906', '01:00', '285'],\n",
       " ['43547', '나는 SOLO.113회.230906 (2)', '01:00', '5840'],\n",
       " ['43546', '라디오스타.833회.230906 (1)', '00:00', '2616'],\n",
       " ['43545', '고딩엄빠 4.7회.230906', '00:00', '1066'],\n",
       " ['43544', '요즘 남자 라이프 신랑수업.80회.230906 (1)', '09.06', '1410'],\n",
       " ['43543', '태군노래자랑.15회.230906', '09.06', '298'],\n",
       " ['43542', '과학수사대 스모킹 건.23회.230906', '09.06', '1075'],\n",
       " ['43541', '유 퀴즈 온 더 블럭.210회.230906', '09.06', '2822'],\n",
       " ['43540', '골 때리는 그녀들.109회.230906 (3)', '09.06', '4904'],\n",
       " ['43539', '빈집살래3 수리수리 마을수리.6회.230906', '09.06', '305'],\n",
       " ['43538', '나는 자연인이다.570회.230906 (1)', '09.06', '832'],\n",
       " ['43537', '벌거벗은 한국사.72회.230906 (1)', '09.06', '881'],\n",
       " ['43536', '옥탑방의 문제아들.243회.230906', '09.06', '811'],\n",
       " ['43535', 'EXO의 사다리타고 세계여행4.4회.230906', '09.06', '151'],\n",
       " ['43534', '명을 사수하는 사람들.28회.230906', '09.06', '167'],\n",
       " ['43533', '일꾼의 탄생.88회.230906', '09.06', '233'],\n",
       " ['43532', '주간 아이돌.629회.230906', '09.06', '167'],\n",
       " ['43531', '엠넷 리부트.8회.230906', '09.06', '136'],\n",
       " ['43530', '인생의 연장전.59회.230906', '09.06', '134'],\n",
       " ['43529', '쇼 챔피언.490회.230906', '09.06', '107']]"
      ]
     },
     "execution_count": 63,
     "metadata": {},
     "output_type": "execute_result"
    }
   ],
   "source": [
    "program_list"
   ]
  },
  {
   "cell_type": "markdown",
   "id": "85df2360-2ec6-43ee-a1b4-f5682c2216e3",
   "metadata": {},
   "source": [
    "#### 링크 묶음 가져오기 "
   ]
  },
  {
   "cell_type": "code",
   "execution_count": 235,
   "id": "6f2330c8-2eaa-4cf9-bb71-0988362544b0",
   "metadata": {
    "tags": []
   },
   "outputs": [],
   "source": [
    "browser.find_element_by_css_selector('#list-body > li:nth-child(1) > div.wr-subject').click() "
   ]
  },
  {
   "cell_type": "code",
   "execution_count": 110,
   "id": "5699b95c-f3d3-4abf-8772-d33f999128f6",
   "metadata": {
    "tags": []
   },
   "outputs": [
    {
     "data": {
      "text/plain": [
       "13"
      ]
     },
     "execution_count": 110,
     "metadata": {},
     "output_type": "execute_result"
    }
   ],
   "source": [
    "links_bundle = browser.find_elements_by_xpath('//*[@id=\"at-main\"]/div[2]/section/article/div[2]/div[2]/div/a')\n",
    "len(links_bundle)"
   ]
  },
  {
   "cell_type": "code",
   "execution_count": 112,
   "id": "21972bcf-1eac-40ec-b352-d433d498cde7",
   "metadata": {
    "tags": []
   },
   "outputs": [
    {
     "data": {
      "text/plain": [
       "['AllViewer 720p', 'https://www.broviewer.net/?id=5230907_133609']"
      ]
     },
     "execution_count": 112,
     "metadata": {},
     "output_type": "execute_result"
    }
   ],
   "source": [
    "program_linkname =  browser.find_element_by_css_selector('div.view-content > div > a:nth-child(1) > span').text\n",
    "program_link = browser.find_element_by_css_selector('div:nth-child(3) > div.view-content > div > a:nth-child(1)').get_attribute('href') \n",
    "\n",
    "[program_linkname, program_link]"
   ]
  },
  {
   "cell_type": "code",
   "execution_count": 114,
   "id": "eab17a1c-9ed2-49fb-b4b7-a3c2a8a0ed19",
   "metadata": {
    "tags": []
   },
   "outputs": [],
   "source": [
    "## for문을 활용하여 가져오기 \n",
    "link_list = []\n",
    "for link_bundle in links_bundle:\n",
    "    program_linkname =  browser.find_element_by_css_selector('div.view-content > div > a:nth-child(1) > span').text\n",
    "    program_link = browser.find_element_by_css_selector('div:nth-child(3) > div.view-content > div > a:nth-child(1)').get_attribute('href') \n",
    "\n",
    "        \n",
    "    links_list = [program_linkname, program_link]\n",
    "    link_list.append(links_list) "
   ]
  },
  {
   "cell_type": "code",
   "execution_count": 115,
   "id": "a2841e88-322b-4a52-9051-ff438ef18d30",
   "metadata": {
    "tags": []
   },
   "outputs": [
    {
     "data": {
      "text/plain": [
       "[['AllViewer 720p', 'https://www.broviewer.net/?id=5230907_133609'],\n",
       " ['AllViewer 720p', 'https://www.broviewer.net/?id=5230907_133609'],\n",
       " ['AllViewer 720p', 'https://www.broviewer.net/?id=5230907_133609'],\n",
       " ['AllViewer 720p', 'https://www.broviewer.net/?id=5230907_133609'],\n",
       " ['AllViewer 720p', 'https://www.broviewer.net/?id=5230907_133609'],\n",
       " ['AllViewer 720p', 'https://www.broviewer.net/?id=5230907_133609'],\n",
       " ['AllViewer 720p', 'https://www.broviewer.net/?id=5230907_133609'],\n",
       " ['AllViewer 720p', 'https://www.broviewer.net/?id=5230907_133609'],\n",
       " ['AllViewer 720p', 'https://www.broviewer.net/?id=5230907_133609'],\n",
       " ['AllViewer 720p', 'https://www.broviewer.net/?id=5230907_133609'],\n",
       " ['AllViewer 720p', 'https://www.broviewer.net/?id=5230907_133609'],\n",
       " ['AllViewer 720p', 'https://www.broviewer.net/?id=5230907_133609'],\n",
       " ['AllViewer 720p', 'https://www.broviewer.net/?id=5230907_133609']]"
      ]
     },
     "execution_count": 115,
     "metadata": {},
     "output_type": "execute_result"
    }
   ],
   "source": [
    "link_list"
   ]
  },
  {
   "cell_type": "markdown",
   "id": "744323b8-fd6c-44d9-b108-e063c74a0cfa",
   "metadata": {},
   "source": [
    "## 최종 \n",
    "- 이중 for문 후 mongo DB에 넣기"
   ]
  },
  {
   "cell_type": "markdown",
   "id": "d06cfda7-8439-48c6-948c-64a9d0522d0a",
   "metadata": {},
   "source": [
    "### paginations\n",
    "- page 4 tag : #fboardlist > div.list-page.text-center > ul > li:nth-child(4) > a\n",
    "- page 5 tag : #fboardlist > div.list-page.text-center > ul > li:nth-child(5) > a"
   ]
  },
  {
   "cell_type": "code",
   "execution_count": null,
   "id": "b11c1195-2215-4eb9-8d89-f6bbb829f44e",
   "metadata": {
    "tags": []
   },
   "outputs": [],
   "source": [
    "client = mg.MongoClient(host='mongodb://localhost:27017')\n",
    "database = client['study_data_analytics']\n",
    "collection = database['koreanz_xyz_quest']\n",
    "\n",
    "for page_number in range(2, 3) : # 첫 페이지는 tag가 달라짐\n",
    "    element_path = '#fboardlist > div.list-page.text-center > ul > li:nth-child({}) > a'.format(page_number)\n",
    "    try : \n",
    "        pagination = browser.find_element_by_css_selector(element_path)\n",
    "        pagination.click()\n",
    "        \n",
    "        time.sleep(2) # term을 주기\n",
    "        programs_bundle = browser.find_elements_by_css_selector('.list-item')\n",
    "        \n",
    "        ## for문을 program 정보 가져오기 \n",
    "        program_list = []\n",
    "        for program_bundle in programs_bundle:\n",
    "            program_number = program_bundle.find_element_by_css_selector('.wr-num.hidden-xs').text\n",
    "            program_title = program_bundle.find_element_by_css_selector('.wr-subject').text\n",
    "            program_date = program_bundle.find_element_by_css_selector('.wr-date.hidden-xs').text\n",
    "            program_views = program_bundle.find_element_by_css_selector('.wr-hit.hidden-xs').text\n",
    "\n",
    "            programs_list.append(program_list) \n",
    "            \n",
    "            time.sleep(2) # term을 주기\n",
    "            # 프로그램 클릭\n",
    "            browser.find_element_by_css_selector('#list-body > li:nth-child(1) > div.wr-subject').click() \n",
    "            \n",
    "            # 전체 링크 정보\n",
    "            links_bundle = browser.find_elements_by_xpath('//*[@id=\"at-main\"]/div[2]/section/article/div[2]/div[2]/div/a')\n",
    "            len(links_bundle)\n",
    "\n",
    "            ## 링크 정보 가져오기 \n",
    "            link_list = []\n",
    "            for link_bundle in links_bundle:\n",
    "                program_linkname =  browser.find_element_by_css_selector('div.view-content > div > a:nth-child(1) > span').text\n",
    "                program_link = browser.find_element_by_css_selector('div:nth-child(3) > div.view-content > div > a:nth-child(1)').get_attribute('href') \n",
    "                link_list = [program_number, program_title, program_date, program_views, program_linkname, program_link]\n",
    "                program_list.append(link_list) \n",
    "                \n",
    "            browser.back() #팝업 닫기\n",
    "            \n",
    "            # 저장을 위한 작업\n",
    "            program_colums_name = ['program_number', 'program_title', 'program_date', 'program_views', 'program_linkname', 'program_link']\n",
    "            df_program = pd.DataFrame(data=program_list, columns=program_colums_name)\n",
    "            data_dict = df_program.to_dict(orient='records')\n",
    "            collection.insert_many(data_dict) \n",
    "            \n",
    "    except : \n",
    "        print(\"오류\")"
   ]
  },
  {
   "cell_type": "code",
   "execution_count": 7,
   "id": "e1270789-16f3-4689-a08c-4b1463a7685d",
   "metadata": {
    "tags": []
   },
   "outputs": [
    {
     "name": "stdout",
     "output_type": "stream",
     "text": [
      "[]\n"
     ]
    }
   ],
   "source": [
    "print(program_list)"
   ]
  },
  {
   "cell_type": "code",
   "execution_count": null,
   "id": "7525c191-0dc3-46c0-b13f-8412d874e4d2",
   "metadata": {},
   "outputs": [],
   "source": []
  }
 ],
 "metadata": {
  "kernelspec": {
   "display_name": "Python 3 (ipykernel)",
   "language": "python",
   "name": "python3"
  },
  "language_info": {
   "codemirror_mode": {
    "name": "ipython",
    "version": 3
   },
   "file_extension": ".py",
   "mimetype": "text/x-python",
   "name": "python",
   "nbconvert_exporter": "python",
   "pygments_lexer": "ipython3",
   "version": "3.11.3"
  }
 },
 "nbformat": 4,
 "nbformat_minor": 5
}
