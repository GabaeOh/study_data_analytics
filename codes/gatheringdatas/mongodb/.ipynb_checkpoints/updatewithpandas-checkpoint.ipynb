{
 "cells": [
  {
   "cell_type": "code",
   "execution_count": 13,
   "id": "a424ba7d-e7b9-40e6-b52e-d68ba466e0ca",
   "metadata": {
    "tags": []
   },
   "outputs": [],
   "source": [
    "# %conda install pymongo"
   ]
  },
  {
   "cell_type": "code",
   "execution_count": 14,
   "id": "86f94412-19cd-4fbf-b53f-ff597f33642e",
   "metadata": {
    "tags": []
   },
   "outputs": [],
   "source": [
    "import pymongo as mg\n",
    "import pandas as pd "
   ]
  },
  {
   "cell_type": "code",
   "execution_count": 16,
   "id": "dd89a5e5-0bc3-4b1a-892a-4e30d5e0476c",
   "metadata": {
    "tags": []
   },
   "outputs": [],
   "source": [
    "client = mg.MongoClient(host='mongodb://localhost:27017')"
   ]
  },
  {
   "cell_type": "code",
   "execution_count": 17,
   "id": "a2e1c8d2-5a80-40f1-aad4-81374b9d6594",
   "metadata": {
    "tags": []
   },
   "outputs": [],
   "source": [
    "database = client['study_data_analytics'] #Database 선택"
   ]
  },
  {
   "cell_type": "code",
   "execution_count": 18,
   "id": "3ded6270-1af8-40e8-9e9a-fe390756e4d9",
   "metadata": {
    "tags": []
   },
   "outputs": [],
   "source": [
    "collection = database['collect_update'] # collection 선택"
   ]
  },
  {
   "cell_type": "code",
   "execution_count": 26,
   "id": "d6cf7e12-f752-4317-92d0-a9f32bad3db9",
   "metadata": {
    "tags": []
   },
   "outputs": [],
   "source": [
    "cursor = collection.find({})"
   ]
  },
  {
   "cell_type": "code",
   "execution_count": 30,
   "id": "e1b19440-9b87-4e28-900d-0154f1554fe5",
   "metadata": {
    "tags": []
   },
   "outputs": [],
   "source": [
    "df_BND.to_csv('./NSC2_BND.csv') # 동일폴더에 저장하기 "
   ]
  },
  {
   "cell_type": "code",
   "execution_count": null,
   "id": "f5691d41-7edf-484d-b9e4-eb84063b47cf",
   "metadata": {},
   "outputs": [],
   "source": []
  }
 ],
 "metadata": {
  "kernelspec": {
   "display_name": "Python 3 (ipykernel)",
   "language": "python",
   "name": "python3"
  },
  "language_info": {
   "codemirror_mode": {
    "name": "ipython",
    "version": 3
   },
   "file_extension": ".py",
   "mimetype": "text/x-python",
   "name": "python",
   "nbconvert_exporter": "python",
   "pygments_lexer": "ipython3",
   "version": "3.11.3"
  }
 },
 "nbformat": 4,
 "nbformat_minor": 5
}
