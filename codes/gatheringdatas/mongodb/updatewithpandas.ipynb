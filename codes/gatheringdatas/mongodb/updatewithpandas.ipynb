{
 "cells": [
  {
   "cell_type": "code",
   "execution_count": 13,
   "id": "a424ba7d-e7b9-40e6-b52e-d68ba466e0ca",
   "metadata": {
    "tags": []
   },
   "outputs": [],
   "source": [
    "# %conda install pymongo"
   ]
  },
  {
   "cell_type": "code",
   "execution_count": 1,
   "id": "86f94412-19cd-4fbf-b53f-ff597f33642e",
   "metadata": {
    "tags": []
   },
   "outputs": [],
   "source": [
    "import pymongo as mg\n",
    "import pandas as pd "
   ]
  },
  {
   "cell_type": "code",
   "execution_count": 2,
   "id": "dd89a5e5-0bc3-4b1a-892a-4e30d5e0476c",
   "metadata": {
    "tags": []
   },
   "outputs": [],
   "source": [
    "client = mg.MongoClient(host='mongodb://localhost:27017')"
   ]
  },
  {
   "cell_type": "code",
   "execution_count": 3,
   "id": "a2e1c8d2-5a80-40f1-aad4-81374b9d6594",
   "metadata": {
    "tags": []
   },
   "outputs": [],
   "source": [
    "database = client['study_data_analytics'] #Database 선택"
   ]
  },
  {
   "cell_type": "code",
   "execution_count": 4,
   "id": "3ded6270-1af8-40e8-9e9a-fe390756e4d9",
   "metadata": {
    "tags": []
   },
   "outputs": [],
   "source": [
    "collection = database['collect_update'] # collection 선택"
   ]
  },
  {
   "cell_type": "code",
   "execution_count": 6,
   "id": "d6cf7e12-f752-4317-92d0-a9f32bad3db9",
   "metadata": {
    "tags": []
   },
   "outputs": [],
   "source": [
    "cursor_data = collection.find({})"
   ]
  },
  {
   "cell_type": "code",
   "execution_count": 7,
   "id": "d95afa20-b535-4e8d-87cb-a6cafb23284c",
   "metadata": {
    "tags": []
   },
   "outputs": [
    {
     "data": {
      "text/html": [
       "<div>\n",
       "<style scoped>\n",
       "    .dataframe tbody tr th:only-of-type {\n",
       "        vertical-align: middle;\n",
       "    }\n",
       "\n",
       "    .dataframe tbody tr th {\n",
       "        vertical-align: top;\n",
       "    }\n",
       "\n",
       "    .dataframe thead th {\n",
       "        text-align: right;\n",
       "    }\n",
       "</style>\n",
       "<table border=\"1\" class=\"dataframe\">\n",
       "  <thead>\n",
       "    <tr style=\"text-align: right;\">\n",
       "      <th></th>\n",
       "      <th>_id</th>\n",
       "      <th>name</th>\n",
       "      <th>age</th>\n",
       "      <th>city</th>\n",
       "    </tr>\n",
       "  </thead>\n",
       "  <tbody>\n",
       "    <tr>\n",
       "      <th>0</th>\n",
       "      <td>65012a52608ceccbaa42e295</td>\n",
       "      <td>Alice</td>\n",
       "      <td>26</td>\n",
       "      <td>Seoul</td>\n",
       "    </tr>\n",
       "    <tr>\n",
       "      <th>1</th>\n",
       "      <td>65012a52608ceccbaa42e296</td>\n",
       "      <td>Bob</td>\n",
       "      <td>30</td>\n",
       "      <td>Busan</td>\n",
       "    </tr>\n",
       "  </tbody>\n",
       "</table>\n",
       "</div>"
      ],
      "text/plain": [
       "                        _id   name  age   city\n",
       "0  65012a52608ceccbaa42e295  Alice   26  Seoul\n",
       "1  65012a52608ceccbaa42e296    Bob   30  Busan"
      ]
     },
     "execution_count": 7,
     "metadata": {},
     "output_type": "execute_result"
    }
   ],
   "source": [
    "df_collect_update = pd.DataFrame(list(cursor_data))\n",
    "df_collect_update[:2]"
   ]
  },
  {
   "cell_type": "code",
   "execution_count": 9,
   "id": "f5691d41-7edf-484d-b9e4-eb84063b47cf",
   "metadata": {},
   "outputs": [
    {
     "data": {
      "text/html": [
       "<div>\n",
       "<style scoped>\n",
       "    .dataframe tbody tr th:only-of-type {\n",
       "        vertical-align: middle;\n",
       "    }\n",
       "\n",
       "    .dataframe tbody tr th {\n",
       "        vertical-align: top;\n",
       "    }\n",
       "\n",
       "    .dataframe thead th {\n",
       "        text-align: right;\n",
       "    }\n",
       "</style>\n",
       "<table border=\"1\" class=\"dataframe\">\n",
       "  <thead>\n",
       "    <tr style=\"text-align: right;\">\n",
       "      <th></th>\n",
       "      <th>_id</th>\n",
       "      <th>name</th>\n",
       "      <th>age</th>\n",
       "      <th>city</th>\n",
       "      <th>update</th>\n",
       "    </tr>\n",
       "  </thead>\n",
       "  <tbody>\n",
       "    <tr>\n",
       "      <th>0</th>\n",
       "      <td>65012a52608ceccbaa42e295</td>\n",
       "      <td>Alice</td>\n",
       "      <td>26</td>\n",
       "      <td>Seoul</td>\n",
       "      <td>2023-09-13 13:03:26.185789</td>\n",
       "    </tr>\n",
       "    <tr>\n",
       "      <th>1</th>\n",
       "      <td>65012a52608ceccbaa42e296</td>\n",
       "      <td>Bob</td>\n",
       "      <td>30</td>\n",
       "      <td>Busan</td>\n",
       "      <td>2023-09-13 13:03:26.185789</td>\n",
       "    </tr>\n",
       "  </tbody>\n",
       "</table>\n",
       "</div>"
      ],
      "text/plain": [
       "                        _id   name  age   city                     update\n",
       "0  65012a52608ceccbaa42e295  Alice   26  Seoul 2023-09-13 13:03:26.185789\n",
       "1  65012a52608ceccbaa42e296    Bob   30  Busan 2023-09-13 13:03:26.185789"
      ]
     },
     "execution_count": 9,
     "metadata": {},
     "output_type": "execute_result"
    }
   ],
   "source": [
    "from datetime import datetime\n",
    "df_collect_update['update']= datetime.now() # 현 날짜에 대해 컬럼 추가 \n",
    "df_collect_update[:2]"
   ]
  },
  {
   "cell_type": "code",
   "execution_count": 15,
   "id": "000b7c69-5c1c-4eb5-935c-0f0482a78ac2",
   "metadata": {
    "tags": []
   },
   "outputs": [
    {
     "data": {
      "text/plain": [
       "<pymongo.results.InsertManyResult at 0x29012dc0180>"
      ]
     },
     "execution_count": 15,
     "metadata": {},
     "output_type": "execute_result"
    }
   ],
   "source": [
    "collection_new = database['collect_update_new'] # 컬랙션 생성\n",
    "dict_collect_update= df_collect_update.to_dict(orient='records') #df를 디션러리로 변경\n",
    "result = collection_new.insert_many(dict_collect_update) # 디션너리를 새로운 컬랙션에 추가\n",
    "result"
   ]
  },
  {
   "cell_type": "code",
   "execution_count": 17,
   "id": "a53c760f-90ec-4026-872d-36962600384d",
   "metadata": {
    "tags": []
   },
   "outputs": [
    {
     "data": {
      "text/plain": [
       "[ObjectId('65012a52608ceccbaa42e295'),\n",
       " ObjectId('65012a52608ceccbaa42e296'),\n",
       " ObjectId('65012a52608ceccbaa42e297')]"
      ]
     },
     "execution_count": 17,
     "metadata": {},
     "output_type": "execute_result"
    }
   ],
   "source": [
    "result.inserted_ids"
   ]
  },
  {
   "cell_type": "code",
   "execution_count": null,
   "id": "8643dd45-e344-43aa-a2a3-1b51cc3dfc02",
   "metadata": {},
   "outputs": [],
   "source": []
  }
 ],
 "metadata": {
  "kernelspec": {
   "display_name": "Python 3 (ipykernel)",
   "language": "python",
   "name": "python3"
  },
  "language_info": {
   "codemirror_mode": {
    "name": "ipython",
    "version": 3
   },
   "file_extension": ".py",
   "mimetype": "text/x-python",
   "name": "python",
   "nbconvert_exporter": "python",
   "pygments_lexer": "ipython3",
   "version": "3.11.3"
  }
 },
 "nbformat": 4,
 "nbformat_minor": 5
}
