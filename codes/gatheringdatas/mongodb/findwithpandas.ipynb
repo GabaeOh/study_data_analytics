{
 "cells": [
  {
   "cell_type": "code",
   "execution_count": 13,
   "id": "a424ba7d-e7b9-40e6-b52e-d68ba466e0ca",
   "metadata": {
    "tags": []
   },
   "outputs": [],
   "source": [
    "# %conda install pymongo"
   ]
  },
  {
   "cell_type": "code",
   "execution_count": 14,
   "id": "86f94412-19cd-4fbf-b53f-ff597f33642e",
   "metadata": {
    "tags": []
   },
   "outputs": [],
   "source": [
    "import pymongo as mg\n",
    "import pandas as pd "
   ]
  },
  {
   "cell_type": "code",
   "execution_count": 15,
   "id": "060d4c05-2fd2-44bc-8a74-b2fbdb4753ab",
   "metadata": {
    "tags": []
   },
   "outputs": [
    {
     "data": {
      "text/plain": [
       "'3.12.0'"
      ]
     },
     "execution_count": 15,
     "metadata": {},
     "output_type": "execute_result"
    }
   ],
   "source": [
    "mg.__version__"
   ]
  },
  {
   "cell_type": "code",
   "execution_count": 16,
   "id": "dd89a5e5-0bc3-4b1a-892a-4e30d5e0476c",
   "metadata": {
    "tags": []
   },
   "outputs": [],
   "source": [
    "client = mg.MongoClient(host='mongodb://localhost:27017')"
   ]
  },
  {
   "cell_type": "code",
   "execution_count": 17,
   "id": "a2e1c8d2-5a80-40f1-aad4-81374b9d6594",
   "metadata": {
    "tags": []
   },
   "outputs": [],
   "source": [
    "database = client['db_NHIS'] #Database 선택"
   ]
  },
  {
   "cell_type": "code",
   "execution_count": 18,
   "id": "3ded6270-1af8-40e8-9e9a-fe390756e4d9",
   "metadata": {
    "tags": []
   },
   "outputs": [],
   "source": [
    "collection = database['NSC2_BND'] # collection 선택"
   ]
  },
  {
   "cell_type": "code",
   "execution_count": 26,
   "id": "d6cf7e12-f752-4317-92d0-a9f32bad3db9",
   "metadata": {
    "tags": []
   },
   "outputs": [],
   "source": [
    "cursor = collection.find({})"
   ]
  },
  {
   "cell_type": "code",
   "execution_count": 27,
   "id": "0c589517-66f3-4233-9d35-af5649529f10",
   "metadata": {
    "tags": []
   },
   "outputs": [],
   "source": [
    "list_BND = list(cursor) # casting"
   ]
  },
  {
   "cell_type": "code",
   "execution_count": 28,
   "id": "807200fe-42d9-4caa-aeac-ffcac1b5bb1b",
   "metadata": {
    "tags": []
   },
   "outputs": [],
   "source": [
    "df_BND = pd.DataFrame(list_BND) "
   ]
  },
  {
   "cell_type": "code",
   "execution_count": 29,
   "id": "c187b341-e3fc-4f0a-8c7f-60d2ef899a9e",
   "metadata": {
    "tags": []
   },
   "outputs": [
    {
     "data": {
      "text/html": [
       "<div>\n",
       "<style scoped>\n",
       "    .dataframe tbody tr th:only-of-type {\n",
       "        vertical-align: middle;\n",
       "    }\n",
       "\n",
       "    .dataframe tbody tr th {\n",
       "        vertical-align: top;\n",
       "    }\n",
       "\n",
       "    .dataframe thead th {\n",
       "        text-align: right;\n",
       "    }\n",
       "</style>\n",
       "<table border=\"1\" class=\"dataframe\">\n",
       "  <thead>\n",
       "    <tr style=\"text-align: right;\">\n",
       "      <th></th>\n",
       "      <th>_id</th>\n",
       "      <th>RN_INDI</th>\n",
       "      <th>BTH_YYYY</th>\n",
       "      <th>DTH_YYYYMM</th>\n",
       "      <th>COD1</th>\n",
       "      <th>COD2</th>\n",
       "    </tr>\n",
       "  </thead>\n",
       "  <tbody>\n",
       "    <tr>\n",
       "      <th>0</th>\n",
       "      <td>64d2fd0ca951d5cc8f83fd4c</td>\n",
       "      <td>294364</td>\n",
       "      <td>1921LE</td>\n",
       "      <td>200707.0</td>\n",
       "      <td>T08-T14</td>\n",
       "      <td>W00-W19</td>\n",
       "    </tr>\n",
       "    <tr>\n",
       "      <th>1</th>\n",
       "      <td>64d2fd0ca951d5cc8f83fd4d</td>\n",
       "      <td>646257</td>\n",
       "      <td>1921LE</td>\n",
       "      <td>200805.0</td>\n",
       "      <td>A15-A19</td>\n",
       "      <td>NaN</td>\n",
       "    </tr>\n",
       "    <tr>\n",
       "      <th>2</th>\n",
       "      <td>64d2fd0ca951d5cc8f83fd4e</td>\n",
       "      <td>733575</td>\n",
       "      <td>1921LE</td>\n",
       "      <td>201309.0</td>\n",
       "      <td>G30</td>\n",
       "      <td>NaN</td>\n",
       "    </tr>\n",
       "    <tr>\n",
       "      <th>3</th>\n",
       "      <td>64d2fd0ca951d5cc8f83fd4f</td>\n",
       "      <td>966199</td>\n",
       "      <td>1921LE</td>\n",
       "      <td>201409.0</td>\n",
       "      <td>J69</td>\n",
       "      <td>NaN</td>\n",
       "    </tr>\n",
       "    <tr>\n",
       "      <th>4</th>\n",
       "      <td>64d2fd0ca951d5cc8f83fd50</td>\n",
       "      <td>972598</td>\n",
       "      <td>1921LE</td>\n",
       "      <td>201205.0</td>\n",
       "      <td>C44</td>\n",
       "      <td>NaN</td>\n",
       "    </tr>\n",
       "    <tr>\n",
       "      <th>...</th>\n",
       "      <td>...</td>\n",
       "      <td>...</td>\n",
       "      <td>...</td>\n",
       "      <td>...</td>\n",
       "      <td>...</td>\n",
       "      <td>...</td>\n",
       "    </tr>\n",
       "    <tr>\n",
       "      <th>995</th>\n",
       "      <td>64d2fd0ca951d5cc8f84012f</td>\n",
       "      <td>2057743</td>\n",
       "      <td>2015</td>\n",
       "      <td>NaN</td>\n",
       "      <td>NaN</td>\n",
       "      <td>NaN</td>\n",
       "    </tr>\n",
       "    <tr>\n",
       "      <th>996</th>\n",
       "      <td>64d2fd0ca951d5cc8f840130</td>\n",
       "      <td>2063541</td>\n",
       "      <td>2015</td>\n",
       "      <td>NaN</td>\n",
       "      <td>NaN</td>\n",
       "      <td>NaN</td>\n",
       "    </tr>\n",
       "    <tr>\n",
       "      <th>997</th>\n",
       "      <td>64d2fd0ca951d5cc8f840131</td>\n",
       "      <td>2070251</td>\n",
       "      <td>2015</td>\n",
       "      <td>NaN</td>\n",
       "      <td>NaN</td>\n",
       "      <td>NaN</td>\n",
       "    </tr>\n",
       "    <tr>\n",
       "      <th>998</th>\n",
       "      <td>64d2fd0ca951d5cc8f840132</td>\n",
       "      <td>2077125</td>\n",
       "      <td>2015</td>\n",
       "      <td>NaN</td>\n",
       "      <td>NaN</td>\n",
       "      <td>NaN</td>\n",
       "    </tr>\n",
       "    <tr>\n",
       "      <th>999</th>\n",
       "      <td>64d2fd0ca951d5cc8f840133</td>\n",
       "      <td>3000758</td>\n",
       "      <td>2015</td>\n",
       "      <td>NaN</td>\n",
       "      <td>NaN</td>\n",
       "      <td>NaN</td>\n",
       "    </tr>\n",
       "  </tbody>\n",
       "</table>\n",
       "<p>1000 rows × 6 columns</p>\n",
       "</div>"
      ],
      "text/plain": [
       "                          _id  RN_INDI BTH_YYYY  DTH_YYYYMM     COD1     COD2\n",
       "0    64d2fd0ca951d5cc8f83fd4c   294364   1921LE    200707.0  T08-T14  W00-W19\n",
       "1    64d2fd0ca951d5cc8f83fd4d   646257   1921LE    200805.0  A15-A19      NaN\n",
       "2    64d2fd0ca951d5cc8f83fd4e   733575   1921LE    201309.0      G30      NaN\n",
       "3    64d2fd0ca951d5cc8f83fd4f   966199   1921LE    201409.0      J69      NaN\n",
       "4    64d2fd0ca951d5cc8f83fd50   972598   1921LE    201205.0      C44      NaN\n",
       "..                        ...      ...      ...         ...      ...      ...\n",
       "995  64d2fd0ca951d5cc8f84012f  2057743     2015         NaN      NaN      NaN\n",
       "996  64d2fd0ca951d5cc8f840130  2063541     2015         NaN      NaN      NaN\n",
       "997  64d2fd0ca951d5cc8f840131  2070251     2015         NaN      NaN      NaN\n",
       "998  64d2fd0ca951d5cc8f840132  2077125     2015         NaN      NaN      NaN\n",
       "999  64d2fd0ca951d5cc8f840133  3000758     2015         NaN      NaN      NaN\n",
       "\n",
       "[1000 rows x 6 columns]"
      ]
     },
     "execution_count": 29,
     "metadata": {},
     "output_type": "execute_result"
    }
   ],
   "source": [
    "df_BND  # 파일 불러오기"
   ]
  },
  {
   "cell_type": "code",
   "execution_count": 30,
   "id": "e1b19440-9b87-4e28-900d-0154f1554fe5",
   "metadata": {
    "tags": []
   },
   "outputs": [],
   "source": [
    "df_BND.to_csv('./NSC2_BND.csv') # 동일폴더에 저장하기 "
   ]
  },
  {
   "cell_type": "code",
   "execution_count": null,
   "id": "f5691d41-7edf-484d-b9e4-eb84063b47cf",
   "metadata": {},
   "outputs": [],
   "source": []
  }
 ],
 "metadata": {
  "kernelspec": {
   "display_name": "Python 3 (ipykernel)",
   "language": "python",
   "name": "python3"
  },
  "language_info": {
   "codemirror_mode": {
    "name": "ipython",
    "version": 3
   },
   "file_extension": ".py",
   "mimetype": "text/x-python",
   "name": "python",
   "nbconvert_exporter": "python",
   "pygments_lexer": "ipython3",
   "version": "3.11.3"
  }
 },
 "nbformat": 4,
 "nbformat_minor": 5
}
