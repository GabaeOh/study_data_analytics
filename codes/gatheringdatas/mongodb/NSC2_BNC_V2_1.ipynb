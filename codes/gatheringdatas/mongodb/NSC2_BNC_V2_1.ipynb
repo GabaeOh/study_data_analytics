{
 "cells": [
  {
   "cell_type": "code",
   "execution_count": 1,
   "id": "cd916887-e912-4db4-a291-f5cc7e76eab8",
   "metadata": {
    "tags": []
   },
   "outputs": [],
   "source": [
    "import pymongo as mg\n",
    "import pandas as pd "
   ]
  },
  {
   "cell_type": "code",
   "execution_count": 2,
   "id": "135333d8-33f8-4dae-8d95-628ae0530303",
   "metadata": {
    "tags": []
   },
   "outputs": [],
   "source": [
    "client = mg.MongoClient(host='mongodb://localhost:27017')"
   ]
  },
  {
   "cell_type": "code",
   "execution_count": 3,
   "id": "e51483c0-4d59-4f20-ac06-c718e933260c",
   "metadata": {
    "tags": []
   },
   "outputs": [],
   "source": [
    "database = client['db_NHIS'] #Database 선택"
   ]
  },
  {
   "cell_type": "code",
   "execution_count": 4,
   "id": "c279a5c2-334e-4800-84c7-eb93abb12751",
   "metadata": {
    "tags": []
   },
   "outputs": [],
   "source": [
    "collection = database['NSC2_BNC_V2_1'] # collection 선택"
   ]
  },
  {
   "cell_type": "code",
   "execution_count": 5,
   "id": "192a357d-3f96-442d-9e8f-63532fdacba4",
   "metadata": {
    "tags": []
   },
   "outputs": [],
   "source": [
    "cursor = collection.find({})"
   ]
  },
  {
   "cell_type": "code",
   "execution_count": 6,
   "id": "bcfb8c8f-fefa-43f8-bb16-ccb6abc03b25",
   "metadata": {
    "tags": []
   },
   "outputs": [],
   "source": [
    "list_BNC = list(cursor) # casting"
   ]
  },
  {
   "cell_type": "code",
   "execution_count": 7,
   "id": "e06cb068-8f91-4f76-9d52-58e1e7f30a78",
   "metadata": {
    "tags": []
   },
   "outputs": [],
   "source": [
    "df_BNC = pd.DataFrame(list_BNC) "
   ]
  },
  {
   "cell_type": "code",
   "execution_count": 8,
   "id": "60b60f78-6580-4aa9-8e1a-22cf4f0c8f9e",
   "metadata": {
    "tags": []
   },
   "outputs": [
    {
     "data": {
      "text/html": [
       "<div>\n",
       "<style scoped>\n",
       "    .dataframe tbody tr th:only-of-type {\n",
       "        vertical-align: middle;\n",
       "    }\n",
       "\n",
       "    .dataframe tbody tr th {\n",
       "        vertical-align: top;\n",
       "    }\n",
       "\n",
       "    .dataframe thead th {\n",
       "        text-align: right;\n",
       "    }\n",
       "</style>\n",
       "<table border=\"1\" class=\"dataframe\">\n",
       "  <thead>\n",
       "    <tr style=\"text-align: right;\">\n",
       "      <th></th>\n",
       "      <th>_id</th>\n",
       "      <th>STD_YYYY</th>\n",
       "      <th>RN_INDI</th>\n",
       "      <th>SEX</th>\n",
       "      <th>SGG</th>\n",
       "      <th>GAIBJA_TYPE</th>\n",
       "      <th>SMPL_TYPE_CD</th>\n",
       "      <th>CTRB_Q10</th>\n",
       "      <th>G1E_OBJ_YN</th>\n",
       "      <th>DSB_TYPE_CD</th>\n",
       "      <th>DSB_SVRT_CD_V2</th>\n",
       "    </tr>\n",
       "  </thead>\n",
       "  <tbody>\n",
       "    <tr>\n",
       "      <th>0</th>\n",
       "      <td>64d3124df46b05eea4ac5ca8</td>\n",
       "      <td>2002</td>\n",
       "      <td>1433</td>\n",
       "      <td>1</td>\n",
       "      <td>29140</td>\n",
       "      <td>7</td>\n",
       "      <td>1</td>\n",
       "      <td>NaN</td>\n",
       "      <td>NaN</td>\n",
       "      <td>NaN</td>\n",
       "      <td>NaN</td>\n",
       "    </tr>\n",
       "    <tr>\n",
       "      <th>1</th>\n",
       "      <td>64d3124df46b05eea4ac5ca9</td>\n",
       "      <td>2003</td>\n",
       "      <td>1433</td>\n",
       "      <td>1</td>\n",
       "      <td>29140</td>\n",
       "      <td>7</td>\n",
       "      <td>1</td>\n",
       "      <td>NaN</td>\n",
       "      <td>NaN</td>\n",
       "      <td>NaN</td>\n",
       "      <td>NaN</td>\n",
       "    </tr>\n",
       "    <tr>\n",
       "      <th>2</th>\n",
       "      <td>64d3124df46b05eea4ac5caa</td>\n",
       "      <td>2004</td>\n",
       "      <td>1433</td>\n",
       "      <td>1</td>\n",
       "      <td>29140</td>\n",
       "      <td>7</td>\n",
       "      <td>1</td>\n",
       "      <td>NaN</td>\n",
       "      <td>NaN</td>\n",
       "      <td>NaN</td>\n",
       "      <td>NaN</td>\n",
       "    </tr>\n",
       "    <tr>\n",
       "      <th>3</th>\n",
       "      <td>64d3124df46b05eea4ac5cab</td>\n",
       "      <td>2005</td>\n",
       "      <td>1433</td>\n",
       "      <td>1</td>\n",
       "      <td>29140</td>\n",
       "      <td>7</td>\n",
       "      <td>1</td>\n",
       "      <td>NaN</td>\n",
       "      <td>NaN</td>\n",
       "      <td>NaN</td>\n",
       "      <td>NaN</td>\n",
       "    </tr>\n",
       "    <tr>\n",
       "      <th>4</th>\n",
       "      <td>64d3124df46b05eea4ac5cac</td>\n",
       "      <td>2006</td>\n",
       "      <td>1433</td>\n",
       "      <td>1</td>\n",
       "      <td>29140</td>\n",
       "      <td>7</td>\n",
       "      <td>1</td>\n",
       "      <td>NaN</td>\n",
       "      <td>NaN</td>\n",
       "      <td>NaN</td>\n",
       "      <td>NaN</td>\n",
       "    </tr>\n",
       "    <tr>\n",
       "      <th>...</th>\n",
       "      <td>...</td>\n",
       "      <td>...</td>\n",
       "      <td>...</td>\n",
       "      <td>...</td>\n",
       "      <td>...</td>\n",
       "      <td>...</td>\n",
       "      <td>...</td>\n",
       "      <td>...</td>\n",
       "      <td>...</td>\n",
       "      <td>...</td>\n",
       "      <td>...</td>\n",
       "    </tr>\n",
       "    <tr>\n",
       "      <th>13022</th>\n",
       "      <td>64d3124ef46b05eea4ac8f86</td>\n",
       "      <td>2012</td>\n",
       "      <td>3000357</td>\n",
       "      <td>2</td>\n",
       "      <td>28237</td>\n",
       "      <td>6</td>\n",
       "      <td>4</td>\n",
       "      <td>NaN</td>\n",
       "      <td>NaN</td>\n",
       "      <td>NaN</td>\n",
       "      <td>NaN</td>\n",
       "    </tr>\n",
       "    <tr>\n",
       "      <th>13023</th>\n",
       "      <td>64d3124ef46b05eea4ac8f87</td>\n",
       "      <td>2013</td>\n",
       "      <td>3000357</td>\n",
       "      <td>2</td>\n",
       "      <td>28245</td>\n",
       "      <td>2</td>\n",
       "      <td>4</td>\n",
       "      <td>6.0</td>\n",
       "      <td>NaN</td>\n",
       "      <td>NaN</td>\n",
       "      <td>NaN</td>\n",
       "    </tr>\n",
       "    <tr>\n",
       "      <th>13024</th>\n",
       "      <td>64d3124ef46b05eea4ac8f88</td>\n",
       "      <td>2014</td>\n",
       "      <td>3000357</td>\n",
       "      <td>2</td>\n",
       "      <td>28245</td>\n",
       "      <td>2</td>\n",
       "      <td>4</td>\n",
       "      <td>6.0</td>\n",
       "      <td>NaN</td>\n",
       "      <td>NaN</td>\n",
       "      <td>NaN</td>\n",
       "    </tr>\n",
       "    <tr>\n",
       "      <th>13025</th>\n",
       "      <td>64d3124ef46b05eea4ac8f89</td>\n",
       "      <td>2015</td>\n",
       "      <td>3000357</td>\n",
       "      <td>2</td>\n",
       "      <td>28245</td>\n",
       "      <td>2</td>\n",
       "      <td>4</td>\n",
       "      <td>7.0</td>\n",
       "      <td>NaN</td>\n",
       "      <td>NaN</td>\n",
       "      <td>NaN</td>\n",
       "    </tr>\n",
       "    <tr>\n",
       "      <th>13026</th>\n",
       "      <td>64d3124ef46b05eea4ac8f8a</td>\n",
       "      <td>2015</td>\n",
       "      <td>3000758</td>\n",
       "      <td>1</td>\n",
       "      <td>41287</td>\n",
       "      <td>6</td>\n",
       "      <td>4</td>\n",
       "      <td>NaN</td>\n",
       "      <td>NaN</td>\n",
       "      <td>NaN</td>\n",
       "      <td>NaN</td>\n",
       "    </tr>\n",
       "  </tbody>\n",
       "</table>\n",
       "<p>13027 rows × 11 columns</p>\n",
       "</div>"
      ],
      "text/plain": [
       "                            _id  STD_YYYY  RN_INDI  SEX    SGG  GAIBJA_TYPE  \\\n",
       "0      64d3124df46b05eea4ac5ca8      2002     1433    1  29140            7   \n",
       "1      64d3124df46b05eea4ac5ca9      2003     1433    1  29140            7   \n",
       "2      64d3124df46b05eea4ac5caa      2004     1433    1  29140            7   \n",
       "3      64d3124df46b05eea4ac5cab      2005     1433    1  29140            7   \n",
       "4      64d3124df46b05eea4ac5cac      2006     1433    1  29140            7   \n",
       "...                         ...       ...      ...  ...    ...          ...   \n",
       "13022  64d3124ef46b05eea4ac8f86      2012  3000357    2  28237            6   \n",
       "13023  64d3124ef46b05eea4ac8f87      2013  3000357    2  28245            2   \n",
       "13024  64d3124ef46b05eea4ac8f88      2014  3000357    2  28245            2   \n",
       "13025  64d3124ef46b05eea4ac8f89      2015  3000357    2  28245            2   \n",
       "13026  64d3124ef46b05eea4ac8f8a      2015  3000758    1  41287            6   \n",
       "\n",
       "       SMPL_TYPE_CD  CTRB_Q10 G1E_OBJ_YN  DSB_TYPE_CD  DSB_SVRT_CD_V2  \n",
       "0                 1       NaN        NaN          NaN             NaN  \n",
       "1                 1       NaN        NaN          NaN             NaN  \n",
       "2                 1       NaN        NaN          NaN             NaN  \n",
       "3                 1       NaN        NaN          NaN             NaN  \n",
       "4                 1       NaN        NaN          NaN             NaN  \n",
       "...             ...       ...        ...          ...             ...  \n",
       "13022             4       NaN        NaN          NaN             NaN  \n",
       "13023             4       6.0        NaN          NaN             NaN  \n",
       "13024             4       6.0        NaN          NaN             NaN  \n",
       "13025             4       7.0        NaN          NaN             NaN  \n",
       "13026             4       NaN        NaN          NaN             NaN  \n",
       "\n",
       "[13027 rows x 11 columns]"
      ]
     },
     "execution_count": 8,
     "metadata": {},
     "output_type": "execute_result"
    }
   ],
   "source": [
    "df_BNC"
   ]
  },
  {
   "cell_type": "code",
   "execution_count": 12,
   "id": "1777b23d-02e0-4cd5-b603-7fc65cd00d0d",
   "metadata": {
    "tags": []
   },
   "outputs": [],
   "source": [
    "df_BNC.to_csv('./NSC2_BNC_V2_1.csv')"
   ]
  },
  {
   "cell_type": "code",
   "execution_count": null,
   "id": "c4bdd56a-1e22-4bb7-822b-afd711ba3cec",
   "metadata": {},
   "outputs": [],
   "source": []
  }
 ],
 "metadata": {
  "kernelspec": {
   "display_name": "Python 3 (ipykernel)",
   "language": "python",
   "name": "python3"
  },
  "language_info": {
   "codemirror_mode": {
    "name": "ipython",
    "version": 3
   },
   "file_extension": ".py",
   "mimetype": "text/x-python",
   "name": "python",
   "nbconvert_exporter": "python",
   "pygments_lexer": "ipython3",
   "version": "3.11.3"
  }
 },
 "nbformat": 4,
 "nbformat_minor": 5
}
