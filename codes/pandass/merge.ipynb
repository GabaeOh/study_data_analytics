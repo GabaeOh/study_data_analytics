{
 "cells": [
  {
   "cell_type": "markdown",
   "id": "5f9d91ee-8a46-45ab-b0e5-67629ddc52f3",
   "metadata": {},
   "source": [
    "# 슈퍼마켓의 판매데이터 전처리 "
   ]
  },
  {
   "cell_type": "markdown",
   "id": "62389a65-5fc8-4446-81af-6eb95cca4163",
   "metadata": {},
   "source": [
    "## 1. 데이터로드 "
   ]
  },
  {
   "cell_type": "code",
   "execution_count": 1,
   "id": "212678f5-dc55-4315-b0b0-0032a350377d",
   "metadata": {
    "tags": []
   },
   "outputs": [],
   "source": [
    "import pandas as pd \n",
    "\n",
    "# 파일 데이터 로드 \n",
    "data1 = pd.read_csv('../../datasets/판매내역.csv', encoding=\"utf-8\")\n",
    "data2 = pd.read_csv('../../datasets/공급자.csv', encoding=\"utf-8\")\n",
    "data3 = pd.read_csv('../../datasets/상품정보.csv', encoding=\"cp949\", sep=\"|\")\n",
    "data4 = pd.read_csv('../../datasets/소분류.csv', encoding=\"cp949\")\n",
    "data5 = pd.read_csv('../../datasets/중분류.csv', encoding=\"cp949\")\n",
    "data6 = pd.read_csv('../../datasets/대분류.csv', encoding=\"cp949\")"
   ]
  },
  {
   "cell_type": "markdown",
   "id": "28ad0d45-4e6b-4ed8-b6f2-d2193a1a09a8",
   "metadata": {},
   "source": [
    "## 2. 작업전 데이터 정비(결측치 보정, 데이터 타입 변경)"
   ]
  },
  {
   "cell_type": "code",
   "execution_count": 2,
   "id": "3095f4a2-aa02-41cb-a253-12a7b28c45cf",
   "metadata": {
    "tags": []
   },
   "outputs": [
    {
     "data": {
      "text/html": [
       "<div>\n",
       "<style scoped>\n",
       "    .dataframe tbody tr th:only-of-type {\n",
       "        vertical-align: middle;\n",
       "    }\n",
       "\n",
       "    .dataframe tbody tr th {\n",
       "        vertical-align: top;\n",
       "    }\n",
       "\n",
       "    .dataframe thead th {\n",
       "        text-align: right;\n",
       "    }\n",
       "</style>\n",
       "<table border=\"1\" class=\"dataframe\">\n",
       "  <thead>\n",
       "    <tr style=\"text-align: right;\">\n",
       "      <th></th>\n",
       "      <th>상품코드</th>\n",
       "      <th>상품명</th>\n",
       "      <th>수량</th>\n",
       "      <th>소분류코드</th>\n",
       "      <th>공급자코드</th>\n",
       "      <th>등록일시,,</th>\n",
       "    </tr>\n",
       "  </thead>\n",
       "  <tbody>\n",
       "    <tr>\n",
       "      <th>0</th>\n",
       "      <td>2100000626052</td>\n",
       "      <td>송염고은단치약130*3</td>\n",
       "      <td>NaN</td>\n",
       "      <td>20301.0</td>\n",
       "      <td>1042</td>\n",
       "      <td>2021-01-26 18:01:54,,</td>\n",
       "    </tr>\n",
       "    <tr>\n",
       "      <th>1</th>\n",
       "      <td>2100000626069</td>\n",
       "      <td>2080어린이딸기향80*2</td>\n",
       "      <td>3입</td>\n",
       "      <td>20101.0</td>\n",
       "      <td>6007</td>\n",
       "      <td>2021-01-26 18:01:54,,</td>\n",
       "    </tr>\n",
       "    <tr>\n",
       "      <th>2</th>\n",
       "      <td>2100000626076</td>\n",
       "      <td>LG토디앙황토특대/40p</td>\n",
       "      <td>40p</td>\n",
       "      <td>20402.0</td>\n",
       "      <td>1051</td>\n",
       "      <td>2021-01-26 18:01:54,,</td>\n",
       "    </tr>\n",
       "    <tr>\n",
       "      <th>3</th>\n",
       "      <td>2100000626083</td>\n",
       "      <td>참기름자반볶음번들</td>\n",
       "      <td>50g+50g</td>\n",
       "      <td>10301.0</td>\n",
       "      <td>9999</td>\n",
       "      <td>2021-01-26 18:01:54,,</td>\n",
       "    </tr>\n",
       "    <tr>\n",
       "      <th>4</th>\n",
       "      <td>2100000613007</td>\n",
       "      <td>할라페뇨슬라이스</td>\n",
       "      <td>540g</td>\n",
       "      <td>10903.0</td>\n",
       "      <td>9999</td>\n",
       "      <td>2021-01-26 18:01:54,,</td>\n",
       "    </tr>\n",
       "    <tr>\n",
       "      <th>...</th>\n",
       "      <td>...</td>\n",
       "      <td>...</td>\n",
       "      <td>...</td>\n",
       "      <td>...</td>\n",
       "      <td>...</td>\n",
       "      <td>...</td>\n",
       "    </tr>\n",
       "    <tr>\n",
       "      <th>34769</th>\n",
       "      <td>2100000111848</td>\n",
       "      <td>버/수퍼슬립레드보루</td>\n",
       "      <td>NaN</td>\n",
       "      <td>60102.0</td>\n",
       "      <td>7777</td>\n",
       "      <td>2021-01-26 18:01:54,,</td>\n",
       "    </tr>\n",
       "    <tr>\n",
       "      <th>34770</th>\n",
       "      <td>2100000111855</td>\n",
       "      <td>델)프/오렌지*2병</td>\n",
       "      <td>NaN</td>\n",
       "      <td>10201.0</td>\n",
       "      <td>5097</td>\n",
       "      <td>2021-01-26 18:01:54,,</td>\n",
       "    </tr>\n",
       "    <tr>\n",
       "      <th>34771</th>\n",
       "      <td>2100000106158</td>\n",
       "      <td>캡휴지걸이</td>\n",
       "      <td>NaN</td>\n",
       "      <td>20301.0</td>\n",
       "      <td>5014</td>\n",
       "      <td>2021-01-26 18:01:54,,</td>\n",
       "    </tr>\n",
       "    <tr>\n",
       "      <th>34772</th>\n",
       "      <td>2100000106165</td>\n",
       "      <td>커피향초중</td>\n",
       "      <td>NaN</td>\n",
       "      <td>20301.0</td>\n",
       "      <td>5014</td>\n",
       "      <td>2021-01-26 18:01:54,,</td>\n",
       "    </tr>\n",
       "    <tr>\n",
       "      <th>34773</th>\n",
       "      <td>2100000106172</td>\n",
       "      <td>컴배트젤30g</td>\n",
       "      <td>NaN</td>\n",
       "      <td>20405.0</td>\n",
       "      <td>5014</td>\n",
       "      <td>2021-01-26 18:01:54,,</td>\n",
       "    </tr>\n",
       "  </tbody>\n",
       "</table>\n",
       "<p>34770 rows × 6 columns</p>\n",
       "</div>"
      ],
      "text/plain": [
       "                상품코드             상품명          수량    소분류코드  공급자코드  \\\n",
       "0      2100000626052    송염고은단치약130*3         NaN  20301.0   1042   \n",
       "1      2100000626069  2080어린이딸기향80*2   3입         20101.0   6007   \n",
       "2      2100000626076   LG토디앙황토특대/40p  40p         20402.0   1051   \n",
       "3      2100000626083       참기름자반볶음번들  50g+50g     10301.0   9999   \n",
       "4      2100000613007        할라페뇨슬라이스  540g        10903.0   9999   \n",
       "...              ...             ...         ...      ...    ...   \n",
       "34769  2100000111848      버/수퍼슬립레드보루         NaN  60102.0   7777   \n",
       "34770  2100000111855      델)프/오렌지*2병         NaN  10201.0   5097   \n",
       "34771  2100000106158           캡휴지걸이         NaN  20301.0   5014   \n",
       "34772  2100000106165           커피향초중         NaN  20301.0   5014   \n",
       "34773  2100000106172         컴배트젤30g         NaN  20405.0   5014   \n",
       "\n",
       "                      등록일시,,  \n",
       "0      2021-01-26 18:01:54,,  \n",
       "1      2021-01-26 18:01:54,,  \n",
       "2      2021-01-26 18:01:54,,  \n",
       "3      2021-01-26 18:01:54,,  \n",
       "4      2021-01-26 18:01:54,,  \n",
       "...                      ...  \n",
       "34769  2021-01-26 18:01:54,,  \n",
       "34770  2021-01-26 18:01:54,,  \n",
       "34771  2021-01-26 18:01:54,,  \n",
       "34772  2021-01-26 18:01:54,,  \n",
       "34773  2021-01-26 18:01:54,,  \n",
       "\n",
       "[34770 rows x 6 columns]"
      ]
     },
     "execution_count": 2,
     "metadata": {},
     "output_type": "execute_result"
    }
   ],
   "source": [
    "# 필드 조정 null 제거 및 필드명 변경\n",
    "data3.isnull().sum()\n",
    "data3 = data3.dropna(subset=[\"분류1\", \"분류2\"]) #분류1\" 또는 \"분류2\" 열 중 하나라도 값이 누락된 행을 삭제\n",
    "data3.rename(columns={\"분류1\":\"소분류코드\"}, inplace=True)\n",
    "data3.rename(columns={\"분류2\":\"공급자코드\"}, inplace=True)\n",
    "# 필드 타입 변경\n",
    "data3.astype({\"소분류코드\":\"int64\"})\n",
    "data3.astype({\"공급자코드\":\"int64\"})"
   ]
  },
  {
   "cell_type": "markdown",
   "id": "501fc994-4be4-4110-ad88-2b9b0b158702",
   "metadata": {},
   "source": [
    "## 3. 데이터를 조인(연결) 및 정리 "
   ]
  },
  {
   "cell_type": "code",
   "execution_count": 3,
   "id": "0c2cfe81-b7d6-42fd-89c1-16c5089d2b5a",
   "metadata": {
    "tags": []
   },
   "outputs": [],
   "source": [
    "# 데이터의 innerjoin 대분류 + 중분류\n",
    "mdata = pd.merge(left = data5, right = data6, how=\"inner\", on=\"대분류코드\")"
   ]
  },
  {
   "cell_type": "code",
   "execution_count": 4,
   "id": "e904f71e-a8e2-47f8-84e0-a6c672aaa367",
   "metadata": {
    "tags": []
   },
   "outputs": [],
   "source": [
    "# 데이터의 innerjoin (대분류 + 중분류) +소분류\n",
    "classData = pd.merge(left=mdata, right=data4, how=\"inner\", on=\"중분류코드\")"
   ]
  },
  {
   "cell_type": "code",
   "execution_count": 5,
   "id": "d3862598-b95e-44d2-be43-19b375a4e060",
   "metadata": {
    "tags": []
   },
   "outputs": [],
   "source": [
    "# 데이터의 innerjoin 분류코드 + 상품정보\n",
    "product = pd.merge(left=classData, right=data3, how=\"inner\", on=\"소분류코드\")"
   ]
  },
  {
   "cell_type": "code",
   "execution_count": 6,
   "id": "5492507a-6753-41ac-a2b4-511235648baf",
   "metadata": {
    "tags": []
   },
   "outputs": [],
   "source": [
    "# 시각화에 사용되지 않는 필드 삭제 \n",
    "product = product.drop(['등록일시','대분류코드', '중분류코드', '소분류코드', '등록일시,,', '수량'], axis=\"columns\")"
   ]
  },
  {
   "cell_type": "code",
   "execution_count": 7,
   "id": "ef4cb3a1-9723-4a34-be0d-1bec5bc1402f",
   "metadata": {
    "tags": []
   },
   "outputs": [],
   "source": [
    "# 데이터의 innerjoin 상품정보 + 공급자\n",
    "productDetail = pd.merge(left=product, right=data2, how=\"inner\", on=\"공급자코드\")"
   ]
  },
  {
   "cell_type": "code",
   "execution_count": 8,
   "id": "d7c4ae12-e673-4641-aca5-4277be12361a",
   "metadata": {
    "tags": []
   },
   "outputs": [],
   "source": [
    "# 시각화에 사용되지 않는 필드 삭제\n",
    "productDetail = productDetail.drop([\"공급자코드\"], axis=\"columns\")"
   ]
  },
  {
   "cell_type": "code",
   "execution_count": 9,
   "id": "74dc383a-83dd-413f-8809-139f8f44f93b",
   "metadata": {
    "tags": []
   },
   "outputs": [],
   "source": [
    "#데이터 타입 변경\n",
    "data1 = data1.astype({\"판매일시\":\"datetime64[ns]\"})\n",
    "productDetail = productDetail.astype({\"상품코드\":\"int64\"})"
   ]
  },
  {
   "cell_type": "code",
   "execution_count": 10,
   "id": "6842e747-fcb5-4238-8c43-4f8d0610a7c3",
   "metadata": {
    "tags": []
   },
   "outputs": [],
   "source": [
    "# 데이터의 innerjoin 상품데이터 + 판매데이터\n",
    "salesData = pd.merge(left=productDetail, right=data1, how=\"inner\", on=\"상품코드\")"
   ]
  },
  {
   "cell_type": "code",
   "execution_count": 11,
   "id": "b4a33de4-3262-48b0-b151-8ac4af5a7558",
   "metadata": {
    "tags": []
   },
   "outputs": [],
   "source": [
    "# 시각화에 사용되지 않는 필드 삭제\n",
    "salesData = salesData.drop([\"상품코드\"], axis=\"columns\")"
   ]
  },
  {
   "cell_type": "markdown",
   "id": "6b23897f-5191-4bfb-839b-872656833e06",
   "metadata": {},
   "source": [
    "## 4. 년도 생성"
   ]
  },
  {
   "cell_type": "code",
   "execution_count": 12,
   "id": "b8dea892-190b-4b66-bbba-6d9b8a7c8ba8",
   "metadata": {
    "tags": []
   },
   "outputs": [],
   "source": [
    "# 새로운 데이터 판매년도를 생성\n",
    "salesData['판매년도'] = salesData['판매일시'].dt.year"
   ]
  },
  {
   "cell_type": "code",
   "execution_count": 13,
   "id": "7d601ece-2c33-407c-9f89-01879f1526ef",
   "metadata": {
    "tags": []
   },
   "outputs": [
    {
     "data": {
      "text/plain": [
       "중분류명                        object\n",
       "대분류명                        object\n",
       "소분류명                        object\n",
       "상품명                         object\n",
       "공급자명                        object\n",
       "판매일시                datetime64[ns]\n",
       "판매횟수                         int64\n",
       "판매량                          int64\n",
       "판매금액                         int64\n",
       "판매년도                         int32\n",
       "dtype: object"
      ]
     },
     "execution_count": 13,
     "metadata": {},
     "output_type": "execute_result"
    }
   ],
   "source": [
    "salesData.dtypes"
   ]
  },
  {
   "cell_type": "markdown",
   "id": "10241853-69df-4598-a30c-3012f4eb5eb7",
   "metadata": {},
   "source": [
    "## 5. 작업 결과를 csv 파일로 저장"
   ]
  },
  {
   "cell_type": "code",
   "execution_count": 15,
   "id": "11dcbd4f-9a52-4a26-9e95-cafc6c5f1c0c",
   "metadata": {
    "tags": []
   },
   "outputs": [],
   "source": [
    "salesData.to_csv('../../datasets/판매정보.csv', encoding='utf-8-sig', index_label='순서')"
   ]
  },
  {
   "cell_type": "code",
   "execution_count": null,
   "id": "956678d8-6060-40f1-98fe-74d27565c4fb",
   "metadata": {},
   "outputs": [],
   "source": []
  }
 ],
 "metadata": {
  "kernelspec": {
   "display_name": "Python 3 (ipykernel)",
   "language": "python",
   "name": "python3"
  },
  "language_info": {
   "codemirror_mode": {
    "name": "ipython",
    "version": 3
   },
   "file_extension": ".py",
   "mimetype": "text/x-python",
   "name": "python",
   "nbconvert_exporter": "python",
   "pygments_lexer": "ipython3",
   "version": "3.11.3"
  }
 },
 "nbformat": 4,
 "nbformat_minor": 5
}
