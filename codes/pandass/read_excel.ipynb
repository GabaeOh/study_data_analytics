{
 "cells": [
  {
   "cell_type": "code",
   "execution_count": 1,
   "id": "aae35fc0-9e6b-4fb7-8656-f353d616c4e7",
   "metadata": {
    "tags": []
   },
   "outputs": [
    {
     "name": "stdout",
     "output_type": "stream",
     "text": [
      "Requirement already satisfied: openpyxl in c:\\users\\02-19\\anaconda3\\lib\\site-packages (3.0.10)\n",
      "Requirement already satisfied: et_xmlfile in c:\\users\\02-19\\anaconda3\\lib\\site-packages (from openpyxl) (1.1.0)\n"
     ]
    }
   ],
   "source": [
    "!pip install openpyxl"
   ]
  },
  {
   "cell_type": "code",
   "execution_count": 3,
   "id": "f1c70f96-f4d4-43d9-8e3c-31e4da6eb7d1",
   "metadata": {
    "tags": []
   },
   "outputs": [],
   "source": [
    "import pandas as pd\n",
    "\n",
    "col_header = ['연도', '시도','행정구역','학제','학교수', '학생수', '학생_남','학생_여', '교직원수', '다문화학생수', '다문화_남', '다문화_여']\n",
    "\n",
    "#01) 첫번째 sheet에 '2021-2022' 데이터 추출\n",
    "sheet1 = pd.read_excel(io='../../datasets/경기도교육청_행정구역별_학제별_학급_학생_교원_20220401.xlsx', \n",
    "                   sheet_name='2021-2022',\n",
    "                   usecols='A:E,P:R, BL, BW:BY', \n",
    "                   header=None,\n",
    "                   names=col_header,\n",
    "                   index_col = 0,\n",
    "                   skiprows=11)\n",
    "\n",
    "#02) 두번째 sheet에 '2015-2020' 데이터 추출\n",
    "sheet2 = pd.read_excel(io='../../datasets/경기도교육청_행정구역별_학제별_학급_학생_교원_20220401.xlsx', \n",
    "                   sheet_name='2015-2020',\n",
    "                   usecols='A:E,O:Q, AJ, AU:AW', \n",
    "                   header=None,\n",
    "                   names=col_header,\n",
    "                   index_col = 0,\n",
    "                   skiprows=12)"
   ]
  },
  {
   "cell_type": "code",
   "execution_count": 4,
   "id": "bec8beec-443a-4a42-a6af-c0e6759d4ec1",
   "metadata": {
    "tags": []
   },
   "outputs": [],
   "source": [
    "#03) sheet 데이터 합치기\n",
    "st = pd.concat([sheet1, sheet2])"
   ]
  },
  {
   "cell_type": "code",
   "execution_count": 5,
   "id": "d78555e4-14bf-490b-b8f9-05458c8cfa49",
   "metadata": {
    "tags": []
   },
   "outputs": [],
   "source": [
    "#04) 소계 제거\n",
    "result = st[(st['행정구역'] != \"소계\") & (st['학제'] != \"소계\")]"
   ]
  },
  {
   "cell_type": "code",
   "execution_count": 6,
   "id": "9beca486-756a-4cd7-b5ba-c0c8da43a6b2",
   "metadata": {
    "tags": []
   },
   "outputs": [
    {
     "data": {
      "text/plain": [
       "시도        1862\n",
       "행정구역      1862\n",
       "학제        1862\n",
       "학교수       1862\n",
       "학생수       1862\n",
       "학생_남      1862\n",
       "학생_여      1862\n",
       "교직원수      1862\n",
       "다문화학생수    1862\n",
       "다문화_남     1862\n",
       "다문화_여     1862\n",
       "dtype: int64"
      ]
     },
     "execution_count": 6,
     "metadata": {},
     "output_type": "execute_result"
    }
   ],
   "source": [
    "#전체행수\n",
    "result.count()"
   ]
  },
  {
   "cell_type": "code",
   "execution_count": 7,
   "id": "a9df9a59-7776-44db-9b44-90233db27455",
   "metadata": {
    "tags": []
   },
   "outputs": [
    {
     "data": {
      "text/plain": [
       "185660"
      ]
     },
     "execution_count": 7,
     "metadata": {},
     "output_type": "execute_result"
    }
   ],
   "source": [
    "#특정 조건 데이터 보기\n",
    "result[result['학제'] == '초등학교']['다문화학생수'].sum()"
   ]
  },
  {
   "cell_type": "code",
   "execution_count": null,
   "id": "23e5e05a-bfb4-47f9-82d2-1adb47509ea4",
   "metadata": {},
   "outputs": [],
   "source": []
  }
 ],
 "metadata": {
  "kernelspec": {
   "display_name": "Python 3 (ipykernel)",
   "language": "python",
   "name": "python3"
  },
  "language_info": {
   "codemirror_mode": {
    "name": "ipython",
    "version": 3
   },
   "file_extension": ".py",
   "mimetype": "text/x-python",
   "name": "python",
   "nbconvert_exporter": "python",
   "pygments_lexer": "ipython3",
   "version": "3.11.3"
  }
 },
 "nbformat": 4,
 "nbformat_minor": 5
}
