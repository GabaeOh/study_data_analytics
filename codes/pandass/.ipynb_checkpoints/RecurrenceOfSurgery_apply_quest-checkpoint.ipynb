{
 "cells": [
  {
   "cell_type": "markdown",
   "id": "933e6b40-1ddd-40c1-8d21-21dfbe226d48",
   "metadata": {
    "tags": []
   },
   "source": [
    "## quest \n",
    "- apply() : '신장', '체중' -> BMI\n",
    "- BMI 시각화 및 인사이트 분석"
   ]
  },
  {
   "cell_type": "markdown",
   "id": "9c2d63b8-37a4-42bf-b4c5-b791a4ab64a1",
   "metadata": {},
   "source": [
    "### 분석결과 \n",
    "- 현 데이터 환자의 신장과 체중을 통해 BMI수치를 계산하여 BMI분류 분석하였다.\n",
    "- 데이터 분석 결과,환자들중  정상체중의 비율이 저체중과 비만에 비해 많음을 확인함\n",
    "- 다만,  과체중의 비율이 400명 이상으로 적지는 않음을 확인함\n",
    "- 비만에 관한 치료 또는 예방 교육을 현병원에서 실시한다면 수익 또는 병원이용률이 높아짐을 기대할수 있을 것 같음."
   ]
  },
  {
   "cell_type": "code",
   "execution_count": 95,
   "id": "b1f9b22d-8846-43d7-a7c6-c79393b40e3d",
   "metadata": {
    "tags": []
   },
   "outputs": [
    {
     "data": {
      "text/html": [
       "<div>\n",
       "<style scoped>\n",
       "    .dataframe tbody tr th:only-of-type {\n",
       "        vertical-align: middle;\n",
       "    }\n",
       "\n",
       "    .dataframe tbody tr th {\n",
       "        vertical-align: top;\n",
       "    }\n",
       "\n",
       "    .dataframe thead th {\n",
       "        text-align: right;\n",
       "    }\n",
       "</style>\n",
       "<table border=\"1\" class=\"dataframe\">\n",
       "  <thead>\n",
       "    <tr style=\"text-align: right;\">\n",
       "      <th></th>\n",
       "      <th>신장</th>\n",
       "      <th>체중</th>\n",
       "    </tr>\n",
       "  </thead>\n",
       "  <tbody>\n",
       "    <tr>\n",
       "      <th>0</th>\n",
       "      <td>163</td>\n",
       "      <td>60.3</td>\n",
       "    </tr>\n",
       "    <tr>\n",
       "      <th>1</th>\n",
       "      <td>171</td>\n",
       "      <td>71.7</td>\n",
       "    </tr>\n",
       "  </tbody>\n",
       "</table>\n",
       "</div>"
      ],
      "text/plain": [
       "    신장    체중\n",
       "0  163  60.3\n",
       "1  171  71.7"
      ]
     },
     "execution_count": 95,
     "metadata": {},
     "output_type": "execute_result"
    }
   ],
   "source": [
    "df_ROS[['신장','체중']][:2]"
   ]
  },
  {
   "cell_type": "code",
   "execution_count": 108,
   "id": "f1ea643c-4dce-43e2-8dc4-141f75a3a73b",
   "metadata": {
    "tags": []
   },
   "outputs": [
    {
     "data": {
      "text/plain": [
       "0       60\n",
       "1       71\n",
       "2       77\n",
       "3       74\n",
       "4       80\n",
       "        ..\n",
       "1889    64\n",
       "1890    59\n",
       "1891    70\n",
       "1892    77\n",
       "1893    49\n",
       "Name: 체중, Length: 1894, dtype: int32"
      ]
     },
     "execution_count": 108,
     "metadata": {},
     "output_type": "execute_result"
    }
   ],
   "source": [
    "df_ROS['체중']"
   ]
  },
  {
   "cell_type": "code",
   "execution_count": 93,
   "id": "14a67b6d-64af-4807-9793-67041b946bf7",
   "metadata": {
    "tags": []
   },
   "outputs": [
    {
     "name": "stdout",
     "output_type": "stream",
     "text": [
      "<class 'pandas.core.frame.DataFrame'>\n",
      "RangeIndex: 1894 entries, 0 to 1893\n",
      "Data columns (total 2 columns):\n",
      " #   Column  Non-Null Count  Dtype  \n",
      "---  ------  --------------  -----  \n",
      " 0   신장      1894 non-null   int64  \n",
      " 1   체중      1894 non-null   float64\n",
      "dtypes: float64(1), int64(1)\n",
      "memory usage: 29.7 KB\n"
     ]
    }
   ],
   "source": [
    "df_ROS[['신장','체중']].info()"
   ]
  },
  {
   "cell_type": "code",
   "execution_count": 97,
   "id": "87e65fa2-2ca6-4eed-a5b9-70c0268ed0a9",
   "metadata": {
    "tags": []
   },
   "outputs": [],
   "source": [
    "df_ROS['체중'] = df_ROS['체중'].astype(int)"
   ]
  },
  {
   "cell_type": "code",
   "execution_count": 103,
   "id": "9582115d-07a4-4828-8dc9-c1875b450b08",
   "metadata": {
    "tags": []
   },
   "outputs": [
    {
     "name": "stdout",
     "output_type": "stream",
     "text": [
      "<class 'pandas.core.frame.DataFrame'>\n",
      "RangeIndex: 1894 entries, 0 to 1893\n",
      "Data columns (total 2 columns):\n",
      " #   Column  Non-Null Count  Dtype\n",
      "---  ------  --------------  -----\n",
      " 0   신장      1894 non-null   int64\n",
      " 1   체중      1894 non-null   int32\n",
      "dtypes: int32(1), int64(1)\n",
      "memory usage: 22.3 KB\n"
     ]
    }
   ],
   "source": [
    "df_ROS[['신장','체중']].info()"
   ]
  },
  {
   "cell_type": "code",
   "execution_count": 112,
   "id": "ad0856e8-6ab9-4488-9c4c-254b909b4ede",
   "metadata": {
    "tags": []
   },
   "outputs": [],
   "source": [
    "## bmi 계산식 apply 함수에 적용\n",
    "\n",
    "def cal_BMI (row):\n",
    "    weight = row['체중']\n",
    "    height = row['신장'] / 100  # 키를 cm에서 m로 변환\n",
    "    bmi = weight/(height * height)\n",
    "    return bmi"
   ]
  },
  {
   "cell_type": "code",
   "execution_count": 120,
   "id": "9a9cb06e-a6d8-4333-91b2-0a413ed28759",
   "metadata": {
    "tags": []
   },
   "outputs": [
    {
     "data": {
      "text/plain": [
       "0    22.582709\n",
       "1    24.280975\n",
       "Name: BMI_수치값, dtype: float64"
      ]
     },
     "execution_count": 120,
     "metadata": {},
     "output_type": "execute_result"
    }
   ],
   "source": [
    "df_ROS['BMI_수치값']= df_ROS.apply(cal_BMI, axis=1)\n",
    "df_ROS['BMI_수치값'][:2]"
   ]
  },
  {
   "cell_type": "code",
   "execution_count": 123,
   "id": "bdf73cef-b98a-4ca4-bfec-86b38d884176",
   "metadata": {
    "tags": []
   },
   "outputs": [],
   "source": [
    "## bmi 분류 체계 apply()\n",
    "\n",
    "def classify_obesity(bmi):\n",
    "    if bmi < 18.5:\n",
    "        return '저체중'\n",
    "    elif bmi < 24.9:\n",
    "        return '정상체중'\n",
    "    elif bmi < 29.9:\n",
    "        return '과체중'\n",
    "    else:\n",
    "        return '비만'"
   ]
  },
  {
   "cell_type": "code",
   "execution_count": 125,
   "id": "0b8067fe-4226-405f-b634-305fe43cf8c0",
   "metadata": {
    "tags": []
   },
   "outputs": [
    {
     "data": {
      "text/plain": [
       "0    정상체중\n",
       "1    정상체중\n",
       "Name: BMI_결과분류, dtype: object"
      ]
     },
     "execution_count": 125,
     "metadata": {},
     "output_type": "execute_result"
    }
   ],
   "source": [
    "df_ROS['BMI_결과분류'] = df_ROS['BMI_수치값'].apply(classify_obesity)\n",
    "df_ROS['BMI_결과분류'][:2]"
   ]
  },
  {
   "cell_type": "markdown",
   "id": "57ebdca8-3607-4d21-83dd-d3bf409f51f8",
   "metadata": {},
   "source": [
    "#### bmi 시각화 \n",
    "- 범주형/연속형 "
   ]
  },
  {
   "cell_type": "code",
   "execution_count": 140,
   "id": "b7bbce56-bac1-4190-80a9-3db2ea0371ed",
   "metadata": {
    "tags": []
   },
   "outputs": [
    {
     "data": {
      "text/plain": [
       "<Axes: xlabel='BMI_결과분류'>"
      ]
     },
     "execution_count": 140,
     "metadata": {},
     "output_type": "execute_result"
    },
    {
     "data": {
      "image/png": "[encoded data removed]",
      "text/plain": [
       "<Figure size 640x480 with 1 Axes>"
      ]
     },
     "metadata": {},
     "output_type": "display_data"
    }
   ],
   "source": [
    "pd.pivot_table(data=df_ROS[['BMI_결과분류', 'BMI_수치값']], index='BMI_결과분류', aggfunc=len).plot(kind='bar')"
   ]
  },
  {
   "cell_type": "code",
   "execution_count": 144,
   "id": "347b700f-f6cb-476f-a949-26f4841c3244",
   "metadata": {
    "tags": []
   },
   "outputs": [
    {
     "data": {
      "image/png": "[encoded data removed]",
      "text/plain": [
       "<Figure size 640x480 with 1 Axes>"
      ]
     },
     "metadata": {},
     "output_type": "display_data"
    }
   ],
   "source": [
    "sns.barplot(data=df_ROS, x='BMI_결과분류', y='BMI_수치값', estimator=len )\n",
    "plt.show()"
   ]
  },
  {
   "cell_type": "code",
   "execution_count": 143,
   "id": "c6b8c2ae-b6bc-48bf-a106-63b039090a54",
   "metadata": {
    "tags": []
   },
   "outputs": [
    {
     "data": {
      "image/png": "[encoded data removed]",
      "text/plain": [
       "<Figure size 640x480 with 1 Axes>"
      ]
     },
     "metadata": {},
     "output_type": "display_data"
    }
   ],
   "source": [
    "sns.lineplot(data=df_ROS, x='BMI_결과분류', y='BMI_수치값', estimator=len)\n",
    "plt.show()"
   ]
  },
  {
   "cell_type": "code",
   "execution_count": null,
   "id": "262ff8a6-7e3b-4011-8e56-d33b9b72023e",
   "metadata": {},
   "outputs": [],
   "source": []
  }
 ],
 "metadata": {
  "kernelspec": {
   "display_name": "Python 3 (ipykernel)",
   "language": "python",
   "name": "python3"
  },
  "language_info": {
   "codemirror_mode": {
    "name": "ipython",
    "version": 3
   },
   "file_extension": ".py",
   "mimetype": "text/x-python",
   "name": "python",
   "nbconvert_exporter": "python",
   "pygments_lexer": "ipython3",
   "version": "3.11.3"
  }
 },
 "nbformat": 4,
 "nbformat_minor": 5
}
