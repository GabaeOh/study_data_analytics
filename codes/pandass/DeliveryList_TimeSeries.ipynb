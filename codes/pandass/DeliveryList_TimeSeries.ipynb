{
 "cells": [
  {
   "cell_type": "code",
   "execution_count": 1,
   "id": "dac337c8-1cfe-4b33-ba62-7f7d9fb3b63d",
   "metadata": {
    "tags": []
   },
   "outputs": [],
   "source": [
    "import matplotlib.pyplot as plt\n",
    "import matplotlib as mpl\n",
    "mpl.rc('font',family='Malgun Gothic')\n",
    "import seaborn as sns\n",
    "import pandas as pd\n",
    "import scipy.stats as stats"
   ]
  },
  {
   "cell_type": "markdown",
   "id": "91682a26-44aa-4247-9d2f-28dfcdcb5950",
   "metadata": {
    "tags": []
   },
   "source": [
    "### Dilvery List dataset 1"
   ]
  },
  {
   "cell_type": "code",
   "execution_count": 2,
   "id": "df8be7d9-1ead-4181-90fc-37ffcad02eaf",
   "metadata": {
    "collapsed": true,
    "jupyter": {
     "outputs_hidden": true
    },
    "tags": []
   },
   "outputs": [
    {
     "data": {
      "text/html": [
       "<div>\n",
       "<style scoped>\n",
       "    .dataframe tbody tr th:only-of-type {\n",
       "        vertical-align: middle;\n",
       "    }\n",
       "\n",
       "    .dataframe tbody tr th {\n",
       "        vertical-align: top;\n",
       "    }\n",
       "\n",
       "    .dataframe thead th {\n",
       "        text-align: right;\n",
       "    }\n",
       "</style>\n",
       "<table border=\"1\" class=\"dataframe\">\n",
       "  <thead>\n",
       "    <tr style=\"text-align: right;\">\n",
       "      <th></th>\n",
       "      <th>날짜</th>\n",
       "      <th>상품명</th>\n",
       "      <th>바코드</th>\n",
       "      <th>발주가능상태</th>\n",
       "      <th>입고수량</th>\n",
       "      <th>카테고리</th>\n",
       "      <th>출고수량</th>\n",
       "    </tr>\n",
       "  </thead>\n",
       "  <tbody>\n",
       "    <tr>\n",
       "      <th>0</th>\n",
       "      <td>2019-05-16</td>\n",
       "      <td>V2_0</td>\n",
       "      <td>8.801047e+12</td>\n",
       "      <td>발주가능</td>\n",
       "      <td>384</td>\n",
       "      <td>세탁세제</td>\n",
       "      <td>72</td>\n",
       "    </tr>\n",
       "    <tr>\n",
       "      <th>1</th>\n",
       "      <td>2019-05-16</td>\n",
       "      <td>V2_3</td>\n",
       "      <td>8.801047e+12</td>\n",
       "      <td>발주가능</td>\n",
       "      <td>207</td>\n",
       "      <td>세탁세제</td>\n",
       "      <td>5</td>\n",
       "    </tr>\n",
       "  </tbody>\n",
       "</table>\n",
       "</div>"
      ],
      "text/plain": [
       "           날짜   상품명           바코드 발주가능상태  입고수량  카테고리  출고수량\n",
       "0  2019-05-16  V2_0  8.801047e+12   발주가능   384  세탁세제    72\n",
       "1  2019-05-16  V2_3  8.801047e+12   발주가능   207  세탁세제     5"
      ]
     },
     "execution_count": 2,
     "metadata": {},
     "output_type": "execute_result"
    }
   ],
   "source": [
    "df_DL = pd.read_csv('../../datasets/DeliveryList.csv')\n",
    "df_DL[:2]"
   ]
  },
  {
   "cell_type": "code",
   "execution_count": 3,
   "id": "9dad136d-cc58-4a5f-a7c6-c4bfec027da6",
   "metadata": {
    "tags": []
   },
   "outputs": [
    {
     "name": "stdout",
     "output_type": "stream",
     "text": [
      "<class 'pandas.core.frame.DataFrame'>\n",
      "RangeIndex: 15000 entries, 0 to 14999\n",
      "Data columns (total 7 columns):\n",
      " #   Column  Non-Null Count  Dtype  \n",
      "---  ------  --------------  -----  \n",
      " 0   날짜      15000 non-null  object \n",
      " 1   상품명     15000 non-null  object \n",
      " 2   바코드     14992 non-null  float64\n",
      " 3   발주가능상태  15000 non-null  object \n",
      " 4   입고수량    15000 non-null  int64  \n",
      " 5   카테고리    15000 non-null  object \n",
      " 6   출고수량    15000 non-null  int64  \n",
      "dtypes: float64(1), int64(2), object(4)\n",
      "memory usage: 820.4+ KB\n"
     ]
    }
   ],
   "source": [
    "df_DL.info()"
   ]
  },
  {
   "cell_type": "code",
   "execution_count": 5,
   "id": "a54ac3a7-908f-4268-89d5-12f1ce259f41",
   "metadata": {
    "tags": []
   },
   "outputs": [
    {
     "data": {
      "text/html": [
       "<div>\n",
       "<style scoped>\n",
       "    .dataframe tbody tr th:only-of-type {\n",
       "        vertical-align: middle;\n",
       "    }\n",
       "\n",
       "    .dataframe tbody tr th {\n",
       "        vertical-align: top;\n",
       "    }\n",
       "\n",
       "    .dataframe thead th {\n",
       "        text-align: right;\n",
       "    }\n",
       "</style>\n",
       "<table border=\"1\" class=\"dataframe\">\n",
       "  <thead>\n",
       "    <tr style=\"text-align: right;\">\n",
       "      <th></th>\n",
       "      <th>날짜</th>\n",
       "      <th>상품명</th>\n",
       "      <th>발주가능상태</th>\n",
       "      <th>카테고리</th>\n",
       "    </tr>\n",
       "  </thead>\n",
       "  <tbody>\n",
       "    <tr>\n",
       "      <th>count</th>\n",
       "      <td>15000</td>\n",
       "      <td>15000</td>\n",
       "      <td>15000</td>\n",
       "      <td>15000</td>\n",
       "    </tr>\n",
       "    <tr>\n",
       "      <th>unique</th>\n",
       "      <td>84</td>\n",
       "      <td>528</td>\n",
       "      <td>3</td>\n",
       "      <td>8</td>\n",
       "    </tr>\n",
       "    <tr>\n",
       "      <th>top</th>\n",
       "      <td>2019-05-26</td>\n",
       "      <td>V2_114</td>\n",
       "      <td>발주가능</td>\n",
       "      <td>세탁세제</td>\n",
       "    </tr>\n",
       "    <tr>\n",
       "      <th>freq</th>\n",
       "      <td>226</td>\n",
       "      <td>47</td>\n",
       "      <td>14700</td>\n",
       "      <td>4265</td>\n",
       "    </tr>\n",
       "  </tbody>\n",
       "</table>\n",
       "</div>"
      ],
      "text/plain": [
       "                날짜     상품명 발주가능상태   카테고리\n",
       "count        15000   15000  15000  15000\n",
       "unique          84     528      3      8\n",
       "top     2019-05-26  V2_114   발주가능   세탁세제\n",
       "freq           226      47  14700   4265"
      ]
     },
     "execution_count": 5,
     "metadata": {},
     "output_type": "execute_result"
    }
   ],
   "source": [
    "df_DL.describe(include=object)"
   ]
  },
  {
   "cell_type": "code",
   "execution_count": 10,
   "id": "e9c0ca6d-d25a-48ba-b457-abf32ac1ef22",
   "metadata": {
    "tags": []
   },
   "outputs": [
    {
     "name": "stdout",
     "output_type": "stream",
     "text": [
      "<class 'pandas.core.frame.DataFrame'>\n",
      "RangeIndex: 15000 entries, 0 to 14999\n",
      "Data columns (total 8 columns):\n",
      " #   Column       Non-Null Count  Dtype         \n",
      "---  ------       --------------  -----         \n",
      " 0   날짜           15000 non-null  object        \n",
      " 1   상품명          15000 non-null  object        \n",
      " 2   바코드          14992 non-null  float64       \n",
      " 3   발주가능상태       15000 non-null  object        \n",
      " 4   입고수량         15000 non-null  int64         \n",
      " 5   카테고리         15000 non-null  object        \n",
      " 6   출고수량         15000 non-null  int64         \n",
      " 7   날짜_datetime  15000 non-null  datetime64[ns]\n",
      "dtypes: datetime64[ns](1), float64(1), int64(2), object(4)\n",
      "memory usage: 937.6+ KB\n"
     ]
    }
   ],
   "source": [
    "df_DL['날짜_datetime']= pd.to_datetime(df_DL['날짜']) # 날짜형으로 전환후 컬럼 추가 "
   ]
  },
  {
   "cell_type": "code",
   "execution_count": 40,
   "id": "c5cfd6bf-fe69-464e-83e0-69e75cfc9a79",
   "metadata": {
    "tags": []
   },
   "outputs": [
    {
     "data": {
      "text/html": [
       "<div>\n",
       "<style scoped>\n",
       "    .dataframe tbody tr th:only-of-type {\n",
       "        vertical-align: middle;\n",
       "    }\n",
       "\n",
       "    .dataframe tbody tr th {\n",
       "        vertical-align: top;\n",
       "    }\n",
       "\n",
       "    .dataframe thead th {\n",
       "        text-align: right;\n",
       "    }\n",
       "</style>\n",
       "<table border=\"1\" class=\"dataframe\">\n",
       "  <thead>\n",
       "    <tr style=\"text-align: right;\">\n",
       "      <th></th>\n",
       "      <th>상품구매금액</th>\n",
       "      <th>상품번호</th>\n",
       "      <th>수량</th>\n",
       "      <th>주문일</th>\n",
       "    </tr>\n",
       "  </thead>\n",
       "  <tbody>\n",
       "    <tr>\n",
       "      <th>count</th>\n",
       "      <td>4.674900e+04</td>\n",
       "      <td>46661.000000</td>\n",
       "      <td>46749.000000</td>\n",
       "      <td>4.674900e+04</td>\n",
       "    </tr>\n",
       "    <tr>\n",
       "      <th>mean</th>\n",
       "      <td>6.936814e+04</td>\n",
       "      <td>763.193073</td>\n",
       "      <td>1.177822</td>\n",
       "      <td>2.018404e+07</td>\n",
       "    </tr>\n",
       "    <tr>\n",
       "      <th>std</th>\n",
       "      <td>6.611247e+04</td>\n",
       "      <td>456.323734</td>\n",
       "      <td>0.683334</td>\n",
       "      <td>5.192403e+03</td>\n",
       "    </tr>\n",
       "    <tr>\n",
       "      <th>min</th>\n",
       "      <td>0.000000e+00</td>\n",
       "      <td>38.000000</td>\n",
       "      <td>1.000000</td>\n",
       "      <td>2.017010e+07</td>\n",
       "    </tr>\n",
       "    <tr>\n",
       "      <th>25%</th>\n",
       "      <td>3.288000e+04</td>\n",
       "      <td>378.000000</td>\n",
       "      <td>1.000000</td>\n",
       "      <td>2.018073e+07</td>\n",
       "    </tr>\n",
       "    <tr>\n",
       "      <th>50%</th>\n",
       "      <td>6.778000e+04</td>\n",
       "      <td>928.000000</td>\n",
       "      <td>1.000000</td>\n",
       "      <td>2.018112e+07</td>\n",
       "    </tr>\n",
       "    <tr>\n",
       "      <th>75%</th>\n",
       "      <td>9.213000e+04</td>\n",
       "      <td>1209.000000</td>\n",
       "      <td>1.000000</td>\n",
       "      <td>2.019022e+07</td>\n",
       "    </tr>\n",
       "    <tr>\n",
       "      <th>max</th>\n",
       "      <td>4.963400e+06</td>\n",
       "      <td>1681.000000</td>\n",
       "      <td>50.000000</td>\n",
       "      <td>2.019062e+07</td>\n",
       "    </tr>\n",
       "  </tbody>\n",
       "</table>\n",
       "</div>"
      ],
      "text/plain": [
       "             상품구매금액          상품번호            수량           주문일\n",
       "count  4.674900e+04  46661.000000  46749.000000  4.674900e+04\n",
       "mean   6.936814e+04    763.193073      1.177822  2.018404e+07\n",
       "std    6.611247e+04    456.323734      0.683334  5.192403e+03\n",
       "min    0.000000e+00     38.000000      1.000000  2.017010e+07\n",
       "25%    3.288000e+04    378.000000      1.000000  2.018073e+07\n",
       "50%    6.778000e+04    928.000000      1.000000  2.018112e+07\n",
       "75%    9.213000e+04   1209.000000      1.000000  2.019022e+07\n",
       "max    4.963400e+06   1681.000000     50.000000  2.019062e+07"
      ]
     },
     "execution_count": 40,
     "metadata": {},
     "output_type": "execute_result"
    }
   ],
   "source": [
    "df_DL.describe(datetime_is_numeric=True)"
   ]
  },
  {
   "cell_type": "code",
   "execution_count": 33,
   "id": "ef2f00aa-4806-477e-99df-da3c83047b84",
   "metadata": {
    "tags": []
   },
   "outputs": [
    {
     "data": {
      "text/html": [
       "<div>\n",
       "<style scoped>\n",
       "    .dataframe tbody tr th:only-of-type {\n",
       "        vertical-align: middle;\n",
       "    }\n",
       "\n",
       "    .dataframe tbody tr th {\n",
       "        vertical-align: top;\n",
       "    }\n",
       "\n",
       "    .dataframe thead th {\n",
       "        text-align: right;\n",
       "    }\n",
       "</style>\n",
       "<table border=\"1\" class=\"dataframe\">\n",
       "  <thead>\n",
       "    <tr style=\"text-align: right;\">\n",
       "      <th></th>\n",
       "      <th>날짜</th>\n",
       "      <th>상품명</th>\n",
       "      <th>바코드</th>\n",
       "      <th>발주가능상태</th>\n",
       "      <th>입고수량</th>\n",
       "      <th>카테고리</th>\n",
       "      <th>출고수량</th>\n",
       "      <th>날짜_datetime</th>\n",
       "      <th>날짜_datetime_year</th>\n",
       "      <th>날짜_datetime_month</th>\n",
       "      <th>날짜_datetime_week</th>\n",
       "    </tr>\n",
       "  </thead>\n",
       "  <tbody>\n",
       "    <tr>\n",
       "      <th>0</th>\n",
       "      <td>2019-05-16</td>\n",
       "      <td>V2_0</td>\n",
       "      <td>8.801047e+12</td>\n",
       "      <td>발주가능</td>\n",
       "      <td>384</td>\n",
       "      <td>세탁세제</td>\n",
       "      <td>72</td>\n",
       "      <td>2019-05-16</td>\n",
       "      <td>2019</td>\n",
       "      <td>5</td>\n",
       "      <td>20</td>\n",
       "    </tr>\n",
       "    <tr>\n",
       "      <th>1</th>\n",
       "      <td>2019-05-16</td>\n",
       "      <td>V2_3</td>\n",
       "      <td>8.801047e+12</td>\n",
       "      <td>발주가능</td>\n",
       "      <td>207</td>\n",
       "      <td>세탁세제</td>\n",
       "      <td>5</td>\n",
       "      <td>2019-05-16</td>\n",
       "      <td>2019</td>\n",
       "      <td>5</td>\n",
       "      <td>20</td>\n",
       "    </tr>\n",
       "  </tbody>\n",
       "</table>\n",
       "</div>"
      ],
      "text/plain": [
       "           날짜   상품명           바코드 발주가능상태  입고수량  카테고리  출고수량 날짜_datetime  \\\n",
       "0  2019-05-16  V2_0  8.801047e+12   발주가능   384  세탁세제    72  2019-05-16   \n",
       "1  2019-05-16  V2_3  8.801047e+12   발주가능   207  세탁세제     5  2019-05-16   \n",
       "\n",
       "   날짜_datetime_year  날짜_datetime_month  날짜_datetime_week  \n",
       "0              2019                  5                20  \n",
       "1              2019                  5                20  "
      ]
     },
     "execution_count": 33,
     "metadata": {},
     "output_type": "execute_result"
    }
   ],
   "source": [
    "df_DL[:2]"
   ]
  },
  {
   "cell_type": "code",
   "execution_count": 16,
   "id": "f8025888-3c0d-477e-a4d9-0abd57b01344",
   "metadata": {
    "tags": []
   },
   "outputs": [],
   "source": [
    "df_DL['날짜_datetime_year'] = df_DL['날짜_datetime'].dt.year # "
   ]
  },
  {
   "cell_type": "code",
   "execution_count": 18,
   "id": "2e11f415-3e2d-4039-a263-ec633337fd6f",
   "metadata": {
    "tags": []
   },
   "outputs": [],
   "source": [
    "df_DL['날짜_datetime_month'] = df_DL['날짜_datetime'].dt.month"
   ]
  },
  {
   "cell_type": "code",
   "execution_count": 28,
   "id": "7fa66f7a-c044-4cd9-a555-3b26d2736487",
   "metadata": {
    "tags": []
   },
   "outputs": [
    {
     "data": {
      "text/plain": [
       "<Axes: xlabel='날짜_datetime_month'>"
      ]
     },
     "execution_count": 28,
     "metadata": {},
     "output_type": "execute_result"
    },
    {
     "data": {
      "image/png": "[encoded data removed]",
      "text/plain": [
       "<Figure size 640x480 with 1 Axes>"
      ]
     },
     "metadata": {},
     "output_type": "display_data"
    }
   ],
   "source": [
    "pd.pivot_table(data=df_DL, index='날짜_datetime_month', values='출고수량', aggfunc=sum).plot(kind='bar') \n",
    "#.plot(kind='bar') # 확인의 1차 방법 (2차 데이터 사용시 )"
   ]
  },
  {
   "cell_type": "code",
   "execution_count": 29,
   "id": "6b077090-a818-4486-8729-d1c2089dc8fa",
   "metadata": {
    "tags": []
   },
   "outputs": [
    {
     "data": {
      "image/png": "[encoded data removed]",
      "text/plain": [
       "<Figure size 640x480 with 1 Axes>"
      ]
     },
     "metadata": {},
     "output_type": "display_data"
    }
   ],
   "source": [
    "sns.barplot(data=df_DL, x='날짜_datetime_month', y='출고수량', estimator=sum ) # 2차 방법(단순 시각화)\n",
    "plt.show()"
   ]
  },
  {
   "cell_type": "code",
   "execution_count": 32,
   "id": "2ff6d7d1-86c6-4908-97d5-22b6f98f7955",
   "metadata": {
    "tags": []
   },
   "outputs": [
    {
     "name": "stderr",
     "output_type": "stream",
     "text": [
      "C:\\Users\\02-19\\AppData\\Local\\Temp\\ipykernel_2196\\3715374482.py:1: FutureWarning: Series.dt.weekofyear and Series.dt.week have been deprecated. Please use Series.dt.isocalendar().week instead.\n",
      "  df_DL['날짜_datetime_week'] = df_DL['날짜_datetime'].dt.weekofyear #.dt.weekofyear #전체 년도에서 몇째주에 해당이 되는가\n"
     ]
    }
   ],
   "source": [
    "df_DL['날짜_datetime_week'] = df_DL['날짜_datetime'].dt.weekofyear #.dt.weekofyear #전체 년도에서 몇번째주에 해당이 되는가"
   ]
  },
  {
   "cell_type": "code",
   "execution_count": 35,
   "id": "1484f287-1be7-4359-afe7-05dfb0dfadda",
   "metadata": {
    "tags": []
   },
   "outputs": [
    {
     "data": {
      "image/png": "[encoded data removed]",
      "text/plain": [
       "<Figure size 640x480 with 1 Axes>"
      ]
     },
     "metadata": {},
     "output_type": "display_data"
    }
   ],
   "source": [
    "sns.lineplot(data=df_DL, x='날짜_datetime_week', y='출고수량',estimator=sum)\n",
    "plt.show()"
   ]
  },
  {
   "cell_type": "markdown",
   "id": "3e3f5a14-e15a-4e98-ab32-e65ba84d8b4f",
   "metadata": {
    "tags": []
   },
   "source": [
    "### Dilvery List dataset 2"
   ]
  },
  {
   "cell_type": "code",
   "execution_count": 38,
   "id": "051d5210-4dc1-4323-b9e1-4f97d2e22546",
   "metadata": {
    "tags": []
   },
   "outputs": [
    {
     "data": {
      "text/html": [
       "<div>\n",
       "<style scoped>\n",
       "    .dataframe tbody tr th:only-of-type {\n",
       "        vertical-align: middle;\n",
       "    }\n",
       "\n",
       "    .dataframe tbody tr th {\n",
       "        vertical-align: top;\n",
       "    }\n",
       "\n",
       "    .dataframe thead th {\n",
       "        text-align: right;\n",
       "    }\n",
       "</style>\n",
       "<table border=\"1\" class=\"dataframe\">\n",
       "  <thead>\n",
       "    <tr style=\"text-align: right;\">\n",
       "      <th></th>\n",
       "      <th>결제수단</th>\n",
       "      <th>배송번호</th>\n",
       "      <th>배송시작일</th>\n",
       "      <th>배송완료일</th>\n",
       "      <th>상품구매금액</th>\n",
       "      <th>상품번호</th>\n",
       "      <th>수량</th>\n",
       "      <th>주문경로</th>\n",
       "      <th>주문일</th>\n",
       "    </tr>\n",
       "  </thead>\n",
       "  <tbody>\n",
       "    <tr>\n",
       "      <th>0</th>\n",
       "      <td>무통장입금</td>\n",
       "      <td>D-20181227-0000648-00</td>\n",
       "      <td>2019-01-07 오전 8:56</td>\n",
       "      <td>2019-01-11 오전 5:32</td>\n",
       "      <td>71450</td>\n",
       "      <td>1077.0</td>\n",
       "      <td>1</td>\n",
       "      <td>PC쇼핑몰</td>\n",
       "      <td>20181227</td>\n",
       "    </tr>\n",
       "    <tr>\n",
       "      <th>1</th>\n",
       "      <td>무통장입금</td>\n",
       "      <td>D-20181229-0000119-00</td>\n",
       "      <td>2019-01-03 오전 9:30</td>\n",
       "      <td>2019-01-07 오전 5:32</td>\n",
       "      <td>141240</td>\n",
       "      <td>42.0</td>\n",
       "      <td>2</td>\n",
       "      <td>모바일웹</td>\n",
       "      <td>20181229</td>\n",
       "    </tr>\n",
       "  </tbody>\n",
       "</table>\n",
       "</div>"
      ],
      "text/plain": [
       "    결제수단                   배송번호               배송시작일               배송완료일  \\\n",
       "0  무통장입금  D-20181227-0000648-00  2019-01-07 오전 8:56  2019-01-11 오전 5:32   \n",
       "1  무통장입금  D-20181229-0000119-00  2019-01-03 오전 9:30  2019-01-07 오전 5:32   \n",
       "\n",
       "   상품구매금액    상품번호  수량   주문경로       주문일  \n",
       "0   71450  1077.0   1  PC쇼핑몰  20181227  \n",
       "1  141240    42.0   2   모바일웹  20181229  "
      ]
     },
     "execution_count": 38,
     "metadata": {},
     "output_type": "execute_result"
    }
   ],
   "source": [
    "df_DL2 = pd.read_csv('../../datasets/DeliveryList2.csv')\n",
    "df_DL2[:2]"
   ]
  },
  {
   "cell_type": "code",
   "execution_count": 39,
   "id": "5959dc6d-cf69-4cc4-954f-a920a10f1bba",
   "metadata": {
    "collapsed": true,
    "jupyter": {
     "outputs_hidden": true
    },
    "tags": []
   },
   "outputs": [
    {
     "data": {
      "text/html": [
       "<div>\n",
       "<style scoped>\n",
       "    .dataframe tbody tr th:only-of-type {\n",
       "        vertical-align: middle;\n",
       "    }\n",
       "\n",
       "    .dataframe tbody tr th {\n",
       "        vertical-align: top;\n",
       "    }\n",
       "\n",
       "    .dataframe thead th {\n",
       "        text-align: right;\n",
       "    }\n",
       "</style>\n",
       "<table border=\"1\" class=\"dataframe\">\n",
       "  <thead>\n",
       "    <tr style=\"text-align: right;\">\n",
       "      <th></th>\n",
       "      <th>상품구매금액</th>\n",
       "      <th>상품번호</th>\n",
       "      <th>수량</th>\n",
       "      <th>주문일</th>\n",
       "    </tr>\n",
       "  </thead>\n",
       "  <tbody>\n",
       "    <tr>\n",
       "      <th>count</th>\n",
       "      <td>4.674900e+04</td>\n",
       "      <td>46661.000000</td>\n",
       "      <td>46749.000000</td>\n",
       "      <td>4.674900e+04</td>\n",
       "    </tr>\n",
       "    <tr>\n",
       "      <th>mean</th>\n",
       "      <td>6.936814e+04</td>\n",
       "      <td>763.193073</td>\n",
       "      <td>1.177822</td>\n",
       "      <td>2.018404e+07</td>\n",
       "    </tr>\n",
       "    <tr>\n",
       "      <th>std</th>\n",
       "      <td>6.611247e+04</td>\n",
       "      <td>456.323734</td>\n",
       "      <td>0.683334</td>\n",
       "      <td>5.192403e+03</td>\n",
       "    </tr>\n",
       "    <tr>\n",
       "      <th>min</th>\n",
       "      <td>0.000000e+00</td>\n",
       "      <td>38.000000</td>\n",
       "      <td>1.000000</td>\n",
       "      <td>2.017010e+07</td>\n",
       "    </tr>\n",
       "    <tr>\n",
       "      <th>25%</th>\n",
       "      <td>3.288000e+04</td>\n",
       "      <td>378.000000</td>\n",
       "      <td>1.000000</td>\n",
       "      <td>2.018073e+07</td>\n",
       "    </tr>\n",
       "    <tr>\n",
       "      <th>50%</th>\n",
       "      <td>6.778000e+04</td>\n",
       "      <td>928.000000</td>\n",
       "      <td>1.000000</td>\n",
       "      <td>2.018112e+07</td>\n",
       "    </tr>\n",
       "    <tr>\n",
       "      <th>75%</th>\n",
       "      <td>9.213000e+04</td>\n",
       "      <td>1209.000000</td>\n",
       "      <td>1.000000</td>\n",
       "      <td>2.019022e+07</td>\n",
       "    </tr>\n",
       "    <tr>\n",
       "      <th>max</th>\n",
       "      <td>4.963400e+06</td>\n",
       "      <td>1681.000000</td>\n",
       "      <td>50.000000</td>\n",
       "      <td>2.019062e+07</td>\n",
       "    </tr>\n",
       "  </tbody>\n",
       "</table>\n",
       "</div>"
      ],
      "text/plain": [
       "             상품구매금액          상품번호            수량           주문일\n",
       "count  4.674900e+04  46661.000000  46749.000000  4.674900e+04\n",
       "mean   6.936814e+04    763.193073      1.177822  2.018404e+07\n",
       "std    6.611247e+04    456.323734      0.683334  5.192403e+03\n",
       "min    0.000000e+00     38.000000      1.000000  2.017010e+07\n",
       "25%    3.288000e+04    378.000000      1.000000  2.018073e+07\n",
       "50%    6.778000e+04    928.000000      1.000000  2.018112e+07\n",
       "75%    9.213000e+04   1209.000000      1.000000  2.019022e+07\n",
       "max    4.963400e+06   1681.000000     50.000000  2.019062e+07"
      ]
     },
     "execution_count": 39,
     "metadata": {},
     "output_type": "execute_result"
    }
   ],
   "source": [
    "df_DL2.describe(datetime_is_numeric=True)"
   ]
  },
  {
   "cell_type": "markdown",
   "id": "0a488432-2f24-4f61-b295-98fc192bf09d",
   "metadata": {
    "tags": []
   },
   "source": [
    "#### int형은 string 변환 후 datetime 순서로 변환"
   ]
  },
  {
   "cell_type": "code",
   "execution_count": 43,
   "id": "ea4025c7-07cd-49cd-995e-d9a791b7f934",
   "metadata": {
    "tags": []
   },
   "outputs": [
    {
     "name": "stdout",
     "output_type": "stream",
     "text": [
      "<class 'pandas.core.series.Series'>\n",
      "RangeIndex: 46749 entries, 0 to 46748\n",
      "Series name: 주문일\n",
      "Non-Null Count  Dtype\n",
      "--------------  -----\n",
      "46749 non-null  int64\n",
      "dtypes: int64(1)\n",
      "memory usage: 365.4 KB\n"
     ]
    }
   ],
   "source": [
    "df_DL2['주문일'].info()"
   ]
  },
  {
   "cell_type": "code",
   "execution_count": 47,
   "id": "9326ab91-e529-4325-bec2-6b102247c102",
   "metadata": {
    "tags": []
   },
   "outputs": [
    {
     "data": {
      "text/plain": [
       "0       2018-12-27\n",
       "1       2018-12-29\n",
       "2       2018-12-30\n",
       "3       2018-12-31\n",
       "4       2018-12-31\n",
       "           ...    \n",
       "46744   2017-12-29\n",
       "46745   2017-12-29\n",
       "46746   2017-12-30\n",
       "46747   2017-12-31\n",
       "46748   2017-12-31\n",
       "Name: 주문일, Length: 46749, dtype: datetime64[ns]"
      ]
     },
     "execution_count": 47,
     "metadata": {},
     "output_type": "execute_result"
    }
   ],
   "source": [
    "pd.to_datetime(df_DL2['주문일'].astype(str))"
   ]
  },
  {
   "cell_type": "markdown",
   "id": "2d49a031-14a3-494b-bd7d-3336d7c644bf",
   "metadata": {},
   "source": [
    "#### 특정기호가 들어간 string 경우 apply()적용 후 datetime 변환"
   ]
  },
  {
   "cell_type": "code",
   "execution_count": 48,
   "id": "869ed483-374d-44b0-a6f8-c345850d640f",
   "metadata": {
    "tags": []
   },
   "outputs": [
    {
     "data": {
      "text/plain": [
       "'2019-01-11 오전 5:32'"
      ]
     },
     "execution_count": 48,
     "metadata": {},
     "output_type": "execute_result"
    }
   ],
   "source": [
    "str('2019-01-11 오전 5:32')"
   ]
  },
  {
   "cell_type": "code",
   "execution_count": 50,
   "id": "36d99387-2e6e-4d7b-8fc8-ca1bb2babc5b",
   "metadata": {
    "tags": []
   },
   "outputs": [
    {
     "data": {
      "text/plain": [
       "'2019-01-11'"
      ]
     },
     "execution_count": 50,
     "metadata": {},
     "output_type": "execute_result"
    }
   ],
   "source": [
    "str('2019-01-11 오전 5:32')[:10]"
   ]
  },
  {
   "cell_type": "code",
   "execution_count": 55,
   "id": "adfba2e2-f010-468e-811d-4caf6bf8421a",
   "metadata": {
    "tags": []
   },
   "outputs": [],
   "source": [
    "def slicing_YMD (datetime_str) : \n",
    "    return datetime_str[:10]"
   ]
  },
  {
   "cell_type": "code",
   "execution_count": 58,
   "id": "5328227d-00ea-4c37-b8fb-5d79ca53b274",
   "metadata": {
    "tags": []
   },
   "outputs": [],
   "source": [
    "# apply함수 적용 후 날짜형으로 전환후 컬럼 추가\n",
    "df_DL2['배송시작일_datetime'] = pd.to_datetime(df_DL2['배송시작일'].apply(slicing_YMD)) \n",
    "df_DL2['배송완료일_datetime'] = pd.to_datetime(df_DL2['배송완료일'].apply(slicing_YMD)) "
   ]
  },
  {
   "cell_type": "code",
   "execution_count": 61,
   "id": "7153b2a1-9454-4007-8e4d-8b8c6ade37b3",
   "metadata": {
    "tags": []
   },
   "outputs": [
    {
     "name": "stdout",
     "output_type": "stream",
     "text": [
      "<class 'pandas.core.frame.DataFrame'>\n",
      "RangeIndex: 46749 entries, 0 to 46748\n",
      "Data columns (total 2 columns):\n",
      " #   Column          Non-Null Count  Dtype         \n",
      "---  ------          --------------  -----         \n",
      " 0   배송시작일_datetime  46749 non-null  datetime64[ns]\n",
      " 1   배송완료일_datetime  46749 non-null  datetime64[ns]\n",
      "dtypes: datetime64[ns](2)\n",
      "memory usage: 730.6 KB\n"
     ]
    }
   ],
   "source": [
    "df_DL2[['배송시작일_datetime','배송완료일_datetime']].info()"
   ]
  },
  {
   "cell_type": "code",
   "execution_count": 63,
   "id": "b75e09db-d960-4841-bbec-a0a3e86d5224",
   "metadata": {
    "tags": []
   },
   "outputs": [
    {
     "data": {
      "text/plain": [
       "count                        46749\n",
       "mean     4 days 04:38:57.008278251\n",
       "std      1 days 04:56:12.144368428\n",
       "min                0 days 00:00:00\n",
       "25%                4 days 00:00:00\n",
       "50%                4 days 00:00:00\n",
       "75%                4 days 00:00:00\n",
       "max               47 days 00:00:00\n",
       "Name: 배송_duration, dtype: object"
      ]
     },
     "execution_count": 63,
     "metadata": {},
     "output_type": "execute_result"
    }
   ],
   "source": [
    "# 배송소요기간 측정\n",
    "df_DL2['배송_duration']= df_DL2['배송완료일_datetime'] - df_DL2['배송시작일_datetime']\n",
    "df_DL2['배송_duration'].describe()"
   ]
  },
  {
   "cell_type": "code",
   "execution_count": null,
   "id": "ec395555-abdb-4c3f-ac92-6ac2a0d319dd",
   "metadata": {},
   "outputs": [],
   "source": []
  }
 ],
 "metadata": {
  "kernelspec": {
   "display_name": "Python 3 (ipykernel)",
   "language": "python",
   "name": "python3"
  },
  "language_info": {
   "codemirror_mode": {
    "name": "ipython",
    "version": 3
   },
   "file_extension": ".py",
   "mimetype": "text/x-python",
   "name": "python",
   "nbconvert_exporter": "python",
   "pygments_lexer": "ipython3",
   "version": "3.11.3"
  }
 },
 "nbformat": 4,
 "nbformat_minor": 5
}
