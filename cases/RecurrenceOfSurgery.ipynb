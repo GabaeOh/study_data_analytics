{
 "cells": [
  {
   "cell_type": "code",
   "execution_count": 43,
   "id": "2912717e-d600-4918-aeb6-e64c5f05322b",
   "metadata": {
    "tags": []
   },
   "outputs": [],
   "source": [
    "import pymongo as mg\n",
    "import pandas as pd "
   ]
  },
  {
   "cell_type": "code",
   "execution_count": 44,
   "id": "dca90a2d-af93-4f93-9b2c-fddfdc848a90",
   "metadata": {
    "tags": []
   },
   "outputs": [],
   "source": [
    "client = mg.MongoClient(host='mongodb://localhost:27017')"
   ]
  },
  {
   "cell_type": "code",
   "execution_count": 45,
   "id": "680c891b-94ae-4e75-b3db-1ea2f2aeb37f",
   "metadata": {
    "tags": []
   },
   "outputs": [],
   "source": [
    "database = client['db_medicals'] #Database 선택"
   ]
  },
  {
   "cell_type": "code",
   "execution_count": 46,
   "id": "04f591f6-ad7f-4857-b2fe-fb0b65793e23",
   "metadata": {
    "tags": []
   },
   "outputs": [],
   "source": [
    "collection = database['RecurrenceOfSurgery'] #collection 선택"
   ]
  },
  {
   "cell_type": "code",
   "execution_count": 47,
   "id": "383b4164-d56e-4e8d-9e7f-d4286d28a1ba",
   "metadata": {
    "tags": []
   },
   "outputs": [],
   "source": [
    "cursor = collection.find({})\n",
    "data_list = list(cursor)"
   ]
  },
  {
   "cell_type": "code",
   "execution_count": 48,
   "id": "badbd569-0bca-4f27-a1dd-15fbf4542e20",
   "metadata": {
    "tags": []
   },
   "outputs": [
    {
     "data": {
      "text/html": [
       "<div>\n",
       "<style scoped>\n",
       "    .dataframe tbody tr th:only-of-type {\n",
       "        vertical-align: middle;\n",
       "    }\n",
       "\n",
       "    .dataframe tbody tr th {\n",
       "        vertical-align: top;\n",
       "    }\n",
       "\n",
       "    .dataframe thead th {\n",
       "        text-align: right;\n",
       "    }\n",
       "</style>\n",
       "<table border=\"1\" class=\"dataframe\">\n",
       "  <thead>\n",
       "    <tr style=\"text-align: right;\">\n",
       "      <th></th>\n",
       "      <th>_id</th>\n",
       "      <th>Unnamed: 0</th>\n",
       "      <th>환자ID</th>\n",
       "      <th>Large Lymphocyte</th>\n",
       "      <th>Location of herniation</th>\n",
       "      <th>ODI</th>\n",
       "      <th>가족력</th>\n",
       "      <th>간질성폐질환</th>\n",
       "      <th>고혈압여부</th>\n",
       "      <th>과거수술횟수</th>\n",
       "      <th>...</th>\n",
       "      <th>Modic change</th>\n",
       "      <th>PI</th>\n",
       "      <th>PT</th>\n",
       "      <th>Seg Angle(raw)</th>\n",
       "      <th>Vaccum disc</th>\n",
       "      <th>골밀도</th>\n",
       "      <th>디스크단면적</th>\n",
       "      <th>디스크위치</th>\n",
       "      <th>척추이동척도</th>\n",
       "      <th>척추전방위증</th>\n",
       "    </tr>\n",
       "  </thead>\n",
       "  <tbody>\n",
       "    <tr>\n",
       "      <th>0</th>\n",
       "      <td>64d33b0c6bf1d3b9fa700af8</td>\n",
       "      <td>0</td>\n",
       "      <td>1PT</td>\n",
       "      <td>22.8</td>\n",
       "      <td>3</td>\n",
       "      <td>51.0</td>\n",
       "      <td>0.0</td>\n",
       "      <td>0</td>\n",
       "      <td>0</td>\n",
       "      <td>0</td>\n",
       "      <td>...</td>\n",
       "      <td>3</td>\n",
       "      <td>51.6</td>\n",
       "      <td>36.6</td>\n",
       "      <td>14.4</td>\n",
       "      <td>0</td>\n",
       "      <td>-1.01</td>\n",
       "      <td>2048.5</td>\n",
       "      <td>4</td>\n",
       "      <td>Down</td>\n",
       "      <td>0</td>\n",
       "    </tr>\n",
       "    <tr>\n",
       "      <th>1</th>\n",
       "      <td>64d33b0c6bf1d3b9fa700af9</td>\n",
       "      <td>1</td>\n",
       "      <td>2PT</td>\n",
       "      <td>44.9</td>\n",
       "      <td>4</td>\n",
       "      <td>26.0</td>\n",
       "      <td>0.0</td>\n",
       "      <td>0</td>\n",
       "      <td>0</td>\n",
       "      <td>0</td>\n",
       "      <td>...</td>\n",
       "      <td>0</td>\n",
       "      <td>40.8</td>\n",
       "      <td>7.2</td>\n",
       "      <td>17.8</td>\n",
       "      <td>0</td>\n",
       "      <td>-1.14</td>\n",
       "      <td>1753.1</td>\n",
       "      <td>4</td>\n",
       "      <td>Up</td>\n",
       "      <td>0</td>\n",
       "    </tr>\n",
       "  </tbody>\n",
       "</table>\n",
       "<p>2 rows × 53 columns</p>\n",
       "</div>"
      ],
      "text/plain": [
       "                        _id  Unnamed: 0 환자ID  Large Lymphocyte  \\\n",
       "0  64d33b0c6bf1d3b9fa700af8           0  1PT              22.8   \n",
       "1  64d33b0c6bf1d3b9fa700af9           1  2PT              44.9   \n",
       "\n",
       "   Location of herniation   ODI  가족력  간질성폐질환  고혈압여부  과거수술횟수  ...  \\\n",
       "0                       3  51.0  0.0       0      0       0  ...   \n",
       "1                       4  26.0  0.0       0      0       0  ...   \n",
       "\n",
       "   Modic change    PI    PT  Seg Angle(raw)  Vaccum disc   골밀도  디스크단면적  디스크위치  \\\n",
       "0             3  51.6  36.6            14.4            0 -1.01  2048.5      4   \n",
       "1             0  40.8   7.2            17.8            0 -1.14  1753.1      4   \n",
       "\n",
       "   척추이동척도  척추전방위증  \n",
       "0    Down       0  \n",
       "1      Up       0  \n",
       "\n",
       "[2 rows x 53 columns]"
      ]
     },
     "execution_count": 48,
     "metadata": {},
     "output_type": "execute_result"
    }
   ],
   "source": [
    "df_ROS = pd.DataFrame(data_list)\n",
    "df_ROS.head(2)"
   ]
  },
  {
   "cell_type": "code",
   "execution_count": 49,
   "id": "08503696-6cbc-4933-b38c-c9f26eb8540d",
   "metadata": {
    "tags": []
   },
   "outputs": [
    {
     "name": "stdout",
     "output_type": "stream",
     "text": [
      "<class 'pandas.core.frame.DataFrame'>\n",
      "RangeIndex: 1894 entries, 0 to 1893\n",
      "Data columns (total 53 columns):\n",
      " #   Column                  Non-Null Count  Dtype  \n",
      "---  ------                  --------------  -----  \n",
      " 0   _id                     1894 non-null   object \n",
      " 1   Unnamed: 0              1894 non-null   int64  \n",
      " 2   환자ID                    1894 non-null   object \n",
      " 3   Large Lymphocyte        1894 non-null   float64\n",
      " 4   Location of herniation  1894 non-null   int64  \n",
      " 5   ODI                     462 non-null    float64\n",
      " 6   가족력                     1843 non-null   float64\n",
      " 7   간질성폐질환                  1894 non-null   int64  \n",
      " 8   고혈압여부                   1894 non-null   int64  \n",
      " 9   과거수술횟수                  1894 non-null   int64  \n",
      " 10  당뇨여부                    1894 non-null   int64  \n",
      " 11  말초동맥질환여부                1894 non-null   int64  \n",
      " 12  빈혈여부                    1894 non-null   int64  \n",
      " 13  성별                      1894 non-null   int64  \n",
      " 14  스테로이드치료                 1894 non-null   int64  \n",
      " 15  신부전여부                   1894 non-null   int64  \n",
      " 16  신장                      1894 non-null   int64  \n",
      " 17  심혈관질환                   1894 non-null   int64  \n",
      " 18  암발병여부                   1894 non-null   int64  \n",
      " 19  연령                      1894 non-null   int64  \n",
      " 20  우울증여부                   1894 non-null   int64  \n",
      " 21  입원기간                    1894 non-null   int64  \n",
      " 22  입원일자                    1894 non-null   int64  \n",
      " 23  종양진행여부                  1894 non-null   int64  \n",
      " 24  직업                      1479 non-null   object \n",
      " 25  체중                      1894 non-null   float64\n",
      " 26  퇴원일자                    1894 non-null   int64  \n",
      " 27  헤모글로빈수치                 1893 non-null   float64\n",
      " 28  혈전합병증여부                 1894 non-null   int64  \n",
      " 29  환자통증정도                  1894 non-null   int64  \n",
      " 30  흡연여부                    1894 non-null   int64  \n",
      " 31  통증기간(월)                 1890 non-null   float64\n",
      " 32  수술기법                    1813 non-null   object \n",
      " 33  수술시간                    1840 non-null   float64\n",
      " 34  수술실패여부                  1894 non-null   int64  \n",
      " 35  수술일자                    1894 non-null   int64  \n",
      " 36  재발여부                    1894 non-null   int64  \n",
      " 37  혈액형                     1894 non-null   object \n",
      " 38  전방디스크높이(mm)             1894 non-null   float64\n",
      " 39  후방디스크높이(mm)             1894 non-null   float64\n",
      " 40  지방축적도                   1891 non-null   float64\n",
      " 41  Instability             1894 non-null   int64  \n",
      " 42  MF + ES                 1894 non-null   float64\n",
      " 43  Modic change            1894 non-null   int64  \n",
      " 44  PI                      1890 non-null   float64\n",
      " 45  PT                      1890 non-null   float64\n",
      " 46  Seg Angle(raw)          1893 non-null   float64\n",
      " 47  Vaccum disc             1894 non-null   int64  \n",
      " 48  골밀도                     998 non-null    float64\n",
      " 49  디스크단면적                  1893 non-null   float64\n",
      " 50  디스크위치                   1894 non-null   int64  \n",
      " 51  척추이동척도                  1894 non-null   object \n",
      " 52  척추전방위증                  1894 non-null   int64  \n",
      "dtypes: float64(16), int64(31), object(6)\n",
      "memory usage: 784.4+ KB\n"
     ]
    }
   ],
   "source": [
    "df_ROS.info()\n"
   ]
  },
  {
   "cell_type": "markdown",
   "id": "e47c948d-70ea-4200-8e59-ca32609cef42",
   "metadata": {},
   "source": [
    "## 분석기준 : 연령대에 따라 발생되는 질병의 종류 분포"
   ]
  },
  {
   "cell_type": "markdown",
   "id": "d711228e-ef35-4f64-9a74-e1a6c5f4858a",
   "metadata": {},
   "source": [
    "### 불필요한 columns drop"
   ]
  },
  {
   "cell_type": "code",
   "execution_count": 51,
   "id": "32d9d617-983b-4d62-9212-bbb04979f711",
   "metadata": {
    "tags": []
   },
   "outputs": [
    {
     "data": {
      "text/plain": [
       "Index(['_id', 'Unnamed: 0', '환자ID', 'Large Lymphocyte',\n",
       "       'Location of herniation', 'ODI', '가족력', '간질성폐질환', '고혈압여부', '과거수술횟수',\n",
       "       '당뇨여부', '말초동맥질환여부', '빈혈여부', '성별', '스테로이드치료', '신부전여부', '신장', '심혈관질환',\n",
       "       '암발병여부', '연령', '우울증여부', '입원기간', '입원일자', '종양진행여부', '직업', '체중', '퇴원일자',\n",
       "       '헤모글로빈수치', '혈전합병증여부', '환자통증정도', '흡연여부', '통증기간(월)', '수술기법', '수술시간',\n",
       "       '수술실패여부', '수술일자', '재발여부', '혈액형', '전방디스크높이(mm)', '후방디스크높이(mm)', '지방축적도',\n",
       "       'Instability', 'MF + ES', 'Modic change', 'PI', 'PT', 'Seg Angle(raw)',\n",
       "       'Vaccum disc', '골밀도', '디스크단면적', '디스크위치', '척추이동척도', '척추전방위증'],\n",
       "      dtype='object')"
      ]
     },
     "execution_count": 51,
     "metadata": {},
     "output_type": "execute_result"
    }
   ],
   "source": [
    "df_ROS.columns  "
   ]
  },
  {
   "cell_type": "code",
   "execution_count": 52,
   "id": "04f4bd3c-29f1-4e29-8af0-f717adc39649",
   "metadata": {
    "tags": []
   },
   "outputs": [
    {
     "data": {
      "text/html": [
       "<div>\n",
       "<style scoped>\n",
       "    .dataframe tbody tr th:only-of-type {\n",
       "        vertical-align: middle;\n",
       "    }\n",
       "\n",
       "    .dataframe tbody tr th {\n",
       "        vertical-align: top;\n",
       "    }\n",
       "\n",
       "    .dataframe thead th {\n",
       "        text-align: right;\n",
       "    }\n",
       "</style>\n",
       "<table border=\"1\" class=\"dataframe\">\n",
       "  <thead>\n",
       "    <tr style=\"text-align: right;\">\n",
       "      <th></th>\n",
       "      <th>환자ID</th>\n",
       "      <th>고혈압여부</th>\n",
       "      <th>당뇨여부</th>\n",
       "      <th>말초동맥질환여부</th>\n",
       "      <th>빈혈여부</th>\n",
       "      <th>신부전여부</th>\n",
       "      <th>심혈관질환</th>\n",
       "      <th>암발병여부</th>\n",
       "      <th>연령</th>\n",
       "      <th>우울증여부</th>\n",
       "      <th>종양진행여부</th>\n",
       "      <th>혈전합병증여부</th>\n",
       "      <th>척추전방위증</th>\n",
       "    </tr>\n",
       "  </thead>\n",
       "  <tbody>\n",
       "    <tr>\n",
       "      <th>0</th>\n",
       "      <td>1PT</td>\n",
       "      <td>0</td>\n",
       "      <td>0</td>\n",
       "      <td>0</td>\n",
       "      <td>0</td>\n",
       "      <td>0</td>\n",
       "      <td>0</td>\n",
       "      <td>0</td>\n",
       "      <td>66</td>\n",
       "      <td>0</td>\n",
       "      <td>0</td>\n",
       "      <td>0</td>\n",
       "      <td>0</td>\n",
       "    </tr>\n",
       "    <tr>\n",
       "      <th>1</th>\n",
       "      <td>2PT</td>\n",
       "      <td>0</td>\n",
       "      <td>0</td>\n",
       "      <td>0</td>\n",
       "      <td>0</td>\n",
       "      <td>0</td>\n",
       "      <td>0</td>\n",
       "      <td>0</td>\n",
       "      <td>47</td>\n",
       "      <td>0</td>\n",
       "      <td>0</td>\n",
       "      <td>0</td>\n",
       "      <td>0</td>\n",
       "    </tr>\n",
       "  </tbody>\n",
       "</table>\n",
       "</div>"
      ],
      "text/plain": [
       "  환자ID  고혈압여부  당뇨여부  말초동맥질환여부  빈혈여부  신부전여부  심혈관질환  암발병여부  연령  우울증여부  종양진행여부  \\\n",
       "0  1PT      0     0         0     0      0      0      0  66      0       0   \n",
       "1  2PT      0     0         0     0      0      0      0  47      0       0   \n",
       "\n",
       "   혈전합병증여부  척추전방위증  \n",
       "0        0       0  \n",
       "1        0       0  "
      ]
     },
     "execution_count": 52,
     "metadata": {},
     "output_type": "execute_result"
    }
   ],
   "source": [
    "df_ROS_drops = df_ROS.drop(columns=['_id','Unnamed: 0','Large Lymphocyte',\n",
    "       'Location of herniation', 'ODI', '가족력','간질성폐질환','과거수술횟수','성별', '스테로이드치료','신장','입원기간', '입원일자', '직업', '체중', '퇴원일자',\n",
    "       '헤모글로빈수치','환자통증정도', '흡연여부', '통증기간(월)', '수술기법','수술시간',\n",
    "       '수술실패여부', '수술일자', '재발여부', '혈액형', '전방디스크높이(mm)', '후방디스크높이(mm)', '지방축적도','Instability', 'MF + ES', 'Modic change', 'PI', 'PT', 'Seg Angle(raw)',\n",
    "       'Vaccum disc', '골밀도', '디스크단면적', '디스크위치', '척추이동척도' ])\n",
    "df_ROS_drops.head(2)"
   ]
  },
  {
   "cell_type": "markdown",
   "id": "a3c39b8b-587f-483e-bf91-d852f1ff9539",
   "metadata": {},
   "source": [
    "### 데이터 타입 확인 "
   ]
  },
  {
   "cell_type": "code",
   "execution_count": 53,
   "id": "6a79ccf7-049b-42ee-bc04-12ec930e1b96",
   "metadata": {
    "tags": []
   },
   "outputs": [
    {
     "data": {
      "text/html": [
       "<div>\n",
       "<style scoped>\n",
       "    .dataframe tbody tr th:only-of-type {\n",
       "        vertical-align: middle;\n",
       "    }\n",
       "\n",
       "    .dataframe tbody tr th {\n",
       "        vertical-align: top;\n",
       "    }\n",
       "\n",
       "    .dataframe thead th {\n",
       "        text-align: right;\n",
       "    }\n",
       "</style>\n",
       "<table border=\"1\" class=\"dataframe\">\n",
       "  <thead>\n",
       "    <tr style=\"text-align: right;\">\n",
       "      <th></th>\n",
       "      <th>고혈압여부</th>\n",
       "      <th>당뇨여부</th>\n",
       "      <th>말초동맥질환여부</th>\n",
       "      <th>빈혈여부</th>\n",
       "      <th>신부전여부</th>\n",
       "      <th>심혈관질환</th>\n",
       "      <th>암발병여부</th>\n",
       "      <th>연령</th>\n",
       "      <th>우울증여부</th>\n",
       "      <th>종양진행여부</th>\n",
       "      <th>혈전합병증여부</th>\n",
       "      <th>척추전방위증</th>\n",
       "    </tr>\n",
       "  </thead>\n",
       "  <tbody>\n",
       "    <tr>\n",
       "      <th>count</th>\n",
       "      <td>1894.000000</td>\n",
       "      <td>1894.000000</td>\n",
       "      <td>1894.000000</td>\n",
       "      <td>1894.000000</td>\n",
       "      <td>1894.000000</td>\n",
       "      <td>1894.000000</td>\n",
       "      <td>1894.000000</td>\n",
       "      <td>1894.000000</td>\n",
       "      <td>1894.000000</td>\n",
       "      <td>1894.000000</td>\n",
       "      <td>1894.000000</td>\n",
       "      <td>1894.000000</td>\n",
       "    </tr>\n",
       "    <tr>\n",
       "      <th>mean</th>\n",
       "      <td>0.130940</td>\n",
       "      <td>0.062830</td>\n",
       "      <td>0.004224</td>\n",
       "      <td>0.024287</td>\n",
       "      <td>0.025343</td>\n",
       "      <td>0.035903</td>\n",
       "      <td>0.013728</td>\n",
       "      <td>41.463569</td>\n",
       "      <td>0.023231</td>\n",
       "      <td>0.003168</td>\n",
       "      <td>0.002112</td>\n",
       "      <td>0.032207</td>\n",
       "    </tr>\n",
       "    <tr>\n",
       "      <th>std</th>\n",
       "      <td>0.337424</td>\n",
       "      <td>0.242721</td>\n",
       "      <td>0.064871</td>\n",
       "      <td>0.153980</td>\n",
       "      <td>0.157207</td>\n",
       "      <td>0.186097</td>\n",
       "      <td>0.116388</td>\n",
       "      <td>13.444629</td>\n",
       "      <td>0.154143</td>\n",
       "      <td>0.056210</td>\n",
       "      <td>0.045919</td>\n",
       "      <td>0.176596</td>\n",
       "    </tr>\n",
       "    <tr>\n",
       "      <th>min</th>\n",
       "      <td>0.000000</td>\n",
       "      <td>0.000000</td>\n",
       "      <td>0.000000</td>\n",
       "      <td>0.000000</td>\n",
       "      <td>0.000000</td>\n",
       "      <td>0.000000</td>\n",
       "      <td>0.000000</td>\n",
       "      <td>15.000000</td>\n",
       "      <td>0.000000</td>\n",
       "      <td>0.000000</td>\n",
       "      <td>0.000000</td>\n",
       "      <td>0.000000</td>\n",
       "    </tr>\n",
       "    <tr>\n",
       "      <th>25%</th>\n",
       "      <td>0.000000</td>\n",
       "      <td>0.000000</td>\n",
       "      <td>0.000000</td>\n",
       "      <td>0.000000</td>\n",
       "      <td>0.000000</td>\n",
       "      <td>0.000000</td>\n",
       "      <td>0.000000</td>\n",
       "      <td>32.000000</td>\n",
       "      <td>0.000000</td>\n",
       "      <td>0.000000</td>\n",
       "      <td>0.000000</td>\n",
       "      <td>0.000000</td>\n",
       "    </tr>\n",
       "    <tr>\n",
       "      <th>50%</th>\n",
       "      <td>0.000000</td>\n",
       "      <td>0.000000</td>\n",
       "      <td>0.000000</td>\n",
       "      <td>0.000000</td>\n",
       "      <td>0.000000</td>\n",
       "      <td>0.000000</td>\n",
       "      <td>0.000000</td>\n",
       "      <td>41.000000</td>\n",
       "      <td>0.000000</td>\n",
       "      <td>0.000000</td>\n",
       "      <td>0.000000</td>\n",
       "      <td>0.000000</td>\n",
       "    </tr>\n",
       "    <tr>\n",
       "      <th>75%</th>\n",
       "      <td>0.000000</td>\n",
       "      <td>0.000000</td>\n",
       "      <td>0.000000</td>\n",
       "      <td>0.000000</td>\n",
       "      <td>0.000000</td>\n",
       "      <td>0.000000</td>\n",
       "      <td>0.000000</td>\n",
       "      <td>49.000000</td>\n",
       "      <td>0.000000</td>\n",
       "      <td>0.000000</td>\n",
       "      <td>0.000000</td>\n",
       "      <td>0.000000</td>\n",
       "    </tr>\n",
       "    <tr>\n",
       "      <th>max</th>\n",
       "      <td>1.000000</td>\n",
       "      <td>1.000000</td>\n",
       "      <td>1.000000</td>\n",
       "      <td>1.000000</td>\n",
       "      <td>1.000000</td>\n",
       "      <td>1.000000</td>\n",
       "      <td>1.000000</td>\n",
       "      <td>86.000000</td>\n",
       "      <td>2.000000</td>\n",
       "      <td>1.000000</td>\n",
       "      <td>1.000000</td>\n",
       "      <td>1.000000</td>\n",
       "    </tr>\n",
       "  </tbody>\n",
       "</table>\n",
       "</div>"
      ],
      "text/plain": [
       "             고혈압여부         당뇨여부     말초동맥질환여부         빈혈여부        신부전여부  \\\n",
       "count  1894.000000  1894.000000  1894.000000  1894.000000  1894.000000   \n",
       "mean      0.130940     0.062830     0.004224     0.024287     0.025343   \n",
       "std       0.337424     0.242721     0.064871     0.153980     0.157207   \n",
       "min       0.000000     0.000000     0.000000     0.000000     0.000000   \n",
       "25%       0.000000     0.000000     0.000000     0.000000     0.000000   \n",
       "50%       0.000000     0.000000     0.000000     0.000000     0.000000   \n",
       "75%       0.000000     0.000000     0.000000     0.000000     0.000000   \n",
       "max       1.000000     1.000000     1.000000     1.000000     1.000000   \n",
       "\n",
       "             심혈관질환        암발병여부           연령        우울증여부       종양진행여부  \\\n",
       "count  1894.000000  1894.000000  1894.000000  1894.000000  1894.000000   \n",
       "mean      0.035903     0.013728    41.463569     0.023231     0.003168   \n",
       "std       0.186097     0.116388    13.444629     0.154143     0.056210   \n",
       "min       0.000000     0.000000    15.000000     0.000000     0.000000   \n",
       "25%       0.000000     0.000000    32.000000     0.000000     0.000000   \n",
       "50%       0.000000     0.000000    41.000000     0.000000     0.000000   \n",
       "75%       0.000000     0.000000    49.000000     0.000000     0.000000   \n",
       "max       1.000000     1.000000    86.000000     2.000000     1.000000   \n",
       "\n",
       "           혈전합병증여부       척추전방위증  \n",
       "count  1894.000000  1894.000000  \n",
       "mean      0.002112     0.032207  \n",
       "std       0.045919     0.176596  \n",
       "min       0.000000     0.000000  \n",
       "25%       0.000000     0.000000  \n",
       "50%       0.000000     0.000000  \n",
       "75%       0.000000     0.000000  \n",
       "max       1.000000     1.000000  "
      ]
     },
     "execution_count": 53,
     "metadata": {},
     "output_type": "execute_result"
    }
   ],
   "source": [
    "df_ROS_drops.describe() # 수치형"
   ]
  },
  {
   "cell_type": "code",
   "execution_count": 54,
   "id": "1fc1dc3a-6075-4416-b9a1-51983e2306b4",
   "metadata": {
    "tags": []
   },
   "outputs": [
    {
     "data": {
      "text/html": [
       "<div>\n",
       "<style scoped>\n",
       "    .dataframe tbody tr th:only-of-type {\n",
       "        vertical-align: middle;\n",
       "    }\n",
       "\n",
       "    .dataframe tbody tr th {\n",
       "        vertical-align: top;\n",
       "    }\n",
       "\n",
       "    .dataframe thead th {\n",
       "        text-align: right;\n",
       "    }\n",
       "</style>\n",
       "<table border=\"1\" class=\"dataframe\">\n",
       "  <thead>\n",
       "    <tr style=\"text-align: right;\">\n",
       "      <th></th>\n",
       "      <th>환자ID</th>\n",
       "    </tr>\n",
       "  </thead>\n",
       "  <tbody>\n",
       "    <tr>\n",
       "      <th>count</th>\n",
       "      <td>1894</td>\n",
       "    </tr>\n",
       "    <tr>\n",
       "      <th>unique</th>\n",
       "      <td>1894</td>\n",
       "    </tr>\n",
       "    <tr>\n",
       "      <th>top</th>\n",
       "      <td>1PT</td>\n",
       "    </tr>\n",
       "    <tr>\n",
       "      <th>freq</th>\n",
       "      <td>1</td>\n",
       "    </tr>\n",
       "  </tbody>\n",
       "</table>\n",
       "</div>"
      ],
      "text/plain": [
       "        환자ID\n",
       "count   1894\n",
       "unique  1894\n",
       "top      1PT\n",
       "freq       1"
      ]
     },
     "execution_count": 54,
     "metadata": {},
     "output_type": "execute_result"
    }
   ],
   "source": [
    "df_ROS_drops.describe(include=object) # 범주형"
   ]
  },
  {
   "cell_type": "code",
   "execution_count": 55,
   "id": "a7d5dede-4a75-47ca-93e0-6465706bc861",
   "metadata": {
    "tags": []
   },
   "outputs": [
    {
     "data": {
      "text/plain": [
       "0    1775\n",
       "1     119\n",
       "Name: 당뇨여부, dtype: int64"
      ]
     },
     "execution_count": 55,
     "metadata": {},
     "output_type": "execute_result"
    }
   ],
   "source": [
    "df_ROS_drops['당뇨여부'].value_counts()"
   ]
  },
  {
   "cell_type": "code",
   "execution_count": 56,
   "id": "25e7b104-6c68-410d-a48a-d2c7edd9a49f",
   "metadata": {
    "tags": []
   },
   "outputs": [
    {
     "data": {
      "text/plain": [
       "array([0, 1], dtype=int64)"
      ]
     },
     "execution_count": 56,
     "metadata": {},
     "output_type": "execute_result"
    }
   ],
   "source": [
    "df_ROS_drops['당뇨여부'].unique()"
   ]
  },
  {
   "cell_type": "code",
   "execution_count": null,
   "id": "9e0dbe90-554c-4aa8-8852-84e1ca2a63d8",
   "metadata": {},
   "outputs": [],
   "source": []
  }
 ],
 "metadata": {
  "kernelspec": {
   "display_name": "Python 3 (ipykernel)",
   "language": "python",
   "name": "python3"
  },
  "language_info": {
   "codemirror_mode": {
    "name": "ipython",
    "version": 3
   },
   "file_extension": ".py",
   "mimetype": "text/x-python",
   "name": "python",
   "nbconvert_exporter": "python",
   "pygments_lexer": "ipython3",
   "version": "3.11.3"
  }
 },
 "nbformat": 4,
 "nbformat_minor": 5
}
